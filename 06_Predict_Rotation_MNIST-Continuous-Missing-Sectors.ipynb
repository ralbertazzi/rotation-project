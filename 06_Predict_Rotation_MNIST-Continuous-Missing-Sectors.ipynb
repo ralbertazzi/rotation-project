{
 "cells": [
  {
   "cell_type": "code",
   "execution_count": 1,
   "metadata": {},
   "outputs": [
    {
     "name": "stderr",
     "output_type": "stream",
     "text": [
      "/usr/local/lib/python3.5/dist-packages/h5py/__init__.py:36: FutureWarning: Conversion of the second argument of issubdtype from `float` to `np.floating` is deprecated. In future, it will be treated as `np.float64 == np.dtype(float).type`.\n",
      "  from ._conv import register_converters as _register_converters\n",
      "Using TensorFlow backend.\n"
     ]
    }
   ],
   "source": [
    "import numpy as np\n",
    "import cv2\n",
    "import matplotlib.pyplot as plt\n",
    "import skimage\n",
    "from tqdm import tqdm\n",
    "import keras\n",
    "from keras.datasets import mnist, cifar10, fashion_mnist\n",
    "import keras_utils"
   ]
  },
  {
   "cell_type": "code",
   "execution_count": 2,
   "metadata": {},
   "outputs": [],
   "source": [
    "keras_utils.set_keras_session()"
   ]
  },
  {
   "cell_type": "code",
   "execution_count": 3,
   "metadata": {},
   "outputs": [],
   "source": [
    "(X_train, Y_train), (X_test, Y_test) = fashion_mnist.load_data()"
   ]
  },
  {
   "cell_type": "code",
   "execution_count": 4,
   "metadata": {},
   "outputs": [
    {
     "data": {
      "text/plain": [
       "(60000, 28, 28)"
      ]
     },
     "execution_count": 4,
     "metadata": {},
     "output_type": "execute_result"
    }
   ],
   "source": [
    "X_train.shape"
   ]
  },
  {
   "cell_type": "code",
   "execution_count": 5,
   "metadata": {},
   "outputs": [],
   "source": [
    "def cv2_rotate(image, degrees):\n",
    "    if len(image.shape) == 3:\n",
    "        rows, cols, _ = image.shape\n",
    "    else:\n",
    "        rows, cols = image.shape\n",
    "    M = cv2.getRotationMatrix2D((cols/2,rows/2), degrees, 1)\n",
    "    return cv2.warpAffine(image, M, (cols,rows))"
   ]
  },
  {
   "cell_type": "code",
   "execution_count": 6,
   "metadata": {},
   "outputs": [],
   "source": [
    "def pad(image, padding=4):\n",
    "    \n",
    "    h, w = image.shape\n",
    "    image_padded = np.zeros((h + 2*padding, w + 2*padding))\n",
    "    image_padded[padding:-padding, padding:-padding] = image\n",
    "    return image_padded"
   ]
  },
  {
   "cell_type": "code",
   "execution_count": 7,
   "metadata": {},
   "outputs": [
    {
     "data": {
      "text/plain": [
       "<matplotlib.image.AxesImage at 0x7f8a740889e8>"
      ]
     },
     "execution_count": 7,
     "metadata": {},
     "output_type": "execute_result"
    },
    {
     "data": {
      "image/png": "[encoded data removed]",
      "text/plain": [
       "<matplotlib.figure.Figure at 0x7f8a740bfc50>"
      ]
     },
     "metadata": {},
     "output_type": "display_data"
    }
   ],
   "source": [
    "plt.imshow(cv2_rotate(pad(X_train[3501]), 45))"
   ]
  },
  {
   "cell_type": "code",
   "execution_count": 8,
   "metadata": {},
   "outputs": [],
   "source": [
    "augmented_rotations_per_sample = 3\n",
    "sector_perc = 1.0"
   ]
  },
  {
   "cell_type": "code",
   "execution_count": 9,
   "metadata": {},
   "outputs": [],
   "source": [
    "def generate_random_rotations(X, Y, n_rotations_per_sample, even_odd):\n",
    "    \n",
    "    new_X = []\n",
    "    new_Y = []\n",
    "    rotations = []\n",
    "    \n",
    "    h, w = X.shape[1:]\n",
    "    \n",
    "    for image, label in tqdm(zip(X, Y), total=len(X), desc=str(sector_size)):\n",
    "        \n",
    "        image = pad(image)\n",
    "        \n",
    "        for _ in range(n_rotations_per_sample):\n",
    "            \n",
    "            while True:\n",
    "                rand_sector = np.random.randint(sector_num)\n",
    "                if rand_sector % 2 == even_odd:\n",
    "                    central_angle = rand_sector * sector_size\n",
    "                    break\n",
    "            \n",
    "            rotation = central_angle + np.random.uniform(-sector_perc, sector_perc) * sector_size / 2.\n",
    "            \n",
    "            rotated_image = cv2_rotate(image, rotation)\n",
    "            new_X.append(rotated_image)\n",
    "            new_Y.append(label)\n",
    "            rotations.append(rotation)\n",
    "    \n",
    "    new_X = np.array(new_X)\n",
    "    if len(new_X.shape) == 3:\n",
    "        new_X = np.expand_dims(new_X, 3)\n",
    "        \n",
    "    return new_X, np.array(new_Y), np.array(rotations)"
   ]
  },
  {
   "cell_type": "raw",
   "metadata": {},
   "source": [
    "X_train_rot, Y_train_rot, R_train = generate_random_rotations(X_train, Y_train, augmented_rotations_per_sample)\n",
    "X_test_rot, Y_test_rot, R_test = generate_random_rotations(X_test, Y_test, augmented_rotations_per_sample)\n",
    "\n",
    "Y_train_onehot = keras.utils.to_categorical(Y_train_rot)\n",
    "Y_test_onehot = keras.utils.to_categorical(Y_test_rot)"
   ]
  },
  {
   "cell_type": "raw",
   "metadata": {},
   "source": [
    "R_train_radians, R_test_radians = (R * np.pi / 180 for R in (R_train, R_test))"
   ]
  },
  {
   "cell_type": "raw",
   "metadata": {},
   "source": [
    "R_train_sin_cos = create_rot_sin_cos(R_train_radians)\n",
    "R_test_sin_cos = create_rot_sin_cos(R_test_radians)"
   ]
  },
  {
   "cell_type": "code",
   "execution_count": 10,
   "metadata": {},
   "outputs": [],
   "source": [
    "def create_rot_sin_cos(R_radians):\n",
    "    rot_sin_cos = np.empty((len(R_radians), 2))\n",
    "    rot_sin_cos[:, 0] = np.sin(R_radians)\n",
    "    rot_sin_cos[:, 1] = np.cos(R_radians)\n",
    "    return rot_sin_cos"
   ]
  },
  {
   "cell_type": "code",
   "execution_count": 11,
   "metadata": {},
   "outputs": [],
   "source": [
    "from keras import layers\n",
    "from keras import models\n",
    "from keras import losses\n",
    "import keras.backend as K\n",
    "\n",
    "def cosine_proximity_unitary(y_true, y_pred):\n",
    "    \n",
    "    dot_product_loss = losses.cosine_proximity(y_true, y_pred)\n",
    "    unit_circle_loss = K.square(1 - (K.square(y_pred[:, 0]) + K.square(y_pred[:, 1])))\n",
    "    return dot_product_loss + 0.05 * unit_circle_loss\n",
    "\n",
    "\n",
    "def build_model(use_labels=True, use_rotation=True, rot_range=-1):\n",
    "\n",
    "    input_layer = layers.Input(X_train_rot.shape[1:], name='image_input')\n",
    "    x = input_layer\n",
    "\n",
    "    x = layers.Conv2D(32, (3,3), padding='same', activation='relu')(x)\n",
    "    x = layers.Conv2D(32, (3,3), padding='same', activation='relu')(x)\n",
    "    x = layers.MaxPool2D()(x)\n",
    "    x = layers.Dropout(0.25)(x)\n",
    "    flatten = layers.Flatten()(x)\n",
    "    \n",
    "    if use_labels:\n",
    "        y = layers.Dense(128, activation='relu')(flatten)\n",
    "        y = layers.Dropout(0.25)(y)\n",
    "        y = layers.Dense(nb_classes, activation='softmax', name='y')(y)\n",
    "\n",
    "    if use_rotation:\n",
    "        r = layers.Dense(32, activation='relu')(flatten)\n",
    "        r = layers.Dropout(0.5)(r)\n",
    "        r = layers.Dense(2, name='r')(r)\n",
    "\n",
    "    if use_labels and use_rotation:\n",
    "        model = models.Model(input_layer, [y, r])        \n",
    "        model.compile(optimizer='adam', loss=['categorical_crossentropy', 'cosine_proximity'], \n",
    "                      metrics={'y': 'accuracy', 'r': 'accuracy'},\n",
    "                      loss_weights=[alpha, beta])\n",
    "    elif use_labels:\n",
    "        model = models.Model(input_layer, y)\n",
    "        model.compile(optimizer='adam', loss='categorical_crossentropy', metrics=['accuracy'])\n",
    "    elif use_rotation:\n",
    "        model = models.Model(input_layer, r)\n",
    "        model.compile(optimizer='adam', loss='cosine_proximity', metrics=['accuracy'])\n",
    "    else:\n",
    "        raise ValueError('Specify at least 1 output for the network!')\n",
    "        \n",
    "    #model.summary()\n",
    "    \n",
    "    return model"
   ]
  },
  {
   "cell_type": "code",
   "execution_count": 12,
   "metadata": {},
   "outputs": [],
   "source": [
    "from keras import callbacks\n",
    "\n",
    "class LossWeightsCallback(callbacks.Callback):\n",
    "    def __init__(self, alpha, beta):\n",
    "        self.alpha = alpha\n",
    "        self.beta = beta\n",
    "        \n",
    "    # customize your behavior\n",
    "    def on_epoch_end(self, epoch, logs={}):\n",
    "        if epoch == 1:\n",
    "            self.alpha = self.alpha - 0.4 # set to 0.5\n",
    "            self.beta = self.beta + 0.4 # set to 0.5"
   ]
  },
  {
   "cell_type": "code",
   "execution_count": 13,
   "metadata": {},
   "outputs": [],
   "source": [
    "def train_model(model, use_labels=True, use_rotation=True):\n",
    "    \n",
    "    if use_labels and use_rotation:\n",
    "        y_train = [Y_train_onehot, R_train_sin_cos]\n",
    "        y_test = [Y_test_onehot, R_test_sin_cos]\n",
    "    elif use_labels:\n",
    "        y_train = Y_train_onehot\n",
    "        y_test = Y_test_onehot\n",
    "    elif use_rotation:\n",
    "        y_train = R_train\n",
    "        y_test = R_test\n",
    "    else:\n",
    "        raise ValueError('Specify output for training')\n",
    "        \n",
    "    \n",
    "    early_stopper = callbacks.EarlyStopping(patience=1)\n",
    "    \n",
    "    if use_labels and use_rotation:\n",
    "        lw_callback = LossWeightsCallback(alpha, beta)\n",
    "        _callbacks = [early_stopper, lw_callback]\n",
    "    else:\n",
    "        _callbacks = [early_stopper]\n",
    "    \n",
    "    return model.fit(X_train_rot, y_train, \n",
    "                     validation_data=(X_test_rot, y_test), \n",
    "                     callbacks=_callbacks,\n",
    "                     batch_size=256,\n",
    "                     epochs=10)"
   ]
  },
  {
   "cell_type": "code",
   "execution_count": 14,
   "metadata": {},
   "outputs": [],
   "source": [
    "def min_diff(angle):\n",
    "    if angle < 180:\n",
    "        return angle\n",
    "    elif angle < 360:\n",
    "        return 360 - angle\n",
    "    else:\n",
    "        return angle - 360"
   ]
  },
  {
   "cell_type": "code",
   "execution_count": 15,
   "metadata": {},
   "outputs": [
    {
     "name": "stderr",
     "output_type": "stream",
     "text": [
      "1: 100%|██████████| 60000/60000 [00:06<00:00, 9362.05it/s]\n",
      "1: 100%|██████████| 10000/10000 [00:00<00:00, 10677.22it/s]\n"
     ]
    },
    {
     "name": "stdout",
     "output_type": "stream",
     "text": [
      "WARNING:tensorflow:From /usr/local/lib/python3.5/dist-packages/keras/backend/tensorflow_backend.py:3148: calling l2_normalize (from tensorflow.python.ops.nn_impl) with dim is deprecated and will be removed in a future version.\n",
      "Instructions for updating:\n",
      "dim is deprecated, use axis instead\n",
      "Train on 180000 samples, validate on 30000 samples\n",
      "Epoch 1/10\n",
      "180000/180000 [==============================] - 35s 192us/step - loss: 6.9040 - y_loss: 7.7302 - r_loss: -0.5312 - y_acc: 0.3534 - r_acc: 0.7209 - val_loss: 0.5681 - val_y_loss: 0.7257 - val_r_loss: -0.8497 - val_y_acc: 0.7437 - val_r_acc: 0.8672\n",
      "Epoch 2/10\n",
      "180000/180000 [==============================] - 33s 185us/step - loss: 0.5627 - y_loss: 0.7105 - r_loss: -0.7675 - y_acc: 0.7457 - r_acc: 0.8292 - val_loss: 0.4267 - val_y_loss: 0.5737 - val_r_loss: -0.8965 - val_y_acc: 0.7959 - val_r_acc: 0.9025\n",
      "Epoch 3/10\n",
      "180000/180000 [==============================] - 33s 185us/step - loss: 0.4451 - y_loss: 0.5840 - r_loss: -0.8047 - y_acc: 0.7892 - r_acc: 0.8511 - val_loss: 0.3757 - val_y_loss: 0.5187 - val_r_loss: -0.9113 - val_y_acc: 0.8134 - val_r_acc: 0.9119\n",
      "Epoch 4/10\n",
      "180000/180000 [==============================] - 33s 185us/step - loss: 0.3840 - y_loss: 0.5185 - r_loss: -0.8263 - y_acc: 0.8115 - r_acc: 0.8635 - val_loss: 0.3475 - val_y_loss: 0.4885 - val_r_loss: -0.9218 - val_y_acc: 0.8230 - val_r_acc: 0.9277\n",
      "Epoch 5/10\n",
      "180000/180000 [==============================] - 33s 185us/step - loss: 0.3456 - y_loss: 0.4772 - r_loss: -0.8384 - y_acc: 0.8247 - r_acc: 0.8719 - val_loss: 0.3289 - val_y_loss: 0.4684 - val_r_loss: -0.9271 - val_y_acc: 0.8291 - val_r_acc: 0.9314\n",
      "Epoch 6/10\n",
      "180000/180000 [==============================] - 33s 185us/step - loss: 0.3127 - y_loss: 0.4420 - r_loss: -0.8505 - y_acc: 0.8368 - r_acc: 0.8798 - val_loss: 0.3196 - val_y_loss: 0.4585 - val_r_loss: -0.9305 - val_y_acc: 0.8333 - val_r_acc: 0.9361\n",
      "Epoch 7/10\n",
      "180000/180000 [==============================] - 33s 185us/step - loss: 0.2872 - y_loss: 0.4147 - r_loss: -0.8601 - y_acc: 0.8454 - r_acc: 0.8862 - val_loss: 0.3163 - val_y_loss: 0.4547 - val_r_loss: -0.9296 - val_y_acc: 0.8350 - val_r_acc: 0.9370\n",
      "Epoch 8/10\n",
      "180000/180000 [==============================] - 33s 186us/step - loss: 0.2663 - y_loss: 0.3923 - r_loss: -0.8674 - y_acc: 0.8540 - r_acc: 0.8911 - val_loss: 0.3184 - val_y_loss: 0.4579 - val_r_loss: -0.9379 - val_y_acc: 0.8385 - val_r_acc: 0.9426\n"
     ]
    },
    {
     "name": "stderr",
     "output_type": "stream",
     "text": [
      "1:   5%|▍         | 2886/60000 [00:00<00:01, 28855.97it/s]"
     ]
    },
    {
     "name": "stdout",
     "output_type": "stream",
     "text": [
      "10.656173302826467\n"
     ]
    },
    {
     "name": "stderr",
     "output_type": "stream",
     "text": [
      "1: 100%|██████████| 60000/60000 [00:02<00:00, 27640.67it/s]\n",
      "3:   2%|▏         | 1069/60000 [00:00<00:05, 10685.78it/s]"
     ]
    },
    {
     "name": "stdout",
     "output_type": "stream",
     "text": [
      "10.52964669331698\n"
     ]
    },
    {
     "name": "stderr",
     "output_type": "stream",
     "text": [
      "3: 100%|██████████| 60000/60000 [00:05<00:00, 10650.59it/s]\n",
      "3: 100%|██████████| 10000/10000 [00:00<00:00, 10553.43it/s]\n"
     ]
    },
    {
     "name": "stdout",
     "output_type": "stream",
     "text": [
      "Train on 180000 samples, validate on 30000 samples\n",
      "Epoch 1/10\n",
      "180000/180000 [==============================] - 34s 187us/step - loss: 1.0958 - y_loss: 1.2940 - r_loss: -0.6878 - y_acc: 0.6655 - r_acc: 0.7911 - val_loss: 0.4544 - val_y_loss: 0.6037 - val_r_loss: -0.8891 - val_y_acc: 0.7838 - val_r_acc: 0.8967\n",
      "Epoch 2/10\n",
      "180000/180000 [==============================] - 33s 185us/step - loss: 0.4700 - y_loss: 0.6114 - r_loss: -0.8029 - y_acc: 0.7809 - r_acc: 0.8544 - val_loss: 0.3883 - val_y_loss: 0.5327 - val_r_loss: -0.9113 - val_y_acc: 0.8053 - val_r_acc: 0.9205\n",
      "Epoch 3/10\n",
      "180000/180000 [==============================] - 33s 185us/step - loss: 0.3969 - y_loss: 0.5335 - r_loss: -0.8331 - y_acc: 0.8055 - r_acc: 0.8702 - val_loss: 0.3554 - val_y_loss: 0.4971 - val_r_loss: -0.9197 - val_y_acc: 0.8196 - val_r_acc: 0.9225\n",
      "Epoch 4/10\n",
      "180000/180000 [==============================] - 33s 185us/step - loss: 0.3523 - y_loss: 0.4858 - r_loss: -0.8491 - y_acc: 0.8217 - r_acc: 0.8785 - val_loss: 0.3365 - val_y_loss: 0.4771 - val_r_loss: -0.9291 - val_y_acc: 0.8256 - val_r_acc: 0.9296\n",
      "Epoch 5/10\n",
      "180000/180000 [==============================] - 33s 185us/step - loss: 0.3223 - y_loss: 0.4533 - r_loss: -0.8570 - y_acc: 0.8330 - r_acc: 0.8824 - val_loss: 0.3299 - val_y_loss: 0.4698 - val_r_loss: -0.9298 - val_y_acc: 0.8277 - val_r_acc: 0.9332\n",
      "Epoch 6/10\n",
      "180000/180000 [==============================] - 33s 185us/step - loss: 0.2933 - y_loss: 0.4222 - r_loss: -0.8669 - y_acc: 0.8431 - r_acc: 0.8889 - val_loss: 0.3179 - val_y_loss: 0.4573 - val_r_loss: -0.9362 - val_y_acc: 0.8363 - val_r_acc: 0.9376\n",
      "Epoch 7/10\n",
      "180000/180000 [==============================] - 33s 185us/step - loss: 0.2737 - y_loss: 0.4011 - r_loss: -0.8726 - y_acc: 0.8511 - r_acc: 0.8931 - val_loss: 0.3146 - val_y_loss: 0.4536 - val_r_loss: -0.9366 - val_y_acc: 0.8373 - val_r_acc: 0.9353\n",
      "Epoch 8/10\n",
      "180000/180000 [==============================] - 33s 185us/step - loss: 0.2525 - y_loss: 0.3783 - r_loss: -0.8790 - y_acc: 0.8597 - r_acc: 0.8967 - val_loss: 0.3102 - val_y_loss: 0.4493 - val_r_loss: -0.9423 - val_y_acc: 0.8396 - val_r_acc: 0.9403\n",
      "Epoch 9/10\n",
      "180000/180000 [==============================] - 33s 185us/step - loss: 0.2369 - y_loss: 0.3612 - r_loss: -0.8824 - y_acc: 0.8651 - r_acc: 0.8977 - val_loss: 0.3095 - val_y_loss: 0.4488 - val_r_loss: -0.9437 - val_y_acc: 0.8411 - val_r_acc: 0.9446\n",
      "Epoch 10/10\n",
      "180000/180000 [==============================] - 33s 185us/step - loss: 0.2222 - y_loss: 0.3455 - r_loss: -0.8878 - y_acc: 0.8700 - r_acc: 0.9008 - val_loss: 0.3079 - val_y_loss: 0.4471 - val_r_loss: -0.9450 - val_y_acc: 0.8417 - val_r_acc: 0.9422\n"
     ]
    },
    {
     "name": "stderr",
     "output_type": "stream",
     "text": [
      "3:   9%|▉         | 5692/60000 [00:00<00:01, 28454.63it/s]"
     ]
    },
    {
     "name": "stdout",
     "output_type": "stream",
     "text": [
      "10.038269926321552\n"
     ]
    },
    {
     "name": "stderr",
     "output_type": "stream",
     "text": [
      "3: 100%|██████████| 60000/60000 [00:02<00:00, 27747.92it/s]\n",
      "5:   2%|▏         | 1052/60000 [00:00<00:05, 10515.55it/s]"
     ]
    },
    {
     "name": "stdout",
     "output_type": "stream",
     "text": [
      "10.082412309401443\n"
     ]
    },
    {
     "name": "stderr",
     "output_type": "stream",
     "text": [
      "5: 100%|██████████| 60000/60000 [00:05<00:00, 10675.83it/s]\n",
      "5: 100%|██████████| 10000/10000 [00:00<00:00, 10672.20it/s]\n"
     ]
    },
    {
     "name": "stdout",
     "output_type": "stream",
     "text": [
      "Train on 180000 samples, validate on 30000 samples\n",
      "Epoch 1/10\n",
      "180000/180000 [==============================] - 34s 188us/step - loss: 1.0570 - y_loss: 1.2506 - r_loss: -0.6856 - y_acc: 0.6712 - r_acc: 0.7883 - val_loss: 0.4379 - val_y_loss: 0.5839 - val_r_loss: -0.8757 - val_y_acc: 0.7937 - val_r_acc: 0.8972\n",
      "Epoch 2/10\n",
      "180000/180000 [==============================] - 33s 186us/step - loss: 0.4607 - y_loss: 0.6001 - r_loss: -0.7943 - y_acc: 0.7837 - r_acc: 0.8441 - val_loss: 0.3809 - val_y_loss: 0.5234 - val_r_loss: -0.9018 - val_y_acc: 0.8096 - val_r_acc: 0.9108\n",
      "Epoch 3/10\n",
      "180000/180000 [==============================] - 34s 186us/step - loss: 0.3885 - y_loss: 0.5230 - r_loss: -0.8221 - y_acc: 0.8103 - r_acc: 0.8628 - val_loss: 0.3437 - val_y_loss: 0.4839 - val_r_loss: -0.9181 - val_y_acc: 0.8244 - val_r_acc: 0.9211\n",
      "Epoch 4/10\n",
      "180000/180000 [==============================] - 33s 186us/step - loss: 0.3464 - y_loss: 0.4777 - r_loss: -0.8354 - y_acc: 0.8246 - r_acc: 0.8724 - val_loss: 0.3294 - val_y_loss: 0.4687 - val_r_loss: -0.9242 - val_y_acc: 0.8300 - val_r_acc: 0.9292\n",
      "Epoch 5/10\n",
      "180000/180000 [==============================] - 33s 186us/step - loss: 0.3127 - y_loss: 0.4417 - r_loss: -0.8490 - y_acc: 0.8365 - r_acc: 0.8798 - val_loss: 0.3194 - val_y_loss: 0.4579 - val_r_loss: -0.9268 - val_y_acc: 0.8328 - val_r_acc: 0.9285\n",
      "Epoch 6/10\n",
      "180000/180000 [==============================] - 33s 186us/step - loss: 0.2875 - y_loss: 0.4149 - r_loss: -0.8590 - y_acc: 0.8458 - r_acc: 0.8871 - val_loss: 0.3173 - val_y_loss: 0.4559 - val_r_loss: -0.9306 - val_y_acc: 0.8346 - val_r_acc: 0.9336\n",
      "Epoch 7/10\n",
      "180000/180000 [==============================] - 33s 186us/step - loss: 0.2618 - y_loss: 0.3871 - r_loss: -0.8651 - y_acc: 0.8557 - r_acc: 0.8905 - val_loss: 0.3126 - val_y_loss: 0.4515 - val_r_loss: -0.9368 - val_y_acc: 0.8366 - val_r_acc: 0.9346\n",
      "Epoch 8/10\n",
      "180000/180000 [==============================] - 33s 186us/step - loss: 0.2447 - y_loss: 0.3689 - r_loss: -0.8727 - y_acc: 0.8619 - r_acc: 0.8952 - val_loss: 0.3133 - val_y_loss: 0.4525 - val_r_loss: -0.9399 - val_y_acc: 0.8395 - val_r_acc: 0.9401\n"
     ]
    },
    {
     "name": "stderr",
     "output_type": "stream",
     "text": [
      "5:   5%|▍         | 2759/60000 [00:00<00:02, 27579.64it/s]"
     ]
    },
    {
     "name": "stdout",
     "output_type": "stream",
     "text": [
      "10.547894450007952\n"
     ]
    },
    {
     "name": "stderr",
     "output_type": "stream",
     "text": [
      "5: 100%|██████████| 60000/60000 [00:02<00:00, 26740.32it/s]\n",
      "10:   2%|▏         | 1099/60000 [00:00<00:05, 10985.11it/s]"
     ]
    },
    {
     "name": "stdout",
     "output_type": "stream",
     "text": [
      "10.474475410823182\n"
     ]
    },
    {
     "name": "stderr",
     "output_type": "stream",
     "text": [
      "10: 100%|██████████| 60000/60000 [00:05<00:00, 10900.86it/s]\n",
      "10: 100%|██████████| 10000/10000 [00:00<00:00, 10227.09it/s]\n"
     ]
    },
    {
     "name": "stdout",
     "output_type": "stream",
     "text": [
      "Train on 180000 samples, validate on 30000 samples\n",
      "Epoch 1/10\n",
      "180000/180000 [==============================] - 34s 188us/step - loss: 1.4456 - y_loss: 1.6795 - r_loss: -0.6596 - y_acc: 0.6495 - r_acc: 0.7799 - val_loss: 0.5458 - val_y_loss: 0.7009 - val_r_loss: -0.8499 - val_y_acc: 0.7481 - val_r_acc: 0.8818\n",
      "Epoch 2/10\n",
      "180000/180000 [==============================] - 33s 185us/step - loss: 0.4701 - y_loss: 0.6097 - r_loss: -0.7861 - y_acc: 0.7796 - r_acc: 0.8428 - val_loss: 0.4731 - val_y_loss: 0.6237 - val_r_loss: -0.8826 - val_y_acc: 0.7773 - val_r_acc: 0.9067\n",
      "Epoch 3/10\n",
      "180000/180000 [==============================] - 34s 186us/step - loss: 0.3931 - y_loss: 0.5275 - r_loss: -0.8161 - y_acc: 0.8079 - r_acc: 0.8590 - val_loss: 0.4406 - val_y_loss: 0.5889 - val_r_loss: -0.8941 - val_y_acc: 0.7877 - val_r_acc: 0.9077\n",
      "Epoch 4/10\n",
      "180000/180000 [==============================] - 33s 185us/step - loss: 0.3478 - y_loss: 0.4794 - r_loss: -0.8361 - y_acc: 0.8240 - r_acc: 0.8700 - val_loss: 0.4508 - val_y_loss: 0.6009 - val_r_loss: -0.8999 - val_y_acc: 0.7826 - val_r_acc: 0.9152\n"
     ]
    },
    {
     "name": "stderr",
     "output_type": "stream",
     "text": [
      "10:   4%|▍         | 2659/60000 [00:00<00:02, 26576.91it/s]"
     ]
    },
    {
     "name": "stdout",
     "output_type": "stream",
     "text": [
      "15.369142905332248\n"
     ]
    },
    {
     "name": "stderr",
     "output_type": "stream",
     "text": [
      "10: 100%|██████████| 60000/60000 [00:02<00:00, 27027.27it/s]\n",
      "15:   2%|▏         | 1050/60000 [00:00<00:05, 10488.63it/s]"
     ]
    },
    {
     "name": "stdout",
     "output_type": "stream",
     "text": [
      "15.470226476519047\n"
     ]
    },
    {
     "name": "stderr",
     "output_type": "stream",
     "text": [
      "15: 100%|██████████| 60000/60000 [00:05<00:00, 10777.35it/s]\n",
      "15: 100%|██████████| 10000/10000 [00:00<00:00, 10394.22it/s]\n"
     ]
    },
    {
     "name": "stdout",
     "output_type": "stream",
     "text": [
      "Train on 180000 samples, validate on 30000 samples\n",
      "Epoch 1/10\n",
      "180000/180000 [==============================] - 34s 188us/step - loss: 0.8061 - y_loss: 0.9759 - r_loss: -0.7218 - y_acc: 0.7035 - r_acc: 0.8146 - val_loss: 0.5607 - val_y_loss: 0.7126 - val_r_loss: -0.8064 - val_y_acc: 0.7476 - val_r_acc: 0.8578\n",
      "Epoch 2/10\n",
      "180000/180000 [==============================] - 33s 185us/step - loss: 0.4188 - y_loss: 0.5574 - r_loss: -0.8277 - y_acc: 0.7999 - r_acc: 0.8797 - val_loss: 0.5020 - val_y_loss: 0.6515 - val_r_loss: -0.8441 - val_y_acc: 0.7618 - val_r_acc: 0.8801\n",
      "Epoch 3/10\n",
      "180000/180000 [==============================] - 34s 186us/step - loss: 0.3539 - y_loss: 0.4878 - r_loss: -0.8508 - y_acc: 0.8236 - r_acc: 0.8911 - val_loss: 0.4762 - val_y_loss: 0.6240 - val_r_loss: -0.8540 - val_y_acc: 0.7693 - val_r_acc: 0.8846\n",
      "Epoch 4/10\n",
      "180000/180000 [==============================] - 33s 185us/step - loss: 0.3139 - y_loss: 0.4444 - r_loss: -0.8607 - y_acc: 0.8373 - r_acc: 0.8980 - val_loss: 0.4757 - val_y_loss: 0.6244 - val_r_loss: -0.8627 - val_y_acc: 0.7697 - val_r_acc: 0.8955\n",
      "Epoch 5/10\n",
      "180000/180000 [==============================] - 33s 186us/step - loss: 0.2798 - y_loss: 0.4078 - r_loss: -0.8721 - y_acc: 0.8502 - r_acc: 0.9051 - val_loss: 0.4468 - val_y_loss: 0.5940 - val_r_loss: -0.8786 - val_y_acc: 0.7810 - val_r_acc: 0.9008\n",
      "Epoch 6/10\n",
      "180000/180000 [==============================] - 33s 186us/step - loss: 0.2561 - y_loss: 0.3825 - r_loss: -0.8809 - y_acc: 0.8575 - r_acc: 0.9118 - val_loss: 0.4483 - val_y_loss: 0.5958 - val_r_loss: -0.8784 - val_y_acc: 0.7808 - val_r_acc: 0.9027\n"
     ]
    },
    {
     "name": "stderr",
     "output_type": "stream",
     "text": [
      "15:   5%|▍         | 2803/60000 [00:00<00:02, 28024.35it/s]"
     ]
    },
    {
     "name": "stdout",
     "output_type": "stream",
     "text": [
      "17.106345592319645\n"
     ]
    },
    {
     "name": "stderr",
     "output_type": "stream",
     "text": [
      "15: 100%|██████████| 60000/60000 [00:02<00:00, 27074.71it/s]\n",
      "20:   2%|▏         | 1084/60000 [00:00<00:05, 10833.84it/s]"
     ]
    },
    {
     "name": "stdout",
     "output_type": "stream",
     "text": [
      "17.05779321163758\n"
     ]
    },
    {
     "name": "stderr",
     "output_type": "stream",
     "text": [
      "20: 100%|██████████| 60000/60000 [00:05<00:00, 10604.55it/s]\n",
      "20: 100%|██████████| 10000/10000 [00:00<00:00, 10748.07it/s]\n"
     ]
    },
    {
     "name": "stdout",
     "output_type": "stream",
     "text": [
      "Train on 180000 samples, validate on 30000 samples\n",
      "Epoch 1/10\n",
      "180000/180000 [==============================] - 34s 189us/step - loss: 1.2852 - y_loss: 1.5100 - r_loss: -0.7384 - y_acc: 0.6764 - r_acc: 0.8177 - val_loss: 0.8903 - val_y_loss: 1.0581 - val_r_loss: -0.6195 - val_y_acc: 0.6189 - val_r_acc: 0.7617\n",
      "Epoch 2/10\n",
      "180000/180000 [==============================] - 33s 185us/step - loss: 0.4204 - y_loss: 0.5613 - r_loss: -0.8478 - y_acc: 0.7979 - r_acc: 0.8832 - val_loss: 0.8526 - val_y_loss: 1.0192 - val_r_loss: -0.6467 - val_y_acc: 0.6438 - val_r_acc: 0.7835\n",
      "Epoch 3/10\n",
      "180000/180000 [==============================] - 34s 186us/step - loss: 0.3516 - y_loss: 0.4876 - r_loss: -0.8724 - y_acc: 0.8208 - r_acc: 0.8937 - val_loss: 0.8722 - val_y_loss: 1.0409 - val_r_loss: -0.6463 - val_y_acc: 0.6398 - val_r_acc: 0.7979\n"
     ]
    },
    {
     "name": "stderr",
     "output_type": "stream",
     "text": [
      "20:   5%|▍         | 2822/60000 [00:00<00:02, 28216.26it/s]"
     ]
    },
    {
     "name": "stdout",
     "output_type": "stream",
     "text": [
      "38.57847607438119\n"
     ]
    },
    {
     "name": "stderr",
     "output_type": "stream",
     "text": [
      "20: 100%|██████████| 60000/60000 [00:02<00:00, 27797.37it/s]\n",
      "30:   2%|▏         | 1092/60000 [00:00<00:05, 10914.23it/s]"
     ]
    },
    {
     "name": "stdout",
     "output_type": "stream",
     "text": [
      "38.14604593565807\n"
     ]
    },
    {
     "name": "stderr",
     "output_type": "stream",
     "text": [
      "30: 100%|██████████| 60000/60000 [00:05<00:00, 10617.50it/s]\n",
      "30: 100%|██████████| 10000/10000 [00:00<00:00, 10813.42it/s]\n"
     ]
    },
    {
     "name": "stdout",
     "output_type": "stream",
     "text": [
      "Train on 180000 samples, validate on 30000 samples\n",
      "Epoch 1/10\n",
      "180000/180000 [==============================] - 34s 190us/step - loss: 1.2142 - y_loss: 1.4304 - r_loss: -0.7321 - y_acc: 0.7062 - r_acc: 0.8217 - val_loss: 2.2108 - val_y_loss: 2.5064 - val_r_loss: -0.4496 - val_y_acc: 0.4106 - val_r_acc: 0.6542\n",
      "Epoch 2/10\n",
      "180000/180000 [==============================] - 33s 186us/step - loss: 0.3772 - y_loss: 0.5133 - r_loss: -0.8484 - y_acc: 0.8140 - r_acc: 0.9035 - val_loss: 2.3975 - val_y_loss: 2.7149 - val_r_loss: -0.4587 - val_y_acc: 0.4191 - val_r_acc: 0.6694\n"
     ]
    },
    {
     "name": "stderr",
     "output_type": "stream",
     "text": [
      "30:   5%|▍         | 2783/60000 [00:00<00:02, 27823.92it/s]"
     ]
    },
    {
     "name": "stdout",
     "output_type": "stream",
     "text": [
      "55.68667242748086\n"
     ]
    },
    {
     "name": "stderr",
     "output_type": "stream",
     "text": [
      "30: 100%|██████████| 60000/60000 [00:02<00:00, 28289.52it/s]\n",
      "60:   2%|▏         | 1100/60000 [00:00<00:05, 10991.21it/s]"
     ]
    },
    {
     "name": "stdout",
     "output_type": "stream",
     "text": [
      "55.6424873639008\n"
     ]
    },
    {
     "name": "stderr",
     "output_type": "stream",
     "text": [
      "60: 100%|██████████| 60000/60000 [00:05<00:00, 10755.31it/s]\n",
      "60: 100%|██████████| 10000/10000 [00:00<00:00, 10625.07it/s]\n"
     ]
    },
    {
     "name": "stdout",
     "output_type": "stream",
     "text": [
      "Train on 180000 samples, validate on 30000 samples\n",
      "Epoch 1/10\n",
      "180000/180000 [==============================] - 34s 190us/step - loss: 0.9073 - y_loss: 1.1036 - r_loss: -0.8594 - y_acc: 0.7301 - r_acc: 0.8863 - val_loss: 2.1630 - val_y_loss: 2.3827 - val_r_loss: 0.1858 - val_y_acc: 0.3503 - val_r_acc: 0.4361\n",
      "Epoch 2/10\n",
      "180000/180000 [==============================] - 33s 186us/step - loss: 0.3520 - y_loss: 0.4934 - r_loss: -0.9210 - y_acc: 0.8208 - r_acc: 0.9116 - val_loss: 2.4537 - val_y_loss: 2.7109 - val_r_loss: 0.1392 - val_y_acc: 0.3469 - val_r_acc: 0.4439\n"
     ]
    },
    {
     "name": "stderr",
     "output_type": "stream",
     "text": [
      "60:   9%|▉         | 5562/60000 [00:00<00:01, 27805.55it/s]"
     ]
    },
    {
     "name": "stdout",
     "output_type": "stream",
     "text": [
      "101.48455026146881\n"
     ]
    },
    {
     "name": "stderr",
     "output_type": "stream",
     "text": [
      "60: 100%|██████████| 60000/60000 [00:02<00:00, 28094.89it/s]\n"
     ]
    },
    {
     "name": "stdout",
     "output_type": "stream",
     "text": [
      "100.94447544272367\n"
     ]
    }
   ],
   "source": [
    "histories = []\n",
    "diff_degrees = []\n",
    "diff_degrees_train = []\n",
    "\n",
    "\n",
    "for sector_size in [1, 3, 5, 10, 15, 20, 30, 60]:\n",
    "\n",
    "    sector_num = 360 // sector_size\n",
    "\n",
    "    use_labels = True\n",
    "    use_rotation = True\n",
    "\n",
    "    X_train_rot, Y_train_rot, R_train = generate_random_rotations(X_train, Y_train, \n",
    "                                                                  augmented_rotations_per_sample, 0)\n",
    "    X_test_rot, Y_test_rot, R_test = generate_random_rotations(X_test, Y_test, \n",
    "                                                               augmented_rotations_per_sample, 1)\n",
    "\n",
    "    R_train_radians, R_test_radians = (R * np.pi / 180 for R in (R_train, R_test))\n",
    "    R_train_sin_cos = create_rot_sin_cos(R_train_radians)\n",
    "    R_test_sin_cos = create_rot_sin_cos(R_test_radians)\n",
    "\n",
    "    Y_train_onehot = keras.utils.to_categorical(Y_train_rot)\n",
    "    Y_test_onehot = keras.utils.to_categorical(Y_test_rot)\n",
    "\n",
    "    nb_classes = Y_train_onehot.shape[1]\n",
    "\n",
    "    alpha = K.variable(0.9)\n",
    "    beta = K.variable(0.1)\n",
    "    model = build_model(use_labels, use_rotation)\n",
    "\n",
    "    history = train_model(model, use_labels, use_rotation).history\n",
    "    histories.append(history)\n",
    "\n",
    "    _, R_pred = model.predict(X_test_rot)\n",
    "    \n",
    "    diff_degree = np.abs(np.arctan2(R_pred[:, 0], R_pred[:, 1]) * 180 / np.pi - R_test)\n",
    "    diff_degree = np.array([min_diff(diff) for diff in diff_degree])\n",
    "    print(np.mean(diff_degree))\n",
    "    diff_degrees.append(diff_degree)\n",
    "    \n",
    "    \n",
    "    X_test_rot, Y_test_rot, R_test = generate_random_rotations(X_train, Y_train, 1, 1)\n",
    "    _, R_pred = model.predict(X_test_rot)\n",
    "    diff_degree = np.abs(np.arctan2(R_pred[:, 0], R_pred[:, 1]) * 180 / np.pi - R_test)\n",
    "    diff_degree = np.array([min_diff(diff) for diff in diff_degree])\n",
    "    print(np.mean(diff_degree))\n",
    "    diff_degrees_train.append(diff_degree)\n",
    "    "
   ]
  },
  {
   "cell_type": "code",
   "execution_count": 16,
   "metadata": {},
   "outputs": [
    {
     "data": {
      "text/plain": [
       "array([ 10.6561733 ,  10.03826993,  10.54789445,  15.36914291,\n",
       "        17.10634559,  38.57847607,  55.68667243, 101.48455026])"
      ]
     },
     "execution_count": 16,
     "metadata": {},
     "output_type": "execute_result"
    }
   ],
   "source": [
    "np.mean(diff_degrees, axis=1)"
   ]
  },
  {
   "cell_type": "code",
   "execution_count": 17,
   "metadata": {},
   "outputs": [],
   "source": [
    "Y_pred, R_pred = model.predict(X_test_rot)"
   ]
  },
  {
   "cell_type": "code",
   "execution_count": 37,
   "metadata": {},
   "outputs": [],
   "source": [
    "def get_data_from_histories():\n",
    "\n",
    "    for history in histories:\n",
    "\n",
    "        idx_min_loss = np.argmin(history['val_loss'])\n",
    "        data = []\n",
    "\n",
    "        for key in ('val_loss', 'val_r_loss', 'val_y_loss', 'val_y_acc'):\n",
    "            data.append(history[key][idx_min_loss])\n",
    "            \n",
    "        yield data"
   ]
  },
  {
   "cell_type": "code",
   "execution_count": 38,
   "metadata": {},
   "outputs": [],
   "source": [
    "data = np.array(list(get_data_from_histories()))"
   ]
  },
  {
   "cell_type": "code",
   "execution_count": 19,
   "metadata": {},
   "outputs": [],
   "source": [
    "%matplotlib inline\n",
    "\n",
    "import matplotlib.pyplot as plt"
   ]
  },
  {
   "cell_type": "code",
   "execution_count": 40,
   "metadata": {},
   "outputs": [
    {
     "data": {
      "text/plain": [
       "<matplotlib.legend.Legend at 0x7f89e1f477b8>"
      ]
     },
     "execution_count": 40,
     "metadata": {},
     "output_type": "execute_result"
    },
    {
     "data": {
      "image/png": "[encoded data removed]",
      "text/plain": [
       "<matplotlib.figure.Figure at 0x7f89e2082978>"
      ]
     },
     "metadata": {},
     "output_type": "display_data"
    }
   ],
   "source": [
    "plt.figure(figsize=(12, 10))\n",
    "plt.subplot(211)\n",
    "plt.grid()\n",
    "plt.plot([1, 3, 5, 10, 15, 20, 30, 60], data[:, 3], label='classification_accuracy')\n",
    "plt.xlabel('Circular sector size (degrees)')\n",
    "plt.legend()\n",
    "plt.subplot(212)\n",
    "plt.grid()\n",
    "plt.plot([1, 3, 5, 10, 15, 20, 30, 60], data[:, 1], label='rotation_loss')\n",
    "plt.xlabel('Circular sector size (degrees)')\n",
    "plt.legend()"
   ]
  },
  {
   "cell_type": "code",
   "execution_count": 23,
   "metadata": {},
   "outputs": [
    {
     "data": {
      "image/png": "[encoded data removed]",
      "text/plain": [
       "<matplotlib.figure.Figure at 0x7f89e34ef9e8>"
      ]
     },
     "metadata": {},
     "output_type": "display_data"
    }
   ],
   "source": [
    "xv = np.arange(0, 101)\n",
    "plt.figure(figsize=(12, 10))\n",
    "plt.grid()\n",
    "\n",
    "cmap = plt.get_cmap('jet_r')\n",
    "for i, (diff_degree, sector_size) in enumerate(zip(diff_degrees, [1, 3, 5, 10, 15, 20, 30, 60])):\n",
    "    color = cmap(float(i)/len(diff_degrees))\n",
    "    plt.plot([np.percentile(diff_degree, x) for x in xv], xv, c=color, \n",
    "             label='sector_size_{}'.format(sector_size))\n",
    "    \n",
    "plt.title('Percentile of test samples whose absolute difference between true and predicted orientation is below x \\n(training using full circle)')\n",
    "plt.xlabel('Difference in degrees between the true and the predicted orientation')\n",
    "plt.ylabel('Percentage of predicted orientations below the corresponding difference')\n",
    "plt.legend()\n",
    "plt.show()"
   ]
  }
 ],
 "metadata": {
  "kernelspec": {
   "display_name": "Python 3",
   "language": "python",
   "name": "python3"
  },
  "language_info": {
   "codemirror_mode": {
    "name": "ipython",
    "version": 3
   },
   "file_extension": ".py",
   "mimetype": "text/x-python",
   "name": "python",
   "nbconvert_exporter": "python",
   "pygments_lexer": "ipython3",
   "version": "3.5.2"
  }
 },
 "nbformat": 4,
 "nbformat_minor": 2
}
