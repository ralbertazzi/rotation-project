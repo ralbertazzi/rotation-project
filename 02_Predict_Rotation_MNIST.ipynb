{
 "cells": [
  {
   "cell_type": "code",
   "execution_count": 1,
   "metadata": {},
   "outputs": [
    {
     "name": "stderr",
     "output_type": "stream",
     "text": [
      "/usr/local/lib/python3.5/dist-packages/h5py/__init__.py:36: FutureWarning: Conversion of the second argument of issubdtype from `float` to `np.floating` is deprecated. In future, it will be treated as `np.float64 == np.dtype(float).type`.\n",
      "  from ._conv import register_converters as _register_converters\n",
      "Using TensorFlow backend.\n"
     ]
    }
   ],
   "source": [
    "import numpy as np\n",
    "import cv2\n",
    "import matplotlib.pyplot as plt\n",
    "import skimage\n",
    "from tqdm import tqdm\n",
    "import keras\n",
    "from keras.datasets import mnist, cifar10, fashion_mnist"
   ]
  },
  {
   "cell_type": "code",
   "execution_count": 2,
   "metadata": {},
   "outputs": [],
   "source": [
    "(X_train, Y_train), (X_test, Y_test) = fashion_mnist.load_data()"
   ]
  },
  {
   "cell_type": "code",
   "execution_count": 3,
   "metadata": {},
   "outputs": [
    {
     "data": {
      "text/plain": [
       "(60000, 28, 28)"
      ]
     },
     "execution_count": 3,
     "metadata": {},
     "output_type": "execute_result"
    }
   ],
   "source": [
    "X_train.shape"
   ]
  },
  {
   "cell_type": "code",
   "execution_count": 4,
   "metadata": {},
   "outputs": [],
   "source": [
    "def cv2_rotate(image, degrees):\n",
    "    if len(image.shape) == 3:\n",
    "        rows, cols, _ = image.shape\n",
    "    else:\n",
    "        rows, cols = image.shape\n",
    "    M = cv2.getRotationMatrix2D((cols/2,rows/2), degrees, 1)\n",
    "    return cv2.warpAffine(image, M, (cols,rows))"
   ]
  },
  {
   "cell_type": "code",
   "execution_count": 5,
   "metadata": {},
   "outputs": [],
   "source": [
    "def pad(image, padding=2):\n",
    "    \n",
    "    h, w = image.shape\n",
    "    image_padded = np.zeros((h + 2*padding, w + 2*padding))\n",
    "    image_padded[padding:-padding, padding:-padding] = image\n",
    "    return image_padded"
   ]
  },
  {
   "cell_type": "code",
   "execution_count": 6,
   "metadata": {},
   "outputs": [
    {
     "data": {
      "text/plain": [
       "<matplotlib.image.AxesImage at 0x7f08c43360f0>"
      ]
     },
     "execution_count": 6,
     "metadata": {},
     "output_type": "execute_result"
    },
    {
     "data": {
      "image/png": "[encoded data removed]",
      "text/plain": [
       "<matplotlib.figure.Figure at 0x7f08c982a198>"
      ]
     },
     "metadata": {},
     "output_type": "display_data"
    }
   ],
   "source": [
    "plt.imshow(cv2_rotate(pad(X_train[100]), 45))"
   ]
  },
  {
   "cell_type": "code",
   "execution_count": 7,
   "metadata": {},
   "outputs": [],
   "source": [
    "augmented_rotations_per_sample = 3"
   ]
  },
  {
   "cell_type": "code",
   "execution_count": 8,
   "metadata": {},
   "outputs": [],
   "source": [
    "def generate_random_rotations(X, Y, n_rotations_per_sample, rot_range=10):\n",
    "    \n",
    "    new_X = []\n",
    "    new_Y = []\n",
    "    rotations = []\n",
    "    \n",
    "    h, w = X.shape[1:]\n",
    "    bigger = 2\n",
    "    \n",
    "    for image, label in tqdm(zip(X, Y), total=len(X)):\n",
    "        \n",
    "        image = pad(image)\n",
    "        \n",
    "        for _ in range(n_rotations_per_sample):\n",
    "            \n",
    "            rotation = np.random.randint(-rot_range, rot_range)\n",
    "            rotated_image = cv2_rotate(image, rotation)\n",
    "            new_X.append(rotated_image)\n",
    "            new_Y.append(label)\n",
    "            rotations.append(rotation)\n",
    "    \n",
    "    new_X = np.array(new_X)\n",
    "    if len(new_X.shape) == 3:\n",
    "        new_X = np.expand_dims(new_X, 3)\n",
    "        \n",
    "    return new_X, np.array(new_Y), np.array(rotations)"
   ]
  },
  {
   "cell_type": "code",
   "execution_count": 9,
   "metadata": {},
   "outputs": [
    {
     "name": "stderr",
     "output_type": "stream",
     "text": [
      "100%|██████████| 60000/60000 [00:05<00:00, 11231.71it/s]\n",
      "100%|██████████| 10000/10000 [00:00<00:00, 16276.04it/s]\n"
     ]
    }
   ],
   "source": [
    "X_train_rot, Y_train_rot, R_train = generate_random_rotations(X_train, Y_train, augmented_rotations_per_sample)\n",
    "X_test_rot, Y_test_rot, R_test = generate_random_rotations(X_test, Y_test, augmented_rotations_per_sample)\n",
    "\n",
    "Y_train_onehot = keras.utils.to_categorical(Y_train_rot)\n",
    "Y_test_onehot = keras.utils.to_categorical(Y_test_rot)"
   ]
  },
  {
   "cell_type": "code",
   "execution_count": 10,
   "metadata": {},
   "outputs": [],
   "source": [
    "nb_classes = Y_train_onehot.shape[1]"
   ]
  },
  {
   "cell_type": "code",
   "execution_count": 11,
   "metadata": {},
   "outputs": [],
   "source": [
    "R_train_radians, R_test_radians = (R * np.pi / 180 for R in (R_train, R_test))"
   ]
  },
  {
   "cell_type": "code",
   "execution_count": 12,
   "metadata": {},
   "outputs": [],
   "source": [
    "def create_rot_sin_cos(R_radians):\n",
    "    rot_sin_cos = np.empty((len(R_radians), 2))\n",
    "    rot_sin_cos[:, 0] = np.sin(R_radians)\n",
    "    rot_sin_cos[:, 1] = np.cos(R_radians)\n",
    "    return rot_sin_cos"
   ]
  },
  {
   "cell_type": "code",
   "execution_count": 13,
   "metadata": {},
   "outputs": [],
   "source": [
    "R_train_sin_cos = create_rot_sin_cos(R_train_radians)\n",
    "R_test_sin_cos = create_rot_sin_cos(R_test_radians)"
   ]
  },
  {
   "cell_type": "code",
   "execution_count": 14,
   "metadata": {},
   "outputs": [],
   "source": [
    "from keras import layers\n",
    "from keras import models\n",
    "from keras import losses\n",
    "import keras.backend as K\n",
    "\n",
    "def cosine_proximity_unitary(y_true, y_pred):\n",
    "    \n",
    "    dot_product_loss = losses.cosine_proximity(y_true, y_pred)\n",
    "    unit_circle_loss = K.square(1 - (K.square(y_pred[:, 0]) + K.square(y_pred[:, 1])))\n",
    "    return dot_product_loss + 0.05 * unit_circle_loss\n",
    "\n",
    "\n",
    "def build_model(use_labels=True, use_rotation=True):\n",
    "\n",
    "    input_layer = layers.Input(X_train_rot.shape[1:], name='image_input')\n",
    "    x = input_layer\n",
    "\n",
    "    x = layers.Conv2D(32, (3,3), padding='same', activation='relu')(x)\n",
    "    x = layers.Conv2D(32, (3,3), padding='same', activation='relu')(x)\n",
    "    x = layers.MaxPool2D()(x)\n",
    "    x = layers.Dropout(0.25)(x)\n",
    "    flatten = layers.Flatten()(x)\n",
    "    \n",
    "    if use_labels:\n",
    "        y = layers.Dense(128, activation='relu')(flatten)\n",
    "        y = layers.Dropout(0.25)(y)\n",
    "        y = layers.Dense(nb_classes, activation='softmax', name='y')(y)\n",
    "\n",
    "    if use_rotation:\n",
    "        r = layers.Dense(32, activation='relu')(flatten)\n",
    "        r = layers.Dropout(0.5)(r)\n",
    "        r = layers.Dense(2, name='r')(r)\n",
    "\n",
    "    if use_labels and use_rotation:\n",
    "        model = models.Model(input_layer, [y, r])        \n",
    "        model.compile(optimizer='adam', loss=['categorical_crossentropy', 'cosine_proximity'], \n",
    "                      metrics=['accuracy'], loss_weights=[alpha, beta])\n",
    "    elif use_labels:\n",
    "        model = models.Model(input_layer, y)\n",
    "        model.compile(optimizer='adam', loss='categorical_crossentropy', metrics=['accuracy'])\n",
    "    elif use_rotation:\n",
    "        model = models.Model(input_layer, r)\n",
    "        model.compile(optimizer='adam', loss='cosine_proximity', metrics=['accuracy'])\n",
    "    else:\n",
    "        raise ValueError('Specify at least 1 output for the network!')\n",
    "        \n",
    "    #model.summary()\n",
    "    \n",
    "    return model"
   ]
  },
  {
   "cell_type": "code",
   "execution_count": 15,
   "metadata": {},
   "outputs": [],
   "source": [
    "from keras import callbacks\n",
    "\n",
    "class LossWeightsCallback(callbacks.Callback):\n",
    "    def __init__(self, alpha, beta):\n",
    "        self.alpha = alpha\n",
    "        self.beta = beta\n",
    "        \n",
    "    # customize your behavior\n",
    "    def on_epoch_end(self, epoch, logs={}):\n",
    "        if epoch == 1:\n",
    "            self.alpha = self.alpha - 0.4 # set to 0.5\n",
    "            self.beta = self.beta + 0.4 # set to 0.5"
   ]
  },
  {
   "cell_type": "code",
   "execution_count": 16,
   "metadata": {},
   "outputs": [],
   "source": [
    "def train_model(model, use_labels=True, use_rotation=True):\n",
    "    \n",
    "    if use_labels and use_rotation:\n",
    "        y_train = [Y_train_onehot, R_train_sin_cos]\n",
    "        y_test = [Y_test_onehot, R_test_sin_cos]\n",
    "    elif use_labels:\n",
    "        y_train = Y_train_onehot\n",
    "        y_test = Y_test_onehot\n",
    "    elif use_rotation:\n",
    "        y_train = R_train_sin_cos\n",
    "        y_test = R_test_sin_cos\n",
    "    else:\n",
    "        raise ValueError('Specify output for training')\n",
    "        \n",
    "    \n",
    "    early_stopper = callbacks.EarlyStopping(patience=1)\n",
    "    \n",
    "    if use_labels and use_rotation:\n",
    "        lw_callback = LossWeightsCallback(alpha, beta)\n",
    "        _callbacks = [early_stopper, lw_callback]\n",
    "    else:\n",
    "        _callbacks = [early_stopper]\n",
    "    \n",
    "    return model.fit(X_train_rot, y_train, \n",
    "                     validation_data=(X_test_rot, y_test), \n",
    "                     callbacks=_callbacks,\n",
    "                     batch_size=256,\n",
    "                     epochs=10)"
   ]
  },
  {
   "cell_type": "code",
   "execution_count": 17,
   "metadata": {},
   "outputs": [
    {
     "name": "stderr",
     "output_type": "stream",
     "text": [
      "  3%|▎         | 1692/60000 [00:00<00:03, 16913.04it/s]"
     ]
    },
    {
     "name": "stdout",
     "output_type": "stream",
     "text": [
      "Training on rotation range of +- 10\n"
     ]
    },
    {
     "name": "stderr",
     "output_type": "stream",
     "text": [
      "100%|██████████| 60000/60000 [00:04<00:00, 14403.94it/s]\n",
      "100%|██████████| 10000/10000 [00:00<00:00, 15085.63it/s]\n"
     ]
    },
    {
     "name": "stdout",
     "output_type": "stream",
     "text": [
      "WARNING:tensorflow:From /usr/local/lib/python3.5/dist-packages/keras/backend/tensorflow_backend.py:3148: calling l2_normalize (from tensorflow.python.ops.nn_impl) with dim is deprecated and will be removed in a future version.\n",
      "Instructions for updating:\n",
      "dim is deprecated, use axis instead\n",
      "Train on 180000 samples, validate on 30000 samples\n",
      "Epoch 1/10\n",
      "180000/180000 [==============================] - 49s 273us/step - loss: 0.3506 - y_loss: 0.4997 - r_loss: -0.9906 - y_acc: 0.8495 - r_acc: 0.9984 - val_loss: 0.1658 - val_y_loss: 0.2952 - val_r_loss: -0.9987 - val_y_acc: 0.8917 - val_r_acc: 1.0000\n",
      "Epoch 2/10\n",
      "180000/180000 [==============================] - 50s 280us/step - loss: 0.1460 - y_loss: 0.2731 - r_loss: -0.9982 - y_acc: 0.8982 - r_acc: 1.0000 - val_loss: 0.1481 - val_y_loss: 0.2755 - val_r_loss: -0.9993 - val_y_acc: 0.8989 - val_r_acc: 1.0000\n",
      "Epoch 3/10\n",
      "180000/180000 [==============================] - 51s 281us/step - loss: 0.1080 - y_loss: 0.2310 - r_loss: -0.9987 - y_acc: 0.9124 - r_acc: 1.0000 - val_loss: 0.1365 - val_y_loss: 0.2627 - val_r_loss: -0.9995 - val_y_acc: 0.9067 - val_r_acc: 1.0000\n",
      "Epoch 4/10\n",
      "180000/180000 [==============================] - 51s 281us/step - loss: 0.0805 - y_loss: 0.2004 - r_loss: -0.9988 - y_acc: 0.9242 - r_acc: 1.0000 - val_loss: 0.1335 - val_y_loss: 0.2594 - val_r_loss: -0.9995 - val_y_acc: 0.9100 - val_r_acc: 1.0000\n",
      "Epoch 5/10\n",
      "180000/180000 [==============================] - 51s 281us/step - loss: 0.0620 - y_loss: 0.1799 - r_loss: -0.9989 - y_acc: 0.9314 - r_acc: 1.0000 - val_loss: 0.1412 - val_y_loss: 0.2680 - val_r_loss: -0.9995 - val_y_acc: 0.9124 - val_r_acc: 1.0000\n"
     ]
    },
    {
     "name": "stderr",
     "output_type": "stream",
     "text": [
      "  2%|▏         | 1357/60000 [00:00<00:04, 13562.28it/s]"
     ]
    },
    {
     "name": "stdout",
     "output_type": "stream",
     "text": [
      "1.3832554031980535\n",
      "Training on rotation range of +- 20\n"
     ]
    },
    {
     "name": "stderr",
     "output_type": "stream",
     "text": [
      "100%|██████████| 60000/60000 [00:04<00:00, 12040.97it/s]\n",
      "100%|██████████| 10000/10000 [00:00<00:00, 15035.20it/s]\n"
     ]
    },
    {
     "name": "stdout",
     "output_type": "stream",
     "text": [
      "Train on 180000 samples, validate on 30000 samples\n",
      "Epoch 1/10\n",
      "180000/180000 [==============================] - 49s 271us/step - loss: 0.4001 - y_loss: 0.5545 - r_loss: -0.9890 - y_acc: 0.8317 - r_acc: 0.9971 - val_loss: 0.1972 - val_y_loss: 0.3301 - val_r_loss: -0.9984 - val_y_acc: 0.8798 - val_r_acc: 1.0000\n",
      "Epoch 2/10\n",
      "180000/180000 [==============================] - 50s 281us/step - loss: 0.1743 - y_loss: 0.3044 - r_loss: -0.9967 - y_acc: 0.8871 - r_acc: 1.0000 - val_loss: 0.1722 - val_y_loss: 0.3023 - val_r_loss: -0.9989 - val_y_acc: 0.8919 - val_r_acc: 1.0000\n",
      "Epoch 3/10\n",
      "180000/180000 [==============================] - 50s 280us/step - loss: 0.1363 - y_loss: 0.2622 - r_loss: -0.9972 - y_acc: 0.9025 - r_acc: 1.0000 - val_loss: 0.1504 - val_y_loss: 0.2781 - val_r_loss: -0.9989 - val_y_acc: 0.8990 - val_r_acc: 1.0000\n",
      "Epoch 4/10\n",
      "180000/180000 [==============================] - 51s 281us/step - loss: 0.1113 - y_loss: 0.2345 - r_loss: -0.9974 - y_acc: 0.9123 - r_acc: 1.0000 - val_loss: 0.1546 - val_y_loss: 0.2828 - val_r_loss: -0.9992 - val_y_acc: 0.8989 - val_r_acc: 1.0000\n"
     ]
    },
    {
     "name": "stderr",
     "output_type": "stream",
     "text": [
      "  2%|▏         | 1160/60000 [00:00<00:05, 11588.46it/s]"
     ]
    },
    {
     "name": "stdout",
     "output_type": "stream",
     "text": [
      "1.7759338172389811\n",
      "Training on rotation range of +- 30\n"
     ]
    },
    {
     "name": "stderr",
     "output_type": "stream",
     "text": [
      "100%|██████████| 60000/60000 [00:04<00:00, 12619.53it/s]\n",
      "100%|██████████| 10000/10000 [00:00<00:00, 12828.26it/s]\n"
     ]
    },
    {
     "name": "stdout",
     "output_type": "stream",
     "text": [
      "Train on 180000 samples, validate on 30000 samples\n",
      "Epoch 1/10\n",
      "180000/180000 [==============================] - 51s 284us/step - loss: 0.4845 - y_loss: 0.6481 - r_loss: -0.9885 - y_acc: 0.8182 - r_acc: 0.9974 - val_loss: 0.2206 - val_y_loss: 0.3561 - val_r_loss: -0.9984 - val_y_acc: 0.8684 - val_r_acc: 1.0000\n",
      "Epoch 2/10\n",
      "180000/180000 [==============================] - 51s 281us/step - loss: 0.1981 - y_loss: 0.3307 - r_loss: -0.9960 - y_acc: 0.8778 - r_acc: 1.0000 - val_loss: 0.1934 - val_y_loss: 0.3259 - val_r_loss: -0.9989 - val_y_acc: 0.8821 - val_r_acc: 1.0000\n",
      "Epoch 3/10\n",
      "180000/180000 [==============================] - 51s 281us/step - loss: 0.1588 - y_loss: 0.2872 - r_loss: -0.9967 - y_acc: 0.8929 - r_acc: 1.0000 - val_loss: 0.1749 - val_y_loss: 0.3053 - val_r_loss: -0.9990 - val_y_acc: 0.8884 - val_r_acc: 1.0000\n",
      "Epoch 4/10\n",
      "180000/180000 [==============================] - 44s 245us/step - loss: 0.1316 - y_loss: 0.2570 - r_loss: -0.9970 - y_acc: 0.9041 - r_acc: 1.0000 - val_loss: 0.1709 - val_y_loss: 0.3009 - val_r_loss: -0.9991 - val_y_acc: 0.8910 - val_r_acc: 1.0000\n",
      "Epoch 5/10\n",
      "180000/180000 [==============================] - 48s 266us/step - loss: 0.1154 - y_loss: 0.2391 - r_loss: -0.9974 - y_acc: 0.9103 - r_acc: 1.0000 - val_loss: 0.1755 - val_y_loss: 0.3060 - val_r_loss: -0.9991 - val_y_acc: 0.8884 - val_r_acc: 1.0000\n"
     ]
    },
    {
     "name": "stderr",
     "output_type": "stream",
     "text": [
      "  2%|▏         | 1287/60000 [00:00<00:04, 12865.07it/s]"
     ]
    },
    {
     "name": "stdout",
     "output_type": "stream",
     "text": [
      "1.7720187566963908\n",
      "Training on rotation range of +- 40\n"
     ]
    },
    {
     "name": "stderr",
     "output_type": "stream",
     "text": [
      "100%|██████████| 60000/60000 [00:04<00:00, 12684.05it/s]\n",
      "100%|██████████| 10000/10000 [00:00<00:00, 12690.48it/s]\n"
     ]
    },
    {
     "name": "stdout",
     "output_type": "stream",
     "text": [
      "Train on 180000 samples, validate on 30000 samples\n",
      "Epoch 1/10\n",
      "180000/180000 [==============================] - 51s 284us/step - loss: 0.8022 - y_loss: 1.0007 - r_loss: -0.9849 - y_acc: 0.7847 - r_acc: 0.9955 - val_loss: 0.2622 - val_y_loss: 0.4022 - val_r_loss: -0.9976 - val_y_acc: 0.8536 - val_r_acc: 1.0000\n",
      "Epoch 2/10\n",
      "180000/180000 [==============================] - 51s 281us/step - loss: 0.2488 - y_loss: 0.3868 - r_loss: -0.9937 - y_acc: 0.8566 - r_acc: 0.9993 - val_loss: 0.2226 - val_y_loss: 0.3583 - val_r_loss: -0.9982 - val_y_acc: 0.8666 - val_r_acc: 1.0000\n",
      "Epoch 3/10\n",
      "180000/180000 [==============================] - 51s 281us/step - loss: 0.2022 - y_loss: 0.3352 - r_loss: -0.9945 - y_acc: 0.8752 - r_acc: 1.0000 - val_loss: 0.2051 - val_y_loss: 0.3388 - val_r_loss: -0.9983 - val_y_acc: 0.8752 - val_r_acc: 1.0000\n",
      "Epoch 4/10\n",
      "180000/180000 [==============================] - 51s 281us/step - loss: 0.1756 - y_loss: 0.3057 - r_loss: -0.9950 - y_acc: 0.8852 - r_acc: 1.0000 - val_loss: 0.1950 - val_y_loss: 0.3276 - val_r_loss: -0.9985 - val_y_acc: 0.8790 - val_r_acc: 1.0000\n",
      "Epoch 5/10\n",
      "180000/180000 [==============================] - 50s 280us/step - loss: 0.1571 - y_loss: 0.2851 - r_loss: -0.9954 - y_acc: 0.8918 - r_acc: 1.0000 - val_loss: 0.1927 - val_y_loss: 0.3251 - val_r_loss: -0.9986 - val_y_acc: 0.8824 - val_r_acc: 1.0000\n",
      "Epoch 6/10\n",
      "180000/180000 [==============================] - 50s 281us/step - loss: 0.1403 - y_loss: 0.2665 - r_loss: -0.9957 - y_acc: 0.8987 - r_acc: 1.0000 - val_loss: 0.1869 - val_y_loss: 0.3186 - val_r_loss: -0.9986 - val_y_acc: 0.8862 - val_r_acc: 1.0000\n",
      "Epoch 7/10\n",
      "180000/180000 [==============================] - 50s 281us/step - loss: 0.1260 - y_loss: 0.2506 - r_loss: -0.9959 - y_acc: 0.9044 - r_acc: 1.0000 - val_loss: 0.1911 - val_y_loss: 0.3233 - val_r_loss: -0.9988 - val_y_acc: 0.8858 - val_r_acc: 1.0000\n"
     ]
    },
    {
     "name": "stderr",
     "output_type": "stream",
     "text": [
      "  2%|▏         | 1379/60000 [00:00<00:04, 13787.71it/s]"
     ]
    },
    {
     "name": "stdout",
     "output_type": "stream",
     "text": [
      "1.9289057747434282\n",
      "Training on rotation range of +- 50\n"
     ]
    },
    {
     "name": "stderr",
     "output_type": "stream",
     "text": [
      "100%|██████████| 60000/60000 [00:04<00:00, 12476.19it/s]\n",
      "100%|██████████| 10000/10000 [00:00<00:00, 13033.72it/s]\n"
     ]
    },
    {
     "name": "stdout",
     "output_type": "stream",
     "text": [
      "Train on 180000 samples, validate on 30000 samples\n",
      "Epoch 1/10\n",
      "180000/180000 [==============================] - 51s 285us/step - loss: 1.7817 - y_loss: 2.0878 - r_loss: -0.9733 - y_acc: 0.7171 - r_acc: 0.9493 - val_loss: 0.2868 - val_y_loss: 0.4289 - val_r_loss: -0.9921 - val_y_acc: 0.8413 - val_r_acc: 0.9529\n",
      "Epoch 2/10\n",
      "180000/180000 [==============================] - 41s 227us/step - loss: 0.2777 - y_loss: 0.4182 - r_loss: -0.9863 - y_acc: 0.8447 - r_acc: 0.9510 - val_loss: 0.2342 - val_y_loss: 0.3706 - val_r_loss: -0.9934 - val_y_acc: 0.8630 - val_r_acc: 0.9527\n",
      "Epoch 3/10\n",
      "180000/180000 [==============================] - 51s 281us/step - loss: 0.2297 - y_loss: 0.3650 - r_loss: -0.9882 - y_acc: 0.8639 - r_acc: 0.9513 - val_loss: 0.2197 - val_y_loss: 0.3547 - val_r_loss: -0.9950 - val_y_acc: 0.8704 - val_r_acc: 0.9531\n",
      "Epoch 4/10\n",
      "180000/180000 [==============================] - 50s 280us/step - loss: 0.1971 - y_loss: 0.3290 - r_loss: -0.9896 - y_acc: 0.8765 - r_acc: 0.9513 - val_loss: 0.2039 - val_y_loss: 0.3372 - val_r_loss: -0.9950 - val_y_acc: 0.8753 - val_r_acc: 0.9527\n",
      "Epoch 5/10\n",
      "180000/180000 [==============================] - 50s 281us/step - loss: 0.1780 - y_loss: 0.3078 - r_loss: -0.9904 - y_acc: 0.8842 - r_acc: 0.9511 - val_loss: 0.1938 - val_y_loss: 0.3260 - val_r_loss: -0.9957 - val_y_acc: 0.8815 - val_r_acc: 0.9528\n",
      "Epoch 6/10\n",
      "180000/180000 [==============================] - 51s 281us/step - loss: 0.1597 - y_loss: 0.2876 - r_loss: -0.9908 - y_acc: 0.8911 - r_acc: 0.9521 - val_loss: 0.1907 - val_y_loss: 0.3226 - val_r_loss: -0.9961 - val_y_acc: 0.8827 - val_r_acc: 0.9538\n",
      "Epoch 7/10\n",
      "180000/180000 [==============================] - 50s 280us/step - loss: 0.1450 - y_loss: 0.2713 - r_loss: -0.9912 - y_acc: 0.8974 - r_acc: 0.9522 - val_loss: 0.1933 - val_y_loss: 0.3255 - val_r_loss: -0.9964 - val_y_acc: 0.8832 - val_r_acc: 0.9532\n"
     ]
    },
    {
     "name": "stderr",
     "output_type": "stream",
     "text": [
      "  2%|▏         | 1239/60000 [00:00<00:04, 12386.17it/s]"
     ]
    },
    {
     "name": "stdout",
     "output_type": "stream",
     "text": [
      "2.561191571238573\n",
      "Training on rotation range of +- 60\n"
     ]
    },
    {
     "name": "stderr",
     "output_type": "stream",
     "text": [
      "100%|██████████| 60000/60000 [00:04<00:00, 12504.54it/s]\n",
      "100%|██████████| 10000/10000 [00:00<00:00, 12766.18it/s]\n"
     ]
    },
    {
     "name": "stdout",
     "output_type": "stream",
     "text": [
      "Train on 180000 samples, validate on 30000 samples\n",
      "Epoch 1/10\n",
      "180000/180000 [==============================] - 51s 285us/step - loss: 0.6425 - y_loss: 0.8204 - r_loss: -0.9589 - y_acc: 0.7703 - r_acc: 0.9182 - val_loss: 0.2870 - val_y_loss: 0.4284 - val_r_loss: -0.9856 - val_y_acc: 0.8442 - val_r_acc: 0.9487\n",
      "Epoch 2/10\n",
      "180000/180000 [==============================] - 51s 281us/step - loss: 0.2867 - y_loss: 0.4270 - r_loss: -0.9756 - y_acc: 0.8438 - r_acc: 0.9364 - val_loss: 0.2460 - val_y_loss: 0.3832 - val_r_loss: -0.9889 - val_y_acc: 0.8621 - val_r_acc: 0.9601\n",
      "Epoch 3/10\n",
      "180000/180000 [==============================] - 41s 228us/step - loss: 0.2373 - y_loss: 0.3724 - r_loss: -0.9787 - y_acc: 0.8614 - r_acc: 0.9419 - val_loss: 0.2226 - val_y_loss: 0.3574 - val_r_loss: -0.9905 - val_y_acc: 0.8703 - val_r_acc: 0.9663\n",
      "Epoch 4/10\n",
      "180000/180000 [==============================] - 50s 280us/step - loss: 0.2052 - y_loss: 0.3370 - r_loss: -0.9805 - y_acc: 0.8738 - r_acc: 0.9439 - val_loss: 0.2138 - val_y_loss: 0.3477 - val_r_loss: -0.9910 - val_y_acc: 0.8737 - val_r_acc: 0.9696\n",
      "Epoch 5/10\n",
      "180000/180000 [==============================] - 50s 280us/step - loss: 0.1829 - y_loss: 0.3123 - r_loss: -0.9819 - y_acc: 0.8835 - r_acc: 0.9459 - val_loss: 0.2105 - val_y_loss: 0.3441 - val_r_loss: -0.9919 - val_y_acc: 0.8751 - val_r_acc: 0.9673\n",
      "Epoch 6/10\n",
      "180000/180000 [==============================] - 51s 281us/step - loss: 0.1618 - y_loss: 0.2890 - r_loss: -0.9832 - y_acc: 0.8908 - r_acc: 0.9468 - val_loss: 0.2120 - val_y_loss: 0.3459 - val_r_loss: -0.9925 - val_y_acc: 0.8793 - val_r_acc: 0.9670\n"
     ]
    },
    {
     "name": "stderr",
     "output_type": "stream",
     "text": [
      "  2%|▏         | 1266/60000 [00:00<00:04, 12649.73it/s]"
     ]
    },
    {
     "name": "stdout",
     "output_type": "stream",
     "text": [
      "3.647026876538538\n",
      "Training on rotation range of +- 70\n"
     ]
    },
    {
     "name": "stderr",
     "output_type": "stream",
     "text": [
      "100%|██████████| 60000/60000 [00:04<00:00, 12331.76it/s]\n",
      "100%|██████████| 10000/10000 [00:00<00:00, 12027.11it/s]\n"
     ]
    },
    {
     "name": "stdout",
     "output_type": "stream",
     "text": [
      "Train on 180000 samples, validate on 30000 samples\n",
      "Epoch 1/10\n",
      "180000/180000 [==============================] - 51s 285us/step - loss: 1.6625 - y_loss: 1.9515 - r_loss: -0.9390 - y_acc: 0.6901 - r_acc: 0.9110 - val_loss: 0.3290 - val_y_loss: 0.4742 - val_r_loss: -0.9770 - val_y_acc: 0.8292 - val_r_acc: 0.9595\n",
      "Epoch 2/10\n",
      "180000/180000 [==============================] - 51s 281us/step - loss: 0.3345 - y_loss: 0.4790 - r_loss: -0.9653 - y_acc: 0.8246 - r_acc: 0.9370 - val_loss: 0.2814 - val_y_loss: 0.4218 - val_r_loss: -0.9819 - val_y_acc: 0.8470 - val_r_acc: 0.9688\n",
      "Epoch 3/10\n",
      "180000/180000 [==============================] - 51s 281us/step - loss: 0.2777 - y_loss: 0.4164 - r_loss: -0.9703 - y_acc: 0.8453 - r_acc: 0.9433 - val_loss: 0.2576 - val_y_loss: 0.3958 - val_r_loss: -0.9856 - val_y_acc: 0.8560 - val_r_acc: 0.9723\n",
      "Epoch 4/10\n",
      "180000/180000 [==============================] - 41s 227us/step - loss: 0.2425 - y_loss: 0.3777 - r_loss: -0.9738 - y_acc: 0.8594 - r_acc: 0.9485 - val_loss: 0.2403 - val_y_loss: 0.3767 - val_r_loss: -0.9873 - val_y_acc: 0.8608 - val_r_acc: 0.9694\n",
      "Epoch 5/10\n",
      "180000/180000 [==============================] - 50s 280us/step - loss: 0.2197 - y_loss: 0.3526 - r_loss: -0.9760 - y_acc: 0.8688 - r_acc: 0.9494 - val_loss: 0.2394 - val_y_loss: 0.3758 - val_r_loss: -0.9876 - val_y_acc: 0.8617 - val_r_acc: 0.9711\n",
      "Epoch 6/10\n",
      "180000/180000 [==============================] - 50s 280us/step - loss: 0.2020 - y_loss: 0.3330 - r_loss: -0.9772 - y_acc: 0.8747 - r_acc: 0.9519 - val_loss: 0.2312 - val_y_loss: 0.3667 - val_r_loss: -0.9883 - val_y_acc: 0.8657 - val_r_acc: 0.9729\n",
      "Epoch 7/10\n",
      "180000/180000 [==============================] - 51s 281us/step - loss: 0.1839 - y_loss: 0.3131 - r_loss: -0.9787 - y_acc: 0.8822 - r_acc: 0.9527 - val_loss: 0.2341 - val_y_loss: 0.3700 - val_r_loss: -0.9890 - val_y_acc: 0.8695 - val_r_acc: 0.9743\n"
     ]
    },
    {
     "name": "stderr",
     "output_type": "stream",
     "text": [
      "  2%|▏         | 1152/60000 [00:00<00:05, 11514.55it/s]"
     ]
    },
    {
     "name": "stdout",
     "output_type": "stream",
     "text": [
      "4.178626313162269\n",
      "Training on rotation range of +- 80\n"
     ]
    },
    {
     "name": "stderr",
     "output_type": "stream",
     "text": [
      "100%|██████████| 60000/60000 [00:04<00:00, 12373.59it/s]\n",
      "100%|██████████| 10000/10000 [00:00<00:00, 13064.25it/s]\n"
     ]
    },
    {
     "name": "stdout",
     "output_type": "stream",
     "text": [
      "Train on 180000 samples, validate on 30000 samples\n",
      "Epoch 1/10\n",
      "180000/180000 [==============================] - 51s 285us/step - loss: 0.7821 - y_loss: 0.9712 - r_loss: -0.9193 - y_acc: 0.7390 - r_acc: 0.9035 - val_loss: 0.3308 - val_y_loss: 0.4754 - val_r_loss: -0.9712 - val_y_acc: 0.8265 - val_r_acc: 0.9584\n",
      "Epoch 2/10\n",
      "180000/180000 [==============================] - 51s 281us/step - loss: 0.3354 - y_loss: 0.4788 - r_loss: -0.9549 - y_acc: 0.8261 - r_acc: 0.9372 - val_loss: 0.2722 - val_y_loss: 0.4111 - val_r_loss: -0.9785 - val_y_acc: 0.8494 - val_r_acc: 0.9679\n",
      "Epoch 3/10\n",
      "180000/180000 [==============================] - 51s 282us/step - loss: 0.2757 - y_loss: 0.4132 - r_loss: -0.9618 - y_acc: 0.8478 - r_acc: 0.9435 - val_loss: 0.2460 - val_y_loss: 0.3825 - val_r_loss: -0.9824 - val_y_acc: 0.8619 - val_r_acc: 0.9690\n",
      "Epoch 4/10\n",
      "180000/180000 [==============================] - 51s 281us/step - loss: 0.2406 - y_loss: 0.3747 - r_loss: -0.9658 - y_acc: 0.8609 - r_acc: 0.9468 - val_loss: 0.2315 - val_y_loss: 0.3665 - val_r_loss: -0.9833 - val_y_acc: 0.8670 - val_r_acc: 0.9701\n",
      "Epoch 5/10\n",
      "180000/180000 [==============================] - 51s 281us/step - loss: 0.2149 - y_loss: 0.3464 - r_loss: -0.9688 - y_acc: 0.8707 - r_acc: 0.9490 - val_loss: 0.2244 - val_y_loss: 0.3588 - val_r_loss: -0.9850 - val_y_acc: 0.8709 - val_r_acc: 0.9714\n",
      "Epoch 6/10\n",
      "180000/180000 [==============================] - 51s 281us/step - loss: 0.1958 - y_loss: 0.3254 - r_loss: -0.9713 - y_acc: 0.8778 - r_acc: 0.9520 - val_loss: 0.2206 - val_y_loss: 0.3546 - val_r_loss: -0.9857 - val_y_acc: 0.8735 - val_r_acc: 0.9737\n",
      "Epoch 7/10\n",
      "180000/180000 [==============================] - 40s 225us/step - loss: 0.1767 - y_loss: 0.3044 - r_loss: -0.9728 - y_acc: 0.8857 - r_acc: 0.9514 - val_loss: 0.2321 - val_y_loss: 0.3674 - val_r_loss: -0.9858 - val_y_acc: 0.8738 - val_r_acc: 0.9692\n"
     ]
    },
    {
     "name": "stderr",
     "output_type": "stream",
     "text": [
      "  2%|▏         | 1291/60000 [00:00<00:04, 12902.57it/s]"
     ]
    },
    {
     "name": "stdout",
     "output_type": "stream",
     "text": [
      "5.163237531497778\n",
      "Training on rotation range of +- 90\n"
     ]
    },
    {
     "name": "stderr",
     "output_type": "stream",
     "text": [
      "100%|██████████| 60000/60000 [00:04<00:00, 12544.31it/s]\n",
      "100%|██████████| 10000/10000 [00:00<00:00, 12455.66it/s]\n"
     ]
    },
    {
     "name": "stdout",
     "output_type": "stream",
     "text": [
      "Train on 180000 samples, validate on 30000 samples\n",
      "Epoch 1/10\n",
      "180000/180000 [==============================] - 51s 286us/step - loss: 1.0322 - y_loss: 1.2477 - r_loss: -0.9077 - y_acc: 0.7293 - r_acc: 0.9096 - val_loss: 0.3311 - val_y_loss: 0.4748 - val_r_loss: -0.9624 - val_y_acc: 0.8294 - val_r_acc: 0.9527\n",
      "Epoch 2/10\n",
      "180000/180000 [==============================] - 50s 281us/step - loss: 0.3332 - y_loss: 0.4752 - r_loss: -0.9445 - y_acc: 0.8266 - r_acc: 0.9345 - val_loss: 0.2845 - val_y_loss: 0.4240 - val_r_loss: -0.9715 - val_y_acc: 0.8449 - val_r_acc: 0.9607\n",
      "Epoch 3/10\n",
      "180000/180000 [==============================] - 51s 282us/step - loss: 0.2756 - y_loss: 0.4120 - r_loss: -0.9517 - y_acc: 0.8476 - r_acc: 0.9413 - val_loss: 0.2632 - val_y_loss: 0.4008 - val_r_loss: -0.9748 - val_y_acc: 0.8556 - val_r_acc: 0.9646\n",
      "Epoch 4/10\n",
      "180000/180000 [==============================] - 51s 281us/step - loss: 0.2423 - y_loss: 0.3755 - r_loss: -0.9568 - y_acc: 0.8603 - r_acc: 0.9451 - val_loss: 0.2566 - val_y_loss: 0.3938 - val_r_loss: -0.9778 - val_y_acc: 0.8590 - val_r_acc: 0.9673\n",
      "Epoch 5/10\n",
      "180000/180000 [==============================] - 51s 281us/step - loss: 0.2165 - y_loss: 0.3472 - r_loss: -0.9601 - y_acc: 0.8704 - r_acc: 0.9463 - val_loss: 0.2412 - val_y_loss: 0.3768 - val_r_loss: -0.9790 - val_y_acc: 0.8659 - val_r_acc: 0.9671\n",
      "Epoch 6/10\n",
      "180000/180000 [==============================] - 51s 281us/step - loss: 0.1940 - y_loss: 0.3225 - r_loss: -0.9618 - y_acc: 0.8784 - r_acc: 0.9479 - val_loss: 0.2396 - val_y_loss: 0.3752 - val_r_loss: -0.9807 - val_y_acc: 0.8655 - val_r_acc: 0.9689\n",
      "Epoch 7/10\n",
      "180000/180000 [==============================] - 50s 280us/step - loss: 0.1772 - y_loss: 0.3040 - r_loss: -0.9644 - y_acc: 0.8856 - r_acc: 0.9486 - val_loss: 0.2414 - val_y_loss: 0.3772 - val_r_loss: -0.9814 - val_y_acc: 0.8660 - val_r_acc: 0.9653\n"
     ]
    },
    {
     "name": "stderr",
     "output_type": "stream",
     "text": [
      "  2%|▏         | 1424/60000 [00:00<00:04, 14228.07it/s]"
     ]
    },
    {
     "name": "stdout",
     "output_type": "stream",
     "text": [
      "5.824707872986467\n",
      "Training on rotation range of +- 100\n"
     ]
    },
    {
     "name": "stderr",
     "output_type": "stream",
     "text": [
      "100%|██████████| 60000/60000 [00:04<00:00, 12589.44it/s]\n",
      "100%|██████████| 10000/10000 [00:00<00:00, 13055.71it/s]\n"
     ]
    },
    {
     "name": "stdout",
     "output_type": "stream",
     "text": [
      "Train on 180000 samples, validate on 30000 samples\n",
      "Epoch 1/10\n",
      "180000/180000 [==============================] - 52s 286us/step - loss: 0.9317 - y_loss: 1.1326 - r_loss: -0.8768 - y_acc: 0.7161 - r_acc: 0.8948 - val_loss: 0.3598 - val_y_loss: 0.5057 - val_r_loss: -0.9533 - val_y_acc: 0.8159 - val_r_acc: 0.9551\n",
      "Epoch 2/10\n",
      "180000/180000 [==============================] - 49s 271us/step - loss: 0.3604 - y_loss: 0.5035 - r_loss: -0.9275 - y_acc: 0.8162 - r_acc: 0.9287 - val_loss: 0.3054 - val_y_loss: 0.4463 - val_r_loss: -0.9635 - val_y_acc: 0.8365 - val_r_acc: 0.9657\n",
      "Epoch 3/10\n",
      "180000/180000 [==============================] - 43s 239us/step - loss: 0.3016 - y_loss: 0.4395 - r_loss: -0.9390 - y_acc: 0.8378 - r_acc: 0.9370 - val_loss: 0.2819 - val_y_loss: 0.4209 - val_r_loss: -0.9692 - val_y_acc: 0.8457 - val_r_acc: 0.9649\n",
      "Epoch 4/10\n",
      "180000/180000 [==============================] - 50s 281us/step - loss: 0.2641 - y_loss: 0.3985 - r_loss: -0.9453 - y_acc: 0.8508 - r_acc: 0.9416 - val_loss: 0.2683 - val_y_loss: 0.4060 - val_r_loss: -0.9712 - val_y_acc: 0.8517 - val_r_acc: 0.9563\n",
      "Epoch 5/10\n",
      "180000/180000 [==============================] - 50s 280us/step - loss: 0.2398 - y_loss: 0.3720 - r_loss: -0.9499 - y_acc: 0.8599 - r_acc: 0.9446 - val_loss: 0.2694 - val_y_loss: 0.4076 - val_r_loss: -0.9745 - val_y_acc: 0.8531 - val_r_acc: 0.9671\n"
     ]
    },
    {
     "name": "stderr",
     "output_type": "stream",
     "text": [
      "  2%|▏         | 1271/60000 [00:00<00:04, 12706.10it/s]"
     ]
    },
    {
     "name": "stdout",
     "output_type": "stream",
     "text": [
      "6.413612014400229\n",
      "Training on rotation range of +- 110\n"
     ]
    },
    {
     "name": "stderr",
     "output_type": "stream",
     "text": [
      "100%|██████████| 60000/60000 [00:04<00:00, 12388.34it/s]\n",
      "100%|██████████| 10000/10000 [00:00<00:00, 12654.93it/s]\n"
     ]
    },
    {
     "name": "stdout",
     "output_type": "stream",
     "text": [
      "Train on 180000 samples, validate on 30000 samples\n",
      "Epoch 1/10\n",
      "180000/180000 [==============================] - 52s 286us/step - loss: 1.1054 - y_loss: 1.3205 - r_loss: -0.8305 - y_acc: 0.6959 - r_acc: 0.8757 - val_loss: 0.3765 - val_y_loss: 0.5230 - val_r_loss: -0.9414 - val_y_acc: 0.8142 - val_r_acc: 0.9469\n",
      "Epoch 2/10\n",
      "180000/180000 [==============================] - 51s 281us/step - loss: 0.3873 - y_loss: 0.5310 - r_loss: -0.9061 - y_acc: 0.8067 - r_acc: 0.9226 - val_loss: 0.3227 - val_y_loss: 0.4647 - val_r_loss: -0.9554 - val_y_acc: 0.8320 - val_r_acc: 0.9574\n",
      "Epoch 3/10\n",
      "180000/180000 [==============================] - 49s 271us/step - loss: 0.3232 - y_loss: 0.4618 - r_loss: -0.9238 - y_acc: 0.8297 - r_acc: 0.9317 - val_loss: 0.2959 - val_y_loss: 0.4357 - val_r_loss: -0.9623 - val_y_acc: 0.8443 - val_r_acc: 0.9636\n",
      "Epoch 4/10\n",
      "180000/180000 [==============================] - 43s 237us/step - loss: 0.2822 - y_loss: 0.4172 - r_loss: -0.9323 - y_acc: 0.8446 - r_acc: 0.9377 - val_loss: 0.2831 - val_y_loss: 0.4219 - val_r_loss: -0.9660 - val_y_acc: 0.8471 - val_r_acc: 0.9653\n",
      "Epoch 5/10\n",
      "180000/180000 [==============================] - 50s 280us/step - loss: 0.2564 - y_loss: 0.3891 - r_loss: -0.9386 - y_acc: 0.8541 - r_acc: 0.9406 - val_loss: 0.2732 - val_y_loss: 0.4112 - val_r_loss: -0.9692 - val_y_acc: 0.8499 - val_r_acc: 0.9699\n",
      "Epoch 6/10\n",
      "180000/180000 [==============================] - 50s 279us/step - loss: 0.2345 - y_loss: 0.3653 - r_loss: -0.9434 - y_acc: 0.8625 - r_acc: 0.9444 - val_loss: 0.2662 - val_y_loss: 0.4038 - val_r_loss: -0.9723 - val_y_acc: 0.8531 - val_r_acc: 0.9698\n",
      "Epoch 7/10\n",
      "180000/180000 [==============================] - 51s 281us/step - loss: 0.2151 - y_loss: 0.3442 - r_loss: -0.9466 - y_acc: 0.8700 - r_acc: 0.9463 - val_loss: 0.2649 - val_y_loss: 0.4025 - val_r_loss: -0.9736 - val_y_acc: 0.8561 - val_r_acc: 0.9695\n",
      "Epoch 8/10\n",
      "180000/180000 [==============================] - 51s 281us/step - loss: 0.1956 - y_loss: 0.3228 - r_loss: -0.9493 - y_acc: 0.8781 - r_acc: 0.9486 - val_loss: 0.2648 - val_y_loss: 0.4025 - val_r_loss: -0.9747 - val_y_acc: 0.8585 - val_r_acc: 0.9700\n",
      "Epoch 9/10\n",
      "180000/180000 [==============================] - 50s 281us/step - loss: 0.1807 - y_loss: 0.3065 - r_loss: -0.9510 - y_acc: 0.8848 - r_acc: 0.9503 - val_loss: 0.2589 - val_y_loss: 0.3960 - val_r_loss: -0.9755 - val_y_acc: 0.8621 - val_r_acc: 0.9721\n",
      "Epoch 10/10\n",
      "180000/180000 [==============================] - 50s 280us/step - loss: 0.1674 - y_loss: 0.2919 - r_loss: -0.9536 - y_acc: 0.8896 - r_acc: 0.9504 - val_loss: 0.2661 - val_y_loss: 0.4042 - val_r_loss: -0.9767 - val_y_acc: 0.8578 - val_r_acc: 0.9732\n"
     ]
    },
    {
     "name": "stderr",
     "output_type": "stream",
     "text": [
      "  2%|▏         | 1232/60000 [00:00<00:04, 12318.48it/s]"
     ]
    },
    {
     "name": "stdout",
     "output_type": "stream",
     "text": [
      "6.251192548092827\n",
      "Training on rotation range of +- 120\n"
     ]
    },
    {
     "name": "stderr",
     "output_type": "stream",
     "text": [
      "100%|██████████| 60000/60000 [00:04<00:00, 12566.54it/s]\n",
      "100%|██████████| 10000/10000 [00:00<00:00, 10947.31it/s]\n"
     ]
    },
    {
     "name": "stdout",
     "output_type": "stream",
     "text": [
      "Train on 180000 samples, validate on 30000 samples\n",
      "Epoch 1/10\n",
      "180000/180000 [==============================] - 44s 245us/step - loss: 2.5894 - y_loss: 2.9617 - r_loss: -0.7618 - y_acc: 0.6036 - r_acc: 0.8425 - val_loss: 0.4190 - val_y_loss: 0.5682 - val_r_loss: -0.9234 - val_y_acc: 0.7920 - val_r_acc: 0.9351\n",
      "Epoch 2/10\n",
      "180000/180000 [==============================] - 50s 279us/step - loss: 0.4220 - y_loss: 0.5659 - r_loss: -0.8734 - y_acc: 0.7950 - r_acc: 0.9037 - val_loss: 0.3405 - val_y_loss: 0.4832 - val_r_loss: -0.9430 - val_y_acc: 0.8258 - val_r_acc: 0.9482\n",
      "Epoch 3/10\n",
      "180000/180000 [==============================] - 50s 280us/step - loss: 0.3501 - y_loss: 0.4887 - r_loss: -0.8976 - y_acc: 0.8211 - r_acc: 0.9178 - val_loss: 0.3106 - val_y_loss: 0.4505 - val_r_loss: -0.9481 - val_y_acc: 0.8374 - val_r_acc: 0.9508\n",
      "Epoch 4/10\n",
      "180000/180000 [==============================] - 50s 280us/step - loss: 0.3071 - y_loss: 0.4423 - r_loss: -0.9100 - y_acc: 0.8363 - r_acc: 0.9228 - val_loss: 0.2936 - val_y_loss: 0.4323 - val_r_loss: -0.9543 - val_y_acc: 0.8420 - val_r_acc: 0.9547\n",
      "Epoch 5/10\n",
      "180000/180000 [==============================] - 50s 280us/step - loss: 0.2769 - y_loss: 0.4097 - r_loss: -0.9186 - y_acc: 0.8479 - r_acc: 0.9303 - val_loss: 0.2857 - val_y_loss: 0.4239 - val_r_loss: -0.9579 - val_y_acc: 0.8462 - val_r_acc: 0.9590\n",
      "Epoch 6/10\n",
      "180000/180000 [==============================] - 50s 280us/step - loss: 0.2539 - y_loss: 0.3849 - r_loss: -0.9248 - y_acc: 0.8574 - r_acc: 0.9345 - val_loss: 0.2786 - val_y_loss: 0.4163 - val_r_loss: -0.9604 - val_y_acc: 0.8526 - val_r_acc: 0.9607\n",
      "Epoch 7/10\n",
      "180000/180000 [==============================] - 50s 280us/step - loss: 0.2339 - y_loss: 0.3632 - r_loss: -0.9296 - y_acc: 0.8638 - r_acc: 0.9366 - val_loss: 0.2713 - val_y_loss: 0.4086 - val_r_loss: -0.9649 - val_y_acc: 0.8541 - val_r_acc: 0.9626\n",
      "Epoch 8/10\n",
      "180000/180000 [==============================] - 50s 281us/step - loss: 0.2160 - y_loss: 0.3437 - r_loss: -0.9339 - y_acc: 0.8712 - r_acc: 0.9407 - val_loss: 0.2772 - val_y_loss: 0.4153 - val_r_loss: -0.9657 - val_y_acc: 0.8545 - val_r_acc: 0.9652\n"
     ]
    },
    {
     "name": "stderr",
     "output_type": "stream",
     "text": [
      "  2%|▏         | 1327/60000 [00:00<00:04, 13262.87it/s]"
     ]
    },
    {
     "name": "stdout",
     "output_type": "stream",
     "text": [
      "7.47966725654306\n",
      "Training on rotation range of +- 130\n"
     ]
    },
    {
     "name": "stderr",
     "output_type": "stream",
     "text": [
      "100%|██████████| 60000/60000 [00:04<00:00, 12373.23it/s]\n",
      "100%|██████████| 10000/10000 [00:00<00:00, 12637.43it/s]\n"
     ]
    },
    {
     "name": "stdout",
     "output_type": "stream",
     "text": [
      "Train on 180000 samples, validate on 30000 samples\n",
      "Epoch 1/10\n",
      "180000/180000 [==============================] - 52s 287us/step - loss: 1.0941 - y_loss: 1.3006 - r_loss: -0.7639 - y_acc: 0.6882 - r_acc: 0.8460 - val_loss: 0.4013 - val_y_loss: 0.5481 - val_r_loss: -0.9195 - val_y_acc: 0.8047 - val_r_acc: 0.9345\n",
      "Epoch 2/10\n",
      "180000/180000 [==============================] - 49s 270us/step - loss: 0.4135 - y_loss: 0.5555 - r_loss: -0.8646 - y_acc: 0.7996 - r_acc: 0.9012 - val_loss: 0.3418 - val_y_loss: 0.4841 - val_r_loss: -0.9387 - val_y_acc: 0.8251 - val_r_acc: 0.9518\n",
      "Epoch 3/10\n",
      "180000/180000 [==============================] - 43s 237us/step - loss: 0.3488 - y_loss: 0.4859 - r_loss: -0.8858 - y_acc: 0.8209 - r_acc: 0.9159 - val_loss: 0.3147 - val_y_loss: 0.4549 - val_r_loss: -0.9475 - val_y_acc: 0.8324 - val_r_acc: 0.9523\n",
      "Epoch 4/10\n",
      "180000/180000 [==============================] - 50s 280us/step - loss: 0.3094 - y_loss: 0.4436 - r_loss: -0.8979 - y_acc: 0.8362 - r_acc: 0.9225 - val_loss: 0.2927 - val_y_loss: 0.4307 - val_r_loss: -0.9492 - val_y_acc: 0.8424 - val_r_acc: 0.9506\n",
      "Epoch 5/10\n",
      "180000/180000 [==============================] - 50s 279us/step - loss: 0.2777 - y_loss: 0.4092 - r_loss: -0.9056 - y_acc: 0.8477 - r_acc: 0.9262 - val_loss: 0.2837 - val_y_loss: 0.4213 - val_r_loss: -0.9542 - val_y_acc: 0.8479 - val_r_acc: 0.9620\n",
      "Epoch 6/10\n",
      "180000/180000 [==============================] - 51s 281us/step - loss: 0.2569 - y_loss: 0.3868 - r_loss: -0.9121 - y_acc: 0.8561 - r_acc: 0.9299 - val_loss: 0.2784 - val_y_loss: 0.4160 - val_r_loss: -0.9603 - val_y_acc: 0.8496 - val_r_acc: 0.9608\n",
      "Epoch 7/10\n",
      "180000/180000 [==============================] - 50s 280us/step - loss: 0.2327 - y_loss: 0.3608 - r_loss: -0.9194 - y_acc: 0.8652 - r_acc: 0.9338 - val_loss: 0.2825 - val_y_loss: 0.4208 - val_r_loss: -0.9627 - val_y_acc: 0.8493 - val_r_acc: 0.9606\n"
     ]
    },
    {
     "name": "stderr",
     "output_type": "stream",
     "text": [
      "  2%|▏         | 1225/60000 [00:00<00:04, 12244.76it/s]"
     ]
    },
    {
     "name": "stdout",
     "output_type": "stream",
     "text": [
      "8.208070136103965\n",
      "Training on rotation range of +- 140\n"
     ]
    },
    {
     "name": "stderr",
     "output_type": "stream",
     "text": [
      "100%|██████████| 60000/60000 [00:04<00:00, 12224.59it/s]\n",
      "100%|██████████| 10000/10000 [00:00<00:00, 13519.67it/s]\n"
     ]
    },
    {
     "name": "stdout",
     "output_type": "stream",
     "text": [
      "Train on 180000 samples, validate on 30000 samples\n",
      "Epoch 1/10\n",
      "180000/180000 [==============================] - 52s 288us/step - loss: 1.2079 - y_loss: 1.4253 - r_loss: -0.7491 - y_acc: 0.6880 - r_acc: 0.8200 - val_loss: 0.3963 - val_y_loss: 0.5414 - val_r_loss: -0.9099 - val_y_acc: 0.8070 - val_r_acc: 0.9080\n",
      "Epoch 2/10\n",
      "180000/180000 [==============================] - 51s 281us/step - loss: 0.4122 - y_loss: 0.5530 - r_loss: -0.8551 - y_acc: 0.7999 - r_acc: 0.8780 - val_loss: 0.3343 - val_y_loss: 0.4755 - val_r_loss: -0.9363 - val_y_acc: 0.8263 - val_r_acc: 0.9342\n",
      "Epoch 3/10\n",
      "180000/180000 [==============================] - 49s 272us/step - loss: 0.3447 - y_loss: 0.4806 - r_loss: -0.8785 - y_acc: 0.8244 - r_acc: 0.8932 - val_loss: 0.3085 - val_y_loss: 0.4477 - val_r_loss: -0.9435 - val_y_acc: 0.8412 - val_r_acc: 0.9326\n",
      "Epoch 4/10\n",
      "180000/180000 [==============================] - 42s 235us/step - loss: 0.3052 - y_loss: 0.4379 - r_loss: -0.8897 - y_acc: 0.8376 - r_acc: 0.9013 - val_loss: 0.2937 - val_y_loss: 0.4314 - val_r_loss: -0.9456 - val_y_acc: 0.8453 - val_r_acc: 0.9402\n",
      "Epoch 5/10\n",
      "180000/180000 [==============================] - 50s 280us/step - loss: 0.2732 - y_loss: 0.4032 - r_loss: -0.8967 - y_acc: 0.8490 - r_acc: 0.9052 - val_loss: 0.2876 - val_y_loss: 0.4251 - val_r_loss: -0.9507 - val_y_acc: 0.8483 - val_r_acc: 0.9433\n",
      "Epoch 6/10\n",
      "180000/180000 [==============================] - 50s 279us/step - loss: 0.2503 - y_loss: 0.3785 - r_loss: -0.9035 - y_acc: 0.8581 - r_acc: 0.9090 - val_loss: 0.2809 - val_y_loss: 0.4180 - val_r_loss: -0.9523 - val_y_acc: 0.8488 - val_r_acc: 0.9428\n",
      "Epoch 7/10\n",
      "180000/180000 [==============================] - 51s 281us/step - loss: 0.2310 - y_loss: 0.3579 - r_loss: -0.9103 - y_acc: 0.8656 - r_acc: 0.9126 - val_loss: 0.2757 - val_y_loss: 0.4126 - val_r_loss: -0.9562 - val_y_acc: 0.8509 - val_r_acc: 0.9442\n",
      "Epoch 8/10\n",
      "180000/180000 [==============================] - 50s 280us/step - loss: 0.2139 - y_loss: 0.3393 - r_loss: -0.9142 - y_acc: 0.8715 - r_acc: 0.9151 - val_loss: 0.2877 - val_y_loss: 0.4260 - val_r_loss: -0.9569 - val_y_acc: 0.8523 - val_r_acc: 0.9455\n"
     ]
    },
    {
     "name": "stderr",
     "output_type": "stream",
     "text": [
      "  2%|▏         | 1399/60000 [00:00<00:04, 13985.35it/s]"
     ]
    },
    {
     "name": "stdout",
     "output_type": "stream",
     "text": [
      "8.647868215767488\n",
      "Training on rotation range of +- 150\n"
     ]
    },
    {
     "name": "stderr",
     "output_type": "stream",
     "text": [
      "100%|██████████| 60000/60000 [00:04<00:00, 12074.25it/s]\n",
      "100%|██████████| 10000/10000 [00:00<00:00, 12704.88it/s]\n"
     ]
    },
    {
     "name": "stdout",
     "output_type": "stream",
     "text": [
      "Train on 180000 samples, validate on 30000 samples\n",
      "Epoch 1/10\n",
      "180000/180000 [==============================] - 52s 289us/step - loss: 0.7935 - y_loss: 0.9637 - r_loss: -0.7391 - y_acc: 0.7082 - r_acc: 0.8024 - val_loss: 0.4024 - val_y_loss: 0.5473 - val_r_loss: -0.9012 - val_y_acc: 0.8052 - val_r_acc: 0.8893\n",
      "Epoch 2/10\n",
      "180000/180000 [==============================] - 51s 281us/step - loss: 0.4146 - y_loss: 0.5542 - r_loss: -0.8414 - y_acc: 0.8002 - r_acc: 0.8536 - val_loss: 0.3563 - val_y_loss: 0.4987 - val_r_loss: -0.9247 - val_y_acc: 0.8189 - val_r_acc: 0.9023\n",
      "Epoch 3/10\n",
      "180000/180000 [==============================] - 51s 283us/step - loss: 0.3467 - y_loss: 0.4812 - r_loss: -0.8633 - y_acc: 0.8243 - r_acc: 0.8652 - val_loss: 0.3253 - val_y_loss: 0.4653 - val_r_loss: -0.9345 - val_y_acc: 0.8313 - val_r_acc: 0.9095\n",
      "Epoch 4/10\n",
      "180000/180000 [==============================] - 51s 281us/step - loss: 0.3060 - y_loss: 0.4376 - r_loss: -0.8780 - y_acc: 0.8393 - r_acc: 0.8747 - val_loss: 0.2968 - val_y_loss: 0.4343 - val_r_loss: -0.9404 - val_y_acc: 0.8431 - val_r_acc: 0.9178\n",
      "Epoch 5/10\n",
      "180000/180000 [==============================] - 49s 271us/step - loss: 0.2773 - y_loss: 0.4068 - r_loss: -0.8878 - y_acc: 0.8489 - r_acc: 0.8796 - val_loss: 0.2885 - val_y_loss: 0.4254 - val_r_loss: -0.9442 - val_y_acc: 0.8473 - val_r_acc: 0.9166\n",
      "Epoch 6/10\n",
      "180000/180000 [==============================] - 42s 234us/step - loss: 0.2576 - y_loss: 0.3853 - r_loss: -0.8919 - y_acc: 0.8567 - r_acc: 0.8841 - val_loss: 0.2876 - val_y_loss: 0.4248 - val_r_loss: -0.9469 - val_y_acc: 0.8489 - val_r_acc: 0.9236\n",
      "Epoch 7/10\n",
      "180000/180000 [==============================] - 50s 281us/step - loss: 0.2368 - y_loss: 0.3627 - r_loss: -0.8962 - y_acc: 0.8644 - r_acc: 0.8845 - val_loss: 0.2890 - val_y_loss: 0.4267 - val_r_loss: -0.9505 - val_y_acc: 0.8486 - val_r_acc: 0.9183\n"
     ]
    },
    {
     "name": "stderr",
     "output_type": "stream",
     "text": [
      "  2%|▏         | 1294/60000 [00:00<00:04, 12931.78it/s]"
     ]
    },
    {
     "name": "stdout",
     "output_type": "stream",
     "text": [
      "9.71438577845433\n",
      "Training on rotation range of +- 160\n"
     ]
    },
    {
     "name": "stderr",
     "output_type": "stream",
     "text": [
      "100%|██████████| 60000/60000 [00:04<00:00, 12268.93it/s]\n",
      "100%|██████████| 10000/10000 [00:00<00:00, 12800.18it/s]\n"
     ]
    },
    {
     "name": "stdout",
     "output_type": "stream",
     "text": [
      "Train on 180000 samples, validate on 30000 samples\n",
      "Epoch 1/10\n",
      "180000/180000 [==============================] - 52s 289us/step - loss: 2.5510 - y_loss: 2.9053 - r_loss: -0.6372 - y_acc: 0.5819 - r_acc: 0.7571 - val_loss: 0.4757 - val_y_loss: 0.6254 - val_r_loss: -0.8715 - val_y_acc: 0.7765 - val_r_acc: 0.8783\n",
      "Epoch 2/10\n",
      "180000/180000 [==============================] - 51s 281us/step - loss: 0.4959 - y_loss: 0.6400 - r_loss: -0.8008 - y_acc: 0.7689 - r_acc: 0.8381 - val_loss: 0.3940 - val_y_loss: 0.5384 - val_r_loss: -0.9065 - val_y_acc: 0.8044 - val_r_acc: 0.9091\n",
      "Epoch 3/10\n",
      "180000/180000 [==============================] - 51s 283us/step - loss: 0.4114 - y_loss: 0.5491 - r_loss: -0.8284 - y_acc: 0.7999 - r_acc: 0.8573 - val_loss: 0.3556 - val_y_loss: 0.4974 - val_r_loss: -0.9205 - val_y_acc: 0.8191 - val_r_acc: 0.9284\n",
      "Epoch 4/10\n",
      "180000/180000 [==============================] - 49s 271us/step - loss: 0.3642 - y_loss: 0.4986 - r_loss: -0.8450 - y_acc: 0.8174 - r_acc: 0.8660 - val_loss: 0.3395 - val_y_loss: 0.4799 - val_r_loss: -0.9240 - val_y_acc: 0.8265 - val_r_acc: 0.9321\n",
      "Epoch 5/10\n",
      "180000/180000 [==============================] - 42s 232us/step - loss: 0.3280 - y_loss: 0.4596 - r_loss: -0.8564 - y_acc: 0.8304 - r_acc: 0.8739 - val_loss: 0.3322 - val_y_loss: 0.4725 - val_r_loss: -0.9299 - val_y_acc: 0.8292 - val_r_acc: 0.9337\n",
      "Epoch 6/10\n",
      "180000/180000 [==============================] - 50s 281us/step - loss: 0.2973 - y_loss: 0.4266 - r_loss: -0.8663 - y_acc: 0.8415 - r_acc: 0.8788 - val_loss: 0.3187 - val_y_loss: 0.4581 - val_r_loss: -0.9361 - val_y_acc: 0.8339 - val_r_acc: 0.9335\n",
      "Epoch 7/10\n",
      "180000/180000 [==============================] - 39s 218us/step - loss: 0.2746 - y_loss: 0.4025 - r_loss: -0.8760 - y_acc: 0.8505 - r_acc: 0.8819 - val_loss: 0.3151 - val_y_loss: 0.4544 - val_r_loss: -0.9382 - val_y_acc: 0.8373 - val_r_acc: 0.9357\n",
      "Epoch 8/10\n",
      "180000/180000 [==============================] - 50s 280us/step - loss: 0.2513 - y_loss: 0.3774 - r_loss: -0.8832 - y_acc: 0.8588 - r_acc: 0.8832 - val_loss: 0.3036 - val_y_loss: 0.4420 - val_r_loss: -0.9420 - val_y_acc: 0.8424 - val_r_acc: 0.9351\n",
      "Epoch 9/10\n",
      "180000/180000 [==============================] - 50s 279us/step - loss: 0.2341 - y_loss: 0.3591 - r_loss: -0.8906 - y_acc: 0.8657 - r_acc: 0.8857 - val_loss: 0.3131 - val_y_loss: 0.4530 - val_r_loss: -0.9465 - val_y_acc: 0.8376 - val_r_acc: 0.9314\n"
     ]
    },
    {
     "name": "stderr",
     "output_type": "stream",
     "text": [
      "  5%|▍         | 2709/60000 [00:00<00:04, 13536.49it/s]"
     ]
    },
    {
     "name": "stdout",
     "output_type": "stream",
     "text": [
      "9.818888690101417\n",
      "Training on rotation range of +- 170\n"
     ]
    },
    {
     "name": "stderr",
     "output_type": "stream",
     "text": [
      "100%|██████████| 60000/60000 [00:04<00:00, 12683.31it/s]\n",
      "100%|██████████| 10000/10000 [00:00<00:00, 12946.98it/s]\n"
     ]
    },
    {
     "name": "stdout",
     "output_type": "stream",
     "text": [
      "Train on 180000 samples, validate on 30000 samples\n",
      "Epoch 1/10\n",
      "180000/180000 [==============================] - 53s 292us/step - loss: 1.2752 - y_loss: 1.4882 - r_loss: -0.6422 - y_acc: 0.6532 - r_acc: 0.7620 - val_loss: 0.4566 - val_y_loss: 0.6043 - val_r_loss: -0.8723 - val_y_acc: 0.7865 - val_r_acc: 0.8833\n",
      "Epoch 2/10\n",
      "180000/180000 [==============================] - 51s 281us/step - loss: 0.4743 - y_loss: 0.6141 - r_loss: -0.7843 - y_acc: 0.7797 - r_acc: 0.8365 - val_loss: 0.3884 - val_y_loss: 0.5321 - val_r_loss: -0.9050 - val_y_acc: 0.8078 - val_r_acc: 0.9168\n",
      "Epoch 3/10\n",
      "180000/180000 [==============================] - 51s 284us/step - loss: 0.3995 - y_loss: 0.5348 - r_loss: -0.8174 - y_acc: 0.8048 - r_acc: 0.8585 - val_loss: 0.3503 - val_y_loss: 0.4907 - val_r_loss: -0.9131 - val_y_acc: 0.8234 - val_r_acc: 0.9219\n",
      "Epoch 4/10\n",
      "180000/180000 [==============================] - 51s 281us/step - loss: 0.3534 - y_loss: 0.4854 - r_loss: -0.8345 - y_acc: 0.8219 - r_acc: 0.8697 - val_loss: 0.3387 - val_y_loss: 0.4788 - val_r_loss: -0.9222 - val_y_acc: 0.8273 - val_r_acc: 0.9225\n",
      "Epoch 5/10\n",
      "180000/180000 [==============================] - 51s 281us/step - loss: 0.3222 - y_loss: 0.4524 - r_loss: -0.8499 - y_acc: 0.8332 - r_acc: 0.8768 - val_loss: 0.3321 - val_y_loss: 0.4719 - val_r_loss: -0.9261 - val_y_acc: 0.8297 - val_r_acc: 0.9297\n",
      "Epoch 6/10\n",
      "180000/180000 [==============================] - 50s 281us/step - loss: 0.2979 - y_loss: 0.4263 - r_loss: -0.8573 - y_acc: 0.8423 - r_acc: 0.8819 - val_loss: 0.3220 - val_y_loss: 0.4612 - val_r_loss: -0.9301 - val_y_acc: 0.8330 - val_r_acc: 0.9330\n",
      "Epoch 7/10\n",
      "180000/180000 [==============================] - 39s 219us/step - loss: 0.2771 - y_loss: 0.4041 - r_loss: -0.8656 - y_acc: 0.8487 - r_acc: 0.8871 - val_loss: 0.3124 - val_y_loss: 0.4509 - val_r_loss: -0.9345 - val_y_acc: 0.8382 - val_r_acc: 0.9364\n",
      "Epoch 8/10\n",
      "180000/180000 [==============================] - 50s 281us/step - loss: 0.2595 - y_loss: 0.3853 - r_loss: -0.8725 - y_acc: 0.8567 - r_acc: 0.8920 - val_loss: 0.3198 - val_y_loss: 0.4596 - val_r_loss: -0.9386 - val_y_acc: 0.8390 - val_r_acc: 0.9405\n"
     ]
    },
    {
     "name": "stderr",
     "output_type": "stream",
     "text": [
      "  2%|▏         | 1398/60000 [00:00<00:04, 13973.72it/s]"
     ]
    },
    {
     "name": "stdout",
     "output_type": "stream",
     "text": [
      "10.687658056074925\n",
      "Training on rotation range of +- 180\n"
     ]
    },
    {
     "name": "stderr",
     "output_type": "stream",
     "text": [
      "100%|██████████| 60000/60000 [00:04<00:00, 12600.56it/s]\n",
      "100%|██████████| 10000/10000 [00:00<00:00, 12872.38it/s]\n"
     ]
    },
    {
     "name": "stdout",
     "output_type": "stream",
     "text": [
      "Train on 180000 samples, validate on 30000 samples\n",
      "Epoch 1/10\n",
      "180000/180000 [==============================] - 41s 228us/step - loss: 1.2927 - y_loss: 1.5079 - r_loss: -0.6434 - y_acc: 0.6455 - r_acc: 0.7667 - val_loss: 0.4693 - val_y_loss: 0.6182 - val_r_loss: -0.8705 - val_y_acc: 0.7840 - val_r_acc: 0.8890\n",
      "Epoch 2/10\n",
      "180000/180000 [==============================] - 50s 280us/step - loss: 0.4933 - y_loss: 0.6349 - r_loss: -0.7818 - y_acc: 0.7721 - r_acc: 0.8421 - val_loss: 0.3978 - val_y_loss: 0.5417 - val_r_loss: -0.8969 - val_y_acc: 0.8059 - val_r_acc: 0.9087\n",
      "Epoch 3/10\n",
      "180000/180000 [==============================] - 51s 281us/step - loss: 0.4159 - y_loss: 0.5520 - r_loss: -0.8096 - y_acc: 0.7995 - r_acc: 0.8563 - val_loss: 0.3721 - val_y_loss: 0.5142 - val_r_loss: -0.9064 - val_y_acc: 0.8175 - val_r_acc: 0.9149\n",
      "Epoch 4/10\n",
      "180000/180000 [==============================] - 50s 281us/step - loss: 0.3689 - y_loss: 0.5021 - r_loss: -0.8300 - y_acc: 0.8151 - r_acc: 0.8684 - val_loss: 0.3481 - val_y_loss: 0.4889 - val_r_loss: -0.9190 - val_y_acc: 0.8243 - val_r_acc: 0.9205\n",
      "Epoch 5/10\n",
      "180000/180000 [==============================] - 51s 281us/step - loss: 0.3391 - y_loss: 0.4702 - r_loss: -0.8404 - y_acc: 0.8263 - r_acc: 0.8716 - val_loss: 0.3305 - val_y_loss: 0.4697 - val_r_loss: -0.9222 - val_y_acc: 0.8320 - val_r_acc: 0.9254\n",
      "Epoch 6/10\n",
      "180000/180000 [==============================] - 50s 280us/step - loss: 0.3110 - y_loss: 0.4401 - r_loss: -0.8509 - y_acc: 0.8361 - r_acc: 0.8770 - val_loss: 0.3236 - val_y_loss: 0.4626 - val_r_loss: -0.9274 - val_y_acc: 0.8351 - val_r_acc: 0.9289\n",
      "Epoch 7/10\n",
      "180000/180000 [==============================] - 51s 281us/step - loss: 0.2935 - y_loss: 0.4213 - r_loss: -0.8567 - y_acc: 0.8429 - r_acc: 0.8816 - val_loss: 0.3201 - val_y_loss: 0.4591 - val_r_loss: -0.9310 - val_y_acc: 0.8361 - val_r_acc: 0.9300\n",
      "Epoch 8/10\n",
      "180000/180000 [==============================] - 51s 281us/step - loss: 0.2744 - y_loss: 0.4009 - r_loss: -0.8640 - y_acc: 0.8495 - r_acc: 0.8865 - val_loss: 0.3104 - val_y_loss: 0.4483 - val_r_loss: -0.9308 - val_y_acc: 0.8397 - val_r_acc: 0.9369\n",
      "Epoch 9/10\n",
      "180000/180000 [==============================] - 51s 281us/step - loss: 0.2564 - y_loss: 0.3816 - r_loss: -0.8708 - y_acc: 0.8560 - r_acc: 0.8913 - val_loss: 0.3114 - val_y_loss: 0.4502 - val_r_loss: -0.9370 - val_y_acc: 0.8394 - val_r_acc: 0.9360\n",
      "10.783739111736413\n"
     ]
    }
   ],
   "source": [
    "histories = []\n",
    "diff_degrees = []\n",
    "y_preds = []\n",
    "r_preds = []\n",
    "\n",
    "use_labels = True\n",
    "use_rotation = True\n",
    "\n",
    "rot_step = 10\n",
    "\n",
    "for rot_range in range(10, 180 + rot_step, rot_step):\n",
    "    \n",
    "    print('Training on rotation range of +-', rot_range)\n",
    "\n",
    "    X_train_rot, Y_train_rot, R_train = generate_random_rotations(X_train, Y_train, \n",
    "                                                                  augmented_rotations_per_sample, rot_range)\n",
    "    X_test_rot, Y_test_rot, R_test = generate_random_rotations(X_test, Y_test, \n",
    "                                                               augmented_rotations_per_sample, rot_range)\n",
    "\n",
    "    Y_train_onehot = keras.utils.to_categorical(Y_train_rot)\n",
    "    Y_test_onehot = keras.utils.to_categorical(Y_test_rot)\n",
    "\n",
    "    nb_classes = Y_train_onehot.shape[1]\n",
    "\n",
    "    R_train_radians, R_test_radians = (R * np.pi / 180 for R in (R_train, R_test))\n",
    "\n",
    "    R_train_sin_cos = create_rot_sin_cos(R_train_radians)\n",
    "    R_test_sin_cos = create_rot_sin_cos(R_test_radians)\n",
    "\n",
    "    alpha = K.variable(0.9)\n",
    "    beta = K.variable(0.1)\n",
    "    model = build_model(use_labels, use_rotation)\n",
    "\n",
    "    history = train_model(model, use_labels, use_rotation).history\n",
    "    histories.append(history)\n",
    "    \n",
    "    Y_pred, R_pred = model.predict(X_test_rot)\n",
    "    diff_degree = np.abs(np.arctan2(R_pred[:, 0], R_pred[:, 1]) * 180 / np.pi - R_test)\n",
    "    diff_degree = np.array([diff if diff < 180 else 360 - diff for diff in diff_degree])\n",
    "    print(np.mean(diff_degree))\n",
    "    \n",
    "    diff_degrees.append(diff_degree)\n",
    "    y_preds.append(Y_pred)\n",
    "    r_preds.append(R_pred)\n"
   ]
  },
  {
   "cell_type": "code",
   "execution_count": 18,
   "metadata": {},
   "outputs": [],
   "source": [
    "def get_data_from_histories():\n",
    "\n",
    "    for history in histories:\n",
    "\n",
    "        idx_min_loss = np.argmin(history['val_loss'])\n",
    "        data = []\n",
    "\n",
    "        for key in ('val_loss', 'val_r_loss', 'val_r_acc', 'val_y_loss', 'val_y_acc'):\n",
    "            data.append(history[key][idx_min_loss])\n",
    "            \n",
    "        yield data"
   ]
  },
  {
   "cell_type": "code",
   "execution_count": 19,
   "metadata": {},
   "outputs": [],
   "source": [
    "data = np.array(list(get_data_from_histories()))"
   ]
  },
  {
   "cell_type": "code",
   "execution_count": 20,
   "metadata": {},
   "outputs": [],
   "source": [
    "%matplotlib inline\n",
    "\n",
    "import matplotlib.pyplot as plt"
   ]
  },
  {
   "cell_type": "code",
   "execution_count": 22,
   "metadata": {},
   "outputs": [
    {
     "data": {
      "text/plain": [
       "<matplotlib.legend.Legend at 0x7f08278ca3c8>"
      ]
     },
     "execution_count": 22,
     "metadata": {},
     "output_type": "execute_result"
    },
    {
     "data": {
      "image/png": "[encoded data removed]",
      "text/plain": [
       "<matplotlib.figure.Figure at 0x7f08278e25c0>"
      ]
     },
     "metadata": {},
     "output_type": "display_data"
    }
   ],
   "source": [
    "plt.figure(figsize=(12, 10))\n",
    "plt.subplot(211)\n",
    "plt.grid()\n",
    "plt.plot(np.arange(10, 190, 10) * 2, data[:, 4], label='classification_accuracy')\n",
    "plt.xlabel('Rotation range (degrees)')\n",
    "plt.legend()\n",
    "plt.subplot(212)\n",
    "plt.grid()\n",
    "plt.plot(np.arange(10, 190, 10) * 2, data[:, 1], label='rotation_loss')\n",
    "plt.xlabel('Rotation range (degrees)')\n",
    "plt.legend()"
   ]
  },
  {
   "cell_type": "code",
   "execution_count": 23,
   "metadata": {},
   "outputs": [
    {
     "data": {
      "text/plain": [
       "array([ 1.3832554 ,  1.77593382,  1.77201876,  1.92890577,  2.56119157,\n",
       "        3.64702688,  4.17862631,  5.16323753,  5.82470787,  6.41361201,\n",
       "        6.25119255,  7.47966726,  8.20807014,  8.64786822,  9.71438578,\n",
       "        9.81888869, 10.68765806, 10.78373911])"
      ]
     },
     "execution_count": 23,
     "metadata": {},
     "output_type": "execute_result"
    }
   ],
   "source": [
    "np.mean(diff_degrees, axis=1)"
   ]
  },
  {
   "cell_type": "code",
   "execution_count": null,
   "metadata": {},
   "outputs": [],
   "source": [
    "Y_pred, R_pred = model.predict(X_test_rot)"
   ]
  },
  {
   "cell_type": "code",
   "execution_count": null,
   "metadata": {},
   "outputs": [],
   "source": [
    "diff_degree = np.abs(np.arctan2(R_pred[:, 0], R_pred[:, 1]) * 180 / np.pi - R_test)\n",
    "diff_degree = np.array([diff if diff < 180 else 360 - diff for diff in diff_degree])\n",
    "print(np.mean(diff_degree))"
   ]
  },
  {
   "cell_type": "code",
   "execution_count": null,
   "metadata": {},
   "outputs": [],
   "source": [
    "Y_pred[:20]"
   ]
  },
  {
   "cell_type": "code",
   "execution_count": null,
   "metadata": {},
   "outputs": [],
   "source": [
    "plt.figure(figsize=(12, 10))\n",
    "plt.title('Histogram of absolute differences between the true and the predicted orientation (using full circle rotations)')\n",
    "plt.hist(diff_degree, bins=35)\n",
    "plt.grid()\n",
    "plt.xlabel('Difference between true and predicted orientation')\n",
    "plt.ylabel('Number of samples')\n",
    "plt.show()"
   ]
  },
  {
   "cell_type": "code",
   "execution_count": null,
   "metadata": {},
   "outputs": [],
   "source": [
    "xv = np.arange(0, 101)\n",
    "plt.figure(figsize=(12, 10))\n",
    "plt.grid()\n",
    "plt.plot([np.percentile(diff_degree, x) for x in xv], xv)\n",
    "plt.title('Percentile of test samples whose absolute difference between true and predicted orientation is below x \\n(training using full circle)')\n",
    "plt.xlabel('Difference in degrees between the true and the predicted orientation')\n",
    "plt.ylabel('Percentage of predicted orientations below the corresponding difference')\n",
    "plt.show()"
   ]
  },
  {
   "cell_type": "code",
   "execution_count": null,
   "metadata": {},
   "outputs": [],
   "source": [
    "Y_pred = np.argmax(Y_pred, axis=1)"
   ]
  },
  {
   "cell_type": "code",
   "execution_count": null,
   "metadata": {},
   "outputs": [],
   "source": [
    "confusion_matrix = np.zeros((10, 10), dtype='int')\n",
    "\n",
    "for y_true, y_pred in zip(Y_test_rot, Y_pred):\n",
    "    confusion_matrix[y_true, y_pred] += 1\n",
    "\n",
    "plt.figure(figsize=(12, 10))\n",
    "plt.title('Confusion Matrix (Fashion MNIST)')\n",
    "plt.imshow(confusion_matrix)\n",
    "plt.colorbar()"
   ]
  }
 ],
 "metadata": {
  "kernelspec": {
   "display_name": "Python 3",
   "language": "python",
   "name": "python3"
  },
  "language_info": {
   "codemirror_mode": {
    "name": "ipython",
    "version": 3
   },
   "file_extension": ".py",
   "mimetype": "text/x-python",
   "name": "python",
   "nbconvert_exporter": "python",
   "pygments_lexer": "ipython3",
   "version": "3.5.2"
  }
 },
 "nbformat": 4,
 "nbformat_minor": 2
}
