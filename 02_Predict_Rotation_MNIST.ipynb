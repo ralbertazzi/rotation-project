{
 "cells": [
  {
   "cell_type": "code",
   "execution_count": 1,
   "metadata": {},
   "outputs": [
    {
     "name": "stderr",
     "output_type": "stream",
     "text": [
      "/usr/local/lib/python3.5/dist-packages/h5py/__init__.py:36: FutureWarning: Conversion of the second argument of issubdtype from `float` to `np.floating` is deprecated. In future, it will be treated as `np.float64 == np.dtype(float).type`.\n",
      "  from ._conv import register_converters as _register_converters\n",
      "Using TensorFlow backend.\n"
     ]
    }
   ],
   "source": [
    "import numpy as np\n",
    "import cv2\n",
    "import matplotlib.pyplot as plt\n",
    "import skimage\n",
    "from tqdm import tqdm\n",
    "import keras\n",
    "from keras.datasets import mnist, cifar10, fashion_mnist"
   ]
  },
  {
   "cell_type": "code",
   "execution_count": 2,
   "metadata": {},
   "outputs": [],
   "source": [
    "(X_train, Y_train), (X_test, Y_test) = fashion_mnist.load_data()"
   ]
  },
  {
   "cell_type": "code",
   "execution_count": 3,
   "metadata": {},
   "outputs": [
    {
     "data": {
      "text/plain": [
       "(60000, 28, 28)"
      ]
     },
     "execution_count": 3,
     "metadata": {},
     "output_type": "execute_result"
    }
   ],
   "source": [
    "X_train.shape"
   ]
  },
  {
   "cell_type": "code",
   "execution_count": 4,
   "metadata": {},
   "outputs": [],
   "source": [
    "def cv2_rotate(image, degrees):\n",
    "    if len(image.shape) == 3:\n",
    "        rows, cols, _ = image.shape\n",
    "    else:\n",
    "        rows, cols = image.shape\n",
    "    M = cv2.getRotationMatrix2D((cols/2,rows/2), degrees, 1)\n",
    "    return cv2.warpAffine(image, M, (cols,rows))"
   ]
  },
  {
   "cell_type": "code",
   "execution_count": 5,
   "metadata": {},
   "outputs": [],
   "source": [
    "def pad(image, padding=2):\n",
    "    \n",
    "    h, w = image.shape\n",
    "    image_padded = np.zeros((h + 2*padding, w + 2*padding))\n",
    "    image_padded[padding:-padding, padding:-padding] = image\n",
    "    return image_padded"
   ]
  },
  {
   "cell_type": "code",
   "execution_count": 6,
   "metadata": {},
   "outputs": [
    {
     "data": {
      "text/plain": [
       "<matplotlib.image.AxesImage at 0x7fbf0e8f3128>"
      ]
     },
     "execution_count": 6,
     "metadata": {},
     "output_type": "execute_result"
    },
    {
     "data": {
      "image/png": "[encoded data removed]",
      "text/plain": [
       "<matplotlib.figure.Figure at 0x7fbf9c1baba8>"
      ]
     },
     "metadata": {},
     "output_type": "display_data"
    }
   ],
   "source": [
    "plt.imshow(cv2_rotate(pad(X_train[100]), 45))"
   ]
  },
  {
   "cell_type": "code",
   "execution_count": 7,
   "metadata": {},
   "outputs": [],
   "source": [
    "augmented_rotations_per_sample = 3"
   ]
  },
  {
   "cell_type": "code",
   "execution_count": 8,
   "metadata": {},
   "outputs": [],
   "source": [
    "def generate_random_rotations(X, Y, n_rotations_per_sample, rot_range=10):\n",
    "    \n",
    "    new_X = []\n",
    "    new_Y = []\n",
    "    rotations = []\n",
    "    \n",
    "    h, w = X.shape[1:]\n",
    "    bigger = 2\n",
    "    \n",
    "    for image, label in tqdm(zip(X, Y), total=len(X)):\n",
    "        \n",
    "        image = pad(image)\n",
    "        \n",
    "        for _ in range(n_rotations_per_sample):\n",
    "            \n",
    "            rotation = np.random.randint(-rot_range, rot_range)\n",
    "            rotated_image = cv2_rotate(image, rotation)\n",
    "            new_X.append(rotated_image)\n",
    "            new_Y.append(label)\n",
    "            rotations.append(rotation)\n",
    "    \n",
    "    new_X = np.array(new_X)\n",
    "    if len(new_X.shape) == 3:\n",
    "        new_X = np.expand_dims(new_X, 3)\n",
    "        \n",
    "    return new_X, np.array(new_Y), np.array(rotations)"
   ]
  },
  {
   "cell_type": "code",
   "execution_count": 9,
   "metadata": {},
   "outputs": [
    {
     "name": "stderr",
     "output_type": "stream",
     "text": [
      "100%|██████████| 60000/60000 [00:04<00:00, 12166.17it/s]\n",
      "100%|██████████| 10000/10000 [00:00<00:00, 14052.22it/s]\n"
     ]
    }
   ],
   "source": [
    "X_train_rot, Y_train_rot, R_train = generate_random_rotations(X_train, Y_train, augmented_rotations_per_sample)\n",
    "X_test_rot, Y_test_rot, R_test = generate_random_rotations(X_test, Y_test, augmented_rotations_per_sample)\n",
    "\n",
    "Y_train_onehot = keras.utils.to_categorical(Y_train_rot)\n",
    "Y_test_onehot = keras.utils.to_categorical(Y_test_rot)"
   ]
  },
  {
   "cell_type": "code",
   "execution_count": 10,
   "metadata": {},
   "outputs": [],
   "source": [
    "nb_classes = Y_train_onehot.shape[1]"
   ]
  },
  {
   "cell_type": "code",
   "execution_count": 11,
   "metadata": {},
   "outputs": [],
   "source": [
    "R_train_radians, R_test_radians = (R * np.pi / 180 for R in (R_train, R_test))"
   ]
  },
  {
   "cell_type": "code",
   "execution_count": 12,
   "metadata": {},
   "outputs": [],
   "source": [
    "def create_rot_sin_cos(R_radians):\n",
    "    rot_sin_cos = np.empty((len(R_radians), 2))\n",
    "    rot_sin_cos[:, 0] = np.sin(R_radians)\n",
    "    rot_sin_cos[:, 1] = np.cos(R_radians)\n",
    "    return rot_sin_cos"
   ]
  },
  {
   "cell_type": "code",
   "execution_count": 13,
   "metadata": {},
   "outputs": [],
   "source": [
    "R_train_sin_cos = create_rot_sin_cos(R_train_radians)\n",
    "R_test_sin_cos = create_rot_sin_cos(R_test_radians)"
   ]
  },
  {
   "cell_type": "code",
   "execution_count": 30,
   "metadata": {},
   "outputs": [],
   "source": [
    "from keras import layers\n",
    "from keras import models\n",
    "from keras import losses\n",
    "import keras.backend as K\n",
    "\n",
    "def cosine_proximity_unitary(y_true, y_pred):\n",
    "    \n",
    "    dot_product_loss = losses.cosine_proximity(y_true, y_pred)\n",
    "    unit_circle_loss = K.square(1 - (K.square(y_pred[:, 0]) + K.square(y_pred[:, 1])))\n",
    "    return dot_product_loss + 0.05 * unit_circle_loss\n",
    "\n",
    "\n",
    "def build_model(use_labels=True, use_rotation=True):\n",
    "\n",
    "    input_layer = layers.Input(X_train_rot.shape[1:], name='image_input')\n",
    "    x = input_layer\n",
    "\n",
    "    x = layers.Conv2D(32, (3,3), padding='same', activation='relu')(x)\n",
    "    x = layers.Conv2D(32, (3,3), padding='same', activation='relu')(x)\n",
    "    x = layers.MaxPool2D()(x)\n",
    "    x = layers.Dropout(0.25)(x)\n",
    "    flatten = layers.Flatten()(x)\n",
    "    \n",
    "    if use_labels:\n",
    "        y = layers.Dense(128, activation='relu')(flatten)\n",
    "        y = layers.Dropout(0.25)(y)\n",
    "        y = layers.Dense(nb_classes, activation='softmax', name='y')(y)\n",
    "\n",
    "    if use_rotation:\n",
    "        r = layers.Dense(32, activation='relu')(flatten)\n",
    "        r = layers.Dropout(0.5)(r)\n",
    "        r = layers.Dense(2, name='r')(r)\n",
    "        #r = layers.Lambda(lambda l: l / K.sqrt(K.sum(l**2)), name='r')(r)\n",
    "\n",
    "    if use_labels and use_rotation:\n",
    "        model = models.Model(input_layer, [y, r])        \n",
    "        model.compile(optimizer='adam', loss=['categorical_crossentropy', 'cosine_proximity'], \n",
    "                      metrics=['accuracy'], loss_weights=[alpha, beta])\n",
    "    elif use_labels:\n",
    "        model = models.Model(input_layer, y)\n",
    "        model.compile(optimizer='adam', loss='categorical_crossentropy', metrics=['accuracy'])\n",
    "    elif use_rotation:\n",
    "        model = models.Model(input_layer, r)\n",
    "        model.compile(optimizer='adam', loss='cosine_proximity', metrics=['accuracy'])\n",
    "    else:\n",
    "        raise ValueError('Specify at least 1 output for the network!')\n",
    "        \n",
    "    model.summary()\n",
    "    \n",
    "    return model"
   ]
  },
  {
   "cell_type": "code",
   "execution_count": 31,
   "metadata": {},
   "outputs": [],
   "source": [
    "from keras import callbacks\n",
    "\n",
    "class LossWeightsCallback(callbacks.Callback):\n",
    "    def __init__(self, alpha, beta):\n",
    "        self.alpha = alpha\n",
    "        self.beta = beta\n",
    "        \n",
    "    # customize your behavior\n",
    "    def on_epoch_end(self, epoch, logs={}):\n",
    "        if epoch == 1:\n",
    "            self.alpha = self.alpha - 0.4 # set to 0.5\n",
    "            self.beta = self.beta + 0.4 # set to 0.5"
   ]
  },
  {
   "cell_type": "code",
   "execution_count": 32,
   "metadata": {},
   "outputs": [],
   "source": [
    "def train_model(model, use_labels=True, use_rotation=True):\n",
    "    \n",
    "    if use_labels and use_rotation:\n",
    "        y_train = [Y_train_onehot, R_train_sin_cos]\n",
    "        y_test = [Y_test_onehot, R_test_sin_cos]\n",
    "    elif use_labels:\n",
    "        y_train = Y_train_onehot\n",
    "        y_test = Y_test_onehot\n",
    "    elif use_rotation:\n",
    "        y_train = R_train_sin_cos\n",
    "        y_test = R_test_sin_cos\n",
    "    else:\n",
    "        raise ValueError('Specify output for training')\n",
    "        \n",
    "    \n",
    "    early_stopper = callbacks.EarlyStopping(patience=1)\n",
    "    \n",
    "    if use_labels and use_rotation:\n",
    "        lw_callback = LossWeightsCallback(alpha, beta)\n",
    "        _callbacks = [early_stopper, lw_callback]\n",
    "    else:\n",
    "        _callbacks = [early_stopper]\n",
    "    \n",
    "    return model.fit(X_train_rot, y_train, \n",
    "                     validation_data=(X_test_rot, y_test), \n",
    "                     callbacks=_callbacks,\n",
    "                     batch_size=256,\n",
    "                     epochs=10)"
   ]
  },
  {
   "cell_type": "code",
   "execution_count": 35,
   "metadata": {},
   "outputs": [
    {
     "name": "stderr",
     "output_type": "stream",
     "text": [
      "  2%|▏         | 1415/60000 [00:00<00:04, 14144.42it/s]"
     ]
    },
    {
     "name": "stdout",
     "output_type": "stream",
     "text": [
      "Training on rotation range of +- 180\n"
     ]
    },
    {
     "name": "stderr",
     "output_type": "stream",
     "text": [
      "100%|██████████| 60000/60000 [00:04<00:00, 13720.50it/s]\n",
      "100%|██████████| 10000/10000 [00:00<00:00, 14126.79it/s]\n"
     ]
    },
    {
     "name": "stdout",
     "output_type": "stream",
     "text": [
      "__________________________________________________________________________________________________\n",
      "Layer (type)                    Output Shape         Param #     Connected to                     \n",
      "==================================================================================================\n",
      "image_input (InputLayer)        (None, 32, 32, 1)    0                                            \n",
      "__________________________________________________________________________________________________\n",
      "conv2d_11 (Conv2D)              (None, 32, 32, 32)   320         image_input[0][0]                \n",
      "__________________________________________________________________________________________________\n",
      "conv2d_12 (Conv2D)              (None, 32, 32, 32)   9248        conv2d_11[0][0]                  \n",
      "__________________________________________________________________________________________________\n",
      "max_pooling2d_6 (MaxPooling2D)  (None, 16, 16, 32)   0           conv2d_12[0][0]                  \n",
      "__________________________________________________________________________________________________\n",
      "dropout_16 (Dropout)            (None, 16, 16, 32)   0           max_pooling2d_6[0][0]            \n",
      "__________________________________________________________________________________________________\n",
      "flatten_6 (Flatten)             (None, 8192)         0           dropout_16[0][0]                 \n",
      "__________________________________________________________________________________________________\n",
      "dense_16 (Dense)                (None, 128)          1048704     flatten_6[0][0]                  \n",
      "__________________________________________________________________________________________________\n",
      "dense_17 (Dense)                (None, 32)           262176      flatten_6[0][0]                  \n",
      "__________________________________________________________________________________________________\n",
      "dropout_17 (Dropout)            (None, 128)          0           dense_16[0][0]                   \n",
      "__________________________________________________________________________________________________\n",
      "dropout_18 (Dropout)            (None, 32)           0           dense_17[0][0]                   \n",
      "__________________________________________________________________________________________________\n",
      "y (Dense)                       (None, 10)           1290        dropout_17[0][0]                 \n",
      "__________________________________________________________________________________________________\n",
      "r (Dense)                       (None, 2)            66          dropout_18[0][0]                 \n",
      "==================================================================================================\n",
      "Total params: 1,321,804\n",
      "Trainable params: 1,321,804\n",
      "Non-trainable params: 0\n",
      "__________________________________________________________________________________________________\n",
      "Train on 180000 samples, validate on 30000 samples\n",
      "Epoch 1/10\n",
      "180000/180000 [==============================] - 27s 150us/step - loss: 1.6691 - y_loss: 1.9231 - r_loss: -0.6169 - y_acc: 0.6261 - r_acc: 0.7570 - val_loss: 0.4671 - val_y_loss: 0.6143 - val_r_loss: -0.8577 - val_y_acc: 0.7822 - val_r_acc: 0.8877\n",
      "Epoch 2/10\n",
      "180000/180000 [==============================] - 26s 144us/step - loss: 0.4848 - y_loss: 0.6239 - r_loss: -0.7674 - y_acc: 0.7747 - r_acc: 0.8349 - val_loss: 0.3927 - val_y_loss: 0.5351 - val_r_loss: -0.8892 - val_y_acc: 0.8065 - val_r_acc: 0.9095\n",
      "Epoch 3/10\n",
      "180000/180000 [==============================] - 26s 145us/step - loss: 0.4063 - y_loss: 0.5407 - r_loss: -0.8029 - y_acc: 0.8027 - r_acc: 0.8524 - val_loss: 0.3578 - val_y_loss: 0.4984 - val_r_loss: -0.9073 - val_y_acc: 0.8227 - val_r_acc: 0.9206\n",
      "Epoch 4/10\n",
      "180000/180000 [==============================] - 26s 144us/step - loss: 0.3657 - y_loss: 0.4973 - r_loss: -0.8195 - y_acc: 0.8171 - r_acc: 0.8636 - val_loss: 0.3411 - val_y_loss: 0.4808 - val_r_loss: -0.9162 - val_y_acc: 0.8270 - val_r_acc: 0.9299\n",
      "Epoch 5/10\n",
      "180000/180000 [==============================] - 26s 144us/step - loss: 0.3319 - y_loss: 0.4614 - r_loss: -0.8327 - y_acc: 0.8296 - r_acc: 0.8730 - val_loss: 0.3327 - val_y_loss: 0.4723 - val_r_loss: -0.9236 - val_y_acc: 0.8324 - val_r_acc: 0.9285\n",
      "Epoch 6/10\n",
      "180000/180000 [==============================] - 26s 144us/step - loss: 0.3023 - y_loss: 0.4299 - r_loss: -0.8465 - y_acc: 0.8404 - r_acc: 0.8796 - val_loss: 0.3242 - val_y_loss: 0.4632 - val_r_loss: -0.9268 - val_y_acc: 0.8338 - val_r_acc: 0.9343\n",
      "Epoch 7/10\n",
      "180000/180000 [==============================] - 26s 144us/step - loss: 0.2803 - y_loss: 0.4065 - r_loss: -0.8560 - y_acc: 0.8485 - r_acc: 0.8841 - val_loss: 0.3090 - val_y_loss: 0.4472 - val_r_loss: -0.9345 - val_y_acc: 0.8407 - val_r_acc: 0.9381\n",
      "Epoch 8/10\n",
      "180000/180000 [==============================] - 26s 145us/step - loss: 0.2591 - y_loss: 0.3837 - r_loss: -0.8625 - y_acc: 0.8565 - r_acc: 0.8882 - val_loss: 0.3117 - val_y_loss: 0.4503 - val_r_loss: -0.9362 - val_y_acc: 0.8407 - val_r_acc: 0.9399\n"
     ]
    },
    {
     "name": "stderr",
     "output_type": "stream",
     "text": [
      "  2%|▏         | 1474/60000 [00:00<00:03, 14729.06it/s]"
     ]
    },
    {
     "name": "stdout",
     "output_type": "stream",
     "text": [
      "10.947949556905497\n"
     ]
    },
    {
     "name": "stderr",
     "output_type": "stream",
     "text": [
      "100%|██████████| 60000/60000 [00:04<00:00, 13863.69it/s]\n",
      "100%|██████████| 10000/10000 [00:00<00:00, 14037.44it/s]\n"
     ]
    },
    {
     "name": "stdout",
     "output_type": "stream",
     "text": [
      "__________________________________________________________________________________________________\n",
      "Layer (type)                    Output Shape         Param #     Connected to                     \n",
      "==================================================================================================\n",
      "image_input (InputLayer)        (None, 32, 32, 1)    0                                            \n",
      "__________________________________________________________________________________________________\n",
      "conv2d_13 (Conv2D)              (None, 32, 32, 32)   320         image_input[0][0]                \n",
      "__________________________________________________________________________________________________\n",
      "conv2d_14 (Conv2D)              (None, 32, 32, 32)   9248        conv2d_13[0][0]                  \n",
      "__________________________________________________________________________________________________\n",
      "max_pooling2d_7 (MaxPooling2D)  (None, 16, 16, 32)   0           conv2d_14[0][0]                  \n",
      "__________________________________________________________________________________________________\n",
      "dropout_19 (Dropout)            (None, 16, 16, 32)   0           max_pooling2d_7[0][0]            \n",
      "__________________________________________________________________________________________________\n",
      "flatten_7 (Flatten)             (None, 8192)         0           dropout_19[0][0]                 \n",
      "__________________________________________________________________________________________________\n",
      "dense_18 (Dense)                (None, 128)          1048704     flatten_7[0][0]                  \n",
      "__________________________________________________________________________________________________\n",
      "dense_19 (Dense)                (None, 32)           262176      flatten_7[0][0]                  \n",
      "__________________________________________________________________________________________________\n",
      "dropout_20 (Dropout)            (None, 128)          0           dense_18[0][0]                   \n",
      "__________________________________________________________________________________________________\n",
      "dropout_21 (Dropout)            (None, 32)           0           dense_19[0][0]                   \n",
      "__________________________________________________________________________________________________\n",
      "y (Dense)                       (None, 10)           1290        dropout_20[0][0]                 \n",
      "__________________________________________________________________________________________________\n",
      "r (Dense)                       (None, 2)            66          dropout_21[0][0]                 \n",
      "==================================================================================================\n",
      "Total params: 1,321,804\n",
      "Trainable params: 1,321,804\n",
      "Non-trainable params: 0\n",
      "__________________________________________________________________________________________________\n",
      "Train on 180000 samples, validate on 30000 samples\n",
      "Epoch 1/10\n",
      "180000/180000 [==============================] - 27s 149us/step - loss: 1.0654 - y_loss: 1.2560 - r_loss: -0.6498 - y_acc: 0.6568 - r_acc: 0.7726 - val_loss: 0.4672 - val_y_loss: 0.6138 - val_r_loss: -0.8522 - val_y_acc: 0.7821 - val_r_acc: 0.8901\n",
      "Epoch 2/10\n",
      "180000/180000 [==============================] - 26s 145us/step - loss: 0.4833 - y_loss: 0.6229 - r_loss: -0.7732 - y_acc: 0.7741 - r_acc: 0.8397 - val_loss: 0.4011 - val_y_loss: 0.5431 - val_r_loss: -0.8774 - val_y_acc: 0.8023 - val_r_acc: 0.9127\n",
      "Epoch 3/10\n",
      "180000/180000 [==============================] - 26s 146us/step - loss: 0.4088 - y_loss: 0.5431 - r_loss: -0.8006 - y_acc: 0.8024 - r_acc: 0.8542 - val_loss: 0.3627 - val_y_loss: 0.5031 - val_r_loss: -0.9012 - val_y_acc: 0.8169 - val_r_acc: 0.9199\n",
      "Epoch 4/10\n",
      "180000/180000 [==============================] - 26s 145us/step - loss: 0.3654 - y_loss: 0.4970 - r_loss: -0.8189 - y_acc: 0.8179 - r_acc: 0.8625 - val_loss: 0.3450 - val_y_loss: 0.4841 - val_r_loss: -0.9072 - val_y_acc: 0.8254 - val_r_acc: 0.9246\n",
      "Epoch 5/10\n",
      "180000/180000 [==============================] - 26s 145us/step - loss: 0.3306 - y_loss: 0.4602 - r_loss: -0.8356 - y_acc: 0.8293 - r_acc: 0.8742 - val_loss: 0.3314 - val_y_loss: 0.4703 - val_r_loss: -0.9186 - val_y_acc: 0.8299 - val_r_acc: 0.9335\n",
      "Epoch 6/10\n",
      "180000/180000 [==============================] - 26s 145us/step - loss: 0.3037 - y_loss: 0.4316 - r_loss: -0.8468 - y_acc: 0.8391 - r_acc: 0.8802 - val_loss: 0.3289 - val_y_loss: 0.4680 - val_r_loss: -0.9238 - val_y_acc: 0.8323 - val_r_acc: 0.9372\n",
      "Epoch 7/10\n",
      "180000/180000 [==============================] - 26s 145us/step - loss: 0.2826 - y_loss: 0.4091 - r_loss: -0.8564 - y_acc: 0.8469 - r_acc: 0.8849 - val_loss: 0.3293 - val_y_loss: 0.4693 - val_r_loss: -0.9303 - val_y_acc: 0.8357 - val_r_acc: 0.9389\n"
     ]
    },
    {
     "name": "stderr",
     "output_type": "stream",
     "text": [
      "  2%|▏         | 1456/60000 [00:00<00:04, 14548.78it/s]"
     ]
    },
    {
     "name": "stdout",
     "output_type": "stream",
     "text": [
      "11.958580089699197\n"
     ]
    },
    {
     "name": "stderr",
     "output_type": "stream",
     "text": [
      "100%|██████████| 60000/60000 [00:04<00:00, 13828.83it/s]\n",
      "100%|██████████| 10000/10000 [00:00<00:00, 13934.62it/s]\n"
     ]
    },
    {
     "name": "stdout",
     "output_type": "stream",
     "text": [
      "__________________________________________________________________________________________________\n",
      "Layer (type)                    Output Shape         Param #     Connected to                     \n",
      "==================================================================================================\n",
      "image_input (InputLayer)        (None, 32, 32, 1)    0                                            \n",
      "__________________________________________________________________________________________________\n",
      "conv2d_15 (Conv2D)              (None, 32, 32, 32)   320         image_input[0][0]                \n",
      "__________________________________________________________________________________________________\n",
      "conv2d_16 (Conv2D)              (None, 32, 32, 32)   9248        conv2d_15[0][0]                  \n",
      "__________________________________________________________________________________________________\n",
      "max_pooling2d_8 (MaxPooling2D)  (None, 16, 16, 32)   0           conv2d_16[0][0]                  \n",
      "__________________________________________________________________________________________________\n",
      "dropout_22 (Dropout)            (None, 16, 16, 32)   0           max_pooling2d_8[0][0]            \n",
      "__________________________________________________________________________________________________\n",
      "flatten_8 (Flatten)             (None, 8192)         0           dropout_22[0][0]                 \n",
      "__________________________________________________________________________________________________\n",
      "dense_20 (Dense)                (None, 128)          1048704     flatten_8[0][0]                  \n",
      "__________________________________________________________________________________________________\n",
      "dense_21 (Dense)                (None, 32)           262176      flatten_8[0][0]                  \n",
      "__________________________________________________________________________________________________\n",
      "dropout_23 (Dropout)            (None, 128)          0           dense_20[0][0]                   \n",
      "__________________________________________________________________________________________________\n",
      "dropout_24 (Dropout)            (None, 32)           0           dense_21[0][0]                   \n",
      "__________________________________________________________________________________________________\n",
      "y (Dense)                       (None, 10)           1290        dropout_23[0][0]                 \n",
      "__________________________________________________________________________________________________\n",
      "r (Dense)                       (None, 2)            66          dropout_24[0][0]                 \n",
      "==================================================================================================\n",
      "Total params: 1,321,804\n",
      "Trainable params: 1,321,804\n",
      "Non-trainable params: 0\n",
      "__________________________________________________________________________________________________\n",
      "Train on 180000 samples, validate on 30000 samples\n",
      "Epoch 1/10\n",
      "180000/180000 [==============================] - 27s 151us/step - loss: 1.4254 - y_loss: 1.6534 - r_loss: -0.6271 - y_acc: 0.6424 - r_acc: 0.7704 - val_loss: 0.4591 - val_y_loss: 0.6059 - val_r_loss: -0.8627 - val_y_acc: 0.7817 - val_r_acc: 0.8914\n",
      "Epoch 2/10\n",
      "180000/180000 [==============================] - 26s 145us/step - loss: 0.4821 - y_loss: 0.6215 - r_loss: -0.7726 - y_acc: 0.7761 - r_acc: 0.8431 - val_loss: 0.3853 - val_y_loss: 0.5272 - val_r_loss: -0.8913 - val_y_acc: 0.8097 - val_r_acc: 0.9152\n",
      "Epoch 3/10\n",
      "180000/180000 [==============================] - 26s 147us/step - loss: 0.4083 - y_loss: 0.5428 - r_loss: -0.8021 - y_acc: 0.8031 - r_acc: 0.8582 - val_loss: 0.3523 - val_y_loss: 0.4923 - val_r_loss: -0.9077 - val_y_acc: 0.8202 - val_r_acc: 0.9249\n",
      "Epoch 4/10\n",
      "180000/180000 [==============================] - 26s 146us/step - loss: 0.3653 - y_loss: 0.4973 - r_loss: -0.8228 - y_acc: 0.8180 - r_acc: 0.8683 - val_loss: 0.3390 - val_y_loss: 0.4782 - val_r_loss: -0.9129 - val_y_acc: 0.8284 - val_r_acc: 0.9282\n",
      "Epoch 5/10\n",
      "180000/180000 [==============================] - 26s 145us/step - loss: 0.3334 - y_loss: 0.4630 - r_loss: -0.8334 - y_acc: 0.8296 - r_acc: 0.8732 - val_loss: 0.3222 - val_y_loss: 0.4605 - val_r_loss: -0.9231 - val_y_acc: 0.8325 - val_r_acc: 0.9335\n",
      "Epoch 6/10\n",
      "180000/180000 [==============================] - 26s 145us/step - loss: 0.3029 - y_loss: 0.4306 - r_loss: -0.8457 - y_acc: 0.8412 - r_acc: 0.8802 - val_loss: 0.3114 - val_y_loss: 0.4492 - val_r_loss: -0.9287 - val_y_acc: 0.8410 - val_r_acc: 0.9378\n",
      "Epoch 7/10\n",
      "180000/180000 [==============================] - 26s 147us/step - loss: 0.2777 - y_loss: 0.4035 - r_loss: -0.8548 - y_acc: 0.8506 - r_acc: 0.8843 - val_loss: 0.3108 - val_y_loss: 0.4488 - val_r_loss: -0.9314 - val_y_acc: 0.8417 - val_r_acc: 0.9366\n",
      "Epoch 8/10\n",
      "180000/180000 [==============================] - 26s 147us/step - loss: 0.2606 - y_loss: 0.3853 - r_loss: -0.8613 - y_acc: 0.8567 - r_acc: 0.8880 - val_loss: 0.3054 - val_y_loss: 0.4432 - val_r_loss: -0.9357 - val_y_acc: 0.8435 - val_r_acc: 0.9429\n",
      "Epoch 9/10\n",
      "180000/180000 [==============================] - 26s 147us/step - loss: 0.2391 - y_loss: 0.3621 - r_loss: -0.8679 - y_acc: 0.8651 - r_acc: 0.8938 - val_loss: 0.3078 - val_y_loss: 0.4464 - val_r_loss: -0.9393 - val_y_acc: 0.8454 - val_r_acc: 0.9468\n"
     ]
    },
    {
     "name": "stderr",
     "output_type": "stream",
     "text": [
      "  2%|▏         | 1174/60000 [00:00<00:05, 11730.39it/s]"
     ]
    },
    {
     "name": "stdout",
     "output_type": "stream",
     "text": [
      "10.500555947852522\n"
     ]
    },
    {
     "name": "stderr",
     "output_type": "stream",
     "text": [
      "100%|██████████| 60000/60000 [00:04<00:00, 13189.87it/s]\n",
      "100%|██████████| 10000/10000 [00:00<00:00, 13889.15it/s]\n"
     ]
    },
    {
     "name": "stdout",
     "output_type": "stream",
     "text": [
      "__________________________________________________________________________________________________\n",
      "Layer (type)                    Output Shape         Param #     Connected to                     \n",
      "==================================================================================================\n",
      "image_input (InputLayer)        (None, 32, 32, 1)    0                                            \n",
      "__________________________________________________________________________________________________\n",
      "conv2d_17 (Conv2D)              (None, 32, 32, 32)   320         image_input[0][0]                \n",
      "__________________________________________________________________________________________________\n",
      "conv2d_18 (Conv2D)              (None, 32, 32, 32)   9248        conv2d_17[0][0]                  \n",
      "__________________________________________________________________________________________________\n",
      "max_pooling2d_9 (MaxPooling2D)  (None, 16, 16, 32)   0           conv2d_18[0][0]                  \n",
      "__________________________________________________________________________________________________\n",
      "dropout_25 (Dropout)            (None, 16, 16, 32)   0           max_pooling2d_9[0][0]            \n",
      "__________________________________________________________________________________________________\n",
      "flatten_9 (Flatten)             (None, 8192)         0           dropout_25[0][0]                 \n",
      "__________________________________________________________________________________________________\n",
      "dense_22 (Dense)                (None, 128)          1048704     flatten_9[0][0]                  \n",
      "__________________________________________________________________________________________________\n",
      "dense_23 (Dense)                (None, 32)           262176      flatten_9[0][0]                  \n",
      "__________________________________________________________________________________________________\n",
      "dropout_26 (Dropout)            (None, 128)          0           dense_22[0][0]                   \n",
      "__________________________________________________________________________________________________\n",
      "dropout_27 (Dropout)            (None, 32)           0           dense_23[0][0]                   \n",
      "__________________________________________________________________________________________________\n",
      "y (Dense)                       (None, 10)           1290        dropout_26[0][0]                 \n",
      "__________________________________________________________________________________________________\n",
      "r (Dense)                       (None, 2)            66          dropout_27[0][0]                 \n",
      "==================================================================================================\n",
      "Total params: 1,321,804\n",
      "Trainable params: 1,321,804\n",
      "Non-trainable params: 0\n",
      "__________________________________________________________________________________________________\n",
      "Train on 180000 samples, validate on 30000 samples\n",
      "Epoch 1/10\n",
      "180000/180000 [==============================] - 27s 151us/step - loss: 1.5301 - y_loss: 1.7714 - r_loss: -0.6414 - y_acc: 0.6366 - r_acc: 0.7714 - val_loss: 0.4752 - val_y_loss: 0.6239 - val_r_loss: -0.8633 - val_y_acc: 0.7770 - val_r_acc: 0.8919\n",
      "Epoch 2/10\n",
      "180000/180000 [==============================] - 26s 145us/step - loss: 0.4848 - y_loss: 0.6260 - r_loss: -0.7855 - y_acc: 0.7737 - r_acc: 0.8416 - val_loss: 0.4101 - val_y_loss: 0.5546 - val_r_loss: -0.8909 - val_y_acc: 0.7997 - val_r_acc: 0.9020\n",
      "Epoch 3/10\n",
      "180000/180000 [==============================] - 26s 146us/step - loss: 0.4078 - y_loss: 0.5434 - r_loss: -0.8133 - y_acc: 0.8016 - r_acc: 0.8575 - val_loss: 0.3661 - val_y_loss: 0.5074 - val_r_loss: -0.9053 - val_y_acc: 0.8167 - val_r_acc: 0.9147\n",
      "Epoch 4/10\n",
      "180000/180000 [==============================] - 26s 145us/step - loss: 0.3597 - y_loss: 0.4916 - r_loss: -0.8270 - y_acc: 0.8197 - r_acc: 0.8662 - val_loss: 0.3424 - val_y_loss: 0.4819 - val_r_loss: -0.9125 - val_y_acc: 0.8249 - val_r_acc: 0.9216\n",
      "Epoch 5/10\n",
      "180000/180000 [==============================] - 26s 145us/step - loss: 0.3221 - y_loss: 0.4512 - r_loss: -0.8400 - y_acc: 0.8338 - r_acc: 0.8742 - val_loss: 0.3293 - val_y_loss: 0.4680 - val_r_loss: -0.9198 - val_y_acc: 0.8301 - val_r_acc: 0.9298\n",
      "Epoch 6/10\n",
      "180000/180000 [==============================] - 26s 145us/step - loss: 0.2962 - y_loss: 0.4236 - r_loss: -0.8498 - y_acc: 0.8424 - r_acc: 0.8793 - val_loss: 0.3210 - val_y_loss: 0.4593 - val_r_loss: -0.9234 - val_y_acc: 0.8337 - val_r_acc: 0.9333\n",
      "Epoch 7/10\n",
      "180000/180000 [==============================] - 26s 145us/step - loss: 0.2726 - y_loss: 0.3980 - r_loss: -0.8565 - y_acc: 0.8520 - r_acc: 0.8832 - val_loss: 0.3172 - val_y_loss: 0.4559 - val_r_loss: -0.9312 - val_y_acc: 0.8360 - val_r_acc: 0.9327\n",
      "Epoch 8/10\n",
      "180000/180000 [==============================] - 26s 145us/step - loss: 0.2522 - y_loss: 0.3762 - r_loss: -0.8640 - y_acc: 0.8597 - r_acc: 0.8870 - val_loss: 0.3255 - val_y_loss: 0.4655 - val_r_loss: -0.9347 - val_y_acc: 0.8383 - val_r_acc: 0.9373\n"
     ]
    },
    {
     "name": "stderr",
     "output_type": "stream",
     "text": [
      "  5%|▍         | 2872/60000 [00:00<00:03, 14354.13it/s]"
     ]
    },
    {
     "name": "stdout",
     "output_type": "stream",
     "text": [
      "11.280339004404958\n"
     ]
    },
    {
     "name": "stderr",
     "output_type": "stream",
     "text": [
      "100%|██████████| 60000/60000 [00:04<00:00, 13876.86it/s]\n",
      "100%|██████████| 10000/10000 [00:00<00:00, 13799.58it/s]\n"
     ]
    },
    {
     "name": "stdout",
     "output_type": "stream",
     "text": [
      "__________________________________________________________________________________________________\n",
      "Layer (type)                    Output Shape         Param #     Connected to                     \n",
      "==================================================================================================\n",
      "image_input (InputLayer)        (None, 32, 32, 1)    0                                            \n",
      "__________________________________________________________________________________________________\n",
      "conv2d_19 (Conv2D)              (None, 32, 32, 32)   320         image_input[0][0]                \n",
      "__________________________________________________________________________________________________\n",
      "conv2d_20 (Conv2D)              (None, 32, 32, 32)   9248        conv2d_19[0][0]                  \n",
      "__________________________________________________________________________________________________\n",
      "max_pooling2d_10 (MaxPooling2D) (None, 16, 16, 32)   0           conv2d_20[0][0]                  \n",
      "__________________________________________________________________________________________________\n",
      "dropout_28 (Dropout)            (None, 16, 16, 32)   0           max_pooling2d_10[0][0]           \n",
      "__________________________________________________________________________________________________\n",
      "flatten_10 (Flatten)            (None, 8192)         0           dropout_28[0][0]                 \n",
      "__________________________________________________________________________________________________\n",
      "dense_24 (Dense)                (None, 128)          1048704     flatten_10[0][0]                 \n",
      "__________________________________________________________________________________________________\n",
      "dense_25 (Dense)                (None, 32)           262176      flatten_10[0][0]                 \n",
      "__________________________________________________________________________________________________\n",
      "dropout_29 (Dropout)            (None, 128)          0           dense_24[0][0]                   \n",
      "__________________________________________________________________________________________________\n",
      "dropout_30 (Dropout)            (None, 32)           0           dense_25[0][0]                   \n",
      "__________________________________________________________________________________________________\n",
      "y (Dense)                       (None, 10)           1290        dropout_29[0][0]                 \n",
      "__________________________________________________________________________________________________\n",
      "r (Dense)                       (None, 2)            66          dropout_30[0][0]                 \n",
      "==================================================================================================\n",
      "Total params: 1,321,804\n",
      "Trainable params: 1,321,804\n",
      "Non-trainable params: 0\n",
      "__________________________________________________________________________________________________\n",
      "Train on 180000 samples, validate on 30000 samples\n",
      "Epoch 1/10\n",
      "180000/180000 [==============================] - 27s 151us/step - loss: 1.0481 - y_loss: 1.2391 - r_loss: -0.6706 - y_acc: 0.6711 - r_acc: 0.7818 - val_loss: 0.4506 - val_y_loss: 0.5980 - val_r_loss: -0.8760 - val_y_acc: 0.7847 - val_r_acc: 0.8926\n",
      "Epoch 2/10\n",
      "180000/180000 [==============================] - 26s 145us/step - loss: 0.4619 - y_loss: 0.6019 - r_loss: -0.7978 - y_acc: 0.7836 - r_acc: 0.8520 - val_loss: 0.3779 - val_y_loss: 0.5203 - val_r_loss: -0.9035 - val_y_acc: 0.8150 - val_r_acc: 0.9094\n",
      "Epoch 3/10\n",
      "180000/180000 [==============================] - 26s 146us/step - loss: 0.3896 - y_loss: 0.5247 - r_loss: -0.8265 - y_acc: 0.8100 - r_acc: 0.8696 - val_loss: 0.3468 - val_y_loss: 0.4869 - val_r_loss: -0.9142 - val_y_acc: 0.8257 - val_r_acc: 0.9242\n",
      "Epoch 4/10\n",
      "180000/180000 [==============================] - 26s 145us/step - loss: 0.3427 - y_loss: 0.4740 - r_loss: -0.8389 - y_acc: 0.8265 - r_acc: 0.8770 - val_loss: 0.3354 - val_y_loss: 0.4752 - val_r_loss: -0.9232 - val_y_acc: 0.8301 - val_r_acc: 0.9318\n",
      "Epoch 5/10\n",
      "180000/180000 [==============================] - 26s 145us/step - loss: 0.3136 - y_loss: 0.4429 - r_loss: -0.8499 - y_acc: 0.8377 - r_acc: 0.8847 - val_loss: 0.3171 - val_y_loss: 0.4554 - val_r_loss: -0.9271 - val_y_acc: 0.8345 - val_r_acc: 0.9371\n",
      "Epoch 6/10\n",
      "180000/180000 [==============================] - 26s 145us/step - loss: 0.2889 - y_loss: 0.4164 - r_loss: -0.8590 - y_acc: 0.8462 - r_acc: 0.8896 - val_loss: 0.3167 - val_y_loss: 0.4554 - val_r_loss: -0.9315 - val_y_acc: 0.8390 - val_r_acc: 0.9366\n",
      "Epoch 7/10\n",
      "180000/180000 [==============================] - 26s 145us/step - loss: 0.2647 - y_loss: 0.3904 - r_loss: -0.8668 - y_acc: 0.8554 - r_acc: 0.8945 - val_loss: 0.3010 - val_y_loss: 0.4386 - val_r_loss: -0.9373 - val_y_acc: 0.8463 - val_r_acc: 0.9417\n",
      "Epoch 8/10\n",
      "180000/180000 [==============================] - 26s 145us/step - loss: 0.2483 - y_loss: 0.3729 - r_loss: -0.8739 - y_acc: 0.8608 - r_acc: 0.8985 - val_loss: 0.2973 - val_y_loss: 0.4346 - val_r_loss: -0.9389 - val_y_acc: 0.8470 - val_r_acc: 0.9459\n",
      "Epoch 9/10\n",
      "180000/180000 [==============================] - 26s 145us/step - loss: 0.2308 - y_loss: 0.3542 - r_loss: -0.8795 - y_acc: 0.8672 - r_acc: 0.9005 - val_loss: 0.3051 - val_y_loss: 0.4432 - val_r_loss: -0.9384 - val_y_acc: 0.8449 - val_r_acc: 0.9434\n",
      "10.744930025962274\n"
     ]
    }
   ],
   "source": [
    "histories = []\n",
    "diff_degrees = []\n",
    "y_preds = []\n",
    "r_preds = []\n",
    "\n",
    "use_labels = True\n",
    "use_rotation = True\n",
    "\n",
    "rot_step = 10\n",
    "\n",
    "for rot_range in range(180, 180 + rot_step, rot_step):\n",
    "    \n",
    "    print('Training on rotation range of +-', rot_range)\n",
    "    \n",
    "    for _ in range(5):\n",
    "\n",
    "        X_train_rot, Y_train_rot, R_train = generate_random_rotations(X_train, Y_train, \n",
    "                                                                      augmented_rotations_per_sample, rot_range)\n",
    "        X_test_rot, Y_test_rot, R_test = generate_random_rotations(X_test, Y_test, \n",
    "                                                                   augmented_rotations_per_sample, rot_range)\n",
    "\n",
    "        Y_train_onehot = keras.utils.to_categorical(Y_train_rot)\n",
    "        Y_test_onehot = keras.utils.to_categorical(Y_test_rot)\n",
    "\n",
    "        nb_classes = Y_train_onehot.shape[1]\n",
    "\n",
    "        R_train_radians, R_test_radians = (R * np.pi / 180 for R in (R_train, R_test))\n",
    "\n",
    "        R_train_sin_cos = create_rot_sin_cos(R_train_radians)\n",
    "        R_test_sin_cos = create_rot_sin_cos(R_test_radians)\n",
    "\n",
    "        alpha = K.variable(0.9)\n",
    "        beta = K.variable(0.1)\n",
    "        model = build_model(use_labels, use_rotation)\n",
    "\n",
    "        history = train_model(model, use_labels, use_rotation).history\n",
    "        histories.append(history)\n",
    "\n",
    "        Y_pred, R_pred = model.predict(X_test_rot)\n",
    "        diff_degree = np.abs(np.arctan2(R_pred[:, 0], R_pred[:, 1]) * 180 / np.pi - R_test)\n",
    "        diff_degree = np.array([diff if diff < 180 else 360 - diff for diff in diff_degree])\n",
    "        print(np.mean(diff_degree))\n",
    "\n",
    "        diff_degrees.append(diff_degree)\n",
    "        y_preds.append(Y_pred)\n",
    "        r_preds.append(R_pred)\n"
   ]
  },
  {
   "cell_type": "code",
   "execution_count": 34,
   "metadata": {},
   "outputs": [
    {
     "name": "stdout",
     "output_type": "stream",
     "text": [
      "[-0.9370076061248779, -0.9345939945538839, -0.9303587948799134, -0.9395129657745361, -0.931304681746165]\n",
      "[0.8405666666666667, 0.8407333333015442, 0.8406000000317891, 0.8393000000317892, 0.8398333333333333]\n",
      "[10.78058838 11.15287478 11.7274108  10.81723969 11.8485133 ]\n",
      "[21.23612629 21.39614367 22.06983143 20.51632304 21.80496776]\n"
     ]
    }
   ],
   "source": [
    "print([history['val_r_loss'][-1] for history in histories])\n",
    "print([history['val_y_acc'][-1] for history in histories])\n",
    "print(np.mean(diff_degrees, axis=1))\n",
    "print(np.std(diff_degrees, axis=1))"
   ]
  },
  {
   "cell_type": "code",
   "execution_count": 36,
   "metadata": {},
   "outputs": [
    {
     "name": "stdout",
     "output_type": "stream",
     "text": [
      "[-0.9362403658866882, -0.9303425656636556, -0.9392968688646952, -0.9346962436676025, -0.9383628163337707]\n",
      "[0.8406999999682109, 0.8356666666348775, 0.8454000000317892, 0.8382999999682108, 0.8448999999682109]\n",
      "[10.94794956 11.95858009 10.50055595 11.280339   10.74493003]\n",
      "[21.30955773 21.79139391 20.82924657 21.3742534  20.71099712]\n"
     ]
    }
   ],
   "source": [
    "print([history['val_r_loss'][-1] for history in histories])\n",
    "print([history['val_y_acc'][-1] for history in histories])\n",
    "print(np.mean(diff_degrees, axis=1))\n",
    "print(np.std(diff_degrees, axis=1))"
   ]
  },
  {
   "cell_type": "code",
   "execution_count": 20,
   "metadata": {},
   "outputs": [
    {
     "data": {
      "text/plain": [
       "array([[ 0.39073113, -0.92050485],\n",
       "       [ 0.74314483, -0.66913061],\n",
       "       [-0.0348995 , -0.99939083],\n",
       "       [ 0.42261826, -0.90630779],\n",
       "       [ 0.48480962, -0.87461971],\n",
       "       [-0.0348995 ,  0.99939083],\n",
       "       [ 0.64278761, -0.76604444],\n",
       "       [ 0.77714596, -0.62932039],\n",
       "       [-0.92718385, -0.37460659],\n",
       "       [ 0.99939083,  0.0348995 ]])"
      ]
     },
     "execution_count": 20,
     "metadata": {},
     "output_type": "execute_result"
    }
   ],
   "source": [
    "R_test_sin_cos[:10]"
   ]
  },
  {
   "cell_type": "code",
   "execution_count": 21,
   "metadata": {},
   "outputs": [],
   "source": [
    "def get_data_from_histories():\n",
    "\n",
    "    for history in histories:\n",
    "\n",
    "        idx_min_loss = np.argmin(history['val_loss'])\n",
    "        data = []\n",
    "\n",
    "        for key in ('val_loss', 'val_r_loss', 'val_r_acc', 'val_y_loss', 'val_y_acc'):\n",
    "            data.append(history[key][idx_min_loss])\n",
    "            \n",
    "        yield data"
   ]
  },
  {
   "cell_type": "code",
   "execution_count": 22,
   "metadata": {},
   "outputs": [],
   "source": [
    "data = np.array(list(get_data_from_histories()))"
   ]
  },
  {
   "cell_type": "code",
   "execution_count": 23,
   "metadata": {},
   "outputs": [],
   "source": [
    "%matplotlib inline\n",
    "\n",
    "import matplotlib.pyplot as plt"
   ]
  },
  {
   "cell_type": "code",
   "execution_count": 24,
   "metadata": {},
   "outputs": [
    {
     "ename": "ValueError",
     "evalue": "x and y must have same first dimension, but have shapes (18,) and (5,)",
     "output_type": "error",
     "traceback": [
      "\u001b[0;31m---------------------------------------------------------------------------\u001b[0m",
      "\u001b[0;31mValueError\u001b[0m                                Traceback (most recent call last)",
      "\u001b[0;32m<ipython-input-24-97cffff0bec4>\u001b[0m in \u001b[0;36m<module>\u001b[0;34m()\u001b[0m\n\u001b[1;32m      2\u001b[0m \u001b[0mplt\u001b[0m\u001b[0;34m.\u001b[0m\u001b[0msubplot\u001b[0m\u001b[0;34m(\u001b[0m\u001b[0;36m211\u001b[0m\u001b[0;34m)\u001b[0m\u001b[0;34m\u001b[0m\u001b[0m\n\u001b[1;32m      3\u001b[0m \u001b[0mplt\u001b[0m\u001b[0;34m.\u001b[0m\u001b[0mgrid\u001b[0m\u001b[0;34m(\u001b[0m\u001b[0;34m)\u001b[0m\u001b[0;34m\u001b[0m\u001b[0m\n\u001b[0;32m----> 4\u001b[0;31m \u001b[0mplt\u001b[0m\u001b[0;34m.\u001b[0m\u001b[0mplot\u001b[0m\u001b[0;34m(\u001b[0m\u001b[0mnp\u001b[0m\u001b[0;34m.\u001b[0m\u001b[0marange\u001b[0m\u001b[0;34m(\u001b[0m\u001b[0;36m10\u001b[0m\u001b[0;34m,\u001b[0m \u001b[0;36m190\u001b[0m\u001b[0;34m,\u001b[0m \u001b[0;36m10\u001b[0m\u001b[0;34m)\u001b[0m \u001b[0;34m*\u001b[0m \u001b[0;36m2\u001b[0m\u001b[0;34m,\u001b[0m \u001b[0mdata\u001b[0m\u001b[0;34m[\u001b[0m\u001b[0;34m:\u001b[0m\u001b[0;34m,\u001b[0m \u001b[0;36m4\u001b[0m\u001b[0;34m]\u001b[0m\u001b[0;34m,\u001b[0m \u001b[0mlabel\u001b[0m\u001b[0;34m=\u001b[0m\u001b[0;34m'classification_accuracy'\u001b[0m\u001b[0;34m)\u001b[0m\u001b[0;34m\u001b[0m\u001b[0m\n\u001b[0m\u001b[1;32m      5\u001b[0m \u001b[0mplt\u001b[0m\u001b[0;34m.\u001b[0m\u001b[0mxlabel\u001b[0m\u001b[0;34m(\u001b[0m\u001b[0;34m'Rotation range (degrees)'\u001b[0m\u001b[0;34m)\u001b[0m\u001b[0;34m\u001b[0m\u001b[0m\n\u001b[1;32m      6\u001b[0m \u001b[0mplt\u001b[0m\u001b[0;34m.\u001b[0m\u001b[0mlegend\u001b[0m\u001b[0;34m(\u001b[0m\u001b[0;34m)\u001b[0m\u001b[0;34m\u001b[0m\u001b[0m\n",
      "\u001b[0;32m/usr/local/lib/python3.5/dist-packages/matplotlib/pyplot.py\u001b[0m in \u001b[0;36mplot\u001b[0;34m(*args, **kwargs)\u001b[0m\n\u001b[1;32m   3259\u001b[0m                       mplDeprecation)\n\u001b[1;32m   3260\u001b[0m     \u001b[0;32mtry\u001b[0m\u001b[0;34m:\u001b[0m\u001b[0;34m\u001b[0m\u001b[0m\n\u001b[0;32m-> 3261\u001b[0;31m         \u001b[0mret\u001b[0m \u001b[0;34m=\u001b[0m \u001b[0max\u001b[0m\u001b[0;34m.\u001b[0m\u001b[0mplot\u001b[0m\u001b[0;34m(\u001b[0m\u001b[0;34m*\u001b[0m\u001b[0margs\u001b[0m\u001b[0;34m,\u001b[0m \u001b[0;34m**\u001b[0m\u001b[0mkwargs\u001b[0m\u001b[0;34m)\u001b[0m\u001b[0;34m\u001b[0m\u001b[0m\n\u001b[0m\u001b[1;32m   3262\u001b[0m     \u001b[0;32mfinally\u001b[0m\u001b[0;34m:\u001b[0m\u001b[0;34m\u001b[0m\u001b[0m\n\u001b[1;32m   3263\u001b[0m         \u001b[0max\u001b[0m\u001b[0;34m.\u001b[0m\u001b[0m_hold\u001b[0m \u001b[0;34m=\u001b[0m \u001b[0mwashold\u001b[0m\u001b[0;34m\u001b[0m\u001b[0m\n",
      "\u001b[0;32m/usr/local/lib/python3.5/dist-packages/matplotlib/__init__.py\u001b[0m in \u001b[0;36minner\u001b[0;34m(ax, *args, **kwargs)\u001b[0m\n\u001b[1;32m   1715\u001b[0m                     warnings.warn(msg % (label_namer, func.__name__),\n\u001b[1;32m   1716\u001b[0m                                   RuntimeWarning, stacklevel=2)\n\u001b[0;32m-> 1717\u001b[0;31m             \u001b[0;32mreturn\u001b[0m \u001b[0mfunc\u001b[0m\u001b[0;34m(\u001b[0m\u001b[0max\u001b[0m\u001b[0;34m,\u001b[0m \u001b[0;34m*\u001b[0m\u001b[0margs\u001b[0m\u001b[0;34m,\u001b[0m \u001b[0;34m**\u001b[0m\u001b[0mkwargs\u001b[0m\u001b[0;34m)\u001b[0m\u001b[0;34m\u001b[0m\u001b[0m\n\u001b[0m\u001b[1;32m   1718\u001b[0m         \u001b[0mpre_doc\u001b[0m \u001b[0;34m=\u001b[0m \u001b[0minner\u001b[0m\u001b[0;34m.\u001b[0m\u001b[0m__doc__\u001b[0m\u001b[0;34m\u001b[0m\u001b[0m\n\u001b[1;32m   1719\u001b[0m         \u001b[0;32mif\u001b[0m \u001b[0mpre_doc\u001b[0m \u001b[0;32mis\u001b[0m \u001b[0;32mNone\u001b[0m\u001b[0;34m:\u001b[0m\u001b[0;34m\u001b[0m\u001b[0m\n",
      "\u001b[0;32m/usr/local/lib/python3.5/dist-packages/matplotlib/axes/_axes.py\u001b[0m in \u001b[0;36mplot\u001b[0;34m(self, *args, **kwargs)\u001b[0m\n\u001b[1;32m   1370\u001b[0m         \u001b[0mkwargs\u001b[0m \u001b[0;34m=\u001b[0m \u001b[0mcbook\u001b[0m\u001b[0;34m.\u001b[0m\u001b[0mnormalize_kwargs\u001b[0m\u001b[0;34m(\u001b[0m\u001b[0mkwargs\u001b[0m\u001b[0;34m,\u001b[0m \u001b[0m_alias_map\u001b[0m\u001b[0;34m)\u001b[0m\u001b[0;34m\u001b[0m\u001b[0m\n\u001b[1;32m   1371\u001b[0m \u001b[0;34m\u001b[0m\u001b[0m\n\u001b[0;32m-> 1372\u001b[0;31m         \u001b[0;32mfor\u001b[0m \u001b[0mline\u001b[0m \u001b[0;32min\u001b[0m \u001b[0mself\u001b[0m\u001b[0;34m.\u001b[0m\u001b[0m_get_lines\u001b[0m\u001b[0;34m(\u001b[0m\u001b[0;34m*\u001b[0m\u001b[0margs\u001b[0m\u001b[0;34m,\u001b[0m \u001b[0;34m**\u001b[0m\u001b[0mkwargs\u001b[0m\u001b[0;34m)\u001b[0m\u001b[0;34m:\u001b[0m\u001b[0;34m\u001b[0m\u001b[0m\n\u001b[0m\u001b[1;32m   1373\u001b[0m             \u001b[0mself\u001b[0m\u001b[0;34m.\u001b[0m\u001b[0madd_line\u001b[0m\u001b[0;34m(\u001b[0m\u001b[0mline\u001b[0m\u001b[0;34m)\u001b[0m\u001b[0;34m\u001b[0m\u001b[0m\n\u001b[1;32m   1374\u001b[0m             \u001b[0mlines\u001b[0m\u001b[0;34m.\u001b[0m\u001b[0mappend\u001b[0m\u001b[0;34m(\u001b[0m\u001b[0mline\u001b[0m\u001b[0;34m)\u001b[0m\u001b[0;34m\u001b[0m\u001b[0m\n",
      "\u001b[0;32m/usr/local/lib/python3.5/dist-packages/matplotlib/axes/_base.py\u001b[0m in \u001b[0;36m_grab_next_args\u001b[0;34m(self, *args, **kwargs)\u001b[0m\n\u001b[1;32m    402\u001b[0m                 \u001b[0mthis\u001b[0m \u001b[0;34m+=\u001b[0m \u001b[0margs\u001b[0m\u001b[0;34m[\u001b[0m\u001b[0;36m0\u001b[0m\u001b[0;34m]\u001b[0m\u001b[0;34m,\u001b[0m\u001b[0;34m\u001b[0m\u001b[0m\n\u001b[1;32m    403\u001b[0m                 \u001b[0margs\u001b[0m \u001b[0;34m=\u001b[0m \u001b[0margs\u001b[0m\u001b[0;34m[\u001b[0m\u001b[0;36m1\u001b[0m\u001b[0;34m:\u001b[0m\u001b[0;34m]\u001b[0m\u001b[0;34m\u001b[0m\u001b[0m\n\u001b[0;32m--> 404\u001b[0;31m             \u001b[0;32mfor\u001b[0m \u001b[0mseg\u001b[0m \u001b[0;32min\u001b[0m \u001b[0mself\u001b[0m\u001b[0;34m.\u001b[0m\u001b[0m_plot_args\u001b[0m\u001b[0;34m(\u001b[0m\u001b[0mthis\u001b[0m\u001b[0;34m,\u001b[0m \u001b[0mkwargs\u001b[0m\u001b[0;34m)\u001b[0m\u001b[0;34m:\u001b[0m\u001b[0;34m\u001b[0m\u001b[0m\n\u001b[0m\u001b[1;32m    405\u001b[0m                 \u001b[0;32myield\u001b[0m \u001b[0mseg\u001b[0m\u001b[0;34m\u001b[0m\u001b[0m\n\u001b[1;32m    406\u001b[0m \u001b[0;34m\u001b[0m\u001b[0m\n",
      "\u001b[0;32m/usr/local/lib/python3.5/dist-packages/matplotlib/axes/_base.py\u001b[0m in \u001b[0;36m_plot_args\u001b[0;34m(self, tup, kwargs)\u001b[0m\n\u001b[1;32m    382\u001b[0m             \u001b[0mx\u001b[0m\u001b[0;34m,\u001b[0m \u001b[0my\u001b[0m \u001b[0;34m=\u001b[0m \u001b[0mindex_of\u001b[0m\u001b[0;34m(\u001b[0m\u001b[0mtup\u001b[0m\u001b[0;34m[\u001b[0m\u001b[0;34m-\u001b[0m\u001b[0;36m1\u001b[0m\u001b[0;34m]\u001b[0m\u001b[0;34m)\u001b[0m\u001b[0;34m\u001b[0m\u001b[0m\n\u001b[1;32m    383\u001b[0m \u001b[0;34m\u001b[0m\u001b[0m\n\u001b[0;32m--> 384\u001b[0;31m         \u001b[0mx\u001b[0m\u001b[0;34m,\u001b[0m \u001b[0my\u001b[0m \u001b[0;34m=\u001b[0m \u001b[0mself\u001b[0m\u001b[0;34m.\u001b[0m\u001b[0m_xy_from_xy\u001b[0m\u001b[0;34m(\u001b[0m\u001b[0mx\u001b[0m\u001b[0;34m,\u001b[0m \u001b[0my\u001b[0m\u001b[0;34m)\u001b[0m\u001b[0;34m\u001b[0m\u001b[0m\n\u001b[0m\u001b[1;32m    385\u001b[0m \u001b[0;34m\u001b[0m\u001b[0m\n\u001b[1;32m    386\u001b[0m         \u001b[0;32mif\u001b[0m \u001b[0mself\u001b[0m\u001b[0;34m.\u001b[0m\u001b[0mcommand\u001b[0m \u001b[0;34m==\u001b[0m \u001b[0;34m'plot'\u001b[0m\u001b[0;34m:\u001b[0m\u001b[0;34m\u001b[0m\u001b[0m\n",
      "\u001b[0;32m/usr/local/lib/python3.5/dist-packages/matplotlib/axes/_base.py\u001b[0m in \u001b[0;36m_xy_from_xy\u001b[0;34m(self, x, y)\u001b[0m\n\u001b[1;32m    241\u001b[0m         \u001b[0;32mif\u001b[0m \u001b[0mx\u001b[0m\u001b[0;34m.\u001b[0m\u001b[0mshape\u001b[0m\u001b[0;34m[\u001b[0m\u001b[0;36m0\u001b[0m\u001b[0;34m]\u001b[0m \u001b[0;34m!=\u001b[0m \u001b[0my\u001b[0m\u001b[0;34m.\u001b[0m\u001b[0mshape\u001b[0m\u001b[0;34m[\u001b[0m\u001b[0;36m0\u001b[0m\u001b[0;34m]\u001b[0m\u001b[0;34m:\u001b[0m\u001b[0;34m\u001b[0m\u001b[0m\n\u001b[1;32m    242\u001b[0m             raise ValueError(\"x and y must have same first dimension, but \"\n\u001b[0;32m--> 243\u001b[0;31m                              \"have shapes {} and {}\".format(x.shape, y.shape))\n\u001b[0m\u001b[1;32m    244\u001b[0m         \u001b[0;32mif\u001b[0m \u001b[0mx\u001b[0m\u001b[0;34m.\u001b[0m\u001b[0mndim\u001b[0m \u001b[0;34m>\u001b[0m \u001b[0;36m2\u001b[0m \u001b[0;32mor\u001b[0m \u001b[0my\u001b[0m\u001b[0;34m.\u001b[0m\u001b[0mndim\u001b[0m \u001b[0;34m>\u001b[0m \u001b[0;36m2\u001b[0m\u001b[0;34m:\u001b[0m\u001b[0;34m\u001b[0m\u001b[0m\n\u001b[1;32m    245\u001b[0m             raise ValueError(\"x and y can be no greater than 2-D, but have \"\n",
      "\u001b[0;31mValueError\u001b[0m: x and y must have same first dimension, but have shapes (18,) and (5,)"
     ]
    },
    {
     "data": {
      "image/png": "[encoded data removed]",
      "text/plain": [
       "<matplotlib.figure.Figure at 0x7fbe92e4a588>"
      ]
     },
     "metadata": {},
     "output_type": "display_data"
    }
   ],
   "source": [
    "plt.figure(figsize=(12, 10))\n",
    "plt.subplot(211)\n",
    "plt.grid()\n",
    "plt.plot(np.arange(10, 190, 10) * 2, data[:, 4], label='classification_accuracy')\n",
    "plt.xlabel('Rotation range (degrees)')\n",
    "plt.legend()\n",
    "plt.subplot(212)\n",
    "plt.grid()\n",
    "plt.plot(np.arange(10, 190, 10) * 2, data[:, 1], label='rotation_loss')\n",
    "plt.xlabel('Rotation range (degrees)')\n",
    "plt.legend()"
   ]
  },
  {
   "cell_type": "code",
   "execution_count": null,
   "metadata": {},
   "outputs": [],
   "source": [
    "np.mean(diff_degrees, axis=1)"
   ]
  },
  {
   "cell_type": "code",
   "execution_count": null,
   "metadata": {},
   "outputs": [],
   "source": [
    "Y_pred, R_pred = model.predict(X_test_rot)"
   ]
  },
  {
   "cell_type": "code",
   "execution_count": null,
   "metadata": {},
   "outputs": [],
   "source": [
    "diff_degree = np.abs(np.arctan2(R_pred[:, 0], R_pred[:, 1]) * 180 / np.pi - R_test)\n",
    "diff_degree = np.array([diff if diff < 180 else 360 - diff for diff in diff_degree])\n",
    "print(np.mean(diff_degree))"
   ]
  },
  {
   "cell_type": "code",
   "execution_count": null,
   "metadata": {},
   "outputs": [],
   "source": [
    "Y_pred[:20]"
   ]
  },
  {
   "cell_type": "code",
   "execution_count": null,
   "metadata": {},
   "outputs": [],
   "source": [
    "plt.figure(figsize=(12, 10))\n",
    "plt.title('Histogram of absolute differences between the true and the predicted orientation (using full circle rotations)')\n",
    "plt.hist(diff_degree, bins=35)\n",
    "plt.grid()\n",
    "plt.xlabel('Difference between true and predicted orientation')\n",
    "plt.ylabel('Number of samples')\n",
    "plt.show()"
   ]
  },
  {
   "cell_type": "code",
   "execution_count": null,
   "metadata": {},
   "outputs": [],
   "source": [
    "xv = np.arange(0, 101)\n",
    "plt.figure(figsize=(12, 10))\n",
    "plt.grid()\n",
    "plt.plot([np.percentile(diff_degree, x) for x in xv], xv)\n",
    "plt.title('Percentile of test samples whose absolute difference between true and predicted orientation is below x \\n(training using full circle)')\n",
    "plt.xlabel('Difference in degrees between the true and the predicted orientation')\n",
    "plt.ylabel('Percentage of predicted orientations below the corresponding difference')\n",
    "plt.show()"
   ]
  },
  {
   "cell_type": "code",
   "execution_count": null,
   "metadata": {},
   "outputs": [],
   "source": [
    "Y_pred = np.argmax(Y_pred, axis=1)"
   ]
  },
  {
   "cell_type": "code",
   "execution_count": null,
   "metadata": {},
   "outputs": [],
   "source": [
    "confusion_matrix = np.zeros((10, 10), dtype='int')\n",
    "\n",
    "for y_true, y_pred in zip(Y_test_rot, Y_pred):\n",
    "    confusion_matrix[y_true, y_pred] += 1\n",
    "\n",
    "plt.figure(figsize=(12, 10))\n",
    "plt.title('Confusion Matrix (Fashion MNIST)')\n",
    "plt.imshow(confusion_matrix)\n",
    "plt.colorbar()"
   ]
  }
 ],
 "metadata": {
  "kernelspec": {
   "display_name": "Python 3",
   "language": "python",
   "name": "python3"
  },
  "language_info": {
   "codemirror_mode": {
    "name": "ipython",
    "version": 3
   },
   "file_extension": ".py",
   "mimetype": "text/x-python",
   "name": "python",
   "nbconvert_exporter": "python",
   "pygments_lexer": "ipython3",
   "version": "3.5.2"
  }
 },
 "nbformat": 4,
 "nbformat_minor": 2
}
