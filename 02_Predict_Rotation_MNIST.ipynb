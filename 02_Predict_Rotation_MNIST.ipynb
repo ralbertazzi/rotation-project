{
 "cells": [
  {
   "cell_type": "code",
   "execution_count": 1,
   "metadata": {},
   "outputs": [
    {
     "name": "stderr",
     "output_type": "stream",
     "text": [
      "/usr/local/lib/python3.5/dist-packages/h5py/__init__.py:36: FutureWarning: Conversion of the second argument of issubdtype from `float` to `np.floating` is deprecated. In future, it will be treated as `np.float64 == np.dtype(float).type`.\n",
      "  from ._conv import register_converters as _register_converters\n",
      "Using TensorFlow backend.\n"
     ]
    }
   ],
   "source": [
    "import numpy as np\n",
    "import cv2\n",
    "import matplotlib.pyplot as plt\n",
    "import skimage\n",
    "from tqdm import tqdm\n",
    "import keras\n",
    "from keras.datasets import mnist, cifar10, fashion_mnist"
   ]
  },
  {
   "cell_type": "code",
   "execution_count": 2,
   "metadata": {},
   "outputs": [],
   "source": [
    "(X_train, Y_train), (X_test, Y_test) = fashion_mnist.load_data()"
   ]
  },
  {
   "cell_type": "code",
   "execution_count": 3,
   "metadata": {},
   "outputs": [
    {
     "data": {
      "text/plain": [
       "(60000, 28, 28)"
      ]
     },
     "execution_count": 3,
     "metadata": {},
     "output_type": "execute_result"
    }
   ],
   "source": [
    "X_train.shape"
   ]
  },
  {
   "cell_type": "code",
   "execution_count": 4,
   "metadata": {},
   "outputs": [],
   "source": [
    "def cv2_rotate(image, degrees):\n",
    "    if len(image.shape) == 3:\n",
    "        rows, cols, _ = image.shape\n",
    "    else:\n",
    "        rows, cols = image.shape\n",
    "    M = cv2.getRotationMatrix2D((cols/2,rows/2), degrees, 1)\n",
    "    return cv2.warpAffine(image, M, (cols,rows))"
   ]
  },
  {
   "cell_type": "code",
   "execution_count": 5,
   "metadata": {},
   "outputs": [],
   "source": [
    "def pad(image, padding=2):\n",
    "    \n",
    "    h, w = image.shape\n",
    "    image_padded = np.zeros((h + 2*padding, w + 2*padding))\n",
    "    image_padded[padding:-padding, padding:-padding] = image\n",
    "    return image_padded"
   ]
  },
  {
   "cell_type": "code",
   "execution_count": 6,
   "metadata": {},
   "outputs": [
    {
     "data": {
      "text/plain": [
       "<matplotlib.image.AxesImage at 0x7f488f5b3128>"
      ]
     },
     "execution_count": 6,
     "metadata": {},
     "output_type": "execute_result"
    },
    {
     "data": {
      "image/png": "[encoded data removed]",
      "text/plain": [
       "<matplotlib.figure.Figure at 0x7f4894aa81d0>"
      ]
     },
     "metadata": {},
     "output_type": "display_data"
    }
   ],
   "source": [
    "plt.imshow(cv2_rotate(pad(X_train[100]), 45))"
   ]
  },
  {
   "cell_type": "code",
   "execution_count": 7,
   "metadata": {},
   "outputs": [],
   "source": [
    "augmented_rotations_per_sample = 3"
   ]
  },
  {
   "cell_type": "code",
   "execution_count": 8,
   "metadata": {},
   "outputs": [],
   "source": [
    "def generate_random_rotations(X, Y, n_rotations_per_sample, rot_range=10):\n",
    "    \n",
    "    new_X = []\n",
    "    new_Y = []\n",
    "    rotations = []\n",
    "    \n",
    "    h, w = X.shape[1:]\n",
    "    bigger = 2\n",
    "    \n",
    "    for image, label in tqdm(zip(X, Y), total=len(X)):\n",
    "        \n",
    "        image = pad(image)\n",
    "        \n",
    "        for _ in range(n_rotations_per_sample):\n",
    "            \n",
    "            rotation = np.random.randint(-rot_range, rot_range+1)\n",
    "            rotated_image = cv2_rotate(image, rotation)\n",
    "            new_X.append(rotated_image)\n",
    "            new_Y.append(label)\n",
    "            rotations.append(rotation)\n",
    "    \n",
    "    new_X = np.array(new_X)\n",
    "    if len(new_X.shape) == 3:\n",
    "        new_X = np.expand_dims(new_X, 3)\n",
    "        \n",
    "    return new_X, np.array(new_Y), np.array(rotations)"
   ]
  },
  {
   "cell_type": "code",
   "execution_count": 9,
   "metadata": {},
   "outputs": [
    {
     "name": "stderr",
     "output_type": "stream",
     "text": [
      "100%|██████████| 60000/60000 [00:04<00:00, 12582.02it/s]\n",
      "100%|██████████| 10000/10000 [00:00<00:00, 14493.85it/s]\n"
     ]
    }
   ],
   "source": [
    "X_train_rot, Y_train_rot, R_train = generate_random_rotations(X_train, Y_train, augmented_rotations_per_sample)\n",
    "X_test_rot, Y_test_rot, R_test = generate_random_rotations(X_test, Y_test, augmented_rotations_per_sample)\n",
    "\n",
    "Y_train_onehot = keras.utils.to_categorical(Y_train_rot)\n",
    "Y_test_onehot = keras.utils.to_categorical(Y_test_rot)"
   ]
  },
  {
   "cell_type": "code",
   "execution_count": 10,
   "metadata": {},
   "outputs": [],
   "source": [
    "nb_classes = Y_train_onehot.shape[1]"
   ]
  },
  {
   "cell_type": "code",
   "execution_count": 11,
   "metadata": {},
   "outputs": [],
   "source": [
    "R_train_radians, R_test_radians = (R * np.pi / 180 for R in (R_train, R_test))"
   ]
  },
  {
   "cell_type": "code",
   "execution_count": 12,
   "metadata": {},
   "outputs": [],
   "source": [
    "def create_rot_sin_cos(R_radians):\n",
    "    rot_sin_cos = np.empty((len(R_radians), 2))\n",
    "    rot_sin_cos[:, 0] = np.sin(R_radians)\n",
    "    rot_sin_cos[:, 1] = np.cos(R_radians)\n",
    "    return rot_sin_cos"
   ]
  },
  {
   "cell_type": "code",
   "execution_count": 13,
   "metadata": {},
   "outputs": [],
   "source": [
    "R_train_sin_cos = create_rot_sin_cos(R_train_radians)\n",
    "R_test_sin_cos = create_rot_sin_cos(R_test_radians)"
   ]
  },
  {
   "cell_type": "code",
   "execution_count": 14,
   "metadata": {},
   "outputs": [],
   "source": [
    "from keras import layers\n",
    "from keras import models\n",
    "import keras.backend as K\n",
    "\n",
    "def build_model(use_labels=True, use_rotation=True):\n",
    "\n",
    "    input_layer = layers.Input(X_train_rot.shape[1:], name='image_input')\n",
    "    x = input_layer\n",
    "\n",
    "    x = layers.Conv2D(32, (3,3), activation='relu')(x)\n",
    "    x = layers.Conv2D(32, (3,3), activation='relu')(x)\n",
    "    x = layers.MaxPool2D()(x)\n",
    "    x = layers.Dropout(0.25)(x)\n",
    "    flatten = layers.Flatten()(x)\n",
    "    \n",
    "    if use_labels:\n",
    "        y = layers.Dense(128, activation='relu')(flatten)\n",
    "        y = layers.Dropout(0.5)(y)\n",
    "        y = layers.Dense(nb_classes, activation='softmax', name='y')(y)\n",
    "\n",
    "    if use_rotation:\n",
    "        r = layers.Dense(32, activation='relu')(flatten)\n",
    "        r = layers.Dropout(0.5)(r)\n",
    "        r = layers.Dense(2, name='r')(r)\n",
    "\n",
    "    if use_labels and use_rotation:\n",
    "        model = models.Model(input_layer, [y, r])        \n",
    "        model.compile(optimizer='adam', loss=['categorical_crossentropy', 'cosine_proximity'], \n",
    "                      metrics=['accuracy'], loss_weights=[alpha, beta])\n",
    "    elif use_labels:\n",
    "        model = models.Model(input_layer, y)\n",
    "        model.compile(optimizer='adam', loss='categorical_crossentropy', metrics=['accuracy'])\n",
    "    elif use_rotation:\n",
    "        model = models.Model(input_layer, r)\n",
    "        model.compile(optimizer='adam', loss='cosine_proximity', metrics=['accuracy'])\n",
    "    else:\n",
    "        raise ValueError('Specify at least 1 output for the network!')\n",
    "        \n",
    "    #model.summary()\n",
    "    \n",
    "    return model"
   ]
  },
  {
   "cell_type": "code",
   "execution_count": 15,
   "metadata": {},
   "outputs": [],
   "source": [
    "from keras import callbacks\n",
    "\n",
    "class LossWeightsCallback(callbacks.Callback):\n",
    "    def __init__(self, alpha, beta):\n",
    "        self.alpha = alpha\n",
    "        self.beta = beta\n",
    "        \n",
    "    # customize your behavior\n",
    "    def on_epoch_end(self, epoch, logs={}):\n",
    "        if epoch == 1:\n",
    "            self.alpha = self.alpha - 0.4 # set to 0.5\n",
    "            self.beta = self.beta + 0.4 # set to 0.5"
   ]
  },
  {
   "cell_type": "code",
   "execution_count": 16,
   "metadata": {},
   "outputs": [],
   "source": [
    "def train_model(model, use_labels=True, use_rotation=True):\n",
    "    \n",
    "    if use_labels and use_rotation:\n",
    "        y_train = [Y_train_onehot, R_train_sin_cos]\n",
    "        y_test = [Y_test_onehot, R_test_sin_cos]\n",
    "    elif use_labels:\n",
    "        y_train = Y_train_onehot\n",
    "        y_test = Y_test_onehot\n",
    "    elif use_rotation:\n",
    "        y_train = R_train_sin_cos\n",
    "        y_test = R_test_sin_cos\n",
    "    else:\n",
    "        raise ValueError('Specify output for training')\n",
    "        \n",
    "    \n",
    "    early_stopper = callbacks.EarlyStopping(patience=1)\n",
    "    \n",
    "    if use_labels and use_rotation:\n",
    "        lw_callback = LossWeightsCallback(alpha, beta)\n",
    "        _callbacks = [early_stopper, lw_callback]\n",
    "    else:\n",
    "        _callbacks = [early_stopper]\n",
    "    \n",
    "    return model.fit(X_train_rot, y_train, \n",
    "                     validation_data=(X_test_rot, y_test), \n",
    "                     callbacks=_callbacks,\n",
    "                     batch_size=256,\n",
    "                     epochs=10)"
   ]
  },
  {
   "cell_type": "code",
   "execution_count": 17,
   "metadata": {},
   "outputs": [
    {
     "name": "stderr",
     "output_type": "stream",
     "text": [
      "  5%|▌         | 3125/60000 [00:00<00:03, 15619.35it/s]"
     ]
    },
    {
     "name": "stdout",
     "output_type": "stream",
     "text": [
      "Training on rotation range of +- 0\n"
     ]
    },
    {
     "name": "stderr",
     "output_type": "stream",
     "text": [
      "100%|██████████| 60000/60000 [00:04<00:00, 13808.38it/s]\n",
      "100%|██████████| 10000/10000 [00:00<00:00, 15602.50it/s]\n"
     ]
    },
    {
     "name": "stdout",
     "output_type": "stream",
     "text": [
      "WARNING:tensorflow:From /usr/local/lib/python3.5/dist-packages/keras/backend/tensorflow_backend.py:3148: calling l2_normalize (from tensorflow.python.ops.nn_impl) with dim is deprecated and will be removed in a future version.\n",
      "Instructions for updating:\n",
      "dim is deprecated, use axis instead\n",
      "Train on 180000 samples, validate on 30000 samples\n",
      "Epoch 1/10\n",
      "180000/180000 [==============================] - 26s 145us/step - loss: 0.6846 - y_loss: 0.8712 - r_loss: -0.9950 - y_acc: 0.8274 - r_acc: 0.9984 - val_loss: 0.1663 - val_y_loss: 0.2958 - val_r_loss: -1.0000 - val_y_acc: 0.8899 - val_r_acc: 1.0000\n",
      "Epoch 2/10\n",
      "180000/180000 [==============================] - 22s 122us/step - loss: 0.1555 - y_loss: 0.2839 - r_loss: -1.0000 - y_acc: 0.8942 - r_acc: 1.0000 - val_loss: 0.1366 - val_y_loss: 0.2628 - val_r_loss: -1.0000 - val_y_acc: 0.9033 - val_r_acc: 1.0000\n",
      "Epoch 3/10\n",
      "180000/180000 [==============================] - 22s 122us/step - loss: 0.1132 - y_loss: 0.2368 - r_loss: -1.0000 - y_acc: 0.9100 - r_acc: 1.0000 - val_loss: 0.1265 - val_y_loss: 0.2517 - val_r_loss: -1.0000 - val_y_acc: 0.9080 - val_r_acc: 1.0000\n",
      "Epoch 4/10\n",
      "180000/180000 [==============================] - 22s 122us/step - loss: 0.0866 - y_loss: 0.2073 - r_loss: -1.0000 - y_acc: 0.9210 - r_acc: 1.0000 - val_loss: 0.1359 - val_y_loss: 0.2621 - val_r_loss: -1.0000 - val_y_acc: 0.9103 - val_r_acc: 1.0000\n"
     ]
    },
    {
     "name": "stderr",
     "output_type": "stream",
     "text": [
      "  3%|▎         | 1522/60000 [00:00<00:03, 15208.27it/s]"
     ]
    },
    {
     "name": "stdout",
     "output_type": "stream",
     "text": [
      "Training on rotation range of +- 10\n"
     ]
    },
    {
     "name": "stderr",
     "output_type": "stream",
     "text": [
      "100%|██████████| 60000/60000 [00:04<00:00, 13444.41it/s]\n",
      "100%|██████████| 10000/10000 [00:00<00:00, 14797.10it/s]\n"
     ]
    },
    {
     "name": "stdout",
     "output_type": "stream",
     "text": [
      "Train on 180000 samples, validate on 30000 samples\n",
      "Epoch 1/10\n",
      "180000/180000 [==============================] - 22s 124us/step - loss: 0.7162 - y_loss: 0.9062 - r_loss: -0.9943 - y_acc: 0.8056 - r_acc: 0.9997 - val_loss: 0.2049 - val_y_loss: 0.3387 - val_r_loss: -0.9992 - val_y_acc: 0.8740 - val_r_acc: 1.0000\n",
      "Epoch 2/10\n",
      "180000/180000 [==============================] - 22s 122us/step - loss: 0.2161 - y_loss: 0.3511 - r_loss: -0.9985 - y_acc: 0.8690 - r_acc: 1.0000 - val_loss: 0.1800 - val_y_loss: 0.3110 - val_r_loss: -0.9992 - val_y_acc: 0.8836 - val_r_acc: 1.0000\n",
      "Epoch 3/10\n",
      "180000/180000 [==============================] - 22s 122us/step - loss: 0.1804 - y_loss: 0.3114 - r_loss: -0.9988 - y_acc: 0.8828 - r_acc: 1.0000 - val_loss: 0.1552 - val_y_loss: 0.2835 - val_r_loss: -0.9994 - val_y_acc: 0.8944 - val_r_acc: 1.0000\n",
      "Epoch 4/10\n",
      "180000/180000 [==============================] - 22s 122us/step - loss: 0.1557 - y_loss: 0.2840 - r_loss: -0.9989 - y_acc: 0.8926 - r_acc: 1.0000 - val_loss: 0.1492 - val_y_loss: 0.2768 - val_r_loss: -0.9995 - val_y_acc: 0.8991 - val_r_acc: 1.0000\n",
      "Epoch 5/10\n",
      "180000/180000 [==============================] - 22s 122us/step - loss: 0.1389 - y_loss: 0.2653 - r_loss: -0.9990 - y_acc: 0.9000 - r_acc: 1.0000 - val_loss: 0.1397 - val_y_loss: 0.2663 - val_r_loss: -0.9995 - val_y_acc: 0.9032 - val_r_acc: 1.0000\n",
      "Epoch 6/10\n",
      "180000/180000 [==============================] - 22s 122us/step - loss: 0.1255 - y_loss: 0.2504 - r_loss: -0.9990 - y_acc: 0.9054 - r_acc: 1.0000 - val_loss: 0.1335 - val_y_loss: 0.2594 - val_r_loss: -0.9996 - val_y_acc: 0.9071 - val_r_acc: 1.0000\n",
      "Epoch 7/10\n",
      "180000/180000 [==============================] - 22s 122us/step - loss: 0.1138 - y_loss: 0.2375 - r_loss: -0.9991 - y_acc: 0.9101 - r_acc: 1.0000 - val_loss: 0.1313 - val_y_loss: 0.2570 - val_r_loss: -0.9996 - val_y_acc: 0.9072 - val_r_acc: 1.0000\n",
      "Epoch 8/10\n",
      "180000/180000 [==============================] - 22s 122us/step - loss: 0.1029 - y_loss: 0.2254 - r_loss: -0.9991 - y_acc: 0.9140 - r_acc: 1.0000 - val_loss: 0.1357 - val_y_loss: 0.2618 - val_r_loss: -0.9996 - val_y_acc: 0.9101 - val_r_acc: 1.0000\n"
     ]
    },
    {
     "name": "stderr",
     "output_type": "stream",
     "text": [
      "  2%|▏         | 1478/60000 [00:00<00:03, 14772.41it/s]"
     ]
    },
    {
     "name": "stdout",
     "output_type": "stream",
     "text": [
      "Training on rotation range of +- 20\n"
     ]
    },
    {
     "name": "stderr",
     "output_type": "stream",
     "text": [
      "100%|██████████| 60000/60000 [00:04<00:00, 14212.29it/s]\n",
      "100%|██████████| 10000/10000 [00:00<00:00, 14761.01it/s]\n"
     ]
    },
    {
     "name": "stdout",
     "output_type": "stream",
     "text": [
      "Train on 180000 samples, validate on 30000 samples\n",
      "Epoch 1/10\n",
      "180000/180000 [==============================] - 23s 125us/step - loss: 0.6594 - y_loss: 0.8427 - r_loss: -0.9900 - y_acc: 0.7911 - r_acc: 0.9994 - val_loss: 0.2410 - val_y_loss: 0.3787 - val_r_loss: -0.9983 - val_y_acc: 0.8605 - val_r_acc: 1.0000\n",
      "Epoch 2/10\n",
      "180000/180000 [==============================] - 22s 122us/step - loss: 0.2557 - y_loss: 0.3949 - r_loss: -0.9966 - y_acc: 0.8546 - r_acc: 1.0000 - val_loss: 0.2020 - val_y_loss: 0.3354 - val_r_loss: -0.9987 - val_y_acc: 0.8747 - val_r_acc: 1.0000\n",
      "Epoch 3/10\n",
      "180000/180000 [==============================] - 22s 122us/step - loss: 0.2131 - y_loss: 0.3476 - r_loss: -0.9970 - y_acc: 0.8705 - r_acc: 1.0000 - val_loss: 0.1799 - val_y_loss: 0.3109 - val_r_loss: -0.9988 - val_y_acc: 0.8857 - val_r_acc: 1.0000\n",
      "Epoch 4/10\n",
      "180000/180000 [==============================] - 22s 122us/step - loss: 0.1859 - y_loss: 0.3174 - r_loss: -0.9972 - y_acc: 0.8803 - r_acc: 1.0000 - val_loss: 0.1674 - val_y_loss: 0.2970 - val_r_loss: -0.9990 - val_y_acc: 0.8940 - val_r_acc: 1.0000\n",
      "Epoch 5/10\n",
      "180000/180000 [==============================] - 22s 124us/step - loss: 0.1702 - y_loss: 0.2999 - r_loss: -0.9973 - y_acc: 0.8881 - r_acc: 1.0000 - val_loss: 0.1642 - val_y_loss: 0.2935 - val_r_loss: -0.9991 - val_y_acc: 0.8932 - val_r_acc: 1.0000\n",
      "Epoch 6/10\n",
      "180000/180000 [==============================] - 22s 124us/step - loss: 0.1535 - y_loss: 0.2814 - r_loss: -0.9975 - y_acc: 0.8931 - r_acc: 1.0000 - val_loss: 0.1587 - val_y_loss: 0.2873 - val_r_loss: -0.9991 - val_y_acc: 0.8966 - val_r_acc: 1.0000\n",
      "Epoch 7/10\n",
      "180000/180000 [==============================] - 22s 124us/step - loss: 0.1431 - y_loss: 0.2698 - r_loss: -0.9977 - y_acc: 0.8979 - r_acc: 1.0000 - val_loss: 0.1571 - val_y_loss: 0.2856 - val_r_loss: -0.9990 - val_y_acc: 0.8967 - val_r_acc: 1.0000\n",
      "Epoch 8/10\n",
      "180000/180000 [==============================] - 22s 123us/step - loss: 0.1323 - y_loss: 0.2579 - r_loss: -0.9978 - y_acc: 0.9025 - r_acc: 1.0000 - val_loss: 0.1492 - val_y_loss: 0.2768 - val_r_loss: -0.9992 - val_y_acc: 0.8991 - val_r_acc: 1.0000\n",
      "Epoch 9/10\n",
      "180000/180000 [==============================] - 22s 122us/step - loss: 0.1243 - y_loss: 0.2490 - r_loss: -0.9980 - y_acc: 0.9071 - r_acc: 1.0000 - val_loss: 0.1543 - val_y_loss: 0.2825 - val_r_loss: -0.9992 - val_y_acc: 0.9014 - val_r_acc: 1.0000\n"
     ]
    },
    {
     "name": "stderr",
     "output_type": "stream",
     "text": [
      "  2%|▏         | 1482/60000 [00:00<00:03, 14808.12it/s]"
     ]
    },
    {
     "name": "stdout",
     "output_type": "stream",
     "text": [
      "Training on rotation range of +- 30\n"
     ]
    },
    {
     "name": "stderr",
     "output_type": "stream",
     "text": [
      "100%|██████████| 60000/60000 [00:04<00:00, 14551.94it/s]\n",
      "100%|██████████| 10000/10000 [00:00<00:00, 13932.06it/s]\n"
     ]
    },
    {
     "name": "stdout",
     "output_type": "stream",
     "text": [
      "Train on 180000 samples, validate on 30000 samples\n",
      "Epoch 1/10\n",
      "180000/180000 [==============================] - 23s 125us/step - loss: 1.2212 - y_loss: 1.4664 - r_loss: -0.9856 - y_acc: 0.7431 - r_acc: 0.9983 - val_loss: 0.2751 - val_y_loss: 0.4165 - val_r_loss: -0.9976 - val_y_acc: 0.8463 - val_r_acc: 1.0000\n",
      "Epoch 2/10\n",
      "180000/180000 [==============================] - 22s 122us/step - loss: 0.3045 - y_loss: 0.4489 - r_loss: -0.9948 - y_acc: 0.8372 - r_acc: 1.0000 - val_loss: 0.2358 - val_y_loss: 0.3729 - val_r_loss: -0.9980 - val_y_acc: 0.8649 - val_r_acc: 1.0000\n",
      "Epoch 3/10\n",
      "180000/180000 [==============================] - 22s 123us/step - loss: 0.2581 - y_loss: 0.3974 - r_loss: -0.9955 - y_acc: 0.8535 - r_acc: 1.0000 - val_loss: 0.2118 - val_y_loss: 0.3463 - val_r_loss: -0.9983 - val_y_acc: 0.8713 - val_r_acc: 1.0000\n",
      "Epoch 4/10\n",
      "180000/180000 [==============================] - 22s 122us/step - loss: 0.2287 - y_loss: 0.3648 - r_loss: -0.9958 - y_acc: 0.8649 - r_acc: 1.0000 - val_loss: 0.1984 - val_y_loss: 0.3314 - val_r_loss: -0.9986 - val_y_acc: 0.8772 - val_r_acc: 1.0000\n",
      "Epoch 5/10\n",
      "180000/180000 [==============================] - 22s 122us/step - loss: 0.2080 - y_loss: 0.3418 - r_loss: -0.9960 - y_acc: 0.8722 - r_acc: 1.0000 - val_loss: 0.1886 - val_y_loss: 0.3206 - val_r_loss: -0.9987 - val_y_acc: 0.8843 - val_r_acc: 1.0000\n",
      "Epoch 6/10\n",
      "180000/180000 [==============================] - 22s 123us/step - loss: 0.1921 - y_loss: 0.3241 - r_loss: -0.9961 - y_acc: 0.8791 - r_acc: 1.0000 - val_loss: 0.1838 - val_y_loss: 0.3151 - val_r_loss: -0.9986 - val_y_acc: 0.8828 - val_r_acc: 1.0000\n",
      "Epoch 7/10\n",
      "180000/180000 [==============================] - 22s 122us/step - loss: 0.1797 - y_loss: 0.3104 - r_loss: -0.9963 - y_acc: 0.8839 - r_acc: 1.0000 - val_loss: 0.1760 - val_y_loss: 0.3066 - val_r_loss: -0.9988 - val_y_acc: 0.8876 - val_r_acc: 1.0000\n",
      "Epoch 8/10\n",
      "180000/180000 [==============================] - 22s 122us/step - loss: 0.1649 - y_loss: 0.2939 - r_loss: -0.9965 - y_acc: 0.8897 - r_acc: 1.0000 - val_loss: 0.1790 - val_y_loss: 0.3099 - val_r_loss: -0.9988 - val_y_acc: 0.8887 - val_r_acc: 1.0000\n"
     ]
    },
    {
     "name": "stderr",
     "output_type": "stream",
     "text": [
      "  2%|▏         | 1448/60000 [00:00<00:04, 14470.60it/s]"
     ]
    },
    {
     "name": "stdout",
     "output_type": "stream",
     "text": [
      "Training on rotation range of +- 40\n"
     ]
    },
    {
     "name": "stderr",
     "output_type": "stream",
     "text": [
      "100%|██████████| 60000/60000 [00:04<00:00, 13173.87it/s]\n",
      "100%|██████████| 10000/10000 [00:00<00:00, 14050.11it/s]\n"
     ]
    },
    {
     "name": "stdout",
     "output_type": "stream",
     "text": [
      "Train on 180000 samples, validate on 30000 samples\n",
      "Epoch 1/10\n",
      "180000/180000 [==============================] - 23s 125us/step - loss: 1.2906 - y_loss: 1.5420 - r_loss: -0.9721 - y_acc: 0.7236 - r_acc: 0.9975 - val_loss: 0.2988 - val_y_loss: 0.4425 - val_r_loss: -0.9943 - val_y_acc: 0.8314 - val_r_acc: 1.0000\n",
      "Epoch 2/10\n",
      "180000/180000 [==============================] - 22s 122us/step - loss: 0.3228 - y_loss: 0.4685 - r_loss: -0.9886 - y_acc: 0.8259 - r_acc: 1.0000 - val_loss: 0.2459 - val_y_loss: 0.3840 - val_r_loss: -0.9971 - val_y_acc: 0.8537 - val_r_acc: 1.0000\n",
      "Epoch 3/10\n",
      "180000/180000 [==============================] - 22s 123us/step - loss: 0.2784 - y_loss: 0.4194 - r_loss: -0.9907 - y_acc: 0.8438 - r_acc: 1.0000 - val_loss: 0.2278 - val_y_loss: 0.3638 - val_r_loss: -0.9970 - val_y_acc: 0.8616 - val_r_acc: 1.0000\n",
      "Epoch 4/10\n",
      "180000/180000 [==============================] - 22s 122us/step - loss: 0.2480 - y_loss: 0.3857 - r_loss: -0.9915 - y_acc: 0.8561 - r_acc: 1.0000 - val_loss: 0.2138 - val_y_loss: 0.3483 - val_r_loss: -0.9973 - val_y_acc: 0.8680 - val_r_acc: 1.0000\n",
      "Epoch 5/10\n",
      "180000/180000 [==============================] - 22s 123us/step - loss: 0.2245 - y_loss: 0.3598 - r_loss: -0.9923 - y_acc: 0.8644 - r_acc: 1.0000 - val_loss: 0.1984 - val_y_loss: 0.3313 - val_r_loss: -0.9976 - val_y_acc: 0.8757 - val_r_acc: 1.0000\n",
      "Epoch 6/10\n",
      "180000/180000 [==============================] - 22s 123us/step - loss: 0.2081 - y_loss: 0.3415 - r_loss: -0.9927 - y_acc: 0.8717 - r_acc: 1.0000 - val_loss: 0.1916 - val_y_loss: 0.3238 - val_r_loss: -0.9979 - val_y_acc: 0.8812 - val_r_acc: 1.0000\n",
      "Epoch 7/10\n",
      "180000/180000 [==============================] - 22s 122us/step - loss: 0.1937 - y_loss: 0.3256 - r_loss: -0.9933 - y_acc: 0.8776 - r_acc: 0.9999 - val_loss: 0.1930 - val_y_loss: 0.3253 - val_r_loss: -0.9979 - val_y_acc: 0.8806 - val_r_acc: 1.0000\n"
     ]
    },
    {
     "name": "stderr",
     "output_type": "stream",
     "text": [
      "  2%|▏         | 1416/60000 [00:00<00:04, 14146.08it/s]"
     ]
    },
    {
     "name": "stdout",
     "output_type": "stream",
     "text": [
      "Training on rotation range of +- 50\n"
     ]
    },
    {
     "name": "stderr",
     "output_type": "stream",
     "text": [
      "100%|██████████| 60000/60000 [00:04<00:00, 14167.84it/s]\n",
      "100%|██████████| 10000/10000 [00:00<00:00, 12867.79it/s]\n"
     ]
    },
    {
     "name": "stdout",
     "output_type": "stream",
     "text": [
      "Train on 180000 samples, validate on 30000 samples\n",
      "Epoch 1/10\n",
      "180000/180000 [==============================] - 23s 126us/step - loss: 1.0815 - y_loss: 1.3089 - r_loss: -0.9652 - y_acc: 0.7216 - r_acc: 0.9386 - val_loss: 0.3047 - val_y_loss: 0.4487 - val_r_loss: -0.9912 - val_y_acc: 0.8327 - val_r_acc: 0.9409\n",
      "Epoch 2/10\n",
      "180000/180000 [==============================] - 22s 123us/step - loss: 0.3454 - y_loss: 0.4929 - r_loss: -0.9822 - y_acc: 0.8187 - r_acc: 0.9429 - val_loss: 0.2687 - val_y_loss: 0.4088 - val_r_loss: -0.9916 - val_y_acc: 0.8481 - val_r_acc: 0.9432\n",
      "Epoch 3/10\n",
      "180000/180000 [==============================] - 22s 123us/step - loss: 0.2973 - y_loss: 0.4397 - r_loss: -0.9845 - y_acc: 0.8376 - r_acc: 0.9435 - val_loss: 0.2308 - val_y_loss: 0.3668 - val_r_loss: -0.9940 - val_y_acc: 0.8652 - val_r_acc: 0.9409\n",
      "Epoch 4/10\n",
      "180000/180000 [==============================] - 22s 122us/step - loss: 0.2642 - y_loss: 0.4031 - r_loss: -0.9862 - y_acc: 0.8502 - r_acc: 0.9421 - val_loss: 0.2255 - val_y_loss: 0.3611 - val_r_loss: -0.9945 - val_y_acc: 0.8673 - val_r_acc: 0.9409\n",
      "Epoch 5/10\n",
      "180000/180000 [==============================] - 22s 122us/step - loss: 0.2442 - y_loss: 0.3811 - r_loss: -0.9871 - y_acc: 0.8579 - r_acc: 0.9419 - val_loss: 0.2132 - val_y_loss: 0.3474 - val_r_loss: -0.9938 - val_y_acc: 0.8715 - val_r_acc: 0.9409\n",
      "Epoch 6/10\n",
      "180000/180000 [==============================] - 22s 122us/step - loss: 0.2277 - y_loss: 0.3628 - r_loss: -0.9879 - y_acc: 0.8642 - r_acc: 0.9420 - val_loss: 0.2071 - val_y_loss: 0.3407 - val_r_loss: -0.9950 - val_y_acc: 0.8747 - val_r_acc: 0.9409\n",
      "Epoch 7/10\n",
      "180000/180000 [==============================] - 22s 122us/step - loss: 0.2118 - y_loss: 0.3452 - r_loss: -0.9883 - y_acc: 0.8705 - r_acc: 0.9419 - val_loss: 0.2032 - val_y_loss: 0.3364 - val_r_loss: -0.9950 - val_y_acc: 0.8784 - val_r_acc: 0.9409\n",
      "Epoch 8/10\n",
      "180000/180000 [==============================] - 22s 122us/step - loss: 0.2014 - y_loss: 0.3336 - r_loss: -0.9886 - y_acc: 0.8748 - r_acc: 0.9419 - val_loss: 0.1985 - val_y_loss: 0.3311 - val_r_loss: -0.9950 - val_y_acc: 0.8795 - val_r_acc: 0.9409\n",
      "Epoch 9/10\n",
      "180000/180000 [==============================] - 22s 122us/step - loss: 0.1894 - y_loss: 0.3203 - r_loss: -0.9891 - y_acc: 0.8795 - r_acc: 0.9430 - val_loss: 0.1969 - val_y_loss: 0.3294 - val_r_loss: -0.9952 - val_y_acc: 0.8815 - val_r_acc: 0.9413\n",
      "Epoch 10/10\n",
      "180000/180000 [==============================] - 22s 122us/step - loss: 0.1800 - y_loss: 0.3099 - r_loss: -0.9898 - y_acc: 0.8817 - r_acc: 0.9436 - val_loss: 0.1965 - val_y_loss: 0.3289 - val_r_loss: -0.9955 - val_y_acc: 0.8822 - val_r_acc: 0.9409\n"
     ]
    },
    {
     "name": "stderr",
     "output_type": "stream",
     "text": [
      "  2%|▏         | 1454/60000 [00:00<00:04, 14537.90it/s]"
     ]
    },
    {
     "name": "stdout",
     "output_type": "stream",
     "text": [
      "Training on rotation range of +- 60\n"
     ]
    },
    {
     "name": "stderr",
     "output_type": "stream",
     "text": [
      "100%|██████████| 60000/60000 [00:04<00:00, 13684.04it/s]\n",
      "100%|██████████| 10000/10000 [00:00<00:00, 14217.07it/s]\n"
     ]
    },
    {
     "name": "stdout",
     "output_type": "stream",
     "text": [
      "Train on 180000 samples, validate on 30000 samples\n",
      "Epoch 1/10\n",
      "180000/180000 [==============================] - 23s 126us/step - loss: 1.2907 - y_loss: 1.5384 - r_loss: -0.9385 - y_acc: 0.6930 - r_acc: 0.8843 - val_loss: 0.3340 - val_y_loss: 0.4800 - val_r_loss: -0.9797 - val_y_acc: 0.8256 - val_r_acc: 0.9079\n",
      "Epoch 2/10\n",
      "180000/180000 [==============================] - 22s 122us/step - loss: 0.3823 - y_loss: 0.5324 - r_loss: -0.9685 - y_acc: 0.8055 - r_acc: 0.9137 - val_loss: 0.2882 - val_y_loss: 0.4299 - val_r_loss: -0.9869 - val_y_acc: 0.8430 - val_r_acc: 0.9574\n",
      "Epoch 3/10\n",
      "180000/180000 [==============================] - 22s 123us/step - loss: 0.3264 - y_loss: 0.4709 - r_loss: -0.9737 - y_acc: 0.8257 - r_acc: 0.9245 - val_loss: 0.2568 - val_y_loss: 0.3952 - val_r_loss: -0.9887 - val_y_acc: 0.8539 - val_r_acc: 0.9630\n",
      "Epoch 4/10\n",
      "180000/180000 [==============================] - 22s 123us/step - loss: 0.2947 - y_loss: 0.4359 - r_loss: -0.9765 - y_acc: 0.8378 - r_acc: 0.9319 - val_loss: 0.2398 - val_y_loss: 0.3764 - val_r_loss: -0.9898 - val_y_acc: 0.8604 - val_r_acc: 0.9634\n",
      "Epoch 5/10\n",
      "180000/180000 [==============================] - 22s 122us/step - loss: 0.2708 - y_loss: 0.4097 - r_loss: -0.9789 - y_acc: 0.8469 - r_acc: 0.9360 - val_loss: 0.2305 - val_y_loss: 0.3661 - val_r_loss: -0.9902 - val_y_acc: 0.8634 - val_r_acc: 0.9626\n",
      "Epoch 6/10\n",
      "180000/180000 [==============================] - 22s 122us/step - loss: 0.2522 - y_loss: 0.3891 - r_loss: -0.9802 - y_acc: 0.8538 - r_acc: 0.9374 - val_loss: 0.2241 - val_y_loss: 0.3591 - val_r_loss: -0.9903 - val_y_acc: 0.8651 - val_r_acc: 0.9499\n",
      "Epoch 7/10\n",
      "180000/180000 [==============================] - 22s 122us/step - loss: 0.2377 - y_loss: 0.3731 - r_loss: -0.9812 - y_acc: 0.8591 - r_acc: 0.9373 - val_loss: 0.2211 - val_y_loss: 0.3559 - val_r_loss: -0.9921 - val_y_acc: 0.8690 - val_r_acc: 0.9590\n",
      "Epoch 8/10\n",
      "180000/180000 [==============================] - 22s 122us/step - loss: 0.2241 - y_loss: 0.3581 - r_loss: -0.9823 - y_acc: 0.8649 - r_acc: 0.9389 - val_loss: 0.2172 - val_y_loss: 0.3516 - val_r_loss: -0.9925 - val_y_acc: 0.8723 - val_r_acc: 0.9624\n",
      "Epoch 9/10\n",
      "180000/180000 [==============================] - 22s 122us/step - loss: 0.2098 - y_loss: 0.3424 - r_loss: -0.9832 - y_acc: 0.8707 - r_acc: 0.9419 - val_loss: 0.2078 - val_y_loss: 0.3412 - val_r_loss: -0.9927 - val_y_acc: 0.8755 - val_r_acc: 0.9570\n",
      "Epoch 10/10\n",
      "180000/180000 [==============================] - 22s 123us/step - loss: 0.2006 - y_loss: 0.3322 - r_loss: -0.9833 - y_acc: 0.8743 - r_acc: 0.9426 - val_loss: 0.2055 - val_y_loss: 0.3386 - val_r_loss: -0.9924 - val_y_acc: 0.8766 - val_r_acc: 0.9593\n"
     ]
    },
    {
     "name": "stderr",
     "output_type": "stream",
     "text": [
      "  2%|▏         | 1449/60000 [00:00<00:04, 14481.90it/s]"
     ]
    },
    {
     "name": "stdout",
     "output_type": "stream",
     "text": [
      "Training on rotation range of +- 70\n"
     ]
    },
    {
     "name": "stderr",
     "output_type": "stream",
     "text": [
      "100%|██████████| 60000/60000 [00:04<00:00, 14356.98it/s]\n",
      "100%|██████████| 10000/10000 [00:00<00:00, 14203.68it/s]\n"
     ]
    },
    {
     "name": "stdout",
     "output_type": "stream",
     "text": [
      "Train on 180000 samples, validate on 30000 samples\n",
      "Epoch 1/10\n",
      "180000/180000 [==============================] - 23s 127us/step - loss: 1.2078 - y_loss: 1.4442 - r_loss: -0.9207 - y_acc: 0.6831 - r_acc: 0.8944 - val_loss: 0.3570 - val_y_loss: 0.5048 - val_r_loss: -0.9738 - val_y_acc: 0.8147 - val_r_acc: 0.9597\n",
      "Epoch 2/10\n",
      "180000/180000 [==============================] - 22s 122us/step - loss: 0.4121 - y_loss: 0.5641 - r_loss: -0.9564 - y_acc: 0.7935 - r_acc: 0.9248 - val_loss: 0.2998 - val_y_loss: 0.4421 - val_r_loss: -0.9809 - val_y_acc: 0.8347 - val_r_acc: 0.9662\n",
      "Epoch 3/10\n",
      "180000/180000 [==============================] - 22s 124us/step - loss: 0.3535 - y_loss: 0.4999 - r_loss: -0.9636 - y_acc: 0.8149 - r_acc: 0.9321 - val_loss: 0.2808 - val_y_loss: 0.4212 - val_r_loss: -0.9834 - val_y_acc: 0.8438 - val_r_acc: 0.9683\n",
      "Epoch 4/10\n",
      "180000/180000 [==============================] - 22s 123us/step - loss: 0.3199 - y_loss: 0.4630 - r_loss: -0.9680 - y_acc: 0.8290 - r_acc: 0.9394 - val_loss: 0.2743 - val_y_loss: 0.4142 - val_r_loss: -0.9851 - val_y_acc: 0.8444 - val_r_acc: 0.9641\n",
      "Epoch 5/10\n",
      "180000/180000 [==============================] - 22s 122us/step - loss: 0.2994 - y_loss: 0.4405 - r_loss: -0.9711 - y_acc: 0.8350 - r_acc: 0.9426 - val_loss: 0.2476 - val_y_loss: 0.3847 - val_r_loss: -0.9861 - val_y_acc: 0.8590 - val_r_acc: 0.9627\n",
      "Epoch 6/10\n",
      "180000/180000 [==============================] - 22s 122us/step - loss: 0.2817 - y_loss: 0.4211 - r_loss: -0.9732 - y_acc: 0.8424 - r_acc: 0.9439 - val_loss: 0.2483 - val_y_loss: 0.3854 - val_r_loss: -0.9859 - val_y_acc: 0.8573 - val_r_acc: 0.9698\n"
     ]
    },
    {
     "name": "stderr",
     "output_type": "stream",
     "text": [
      "  2%|▏         | 1476/60000 [00:00<00:03, 14742.44it/s]"
     ]
    },
    {
     "name": "stdout",
     "output_type": "stream",
     "text": [
      "Training on rotation range of +- 80\n"
     ]
    },
    {
     "name": "stderr",
     "output_type": "stream",
     "text": [
      "100%|██████████| 60000/60000 [00:04<00:00, 14043.28it/s]\n",
      "100%|██████████| 10000/10000 [00:00<00:00, 13491.43it/s]\n"
     ]
    },
    {
     "name": "stdout",
     "output_type": "stream",
     "text": [
      "Train on 180000 samples, validate on 30000 samples\n",
      "Epoch 1/10\n",
      "180000/180000 [==============================] - 23s 127us/step - loss: 0.7934 - y_loss: 0.9845 - r_loss: -0.9265 - y_acc: 0.7036 - r_acc: 0.9123 - val_loss: 0.3640 - val_y_loss: 0.5119 - val_r_loss: -0.9672 - val_y_acc: 0.8145 - val_r_acc: 0.9446\n",
      "Epoch 2/10\n",
      "180000/180000 [==============================] - 22s 122us/step - loss: 0.4076 - y_loss: 0.5590 - r_loss: -0.9544 - y_acc: 0.7957 - r_acc: 0.9367 - val_loss: 0.3045 - val_y_loss: 0.4470 - val_r_loss: -0.9775 - val_y_acc: 0.8373 - val_r_acc: 0.9629\n",
      "Epoch 3/10\n",
      "180000/180000 [==============================] - 22s 123us/step - loss: 0.3512 - y_loss: 0.4971 - r_loss: -0.9618 - y_acc: 0.8172 - r_acc: 0.9430 - val_loss: 0.2738 - val_y_loss: 0.4134 - val_r_loss: -0.9822 - val_y_acc: 0.8474 - val_r_acc: 0.9674\n",
      "Epoch 4/10\n",
      "180000/180000 [==============================] - 22s 125us/step - loss: 0.3190 - y_loss: 0.4619 - r_loss: -0.9666 - y_acc: 0.8295 - r_acc: 0.9470 - val_loss: 0.2657 - val_y_loss: 0.4044 - val_r_loss: -0.9828 - val_y_acc: 0.8524 - val_r_acc: 0.9693\n",
      "Epoch 5/10\n",
      "180000/180000 [==============================] - 22s 123us/step - loss: 0.2947 - y_loss: 0.4351 - r_loss: -0.9692 - y_acc: 0.8382 - r_acc: 0.9485 - val_loss: 0.2561 - val_y_loss: 0.3940 - val_r_loss: -0.9847 - val_y_acc: 0.8571 - val_r_acc: 0.9667\n",
      "Epoch 6/10\n",
      "180000/180000 [==============================] - 22s 123us/step - loss: 0.2744 - y_loss: 0.4128 - r_loss: -0.9714 - y_acc: 0.8462 - r_acc: 0.9501 - val_loss: 0.2461 - val_y_loss: 0.3830 - val_r_loss: -0.9861 - val_y_acc: 0.8627 - val_r_acc: 0.9647\n",
      "Epoch 7/10\n",
      "180000/180000 [==============================] - 22s 123us/step - loss: 0.2614 - y_loss: 0.3985 - r_loss: -0.9727 - y_acc: 0.8509 - r_acc: 0.9513 - val_loss: 0.2404 - val_y_loss: 0.3768 - val_r_loss: -0.9869 - val_y_acc: 0.8632 - val_r_acc: 0.9654\n",
      "Epoch 8/10\n",
      "180000/180000 [==============================] - 22s 123us/step - loss: 0.2476 - y_loss: 0.3833 - r_loss: -0.9740 - y_acc: 0.8571 - r_acc: 0.9517 - val_loss: 0.2403 - val_y_loss: 0.3766 - val_r_loss: -0.9868 - val_y_acc: 0.8655 - val_r_acc: 0.9725\n",
      "Epoch 9/10\n",
      "180000/180000 [==============================] - 22s 123us/step - loss: 0.2371 - y_loss: 0.3717 - r_loss: -0.9751 - y_acc: 0.8601 - r_acc: 0.9524 - val_loss: 0.2405 - val_y_loss: 0.3769 - val_r_loss: -0.9876 - val_y_acc: 0.8633 - val_r_acc: 0.9725\n"
     ]
    },
    {
     "name": "stderr",
     "output_type": "stream",
     "text": [
      "  2%|▏         | 1424/60000 [00:00<00:04, 14237.30it/s]"
     ]
    },
    {
     "name": "stdout",
     "output_type": "stream",
     "text": [
      "Training on rotation range of +- 90\n"
     ]
    },
    {
     "name": "stderr",
     "output_type": "stream",
     "text": [
      "100%|██████████| 60000/60000 [00:04<00:00, 13476.69it/s]\n",
      "100%|██████████| 10000/10000 [00:00<00:00, 14278.55it/s]\n"
     ]
    },
    {
     "name": "stdout",
     "output_type": "stream",
     "text": [
      "Train on 180000 samples, validate on 30000 samples\n",
      "Epoch 1/10\n",
      "180000/180000 [==============================] - 23s 127us/step - loss: 1.1373 - y_loss: 1.3630 - r_loss: -0.8935 - y_acc: 0.6591 - r_acc: 0.8898 - val_loss: 0.4353 - val_y_loss: 0.5901 - val_r_loss: -0.9575 - val_y_acc: 0.7828 - val_r_acc: 0.9474\n",
      "Epoch 2/10\n",
      "180000/180000 [==============================] - 22s 123us/step - loss: 0.4793 - y_loss: 0.6368 - r_loss: -0.9378 - y_acc: 0.7679 - r_acc: 0.9271 - val_loss: 0.3530 - val_y_loss: 0.4997 - val_r_loss: -0.9669 - val_y_acc: 0.8169 - val_r_acc: 0.9513\n",
      "Epoch 3/10\n",
      "180000/180000 [==============================] - 22s 124us/step - loss: 0.4135 - y_loss: 0.5647 - r_loss: -0.9470 - y_acc: 0.7926 - r_acc: 0.9342 - val_loss: 0.3226 - val_y_loss: 0.4664 - val_r_loss: -0.9717 - val_y_acc: 0.8286 - val_r_acc: 0.9533\n",
      "Epoch 4/10\n",
      "180000/180000 [==============================] - 22s 123us/step - loss: 0.3757 - y_loss: 0.5234 - r_loss: -0.9537 - y_acc: 0.8074 - r_acc: 0.9398 - val_loss: 0.3038 - val_y_loss: 0.4459 - val_r_loss: -0.9756 - val_y_acc: 0.8350 - val_r_acc: 0.9622\n",
      "Epoch 5/10\n",
      "180000/180000 [==============================] - 22s 123us/step - loss: 0.3421 - y_loss: 0.4865 - r_loss: -0.9580 - y_acc: 0.8195 - r_acc: 0.9432 - val_loss: 0.2807 - val_y_loss: 0.4207 - val_r_loss: -0.9788 - val_y_acc: 0.8457 - val_r_acc: 0.9650\n",
      "Epoch 6/10\n",
      "180000/180000 [==============================] - 22s 123us/step - loss: 0.3200 - y_loss: 0.4623 - r_loss: -0.9610 - y_acc: 0.8282 - r_acc: 0.9460 - val_loss: 0.2835 - val_y_loss: 0.4240 - val_r_loss: -0.9804 - val_y_acc: 0.8446 - val_r_acc: 0.9648\n"
     ]
    },
    {
     "name": "stderr",
     "output_type": "stream",
     "text": [
      "  2%|▏         | 1400/60000 [00:00<00:04, 13997.21it/s]"
     ]
    },
    {
     "name": "stdout",
     "output_type": "stream",
     "text": [
      "Training on rotation range of +- 100\n"
     ]
    },
    {
     "name": "stderr",
     "output_type": "stream",
     "text": [
      "100%|██████████| 60000/60000 [00:04<00:00, 14356.80it/s]\n",
      "100%|██████████| 10000/10000 [00:00<00:00, 14095.08it/s]\n"
     ]
    },
    {
     "name": "stdout",
     "output_type": "stream",
     "text": [
      "Train on 180000 samples, validate on 30000 samples\n",
      "Epoch 1/10\n",
      "180000/180000 [==============================] - 23s 128us/step - loss: 0.9367 - y_loss: 1.1371 - r_loss: -0.8665 - y_acc: 0.6699 - r_acc: 0.8864 - val_loss: 0.4037 - val_y_loss: 0.5536 - val_r_loss: -0.9460 - val_y_acc: 0.8005 - val_r_acc: 0.9440\n",
      "Epoch 2/10\n",
      "180000/180000 [==============================] - 22s 123us/step - loss: 0.4690 - y_loss: 0.6231 - r_loss: -0.9186 - y_acc: 0.7750 - r_acc: 0.9189 - val_loss: 0.3355 - val_y_loss: 0.4795 - val_r_loss: -0.9607 - val_y_acc: 0.8257 - val_r_acc: 0.9598\n",
      "Epoch 3/10\n",
      "180000/180000 [==============================] - 22s 124us/step - loss: 0.4013 - y_loss: 0.5493 - r_loss: -0.9302 - y_acc: 0.7982 - r_acc: 0.9266 - val_loss: 0.3098 - val_y_loss: 0.4515 - val_r_loss: -0.9652 - val_y_acc: 0.8358 - val_r_acc: 0.9575\n",
      "Epoch 4/10\n",
      "180000/180000 [==============================] - 22s 123us/step - loss: 0.3627 - y_loss: 0.5073 - r_loss: -0.9389 - y_acc: 0.8141 - r_acc: 0.9327 - val_loss: 0.2877 - val_y_loss: 0.4272 - val_r_loss: -0.9677 - val_y_acc: 0.8451 - val_r_acc: 0.9666\n",
      "Epoch 5/10\n",
      "180000/180000 [==============================] - 22s 123us/step - loss: 0.3357 - y_loss: 0.4779 - r_loss: -0.9446 - y_acc: 0.8231 - r_acc: 0.9362 - val_loss: 0.2776 - val_y_loss: 0.4164 - val_r_loss: -0.9709 - val_y_acc: 0.8467 - val_r_acc: 0.9629\n",
      "Epoch 6/10\n",
      "180000/180000 [==============================] - 22s 124us/step - loss: 0.3151 - y_loss: 0.4555 - r_loss: -0.9484 - y_acc: 0.8311 - r_acc: 0.9391 - val_loss: 0.2721 - val_y_loss: 0.4104 - val_r_loss: -0.9726 - val_y_acc: 0.8516 - val_r_acc: 0.9657\n",
      "Epoch 7/10\n",
      "180000/180000 [==============================] - 22s 125us/step - loss: 0.2984 - y_loss: 0.4373 - r_loss: -0.9517 - y_acc: 0.8377 - r_acc: 0.9419 - val_loss: 0.2607 - val_y_loss: 0.3980 - val_r_loss: -0.9754 - val_y_acc: 0.8531 - val_r_acc: 0.9701\n",
      "Epoch 8/10\n",
      "180000/180000 [==============================] - 22s 125us/step - loss: 0.2844 - y_loss: 0.4220 - r_loss: -0.9541 - y_acc: 0.8424 - r_acc: 0.9442 - val_loss: 0.2570 - val_y_loss: 0.3939 - val_r_loss: -0.9749 - val_y_acc: 0.8578 - val_r_acc: 0.9642\n",
      "Epoch 9/10\n",
      "180000/180000 [==============================] - 22s 124us/step - loss: 0.2711 - y_loss: 0.4074 - r_loss: -0.9561 - y_acc: 0.8479 - r_acc: 0.9461 - val_loss: 0.2501 - val_y_loss: 0.3865 - val_r_loss: -0.9776 - val_y_acc: 0.8607 - val_r_acc: 0.9697\n",
      "Epoch 10/10\n",
      "180000/180000 [==============================] - 22s 123us/step - loss: 0.2589 - y_loss: 0.3942 - r_loss: -0.9583 - y_acc: 0.8524 - r_acc: 0.9464 - val_loss: 0.2476 - val_y_loss: 0.3838 - val_r_loss: -0.9779 - val_y_acc: 0.8611 - val_r_acc: 0.9715\n"
     ]
    },
    {
     "name": "stderr",
     "output_type": "stream",
     "text": [
      "  2%|▏         | 1451/60000 [00:00<00:04, 14502.37it/s]"
     ]
    },
    {
     "name": "stdout",
     "output_type": "stream",
     "text": [
      "Training on rotation range of +- 110\n"
     ]
    },
    {
     "name": "stderr",
     "output_type": "stream",
     "text": [
      "100%|██████████| 60000/60000 [00:04<00:00, 14205.78it/s]\n",
      "100%|██████████| 10000/10000 [00:00<00:00, 14526.62it/s]\n"
     ]
    },
    {
     "name": "stdout",
     "output_type": "stream",
     "text": [
      "Train on 180000 samples, validate on 30000 samples\n",
      "Epoch 1/10\n",
      "180000/180000 [==============================] - 24s 131us/step - loss: 1.5541 - y_loss: 1.8175 - r_loss: -0.8162 - y_acc: 0.6364 - r_acc: 0.8590 - val_loss: 0.4225 - val_y_loss: 0.5732 - val_r_loss: -0.9343 - val_y_acc: 0.7881 - val_r_acc: 0.9356\n",
      "Epoch 2/10\n",
      "180000/180000 [==============================] - 23s 125us/step - loss: 0.4851 - y_loss: 0.6388 - r_loss: -0.8983 - y_acc: 0.7669 - r_acc: 0.9113 - val_loss: 0.3640 - val_y_loss: 0.5094 - val_r_loss: -0.9451 - val_y_acc: 0.8126 - val_r_acc: 0.9505\n",
      "Epoch 3/10\n",
      "180000/180000 [==============================] - 23s 127us/step - loss: 0.4229 - y_loss: 0.5716 - r_loss: -0.9152 - y_acc: 0.7894 - r_acc: 0.9246 - val_loss: 0.3352 - val_y_loss: 0.4786 - val_r_loss: -0.9549 - val_y_acc: 0.8258 - val_r_acc: 0.9589\n",
      "Epoch 4/10\n",
      "180000/180000 [==============================] - 22s 123us/step - loss: 0.3845 - y_loss: 0.5301 - r_loss: -0.9257 - y_acc: 0.8036 - r_acc: 0.9322 - val_loss: 0.3073 - val_y_loss: 0.4483 - val_r_loss: -0.9618 - val_y_acc: 0.8343 - val_r_acc: 0.9610\n",
      "Epoch 5/10\n",
      "180000/180000 [==============================] - 22s 123us/step - loss: 0.3580 - y_loss: 0.5013 - r_loss: -0.9319 - y_acc: 0.8142 - r_acc: 0.9348 - val_loss: 0.2950 - val_y_loss: 0.4351 - val_r_loss: -0.9657 - val_y_acc: 0.8386 - val_r_acc: 0.9647\n",
      "Epoch 6/10\n",
      "180000/180000 [==============================] - 22s 123us/step - loss: 0.3349 - y_loss: 0.4762 - r_loss: -0.9374 - y_acc: 0.8226 - r_acc: 0.9389 - val_loss: 0.2862 - val_y_loss: 0.4254 - val_r_loss: -0.9674 - val_y_acc: 0.8430 - val_r_acc: 0.9662\n",
      "Epoch 7/10\n",
      "180000/180000 [==============================] - 22s 123us/step - loss: 0.3176 - y_loss: 0.4574 - r_loss: -0.9405 - y_acc: 0.8285 - r_acc: 0.9414 - val_loss: 0.2848 - val_y_loss: 0.4242 - val_r_loss: -0.9694 - val_y_acc: 0.8444 - val_r_acc: 0.9695\n",
      "Epoch 8/10\n",
      "180000/180000 [==============================] - 22s 123us/step - loss: 0.3038 - y_loss: 0.4424 - r_loss: -0.9435 - y_acc: 0.8348 - r_acc: 0.9424 - val_loss: 0.2741 - val_y_loss: 0.4124 - val_r_loss: -0.9712 - val_y_acc: 0.8484 - val_r_acc: 0.9694\n",
      "Epoch 9/10\n",
      "180000/180000 [==============================] - 22s 123us/step - loss: 0.2922 - y_loss: 0.4298 - r_loss: -0.9457 - y_acc: 0.8387 - r_acc: 0.9441 - val_loss: 0.2691 - val_y_loss: 0.4068 - val_r_loss: -0.9702 - val_y_acc: 0.8506 - val_r_acc: 0.9684\n",
      "Epoch 10/10\n",
      "180000/180000 [==============================] - 22s 123us/step - loss: 0.2811 - y_loss: 0.4176 - r_loss: -0.9482 - y_acc: 0.8427 - r_acc: 0.9470 - val_loss: 0.2688 - val_y_loss: 0.4068 - val_r_loss: -0.9733 - val_y_acc: 0.8523 - val_r_acc: 0.9716\n"
     ]
    },
    {
     "name": "stderr",
     "output_type": "stream",
     "text": [
      "  2%|▏         | 1486/60000 [00:00<00:03, 14853.53it/s]"
     ]
    },
    {
     "name": "stdout",
     "output_type": "stream",
     "text": [
      "Training on rotation range of +- 120\n"
     ]
    },
    {
     "name": "stderr",
     "output_type": "stream",
     "text": [
      "100%|██████████| 60000/60000 [00:04<00:00, 14187.61it/s]\n",
      "100%|██████████| 10000/10000 [00:00<00:00, 14076.98it/s]\n"
     ]
    },
    {
     "name": "stdout",
     "output_type": "stream",
     "text": [
      "Train on 180000 samples, validate on 30000 samples\n",
      "Epoch 1/10\n",
      "180000/180000 [==============================] - 23s 129us/step - loss: 1.1485 - y_loss: 1.3614 - r_loss: -0.7672 - y_acc: 0.6418 - r_acc: 0.8420 - val_loss: 0.4416 - val_y_loss: 0.5917 - val_r_loss: -0.9096 - val_y_acc: 0.7872 - val_r_acc: 0.9329\n",
      "Epoch 2/10\n",
      "180000/180000 [==============================] - 23s 125us/step - loss: 0.5053 - y_loss: 0.6577 - r_loss: -0.8662 - y_acc: 0.7615 - r_acc: 0.8976 - val_loss: 0.3738 - val_y_loss: 0.5186 - val_r_loss: -0.9289 - val_y_acc: 0.8131 - val_r_acc: 0.9389\n",
      "Epoch 3/10\n",
      "180000/180000 [==============================] - 22s 124us/step - loss: 0.4336 - y_loss: 0.5807 - r_loss: -0.8897 - y_acc: 0.7882 - r_acc: 0.9132 - val_loss: 0.3384 - val_y_loss: 0.4808 - val_r_loss: -0.9431 - val_y_acc: 0.8236 - val_r_acc: 0.9467\n",
      "Epoch 4/10\n",
      "180000/180000 [==============================] - 22s 123us/step - loss: 0.3934 - y_loss: 0.5375 - r_loss: -0.9042 - y_acc: 0.8017 - r_acc: 0.9225 - val_loss: 0.3152 - val_y_loss: 0.4558 - val_r_loss: -0.9500 - val_y_acc: 0.8320 - val_r_acc: 0.9582\n",
      "Epoch 5/10\n",
      "180000/180000 [==============================] - 22s 123us/step - loss: 0.3655 - y_loss: 0.5075 - r_loss: -0.9126 - y_acc: 0.8122 - r_acc: 0.9289 - val_loss: 0.3130 - val_y_loss: 0.4539 - val_r_loss: -0.9548 - val_y_acc: 0.8337 - val_r_acc: 0.9594\n",
      "Epoch 6/10\n",
      "180000/180000 [==============================] - 22s 123us/step - loss: 0.3452 - y_loss: 0.4858 - r_loss: -0.9197 - y_acc: 0.8204 - r_acc: 0.9332 - val_loss: 0.2925 - val_y_loss: 0.4315 - val_r_loss: -0.9585 - val_y_acc: 0.8408 - val_r_acc: 0.9607\n",
      "Epoch 7/10\n",
      "180000/180000 [==============================] - 22s 123us/step - loss: 0.3265 - y_loss: 0.4655 - r_loss: -0.9245 - y_acc: 0.8263 - r_acc: 0.9371 - val_loss: 0.2866 - val_y_loss: 0.4255 - val_r_loss: -0.9629 - val_y_acc: 0.8436 - val_r_acc: 0.9599\n",
      "Epoch 8/10\n",
      "180000/180000 [==============================] - 22s 123us/step - loss: 0.3101 - y_loss: 0.4476 - r_loss: -0.9279 - y_acc: 0.8324 - r_acc: 0.9393 - val_loss: 0.2816 - val_y_loss: 0.4200 - val_r_loss: -0.9640 - val_y_acc: 0.8468 - val_r_acc: 0.9597\n",
      "Epoch 9/10\n",
      "180000/180000 [==============================] - 22s 123us/step - loss: 0.2982 - y_loss: 0.4349 - r_loss: -0.9323 - y_acc: 0.8370 - r_acc: 0.9419 - val_loss: 0.2797 - val_y_loss: 0.4181 - val_r_loss: -0.9660 - val_y_acc: 0.8471 - val_r_acc: 0.9629\n",
      "Epoch 10/10\n",
      "180000/180000 [==============================] - 22s 123us/step - loss: 0.2886 - y_loss: 0.4245 - r_loss: -0.9351 - y_acc: 0.8407 - r_acc: 0.9439 - val_loss: 0.2710 - val_y_loss: 0.4084 - val_r_loss: -0.9657 - val_y_acc: 0.8527 - val_r_acc: 0.9640\n"
     ]
    },
    {
     "name": "stderr",
     "output_type": "stream",
     "text": [
      "  2%|▏         | 1415/60000 [00:00<00:04, 14141.11it/s]"
     ]
    },
    {
     "name": "stdout",
     "output_type": "stream",
     "text": [
      "Training on rotation range of +- 130\n"
     ]
    },
    {
     "name": "stderr",
     "output_type": "stream",
     "text": [
      "100%|██████████| 60000/60000 [00:04<00:00, 14106.42it/s]\n",
      "100%|██████████| 10000/10000 [00:00<00:00, 14495.52it/s]\n"
     ]
    },
    {
     "name": "stdout",
     "output_type": "stream",
     "text": [
      "Train on 180000 samples, validate on 30000 samples\n",
      "Epoch 1/10\n",
      "180000/180000 [==============================] - 23s 129us/step - loss: 0.9207 - y_loss: 1.1068 - r_loss: -0.7541 - y_acc: 0.6622 - r_acc: 0.8418 - val_loss: 0.4460 - val_y_loss: 0.5964 - val_r_loss: -0.9073 - val_y_acc: 0.7877 - val_r_acc: 0.9226\n",
      "Epoch 2/10\n",
      "180000/180000 [==============================] - 22s 123us/step - loss: 0.5067 - y_loss: 0.6570 - r_loss: -0.8467 - y_acc: 0.7648 - r_acc: 0.8904 - val_loss: 0.3650 - val_y_loss: 0.5087 - val_r_loss: -0.9288 - val_y_acc: 0.8140 - val_r_acc: 0.9370\n",
      "Epoch 3/10\n",
      "180000/180000 [==============================] - 22s 124us/step - loss: 0.4349 - y_loss: 0.5805 - r_loss: -0.8762 - y_acc: 0.7889 - r_acc: 0.9070 - val_loss: 0.3428 - val_y_loss: 0.4856 - val_r_loss: -0.9423 - val_y_acc: 0.8244 - val_r_acc: 0.9473\n",
      "Epoch 4/10\n",
      "180000/180000 [==============================] - 22s 123us/step - loss: 0.3925 - y_loss: 0.5352 - r_loss: -0.8911 - y_acc: 0.8050 - r_acc: 0.9162 - val_loss: 0.3216 - val_y_loss: 0.4628 - val_r_loss: -0.9491 - val_y_acc: 0.8322 - val_r_acc: 0.9496\n",
      "Epoch 5/10\n",
      "180000/180000 [==============================] - 22s 123us/step - loss: 0.3652 - y_loss: 0.5059 - r_loss: -0.9009 - y_acc: 0.8149 - r_acc: 0.9199 - val_loss: 0.3132 - val_y_loss: 0.4540 - val_r_loss: -0.9540 - val_y_acc: 0.8357 - val_r_acc: 0.9538\n",
      "Epoch 6/10\n",
      "180000/180000 [==============================] - 23s 125us/step - loss: 0.3410 - y_loss: 0.4799 - r_loss: -0.9086 - y_acc: 0.8229 - r_acc: 0.9260 - val_loss: 0.2906 - val_y_loss: 0.4293 - val_r_loss: -0.9579 - val_y_acc: 0.8430 - val_r_acc: 0.9574\n",
      "Epoch 7/10\n",
      "180000/180000 [==============================] - 22s 123us/step - loss: 0.3234 - y_loss: 0.4610 - r_loss: -0.9149 - y_acc: 0.8298 - r_acc: 0.9298 - val_loss: 0.2903 - val_y_loss: 0.4289 - val_r_loss: -0.9564 - val_y_acc: 0.8436 - val_r_acc: 0.9606\n",
      "Epoch 8/10\n",
      "180000/180000 [==============================] - 22s 123us/step - loss: 0.3085 - y_loss: 0.4449 - r_loss: -0.9190 - y_acc: 0.8347 - r_acc: 0.9319 - val_loss: 0.2812 - val_y_loss: 0.4194 - val_r_loss: -0.9620 - val_y_acc: 0.8497 - val_r_acc: 0.9607\n",
      "Epoch 9/10\n",
      "180000/180000 [==============================] - 22s 123us/step - loss: 0.2938 - y_loss: 0.4291 - r_loss: -0.9238 - y_acc: 0.8402 - r_acc: 0.9355 - val_loss: 0.2858 - val_y_loss: 0.4246 - val_r_loss: -0.9632 - val_y_acc: 0.8480 - val_r_acc: 0.9577\n"
     ]
    },
    {
     "name": "stderr",
     "output_type": "stream",
     "text": [
      "  2%|▏         | 1449/60000 [00:00<00:04, 14482.42it/s]"
     ]
    },
    {
     "name": "stdout",
     "output_type": "stream",
     "text": [
      "Training on rotation range of +- 140\n"
     ]
    },
    {
     "name": "stderr",
     "output_type": "stream",
     "text": [
      "100%|██████████| 60000/60000 [00:04<00:00, 14222.74it/s]\n",
      "100%|██████████| 10000/10000 [00:00<00:00, 14553.72it/s]\n"
     ]
    },
    {
     "name": "stdout",
     "output_type": "stream",
     "text": [
      "Train on 180000 samples, validate on 30000 samples\n",
      "Epoch 1/10\n",
      "180000/180000 [==============================] - 23s 129us/step - loss: 2.5028 - y_loss: 2.8529 - r_loss: -0.6478 - y_acc: 0.5457 - r_acc: 0.7751 - val_loss: 0.5308 - val_y_loss: 0.6874 - val_r_loss: -0.8783 - val_y_acc: 0.7585 - val_r_acc: 0.8903\n",
      "Epoch 2/10\n",
      "180000/180000 [==============================] - 22s 123us/step - loss: 0.6017 - y_loss: 0.7580 - r_loss: -0.8050 - y_acc: 0.7252 - r_acc: 0.8462 - val_loss: 0.4340 - val_y_loss: 0.5828 - val_r_loss: -0.9054 - val_y_acc: 0.7915 - val_r_acc: 0.9085\n",
      "Epoch 3/10\n",
      "180000/180000 [==============================] - 23s 127us/step - loss: 0.5168 - y_loss: 0.6670 - r_loss: -0.8358 - y_acc: 0.7588 - r_acc: 0.8638 - val_loss: 0.3891 - val_y_loss: 0.5343 - val_r_loss: -0.9181 - val_y_acc: 0.8088 - val_r_acc: 0.9122\n",
      "Epoch 4/10\n",
      "180000/180000 [==============================] - 23s 125us/step - loss: 0.4682 - y_loss: 0.6153 - r_loss: -0.8550 - y_acc: 0.7762 - r_acc: 0.8759 - val_loss: 0.3697 - val_y_loss: 0.5142 - val_r_loss: -0.9309 - val_y_acc: 0.8131 - val_r_acc: 0.9272\n",
      "Epoch 5/10\n",
      "180000/180000 [==============================] - 22s 124us/step - loss: 0.4334 - y_loss: 0.5779 - r_loss: -0.8666 - y_acc: 0.7882 - r_acc: 0.8822 - val_loss: 0.3431 - val_y_loss: 0.4854 - val_r_loss: -0.9382 - val_y_acc: 0.8229 - val_r_acc: 0.9299\n",
      "Epoch 6/10\n",
      "180000/180000 [==============================] - 22s 123us/step - loss: 0.4038 - y_loss: 0.5460 - r_loss: -0.8764 - y_acc: 0.7993 - r_acc: 0.8874 - val_loss: 0.3439 - val_y_loss: 0.4864 - val_r_loss: -0.9387 - val_y_acc: 0.8232 - val_r_acc: 0.9331\n"
     ]
    },
    {
     "name": "stderr",
     "output_type": "stream",
     "text": [
      "  2%|▏         | 1378/60000 [00:00<00:04, 13772.99it/s]"
     ]
    },
    {
     "name": "stdout",
     "output_type": "stream",
     "text": [
      "Training on rotation range of +- 150\n"
     ]
    },
    {
     "name": "stderr",
     "output_type": "stream",
     "text": [
      "100%|██████████| 60000/60000 [00:04<00:00, 14283.30it/s]\n",
      "100%|██████████| 10000/10000 [00:00<00:00, 14312.57it/s]\n"
     ]
    },
    {
     "name": "stdout",
     "output_type": "stream",
     "text": [
      "Train on 180000 samples, validate on 30000 samples\n",
      "Epoch 1/10\n",
      "180000/180000 [==============================] - 23s 130us/step - loss: 3.8796 - y_loss: 4.3730 - r_loss: -0.5610 - y_acc: 0.4653 - r_acc: 0.7280 - val_loss: 0.5705 - val_y_loss: 0.7274 - val_r_loss: -0.8410 - val_y_acc: 0.7427 - val_r_acc: 0.8615\n",
      "Epoch 2/10\n",
      "180000/180000 [==============================] - 22s 123us/step - loss: 0.6385 - y_loss: 0.7935 - r_loss: -0.7568 - y_acc: 0.7145 - r_acc: 0.8172 - val_loss: 0.4561 - val_y_loss: 0.6056 - val_r_loss: -0.8898 - val_y_acc: 0.7803 - val_r_acc: 0.8870\n",
      "Epoch 3/10\n",
      "180000/180000 [==============================] - 23s 126us/step - loss: 0.5383 - y_loss: 0.6871 - r_loss: -0.8010 - y_acc: 0.7507 - r_acc: 0.8416 - val_loss: 0.4148 - val_y_loss: 0.5613 - val_r_loss: -0.9033 - val_y_acc: 0.7975 - val_r_acc: 0.8985\n",
      "Epoch 4/10\n",
      "180000/180000 [==============================] - 23s 125us/step - loss: 0.4902 - y_loss: 0.6358 - r_loss: -0.8198 - y_acc: 0.7675 - r_acc: 0.8544 - val_loss: 0.3800 - val_y_loss: 0.5235 - val_r_loss: -0.9123 - val_y_acc: 0.8105 - val_r_acc: 0.9014\n",
      "Epoch 5/10\n",
      "180000/180000 [==============================] - 22s 123us/step - loss: 0.4570 - y_loss: 0.6006 - r_loss: -0.8352 - y_acc: 0.7811 - r_acc: 0.8618 - val_loss: 0.3655 - val_y_loss: 0.5084 - val_r_loss: -0.9203 - val_y_acc: 0.8159 - val_r_acc: 0.9074\n",
      "Epoch 6/10\n",
      "180000/180000 [==============================] - 22s 123us/step - loss: 0.4293 - y_loss: 0.5712 - r_loss: -0.8472 - y_acc: 0.7901 - r_acc: 0.8669 - val_loss: 0.3552 - val_y_loss: 0.4977 - val_r_loss: -0.9273 - val_y_acc: 0.8192 - val_r_acc: 0.9162\n",
      "Epoch 7/10\n",
      "180000/180000 [==============================] - 22s 123us/step - loss: 0.4064 - y_loss: 0.5468 - r_loss: -0.8575 - y_acc: 0.7988 - r_acc: 0.8710 - val_loss: 0.3472 - val_y_loss: 0.4893 - val_r_loss: -0.9320 - val_y_acc: 0.8199 - val_r_acc: 0.9178\n",
      "Epoch 8/10\n",
      "180000/180000 [==============================] - 22s 123us/step - loss: 0.3933 - y_loss: 0.5331 - r_loss: -0.8655 - y_acc: 0.8029 - r_acc: 0.8774 - val_loss: 0.3408 - val_y_loss: 0.4824 - val_r_loss: -0.9338 - val_y_acc: 0.8247 - val_r_acc: 0.9230\n",
      "Epoch 9/10\n",
      "180000/180000 [==============================] - 23s 125us/step - loss: 0.3780 - y_loss: 0.5167 - r_loss: -0.8703 - y_acc: 0.8087 - r_acc: 0.8808 - val_loss: 0.3292 - val_y_loss: 0.4696 - val_r_loss: -0.9352 - val_y_acc: 0.8295 - val_r_acc: 0.9265\n",
      "Epoch 10/10\n",
      "180000/180000 [==============================] - 22s 123us/step - loss: 0.3610 - y_loss: 0.4987 - r_loss: -0.8776 - y_acc: 0.8148 - r_acc: 0.8823 - val_loss: 0.3274 - val_y_loss: 0.4681 - val_r_loss: -0.9387 - val_y_acc: 0.8299 - val_r_acc: 0.9218\n"
     ]
    },
    {
     "name": "stderr",
     "output_type": "stream",
     "text": [
      "  2%|▏         | 1398/60000 [00:00<00:04, 13973.92it/s]"
     ]
    },
    {
     "name": "stdout",
     "output_type": "stream",
     "text": [
      "Training on rotation range of +- 160\n"
     ]
    },
    {
     "name": "stderr",
     "output_type": "stream",
     "text": [
      "100%|██████████| 60000/60000 [00:04<00:00, 13945.72it/s]\n",
      "100%|██████████| 10000/10000 [00:00<00:00, 13700.11it/s]\n"
     ]
    },
    {
     "name": "stdout",
     "output_type": "stream",
     "text": [
      "Train on 180000 samples, validate on 30000 samples\n",
      "Epoch 1/10\n",
      "180000/180000 [==============================] - 24s 131us/step - loss: 2.4492 - y_loss: 2.7849 - r_loss: -0.5722 - y_acc: 0.5484 - r_acc: 0.7309 - val_loss: 0.5412 - val_y_loss: 0.6941 - val_r_loss: -0.8346 - val_y_acc: 0.7550 - val_r_acc: 0.8602\n",
      "Epoch 2/10\n",
      "180000/180000 [==============================] - 22s 123us/step - loss: 0.6204 - y_loss: 0.7717 - r_loss: -0.7409 - y_acc: 0.7212 - r_acc: 0.8061 - val_loss: 0.4477 - val_y_loss: 0.5944 - val_r_loss: -0.8724 - val_y_acc: 0.7869 - val_r_acc: 0.8756\n",
      "Epoch 3/10\n",
      "180000/180000 [==============================] - 23s 125us/step - loss: 0.5406 - y_loss: 0.6868 - r_loss: -0.7759 - y_acc: 0.7497 - r_acc: 0.8257 - val_loss: 0.4138 - val_y_loss: 0.5584 - val_r_loss: -0.8877 - val_y_acc: 0.7978 - val_r_acc: 0.8923\n",
      "Epoch 4/10\n",
      "180000/180000 [==============================] - 22s 123us/step - loss: 0.4914 - y_loss: 0.6352 - r_loss: -0.8033 - y_acc: 0.7682 - r_acc: 0.8417 - val_loss: 0.3877 - val_y_loss: 0.5312 - val_r_loss: -0.9045 - val_y_acc: 0.8040 - val_r_acc: 0.9055\n",
      "Epoch 5/10\n",
      "180000/180000 [==============================] - 22s 123us/step - loss: 0.4605 - y_loss: 0.6027 - r_loss: -0.8194 - y_acc: 0.7788 - r_acc: 0.8519 - val_loss: 0.3730 - val_y_loss: 0.5154 - val_r_loss: -0.9091 - val_y_acc: 0.8143 - val_r_acc: 0.9141\n",
      "Epoch 6/10\n",
      "180000/180000 [==============================] - 22s 123us/step - loss: 0.4369 - y_loss: 0.5777 - r_loss: -0.8299 - y_acc: 0.7877 - r_acc: 0.8558 - val_loss: 0.3632 - val_y_loss: 0.5061 - val_r_loss: -0.9231 - val_y_acc: 0.8148 - val_r_acc: 0.9205\n",
      "Epoch 7/10\n",
      "180000/180000 [==============================] - 22s 123us/step - loss: 0.4164 - y_loss: 0.5560 - r_loss: -0.8401 - y_acc: 0.7951 - r_acc: 0.8632 - val_loss: 0.3507 - val_y_loss: 0.4926 - val_r_loss: -0.9266 - val_y_acc: 0.8188 - val_r_acc: 0.9199\n",
      "Epoch 8/10\n",
      "180000/180000 [==============================] - 22s 123us/step - loss: 0.3988 - y_loss: 0.5376 - r_loss: -0.8501 - y_acc: 0.8024 - r_acc: 0.8667 - val_loss: 0.3380 - val_y_loss: 0.4792 - val_r_loss: -0.9327 - val_y_acc: 0.8258 - val_r_acc: 0.9256\n",
      "Epoch 9/10\n",
      "180000/180000 [==============================] - 22s 123us/step - loss: 0.3846 - y_loss: 0.5226 - r_loss: -0.8574 - y_acc: 0.8065 - r_acc: 0.8723 - val_loss: 0.3439 - val_y_loss: 0.4858 - val_r_loss: -0.9327 - val_y_acc: 0.8276 - val_r_acc: 0.9214\n"
     ]
    },
    {
     "name": "stderr",
     "output_type": "stream",
     "text": [
      "  2%|▏         | 1417/60000 [00:00<00:04, 14160.73it/s]"
     ]
    },
    {
     "name": "stdout",
     "output_type": "stream",
     "text": [
      "Training on rotation range of +- 170\n"
     ]
    },
    {
     "name": "stderr",
     "output_type": "stream",
     "text": [
      "100%|██████████| 60000/60000 [00:04<00:00, 13577.27it/s]\n",
      "100%|██████████| 10000/10000 [00:00<00:00, 13843.78it/s]\n"
     ]
    },
    {
     "name": "stdout",
     "output_type": "stream",
     "text": [
      "Train on 180000 samples, validate on 30000 samples\n",
      "Epoch 1/10\n",
      "180000/180000 [==============================] - 24s 132us/step - loss: 1.2226 - y_loss: 1.4263 - r_loss: -0.6109 - y_acc: 0.6011 - r_acc: 0.7479 - val_loss: 0.5256 - val_y_loss: 0.6776 - val_r_loss: -0.8417 - val_y_acc: 0.7570 - val_r_acc: 0.8630\n",
      "Epoch 2/10\n",
      "180000/180000 [==============================] - 22s 124us/step - loss: 0.5946 - y_loss: 0.7448 - r_loss: -0.7568 - y_acc: 0.7306 - r_acc: 0.8185 - val_loss: 0.4373 - val_y_loss: 0.5833 - val_r_loss: -0.8766 - val_y_acc: 0.7902 - val_r_acc: 0.8919\n",
      "Epoch 3/10\n",
      "180000/180000 [==============================] - 23s 128us/step - loss: 0.5168 - y_loss: 0.6618 - r_loss: -0.7885 - y_acc: 0.7595 - r_acc: 0.8332 - val_loss: 0.4012 - val_y_loss: 0.5456 - val_r_loss: -0.8983 - val_y_acc: 0.8015 - val_r_acc: 0.9037\n",
      "Epoch 4/10\n",
      "180000/180000 [==============================] - 23s 126us/step - loss: 0.4751 - y_loss: 0.6176 - r_loss: -0.8075 - y_acc: 0.7735 - r_acc: 0.8481 - val_loss: 0.3829 - val_y_loss: 0.5261 - val_r_loss: -0.9064 - val_y_acc: 0.8088 - val_r_acc: 0.9093\n",
      "Epoch 5/10\n",
      "180000/180000 [==============================] - 23s 126us/step - loss: 0.4447 - y_loss: 0.5854 - r_loss: -0.8216 - y_acc: 0.7855 - r_acc: 0.8552 - val_loss: 0.3666 - val_y_loss: 0.5083 - val_r_loss: -0.9095 - val_y_acc: 0.8155 - val_r_acc: 0.9120\n",
      "Epoch 6/10\n",
      "180000/180000 [==============================] - 22s 123us/step - loss: 0.4195 - y_loss: 0.5586 - r_loss: -0.8331 - y_acc: 0.7952 - r_acc: 0.8610 - val_loss: 0.3523 - val_y_loss: 0.4937 - val_r_loss: -0.9195 - val_y_acc: 0.8203 - val_r_acc: 0.9156\n",
      "Epoch 7/10\n",
      "180000/180000 [==============================] - 22s 123us/step - loss: 0.4005 - y_loss: 0.5384 - r_loss: -0.8404 - y_acc: 0.8022 - r_acc: 0.8647 - val_loss: 0.3453 - val_y_loss: 0.4857 - val_r_loss: -0.9192 - val_y_acc: 0.8235 - val_r_acc: 0.9187\n",
      "Epoch 8/10\n",
      "180000/180000 [==============================] - 22s 123us/step - loss: 0.3830 - y_loss: 0.5195 - r_loss: -0.8458 - y_acc: 0.8076 - r_acc: 0.8703 - val_loss: 0.3368 - val_y_loss: 0.4768 - val_r_loss: -0.9234 - val_y_acc: 0.8273 - val_r_acc: 0.9232\n",
      "Epoch 9/10\n",
      "180000/180000 [==============================] - 22s 123us/step - loss: 0.3710 - y_loss: 0.5067 - r_loss: -0.8503 - y_acc: 0.8126 - r_acc: 0.8746 - val_loss: 0.3315 - val_y_loss: 0.4714 - val_r_loss: -0.9274 - val_y_acc: 0.8273 - val_r_acc: 0.9272\n",
      "Epoch 10/10\n",
      "180000/180000 [==============================] - 22s 123us/step - loss: 0.3542 - y_loss: 0.4886 - r_loss: -0.8555 - y_acc: 0.8197 - r_acc: 0.8754 - val_loss: 0.3309 - val_y_loss: 0.4707 - val_r_loss: -0.9277 - val_y_acc: 0.8307 - val_r_acc: 0.9270\n"
     ]
    },
    {
     "name": "stderr",
     "output_type": "stream",
     "text": [
      "  2%|▏         | 1432/60000 [00:00<00:04, 14306.34it/s]"
     ]
    },
    {
     "name": "stdout",
     "output_type": "stream",
     "text": [
      "Training on rotation range of +- 180\n"
     ]
    },
    {
     "name": "stderr",
     "output_type": "stream",
     "text": [
      "100%|██████████| 60000/60000 [00:04<00:00, 13336.19it/s]\n",
      "100%|██████████| 10000/10000 [00:00<00:00, 14207.75it/s]\n"
     ]
    },
    {
     "name": "stdout",
     "output_type": "stream",
     "text": [
      "Train on 180000 samples, validate on 30000 samples\n",
      "Epoch 1/10\n",
      "180000/180000 [==============================] - 24s 132us/step - loss: 1.2152 - y_loss: 1.4185 - r_loss: -0.6144 - y_acc: 0.6078 - r_acc: 0.7576 - val_loss: 0.5234 - val_y_loss: 0.6743 - val_r_loss: -0.8346 - val_y_acc: 0.7602 - val_r_acc: 0.8678\n",
      "Epoch 2/10\n",
      "180000/180000 [==============================] - 22s 123us/step - loss: 0.5981 - y_loss: 0.7483 - r_loss: -0.7545 - y_acc: 0.7311 - r_acc: 0.8328 - val_loss: 0.4407 - val_y_loss: 0.5870 - val_r_loss: -0.8762 - val_y_acc: 0.7894 - val_r_acc: 0.8991\n",
      "Epoch 3/10\n",
      "180000/180000 [==============================] - 23s 126us/step - loss: 0.5234 - y_loss: 0.6688 - r_loss: -0.7855 - y_acc: 0.7580 - r_acc: 0.8482 - val_loss: 0.4116 - val_y_loss: 0.5567 - val_r_loss: -0.8950 - val_y_acc: 0.7967 - val_r_acc: 0.9183\n",
      "Epoch 4/10\n",
      "180000/180000 [==============================] - 22s 124us/step - loss: 0.4771 - y_loss: 0.6199 - r_loss: -0.8084 - y_acc: 0.7752 - r_acc: 0.8611 - val_loss: 0.3780 - val_y_loss: 0.5210 - val_r_loss: -0.9095 - val_y_acc: 0.8117 - val_r_acc: 0.9237\n",
      "Epoch 5/10\n",
      "180000/180000 [==============================] - 23s 125us/step - loss: 0.4463 - y_loss: 0.5870 - r_loss: -0.8203 - y_acc: 0.7855 - r_acc: 0.8672 - val_loss: 0.3798 - val_y_loss: 0.5233 - val_r_loss: -0.9110 - val_y_acc: 0.8110 - val_r_acc: 0.9261\n"
     ]
    }
   ],
   "source": [
    "histories = []\n",
    "\n",
    "use_labels = True\n",
    "use_rotation = True\n",
    "\n",
    "rot_step = 10\n",
    "\n",
    "for rot_range in range(0, 180 + rot_step, rot_step):\n",
    "    \n",
    "    print('Training on rotation range of +-', rot_range)\n",
    "\n",
    "    X_train_rot, Y_train_rot, R_train = generate_random_rotations(X_train, Y_train, \n",
    "                                                                  augmented_rotations_per_sample, rot_range)\n",
    "    X_test_rot, Y_test_rot, R_test = generate_random_rotations(X_test, Y_test, \n",
    "                                                               augmented_rotations_per_sample, rot_range)\n",
    "\n",
    "    Y_train_onehot = keras.utils.to_categorical(Y_train_rot)\n",
    "    Y_test_onehot = keras.utils.to_categorical(Y_test_rot)\n",
    "\n",
    "    nb_classes = Y_train_onehot.shape[1]\n",
    "\n",
    "    R_train_radians, R_test_radians = (R * np.pi / 180 for R in (R_train, R_test))\n",
    "\n",
    "    R_train_sin_cos = create_rot_sin_cos(R_train_radians)\n",
    "    R_test_sin_cos = create_rot_sin_cos(R_test_radians)\n",
    "\n",
    "    alpha = K.variable(0.9)\n",
    "    beta = K.variable(0.1)\n",
    "    model = build_model(use_labels, use_rotation)\n",
    "\n",
    "    history = train_model(model, use_labels, use_rotation).history\n",
    "    histories.append(history)\n"
   ]
  },
  {
   "cell_type": "code",
   "execution_count": 18,
   "metadata": {},
   "outputs": [],
   "source": [
    "def get_data_from_histories():\n",
    "\n",
    "    for history in histories:\n",
    "\n",
    "        idx_min_loss = np.argmin(history['val_loss'])\n",
    "        data = []\n",
    "\n",
    "        for key in ('val_loss', 'val_r_loss', 'val_r_acc', 'val_y_loss', 'val_y_acc'):\n",
    "            data.append(history[key][idx_min_loss])\n",
    "            \n",
    "        yield data"
   ]
  },
  {
   "cell_type": "code",
   "execution_count": 19,
   "metadata": {},
   "outputs": [],
   "source": [
    "data = np.array(list(get_data_from_histories()))"
   ]
  },
  {
   "cell_type": "code",
   "execution_count": 20,
   "metadata": {},
   "outputs": [],
   "source": [
    "%matplotlib inline\n",
    "\n",
    "import matplotlib.pyplot as plt"
   ]
  },
  {
   "cell_type": "code",
   "execution_count": 21,
   "metadata": {},
   "outputs": [
    {
     "data": {
      "text/plain": [
       "<matplotlib.legend.Legend at 0x7f47fca65d68>"
      ]
     },
     "execution_count": 21,
     "metadata": {},
     "output_type": "execute_result"
    },
    {
     "data": {
      "image/png": "[encoded data removed]",
      "text/plain": [
       "<matplotlib.figure.Figure at 0x7f47fdd8e7b8>"
      ]
     },
     "metadata": {},
     "output_type": "display_data"
    }
   ],
   "source": [
    "plt.figure(figsize=(12, 10))\n",
    "plt.subplot(211)\n",
    "plt.grid()\n",
    "plt.plot(np.arange(0, 190, 10) * 2, data[:, 4], label='classification_accuracy')\n",
    "plt.xlabel('Rotation range (degrees)')\n",
    "plt.legend()\n",
    "plt.subplot(212)\n",
    "plt.grid()\n",
    "plt.plot(np.arange(0, 190, 10) * 2, data[:, 1], label='rotation_loss')\n",
    "plt.xlabel('Rotation range (degrees)')\n",
    "plt.legend()"
   ]
  },
  {
   "cell_type": "code",
   "execution_count": 60,
   "metadata": {},
   "outputs": [],
   "source": [
    "Y_pred, R_pred = model.predict(X_test_rot)"
   ]
  },
  {
   "cell_type": "code",
   "execution_count": 44,
   "metadata": {},
   "outputs": [],
   "source": [
    "diff_degree = np.abs(np.arctan2(R_pred[:, 0], R_pred[:, 1]) * 180 / np.pi - R_test)\n",
    "diff_degree = np.array([diff if diff < 180 else diff - 180 for diff in diff_degree])"
   ]
  },
  {
   "cell_type": "code",
   "execution_count": 78,
   "metadata": {},
   "outputs": [
    {
     "data": {
      "image/png": "[encoded data removed]",
      "text/plain": [
       "<matplotlib.figure.Figure at 0x7f47f4558c88>"
      ]
     },
     "metadata": {},
     "output_type": "display_data"
    }
   ],
   "source": [
    "plt.figure(figsize=(12, 10))\n",
    "plt.title('Histogram of absolute differences between the true and the predicted orientation (using full circle rotations)')\n",
    "plt.hist(diff_degree, bins=35)\n",
    "plt.grid()\n",
    "plt.xlabel('Difference between true and predicted orientation')\n",
    "plt.ylabel('Number of samples')\n",
    "plt.show()"
   ]
  },
  {
   "cell_type": "code",
   "execution_count": 83,
   "metadata": {},
   "outputs": [
    {
     "data": {
      "image/png": "[encoded data removed]",
      "text/plain": [
       "<matplotlib.figure.Figure at 0x7f47f43e87b8>"
      ]
     },
     "metadata": {},
     "output_type": "display_data"
    }
   ],
   "source": [
    "xv = np.arange(0, 101)\n",
    "plt.figure(figsize=(12, 10))\n",
    "plt.grid()\n",
    "plt.plot([np.percentile(diff_degree, x) for x in xv], xv)\n",
    "plt.title('Percentile of test samples whose absolute difference between true and predicted orientation is below x \\n(training using full circle)')\n",
    "plt.xlabel('Difference in degrees between the true and the predicted orientation')\n",
    "plt.ylabel('Percentage of predicted orientations below the corresponding difference')\n",
    "plt.show()"
   ]
  },
  {
   "cell_type": "code",
   "execution_count": 63,
   "metadata": {},
   "outputs": [],
   "source": [
    "Y_pred = np.argmax(Y_pred, axis=1)"
   ]
  },
  {
   "cell_type": "code",
   "execution_count": 73,
   "metadata": {},
   "outputs": [
    {
     "data": {
      "text/plain": [
       "<matplotlib.colorbar.Colorbar at 0x7f47f4577e80>"
      ]
     },
     "execution_count": 73,
     "metadata": {},
     "output_type": "execute_result"
    },
    {
     "data": {
      "image/png": "[encoded data removed]",
      "text/plain": [
       "<matplotlib.figure.Figure at 0x7f47f454f470>"
      ]
     },
     "metadata": {},
     "output_type": "display_data"
    }
   ],
   "source": [
    "confusion_matrix = np.zeros((10, 10), dtype='int')\n",
    "\n",
    "for y_true, y_pred in zip(Y_test_rot, Y_pred):\n",
    "    confusion_matrix[y_true, y_pred] += 1\n",
    "\n",
    "plt.figure(figsize=(12, 10))\n",
    "plt.title('Confusion Matrix (Fashion MNIST)')\n",
    "plt.imshow(confusion_matrix)\n",
    "plt.colorbar()"
   ]
  }
 ],
 "metadata": {
  "kernelspec": {
   "display_name": "Python 3",
   "language": "python",
   "name": "python3"
  },
  "language_info": {
   "codemirror_mode": {
    "name": "ipython",
    "version": 3
   },
   "file_extension": ".py",
   "mimetype": "text/x-python",
   "name": "python",
   "nbconvert_exporter": "python",
   "pygments_lexer": "ipython3",
   "version": "3.5.2"
  }
 },
 "nbformat": 4,
 "nbformat_minor": 2
}
