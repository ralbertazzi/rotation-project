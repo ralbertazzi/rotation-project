{
 "cells": [
  {
   "cell_type": "code",
   "execution_count": 1,
   "metadata": {},
   "outputs": [],
   "source": [
    "import numpy as np\n",
    "import cv2\n",
    "import matplotlib.pyplot as plt\n",
    "import skimage\n",
    "from tqdm import tqdm"
   ]
  },
  {
   "cell_type": "code",
   "execution_count": 2,
   "metadata": {},
   "outputs": [],
   "source": [
    "def cv2_rotate(image, degrees):\n",
    "    rows, cols = template.shape\n",
    "    M = cv2.getRotationMatrix2D((cols/2,rows/2), degrees, 1)\n",
    "    return cv2.warpAffine(template, M, (cols,rows))"
   ]
  },
  {
   "cell_type": "code",
   "execution_count": 3,
   "metadata": {},
   "outputs": [
    {
     "data": {
      "text/plain": [
       "<matplotlib.image.AxesImage at 0x7f3a125f29e8>"
      ]
     },
     "execution_count": 3,
     "metadata": {},
     "output_type": "execute_result"
    },
    {
     "data": {
      "image/png": "[encoded data removed]",
      "text/plain": [
       "<matplotlib.figure.Figure at 0x7f3a473e6908>"
      ]
     },
     "metadata": {},
     "output_type": "display_data"
    }
   ],
   "source": [
    "template = cv2.imread('images/on-off.jpg', 0)\n",
    "template = 255 - template\n",
    "template = cv2_rotate(template, -90)\n",
    "template = cv2.resize(template, (128, 128))\n",
    "plt.imshow(template, cmap='gray')"
   ]
  },
  {
   "cell_type": "code",
   "execution_count": 4,
   "metadata": {},
   "outputs": [],
   "source": [
    "train_size = 20000\n",
    "valid_size = 5000\n",
    "image_size = 32"
   ]
  },
  {
   "cell_type": "code",
   "execution_count": 5,
   "metadata": {},
   "outputs": [],
   "source": [
    "rotations_degrees = np.random.randint(360, size=(train_size + valid_size))\n",
    "rotations_radians = rotations_degrees * np.pi / 180\n",
    "\n",
    "rot_sin_cos = np.empty((train_size + valid_size, 2))\n",
    "rot_sin_cos[:, 0] = np.sin(rotations_radians)\n",
    "rot_sin_cos[:, 1] = np.cos(rotations_radians)"
   ]
  },
  {
   "cell_type": "code",
   "execution_count": 6,
   "metadata": {},
   "outputs": [
    {
     "name": "stderr",
     "output_type": "stream",
     "text": [
      "100%|██████████| 25000/25000 [00:02<00:00, 9890.42it/s]\n"
     ]
    }
   ],
   "source": [
    "X = np.array([cv2.resize(cv2_rotate(template, rotation), (image_size, image_size)) for rotation in tqdm(rotations_degrees)])\n",
    "X = np.expand_dims(X, 3)"
   ]
  },
  {
   "cell_type": "code",
   "execution_count": 7,
   "metadata": {},
   "outputs": [],
   "source": [
    "X_train, X_valid = X[:train_size], X[train_size:]\n",
    "Y_train, Y_valid = rot_sin_cos[:train_size], rot_sin_cos[train_size:]"
   ]
  },
  {
   "cell_type": "code",
   "execution_count": 8,
   "metadata": {},
   "outputs": [
    {
     "data": {
      "text/plain": [
       "<matplotlib.image.AxesImage at 0x7f3a0ed6d6d8>"
      ]
     },
     "execution_count": 8,
     "metadata": {},
     "output_type": "execute_result"
    },
    {
     "data": {
      "image/png": "[encoded data removed]",
      "text/plain": [
       "<matplotlib.figure.Figure at 0x7f3a125cf8d0>"
      ]
     },
     "metadata": {},
     "output_type": "display_data"
    }
   ],
   "source": [
    "plt.imshow(X_valid[0][:, :, 0])"
   ]
  },
  {
   "cell_type": "code",
   "execution_count": 9,
   "metadata": {},
   "outputs": [
    {
     "name": "stdout",
     "output_type": "stream",
     "text": [
      "[-0.22495105  0.97437006] 314 5.480333851262194\n"
     ]
    }
   ],
   "source": [
    "print(Y_valid[0], rotations_degrees[0], rotations_radians[0])"
   ]
  },
  {
   "cell_type": "code",
   "execution_count": 10,
   "metadata": {},
   "outputs": [
    {
     "name": "stderr",
     "output_type": "stream",
     "text": [
      "/usr/local/lib/python3.5/dist-packages/h5py/__init__.py:36: FutureWarning: Conversion of the second argument of issubdtype from `float` to `np.floating` is deprecated. In future, it will be treated as `np.float64 == np.dtype(float).type`.\n",
      "  from ._conv import register_converters as _register_converters\n",
      "Using TensorFlow backend.\n"
     ]
    },
    {
     "name": "stdout",
     "output_type": "stream",
     "text": [
      "WARNING:tensorflow:From /usr/local/lib/python3.5/dist-packages/keras/backend/tensorflow_backend.py:3148: calling l2_normalize (from tensorflow.python.ops.nn_impl) with dim is deprecated and will be removed in a future version.\n",
      "Instructions for updating:\n",
      "dim is deprecated, use axis instead\n",
      "_________________________________________________________________\n",
      "Layer (type)                 Output Shape              Param #   \n",
      "=================================================================\n",
      "input_1 (InputLayer)         (None, 32, 32, 1)         0         \n",
      "_________________________________________________________________\n",
      "conv2d_1 (Conv2D)            (None, 28, 28, 32)        832       \n",
      "_________________________________________________________________\n",
      "conv2d_2 (Conv2D)            (None, 24, 24, 32)        25632     \n",
      "_________________________________________________________________\n",
      "max_pooling2d_1 (MaxPooling2 (None, 12, 12, 32)        0         \n",
      "_________________________________________________________________\n",
      "dropout_1 (Dropout)          (None, 12, 12, 32)        0         \n",
      "_________________________________________________________________\n",
      "flatten_1 (Flatten)          (None, 4608)              0         \n",
      "_________________________________________________________________\n",
      "dense_1 (Dense)              (None, 128)               589952    \n",
      "_________________________________________________________________\n",
      "dense_2 (Dense)              (None, 2)                 258       \n",
      "=================================================================\n",
      "Total params: 616,674\n",
      "Trainable params: 616,674\n",
      "Non-trainable params: 0\n",
      "_________________________________________________________________\n"
     ]
    }
   ],
   "source": [
    "from keras import layers\n",
    "from keras import models\n",
    "\n",
    "input_layer = layers.Input((image_size, image_size, 1))\n",
    "x = input_layer\n",
    "\n",
    "x = layers.Conv2D(32, (5,5), activation='relu')(x)\n",
    "x = layers.Conv2D(32, (5,5), activation='relu')(x)\n",
    "x = layers.MaxPool2D()(x)\n",
    "x = layers.Dropout(0.2)(x)\n",
    "x = layers.Flatten()(x)\n",
    "x = layers.Dense(128, activation='relu')(x)\n",
    "x = layers.Dense(2)(x)\n",
    "\n",
    "model = models.Model(input_layer, x)\n",
    "model.compile(optimizer='adam', loss='cosine_proximity', metrics=['accuracy'])\n",
    "model.summary()"
   ]
  },
  {
   "cell_type": "code",
   "execution_count": 11,
   "metadata": {},
   "outputs": [
    {
     "name": "stdout",
     "output_type": "stream",
     "text": [
      "Train on 20000 samples, validate on 5000 samples\n",
      "Epoch 1/2\n",
      "20000/20000 [==============================] - 7s 343us/step - loss: -0.9941 - acc: 0.9859 - val_loss: -0.9999 - val_acc: 0.9988\n",
      "Epoch 2/2\n",
      "20000/20000 [==============================] - 5s 264us/step - loss: -0.9997 - acc: 0.9931 - val_loss: -0.9999 - val_acc: 1.0000\n"
     ]
    },
    {
     "data": {
      "text/plain": [
       "<keras.callbacks.History at 0x7f399cd366a0>"
      ]
     },
     "execution_count": 11,
     "metadata": {},
     "output_type": "execute_result"
    }
   ],
   "source": [
    "model.fit(X_train, Y_train, validation_data=(X_valid, Y_valid), epochs=2)"
   ]
  },
  {
   "cell_type": "code",
   "execution_count": 12,
   "metadata": {},
   "outputs": [],
   "source": [
    "Y_predict = model.predict(X_valid)"
   ]
  },
  {
   "cell_type": "code",
   "execution_count": 13,
   "metadata": {},
   "outputs": [],
   "source": [
    "Y_predict_degrees = np.arctan2(Y_predict[:, 0], Y_predict[:, 1]) * 180 / np.pi"
   ]
  },
  {
   "cell_type": "code",
   "execution_count": 15,
   "metadata": {},
   "outputs": [],
   "source": [
    "Y_r = np.arctan2(Y_valid[:, 0], Y_valid[:, 1]) * 180 / np.pi"
   ]
  },
  {
   "cell_type": "code",
   "execution_count": 14,
   "metadata": {},
   "outputs": [
    {
     "data": {
      "text/plain": [
       "array([ -13.273812, -156.38457 ,  156.09004 ,  123.29733 ,  124.65972 ,\n",
       "        -80.86681 , -169.9115  , -153.33209 ,  104.56914 , -174.94638 ,\n",
       "       -173.27739 ,  -33.635403,  164.7504  ,  -73.97227 ,  -15.34733 ,\n",
       "       -118.45711 ,  131.89868 ,  -69.66937 ,   10.91128 , -145.15549 ,\n",
       "         29.651428,  -41.73596 ,   16.4078  ,   78.707924,  -96.13392 ,\n",
       "         39.16235 , -112.89662 , -156.38457 , -133.8122  ,  132.7978  ,\n",
       "         30.786135,   82.62309 ,    5.841584,  103.50792 ,  -12.187311,\n",
       "        -61.467587,   79.61585 ,  171.42528 , -128.6491  ,  -88.66404 ,\n",
       "        -89.84561 ,   19.51589 ,  -92.491196,   19.51589 , -114.212006,\n",
       "       -160.39496 ,   64.04175 ,  -60.343098,  123.29733 , -164.45114 ],\n",
       "      dtype=float32)"
      ]
     },
     "execution_count": 14,
     "metadata": {},
     "output_type": "execute_result"
    }
   ],
   "source": [
    "Y_predict_degrees[:50]"
   ]
  },
  {
   "cell_type": "code",
   "execution_count": 17,
   "metadata": {},
   "outputs": [
    {
     "data": {
      "text/plain": [
       "array([ -13., -156.,  155.,  123.,  124.,  -80., -170., -153.,  104.,\n",
       "       -175., -173.,  -34.,  164.,  -74.,  -15., -118.,  131.,  -70.,\n",
       "         11., -145.,   29.,  -42.,   16.,   78.,  -96.,   38., -113.,\n",
       "       -156., -133.,  132.,   30.,   82.,    5.,  103.,  -12.,  -62.,\n",
       "         79.,  171., -128.,  -88.,  -89.,   19.,  -92.,   19., -114.,\n",
       "       -160.,   63.,  -61.,  123., -164.])"
      ]
     },
     "execution_count": 17,
     "metadata": {},
     "output_type": "execute_result"
    }
   ],
   "source": [
    "Y_r[:50]"
   ]
  },
  {
   "cell_type": "code",
   "execution_count": 16,
   "metadata": {},
   "outputs": [
    {
     "data": {
      "text/plain": [
       "(array([868., 888., 876., 845., 751., 442., 145., 105.,  54.,  26.]),\n",
       " array([7.62939453e-04, 1.63232422e-01, 3.25701904e-01, 4.88171387e-01,\n",
       "        6.50640869e-01, 8.13110352e-01, 9.75579834e-01, 1.13804932e+00,\n",
       "        1.30051880e+00, 1.46298828e+00, 1.62545776e+00]),\n",
       " <a list of 10 Patch objects>)"
      ]
     },
     "execution_count": 16,
     "metadata": {},
     "output_type": "execute_result"
    },
    {
     "data": {
      "image/png": "[encoded data removed]",
      "text/plain": [
       "<matplotlib.figure.Figure at 0x7f3993ff3be0>"
      ]
     },
     "metadata": {},
     "output_type": "display_data"
    }
   ],
   "source": [
    "diff = np.abs(Y_predict_degrees - Y_r)\n",
    "plt.hist(diff)"
   ]
  },
  {
   "cell_type": "code",
   "execution_count": 18,
   "metadata": {},
   "outputs": [
    {
     "data": {
      "text/plain": [
       "array([[-0.22495105,  0.97437006],\n",
       "       [-0.40673664, -0.91354546],\n",
       "       [ 0.42261826, -0.90630779],\n",
       "       [ 0.83867057, -0.54463904],\n",
       "       [ 0.82903757, -0.5591929 ],\n",
       "       [-0.98480775,  0.17364818],\n",
       "       [-0.17364818, -0.98480775],\n",
       "       [-0.4539905 , -0.89100652],\n",
       "       [ 0.97029573, -0.2419219 ],\n",
       "       [-0.08715574, -0.9961947 ]])"
      ]
     },
     "execution_count": 18,
     "metadata": {},
     "output_type": "execute_result"
    }
   ],
   "source": [
    "Y_valid[:10]"
   ]
  },
  {
   "cell_type": "code",
   "execution_count": 19,
   "metadata": {},
   "outputs": [
    {
     "data": {
      "text/plain": [
       "array([[-115.07312 ,  487.78928 ],\n",
       "       [-281.58487 , -644.04956 ],\n",
       "       [ 230.84691 , -520.6912  ],\n",
       "       [ 472.26382 , -310.1878  ],\n",
       "       [ 465.87692 , -322.10416 ],\n",
       "       [-547.42053 ,   88.00784 ],\n",
       "       [-116.169075, -652.9289  ],\n",
       "       [-311.2639  , -619.74414 ],\n",
       "       [ 567.85675 , -147.58911 ],\n",
       "       [ -56.22662 , -635.82    ]], dtype=float32)"
      ]
     },
     "execution_count": 19,
     "metadata": {},
     "output_type": "execute_result"
    }
   ],
   "source": [
    "Y_predict[:10]"
   ]
  }
 ],
 "metadata": {
  "kernelspec": {
   "display_name": "Python 3",
   "language": "python",
   "name": "python3"
  },
  "language_info": {
   "codemirror_mode": {
    "name": "ipython",
    "version": 3
   },
   "file_extension": ".py",
   "mimetype": "text/x-python",
   "name": "python",
   "nbconvert_exporter": "python",
   "pygments_lexer": "ipython3",
   "version": "3.5.2"
  }
 },
 "nbformat": 4,
 "nbformat_minor": 2
}
