{
 "cells": [
  {
   "cell_type": "code",
   "execution_count": 1,
   "metadata": {},
   "outputs": [
    {
     "name": "stderr",
     "output_type": "stream",
     "text": [
      "/usr/local/lib/python3.5/dist-packages/h5py/__init__.py:36: FutureWarning: Conversion of the second argument of issubdtype from `float` to `np.floating` is deprecated. In future, it will be treated as `np.float64 == np.dtype(float).type`.\n",
      "  from ._conv import register_converters as _register_converters\n",
      "Using TensorFlow backend.\n"
     ]
    }
   ],
   "source": [
    "import numpy as np\n",
    "import cv2\n",
    "import matplotlib.pyplot as plt\n",
    "import skimage\n",
    "from tqdm import tqdm\n",
    "import keras\n",
    "from keras.datasets import mnist, cifar10, fashion_mnist\n",
    "import keras_utils"
   ]
  },
  {
   "cell_type": "code",
   "execution_count": 2,
   "metadata": {},
   "outputs": [],
   "source": [
    "keras_utils.set_keras_session()"
   ]
  },
  {
   "cell_type": "code",
   "execution_count": 3,
   "metadata": {},
   "outputs": [],
   "source": [
    "(X_train, Y_train), (X_test, Y_test) = fashion_mnist.load_data()"
   ]
  },
  {
   "cell_type": "code",
   "execution_count": 4,
   "metadata": {},
   "outputs": [
    {
     "data": {
      "text/plain": [
       "(60000, 28, 28)"
      ]
     },
     "execution_count": 4,
     "metadata": {},
     "output_type": "execute_result"
    }
   ],
   "source": [
    "X_train.shape"
   ]
  },
  {
   "cell_type": "code",
   "execution_count": 5,
   "metadata": {},
   "outputs": [],
   "source": [
    "def cv2_rotate(image, degrees):\n",
    "    if len(image.shape) == 3:\n",
    "        rows, cols, _ = image.shape\n",
    "    else:\n",
    "        rows, cols = image.shape\n",
    "    M = cv2.getRotationMatrix2D((cols/2,rows/2), degrees, 1)\n",
    "    return cv2.warpAffine(image, M, (cols,rows))"
   ]
  },
  {
   "cell_type": "code",
   "execution_count": 6,
   "metadata": {},
   "outputs": [],
   "source": [
    "def pad(image, padding=4):\n",
    "    \n",
    "    h, w = image.shape\n",
    "    image_padded = np.zeros((h + 2*padding, w + 2*padding))\n",
    "    image_padded[padding:-padding, padding:-padding] = image\n",
    "    return image_padded"
   ]
  },
  {
   "cell_type": "code",
   "execution_count": 7,
   "metadata": {},
   "outputs": [
    {
     "data": {
      "text/plain": [
       "<matplotlib.image.AxesImage at 0x7fe1001c6a20>"
      ]
     },
     "execution_count": 7,
     "metadata": {},
     "output_type": "execute_result"
    },
    {
     "data": {
      "image/png": "[encoded data removed]",
      "text/plain": [
       "<matplotlib.figure.Figure at 0x7fe13000f8d0>"
      ]
     },
     "metadata": {},
     "output_type": "display_data"
    }
   ],
   "source": [
    "plt.imshow(cv2_rotate(pad(X_train[3501]), 45))"
   ]
  },
  {
   "cell_type": "code",
   "execution_count": 8,
   "metadata": {},
   "outputs": [],
   "source": [
    "augmented_rotations_per_sample = 3\n",
    "angle_step = 30\n",
    "num_angles = 12"
   ]
  },
  {
   "cell_type": "code",
   "execution_count": 9,
   "metadata": {},
   "outputs": [],
   "source": [
    "def generate_random_rotations(X, Y, n_rotations_per_sample):\n",
    "    \n",
    "    new_X = []\n",
    "    new_Y = []\n",
    "    rotations = []\n",
    "    \n",
    "    h, w = X.shape[1:]\n",
    "    bigger = 2\n",
    "    \n",
    "    for image, label in tqdm(zip(X, Y), total=len(X)):\n",
    "        \n",
    "        image = pad(image)\n",
    "        \n",
    "        for _ in range(n_rotations_per_sample):\n",
    "            \n",
    "            rotation = np.random.randint(num_angles) * angle_step\n",
    "            rotated_image = cv2_rotate(image, rotation)\n",
    "            new_X.append(rotated_image)\n",
    "            new_Y.append(label)\n",
    "            rotations.append(rotation)\n",
    "    \n",
    "    new_X = np.array(new_X)\n",
    "    if len(new_X.shape) == 3:\n",
    "        new_X = np.expand_dims(new_X, 3)\n",
    "        \n",
    "    return new_X, np.array(new_Y), (np.array(rotations) / angle_step).astype(np.int)"
   ]
  },
  {
   "cell_type": "raw",
   "metadata": {},
   "source": [
    "X_train_rot, Y_train_rot, R_train = generate_random_rotations(X_train, Y_train, augmented_rotations_per_sample)\n",
    "X_test_rot, Y_test_rot, R_test = generate_random_rotations(X_test, Y_test, augmented_rotations_per_sample)\n",
    "\n",
    "Y_train_onehot = keras.utils.to_categorical(Y_train_rot)\n",
    "Y_test_onehot = keras.utils.to_categorical(Y_test_rot)"
   ]
  },
  {
   "cell_type": "raw",
   "metadata": {},
   "source": [
    "R_train_radians, R_test_radians = (R * np.pi / 180 for R in (R_train, R_test))"
   ]
  },
  {
   "cell_type": "raw",
   "metadata": {},
   "source": [
    "R_train_sin_cos = create_rot_sin_cos(R_train_radians)\n",
    "R_test_sin_cos = create_rot_sin_cos(R_test_radians)"
   ]
  },
  {
   "cell_type": "code",
   "execution_count": 10,
   "metadata": {},
   "outputs": [],
   "source": [
    "nb_classes = keras.utils.to_categorical(Y_train).shape[1]"
   ]
  },
  {
   "cell_type": "code",
   "execution_count": 11,
   "metadata": {},
   "outputs": [],
   "source": [
    "def create_rot_sin_cos(R_radians):\n",
    "    rot_sin_cos = np.empty((len(R_radians), 2))\n",
    "    rot_sin_cos[:, 0] = np.sin(R_radians)\n",
    "    rot_sin_cos[:, 1] = np.cos(R_radians)\n",
    "    return rot_sin_cos"
   ]
  },
  {
   "cell_type": "code",
   "execution_count": 12,
   "metadata": {},
   "outputs": [],
   "source": [
    "from keras import layers\n",
    "from keras import models\n",
    "from keras import losses\n",
    "import keras.backend as K\n",
    "\n",
    "def cosine_proximity_unitary(y_true, y_pred):\n",
    "    \n",
    "    dot_product_loss = losses.cosine_proximity(y_true, y_pred)\n",
    "    unit_circle_loss = K.square(1 - (K.square(y_pred[:, 0]) + K.square(y_pred[:, 1])))\n",
    "    return dot_product_loss + 0.05 * unit_circle_loss\n",
    "\n",
    "\n",
    "def build_model(use_labels=True, use_rotation=True, rot_range=-1):\n",
    "\n",
    "    input_layer = layers.Input(X_train_rot.shape[1:], name='image_input')\n",
    "    x = input_layer\n",
    "\n",
    "    x = layers.Conv2D(32, (3,3), padding='same', activation='relu')(x)\n",
    "    x = layers.Conv2D(32, (3,3), padding='same', activation='relu')(x)\n",
    "    x = layers.MaxPool2D()(x)\n",
    "    x = layers.Dropout(0.25)(x)\n",
    "    flatten = layers.Flatten()(x)\n",
    "    \n",
    "    if use_labels:\n",
    "        y = layers.Dense(128, activation='relu')(flatten)\n",
    "        y = layers.Dropout(0.25)(y)\n",
    "        y = layers.Dense(nb_classes, activation='softmax', name='y')(y)\n",
    "\n",
    "    if use_rotation:\n",
    "        r = layers.Dense(32, activation='relu')(flatten)\n",
    "        r = layers.Dropout(0.5)(r)\n",
    "        r = layers.Dense(num_angles, activation='softmax', name='r')(r)\n",
    "\n",
    "    if use_labels and use_rotation:\n",
    "        model = models.Model(input_layer, [y, r])        \n",
    "        model.compile(optimizer='adam', loss=['categorical_crossentropy', 'categorical_crossentropy'], \n",
    "                      metrics={'y': 'accuracy', 'r': [keras_utils.angle_error, keras_utils.cos_error]},\n",
    "                      loss_weights=[alpha, beta])\n",
    "    elif use_labels:\n",
    "        model = models.Model(input_layer, y)\n",
    "        model.compile(optimizer='adam', loss='categorical_crossentropy', metrics=['accuracy'])\n",
    "    elif use_rotation:\n",
    "        model = models.Model(input_layer, r)\n",
    "        model.compile(optimizer='adam', loss='cosine_proximity', metrics=['accuracy'])\n",
    "    else:\n",
    "        raise ValueError('Specify at least 1 output for the network!')\n",
    "        \n",
    "    #model.summary()\n",
    "    \n",
    "    return model"
   ]
  },
  {
   "cell_type": "code",
   "execution_count": 13,
   "metadata": {},
   "outputs": [],
   "source": [
    "from keras import callbacks\n",
    "\n",
    "class LossWeightsCallback(callbacks.Callback):\n",
    "    def __init__(self, alpha, beta):\n",
    "        self.alpha = alpha\n",
    "        self.beta = beta\n",
    "        \n",
    "    # customize your behavior\n",
    "    def on_epoch_end(self, epoch, logs={}):\n",
    "        if epoch == 1:\n",
    "            self.alpha = self.alpha - 0.4 # set to 0.5\n",
    "            self.beta = self.beta + 0.4 # set to 0.5"
   ]
  },
  {
   "cell_type": "code",
   "execution_count": 14,
   "metadata": {},
   "outputs": [],
   "source": [
    "def train_model(model, use_labels=True, use_rotation=True):\n",
    "    \n",
    "    if use_labels and use_rotation:\n",
    "        y_train = [Y_train_onehot, R_train]\n",
    "        y_test = [Y_test_onehot, R_test]\n",
    "    elif use_labels:\n",
    "        y_train = Y_train_onehot\n",
    "        y_test = Y_test_onehot\n",
    "    elif use_rotation:\n",
    "        y_train = R_train\n",
    "        y_test = R_test\n",
    "    else:\n",
    "        raise ValueError('Specify output for training')\n",
    "        \n",
    "    \n",
    "    early_stopper = callbacks.EarlyStopping(patience=1)\n",
    "    \n",
    "    if use_labels and use_rotation:\n",
    "        lw_callback = LossWeightsCallback(alpha, beta)\n",
    "        _callbacks = [early_stopper, lw_callback]\n",
    "    else:\n",
    "        _callbacks = [early_stopper]\n",
    "    \n",
    "    return model.fit(X_train_rot, y_train, \n",
    "                     validation_data=(X_test_rot, y_test), \n",
    "                     callbacks=_callbacks,\n",
    "                     batch_size=256,\n",
    "                     epochs=10)"
   ]
  },
  {
   "cell_type": "code",
   "execution_count": 15,
   "metadata": {},
   "outputs": [
    {
     "name": "stderr",
     "output_type": "stream",
     "text": [
      "100%|██████████| 60000/60000 [00:05<00:00, 11677.72it/s]\n",
      "100%|██████████| 10000/10000 [00:00<00:00, 13323.71it/s]\n"
     ]
    },
    {
     "name": "stdout",
     "output_type": "stream",
     "text": [
      "Train on 180000 samples, validate on 30000 samples\n",
      "Epoch 1/10\n",
      "180000/180000 [==============================] - 35s 192us/step - loss: 1.5096 - y_loss: 1.5805 - r_loss: 0.8716 - y_acc: 0.6763 - r_angle_error: 1.2126 - r_cos_error: -0.9989 - val_loss: 0.5097 - val_y_loss: 0.5510 - val_r_loss: 0.1379 - val_y_acc: 0.8081 - val_r_angle_error: 0.2073 - val_r_cos_error: -0.9998\n",
      "Epoch 2/10\n",
      "180000/180000 [==============================] - 33s 186us/step - loss: 0.5403 - y_loss: 0.5592 - r_loss: 0.3698 - y_acc: 0.8005 - r_angle_error: 0.5653 - r_cos_error: -0.9995 - val_loss: 0.4302 - val_y_loss: 0.4658 - val_r_loss: 0.1102 - val_y_acc: 0.8329 - val_r_angle_error: 0.1740 - val_r_cos_error: -0.9998\n",
      "Epoch 3/10\n",
      "180000/180000 [==============================] - 33s 186us/step - loss: 0.4657 - y_loss: 0.4828 - r_loss: 0.3112 - y_acc: 0.8255 - r_angle_error: 0.4842 - r_cos_error: -0.9996 - val_loss: 0.3990 - val_y_loss: 0.4326 - val_r_loss: 0.0966 - val_y_acc: 0.8435 - val_r_angle_error: 0.1580 - val_r_cos_error: -0.9999\n",
      "Epoch 4/10\n",
      "180000/180000 [==============================] - 33s 186us/step - loss: 0.4245 - y_loss: 0.4405 - r_loss: 0.2800 - y_acc: 0.8406 - r_angle_error: 0.4414 - r_cos_error: -0.9996 - val_loss: 0.3913 - val_y_loss: 0.4246 - val_r_loss: 0.0914 - val_y_acc: 0.8475 - val_r_angle_error: 0.1503 - val_r_cos_error: -0.9999\n",
      "Epoch 5/10\n",
      "180000/180000 [==============================] - 33s 186us/step - loss: 0.3927 - y_loss: 0.4075 - r_loss: 0.2590 - y_acc: 0.8503 - r_angle_error: 0.4107 - r_cos_error: -0.9996 - val_loss: 0.3788 - val_y_loss: 0.4113 - val_r_loss: 0.0860 - val_y_acc: 0.8520 - val_r_angle_error: 0.1390 - val_r_cos_error: -0.9999\n",
      "Epoch 6/10\n",
      "180000/180000 [==============================] - 33s 186us/step - loss: 0.3676 - y_loss: 0.3818 - r_loss: 0.2398 - y_acc: 0.8594 - r_angle_error: 0.3865 - r_cos_error: -0.9997 - val_loss: 0.3685 - val_y_loss: 0.4009 - val_r_loss: 0.0765 - val_y_acc: 0.8571 - val_r_angle_error: 0.1261 - val_r_cos_error: -0.9999\n",
      "Epoch 7/10\n",
      "180000/180000 [==============================] - 33s 186us/step - loss: 0.3483 - y_loss: 0.3623 - r_loss: 0.2218 - y_acc: 0.8662 - r_angle_error: 0.3547 - r_cos_error: -0.9997 - val_loss: 0.3638 - val_y_loss: 0.3962 - val_r_loss: 0.0723 - val_y_acc: 0.8565 - val_r_angle_error: 0.1132 - val_r_cos_error: -0.9999\n",
      "Epoch 8/10\n",
      "180000/180000 [==============================] - 33s 186us/step - loss: 0.3266 - y_loss: 0.3398 - r_loss: 0.2086 - y_acc: 0.8737 - r_angle_error: 0.3375 - r_cos_error: -0.9997 - val_loss: 0.3607 - val_y_loss: 0.3930 - val_r_loss: 0.0698 - val_y_acc: 0.8605 - val_r_angle_error: 0.1130 - val_r_cos_error: -0.9999\n",
      "Epoch 9/10\n",
      "180000/180000 [==============================] - 33s 186us/step - loss: 0.3133 - y_loss: 0.3263 - r_loss: 0.1967 - y_acc: 0.8783 - r_angle_error: 0.3193 - r_cos_error: -0.9997 - val_loss: 0.3648 - val_y_loss: 0.3982 - val_r_loss: 0.0640 - val_y_acc: 0.8588 - val_r_angle_error: 0.1015 - val_r_cos_error: -0.9999\n",
      "2.186\n"
     ]
    }
   ],
   "source": [
    "histories = []\n",
    "diff_degrees = []\n",
    "y_preds = []\n",
    "r_preds = []\n",
    "\n",
    "use_labels = True\n",
    "use_rotation = True\n",
    "\n",
    "X_train_rot, Y_train_rot, R_train = generate_random_rotations(X_train, Y_train, \n",
    "                                                              augmented_rotations_per_sample)\n",
    "X_test_rot, Y_test_rot, R_test = generate_random_rotations(X_test, Y_test, \n",
    "                                                           augmented_rotations_per_sample)\n",
    "\n",
    "R_train = keras.utils.to_categorical(R_train)\n",
    "R_test = keras.utils.to_categorical(R_test)\n",
    "\n",
    "Y_train_onehot = keras.utils.to_categorical(Y_train_rot)\n",
    "Y_test_onehot = keras.utils.to_categorical(Y_test_rot)\n",
    "\n",
    "nb_classes = Y_train_onehot.shape[1]\n",
    "\n",
    "#R_train_radians, R_test_radians = (R * np.pi / 180 for R in (R_train, R_test))\n",
    "\n",
    "#R_train_sin_cos = create_rot_sin_cos(R_train_radians)\n",
    "#R_test_sin_cos = create_rot_sin_cos(R_test_radians)\n",
    "\n",
    "alpha = K.variable(0.9)\n",
    "beta = K.variable(0.1)\n",
    "model = build_model(use_labels, use_rotation)\n",
    "\n",
    "history = train_model(model, use_labels, use_rotation).history\n",
    "histories.append(history)\n",
    "\n",
    "Y_pred, R_pred = model.predict(X_test_rot)\n",
    "R_test = np.argmax(R_test, axis=1) * angle_step\n",
    "R_pred = np.argmax(R_pred, axis=1) * angle_step\n",
    "\n",
    "diff_degree = np.abs(R_pred - R_test)\n",
    "diff_degree = np.array([diff if diff < 180 else 360 - diff for diff in diff_degree])\n",
    "print(np.mean(diff_degree))\n",
    "\n",
    "diff_degrees.append(diff_degree)\n",
    "y_preds.append(Y_pred)\n",
    "r_preds.append(R_pred)\n"
   ]
  },
  {
   "cell_type": "code",
   "execution_count": 16,
   "metadata": {},
   "outputs": [],
   "source": [
    "def get_data_from_histories():\n",
    "\n",
    "    for history in histories:\n",
    "\n",
    "        idx_min_loss = np.argmin(history['val_loss'])\n",
    "        data = []\n",
    "\n",
    "        for key in ('val_loss', 'val_r_cos_error', 'val_r_angle_error', 'val_y_loss', 'val_y_acc'):\n",
    "            data.append(history[key][idx_min_loss])\n",
    "            \n",
    "        yield data"
   ]
  },
  {
   "cell_type": "code",
   "execution_count": 17,
   "metadata": {},
   "outputs": [],
   "source": [
    "data = np.array(list(get_data_from_histories()))"
   ]
  },
  {
   "cell_type": "code",
   "execution_count": 18,
   "metadata": {},
   "outputs": [],
   "source": [
    "%matplotlib inline\n",
    "\n",
    "import matplotlib.pyplot as plt"
   ]
  },
  {
   "cell_type": "code",
   "execution_count": 19,
   "metadata": {},
   "outputs": [
    {
     "ename": "ValueError",
     "evalue": "x and y must have same first dimension, but have shapes (13,) and (1,)",
     "output_type": "error",
     "traceback": [
      "\u001b[0;31m---------------------------------------------------------------------------\u001b[0m",
      "\u001b[0;31mValueError\u001b[0m                                Traceback (most recent call last)",
      "\u001b[0;32m<ipython-input-19-bf8c3ce2c950>\u001b[0m in \u001b[0;36m<module>\u001b[0;34m()\u001b[0m\n\u001b[1;32m      2\u001b[0m \u001b[0mplt\u001b[0m\u001b[0;34m.\u001b[0m\u001b[0msubplot\u001b[0m\u001b[0;34m(\u001b[0m\u001b[0;36m211\u001b[0m\u001b[0;34m)\u001b[0m\u001b[0;34m\u001b[0m\u001b[0m\n\u001b[1;32m      3\u001b[0m \u001b[0mplt\u001b[0m\u001b[0;34m.\u001b[0m\u001b[0mgrid\u001b[0m\u001b[0;34m(\u001b[0m\u001b[0;34m)\u001b[0m\u001b[0;34m\u001b[0m\u001b[0m\n\u001b[0;32m----> 4\u001b[0;31m \u001b[0mplt\u001b[0m\u001b[0;34m.\u001b[0m\u001b[0mplot\u001b[0m\u001b[0;34m(\u001b[0m\u001b[0mnp\u001b[0m\u001b[0;34m.\u001b[0m\u001b[0marange\u001b[0m\u001b[0;34m(\u001b[0m\u001b[0;36m10\u001b[0m\u001b[0;34m,\u001b[0m \u001b[0;36m140\u001b[0m\u001b[0;34m,\u001b[0m \u001b[0;36m10\u001b[0m\u001b[0;34m)\u001b[0m \u001b[0;34m*\u001b[0m \u001b[0;36m2\u001b[0m\u001b[0;34m,\u001b[0m \u001b[0mdata\u001b[0m\u001b[0;34m[\u001b[0m\u001b[0;34m:\u001b[0m\u001b[0;34m,\u001b[0m \u001b[0;36m4\u001b[0m\u001b[0;34m]\u001b[0m\u001b[0;34m[\u001b[0m\u001b[0;34m:\u001b[0m\u001b[0;36m13\u001b[0m\u001b[0;34m]\u001b[0m\u001b[0;34m,\u001b[0m \u001b[0mlabel\u001b[0m\u001b[0;34m=\u001b[0m\u001b[0;34m'classification_accuracy'\u001b[0m\u001b[0;34m)\u001b[0m\u001b[0;34m\u001b[0m\u001b[0m\n\u001b[0m\u001b[1;32m      5\u001b[0m \u001b[0mplt\u001b[0m\u001b[0;34m.\u001b[0m\u001b[0mxlabel\u001b[0m\u001b[0;34m(\u001b[0m\u001b[0;34m'Rotation range (degrees)'\u001b[0m\u001b[0;34m)\u001b[0m\u001b[0;34m\u001b[0m\u001b[0m\n\u001b[1;32m      6\u001b[0m \u001b[0mplt\u001b[0m\u001b[0;34m.\u001b[0m\u001b[0mlegend\u001b[0m\u001b[0;34m(\u001b[0m\u001b[0;34m)\u001b[0m\u001b[0;34m\u001b[0m\u001b[0m\n",
      "\u001b[0;32m/usr/local/lib/python3.5/dist-packages/matplotlib/pyplot.py\u001b[0m in \u001b[0;36mplot\u001b[0;34m(*args, **kwargs)\u001b[0m\n\u001b[1;32m   3259\u001b[0m                       mplDeprecation)\n\u001b[1;32m   3260\u001b[0m     \u001b[0;32mtry\u001b[0m\u001b[0;34m:\u001b[0m\u001b[0;34m\u001b[0m\u001b[0m\n\u001b[0;32m-> 3261\u001b[0;31m         \u001b[0mret\u001b[0m \u001b[0;34m=\u001b[0m \u001b[0max\u001b[0m\u001b[0;34m.\u001b[0m\u001b[0mplot\u001b[0m\u001b[0;34m(\u001b[0m\u001b[0;34m*\u001b[0m\u001b[0margs\u001b[0m\u001b[0;34m,\u001b[0m \u001b[0;34m**\u001b[0m\u001b[0mkwargs\u001b[0m\u001b[0;34m)\u001b[0m\u001b[0;34m\u001b[0m\u001b[0m\n\u001b[0m\u001b[1;32m   3262\u001b[0m     \u001b[0;32mfinally\u001b[0m\u001b[0;34m:\u001b[0m\u001b[0;34m\u001b[0m\u001b[0m\n\u001b[1;32m   3263\u001b[0m         \u001b[0max\u001b[0m\u001b[0;34m.\u001b[0m\u001b[0m_hold\u001b[0m \u001b[0;34m=\u001b[0m \u001b[0mwashold\u001b[0m\u001b[0;34m\u001b[0m\u001b[0m\n",
      "\u001b[0;32m/usr/local/lib/python3.5/dist-packages/matplotlib/__init__.py\u001b[0m in \u001b[0;36minner\u001b[0;34m(ax, *args, **kwargs)\u001b[0m\n\u001b[1;32m   1715\u001b[0m                     warnings.warn(msg % (label_namer, func.__name__),\n\u001b[1;32m   1716\u001b[0m                                   RuntimeWarning, stacklevel=2)\n\u001b[0;32m-> 1717\u001b[0;31m             \u001b[0;32mreturn\u001b[0m \u001b[0mfunc\u001b[0m\u001b[0;34m(\u001b[0m\u001b[0max\u001b[0m\u001b[0;34m,\u001b[0m \u001b[0;34m*\u001b[0m\u001b[0margs\u001b[0m\u001b[0;34m,\u001b[0m \u001b[0;34m**\u001b[0m\u001b[0mkwargs\u001b[0m\u001b[0;34m)\u001b[0m\u001b[0;34m\u001b[0m\u001b[0m\n\u001b[0m\u001b[1;32m   1718\u001b[0m         \u001b[0mpre_doc\u001b[0m \u001b[0;34m=\u001b[0m \u001b[0minner\u001b[0m\u001b[0;34m.\u001b[0m\u001b[0m__doc__\u001b[0m\u001b[0;34m\u001b[0m\u001b[0m\n\u001b[1;32m   1719\u001b[0m         \u001b[0;32mif\u001b[0m \u001b[0mpre_doc\u001b[0m \u001b[0;32mis\u001b[0m \u001b[0;32mNone\u001b[0m\u001b[0;34m:\u001b[0m\u001b[0;34m\u001b[0m\u001b[0m\n",
      "\u001b[0;32m/usr/local/lib/python3.5/dist-packages/matplotlib/axes/_axes.py\u001b[0m in \u001b[0;36mplot\u001b[0;34m(self, *args, **kwargs)\u001b[0m\n\u001b[1;32m   1370\u001b[0m         \u001b[0mkwargs\u001b[0m \u001b[0;34m=\u001b[0m \u001b[0mcbook\u001b[0m\u001b[0;34m.\u001b[0m\u001b[0mnormalize_kwargs\u001b[0m\u001b[0;34m(\u001b[0m\u001b[0mkwargs\u001b[0m\u001b[0;34m,\u001b[0m \u001b[0m_alias_map\u001b[0m\u001b[0;34m)\u001b[0m\u001b[0;34m\u001b[0m\u001b[0m\n\u001b[1;32m   1371\u001b[0m \u001b[0;34m\u001b[0m\u001b[0m\n\u001b[0;32m-> 1372\u001b[0;31m         \u001b[0;32mfor\u001b[0m \u001b[0mline\u001b[0m \u001b[0;32min\u001b[0m \u001b[0mself\u001b[0m\u001b[0;34m.\u001b[0m\u001b[0m_get_lines\u001b[0m\u001b[0;34m(\u001b[0m\u001b[0;34m*\u001b[0m\u001b[0margs\u001b[0m\u001b[0;34m,\u001b[0m \u001b[0;34m**\u001b[0m\u001b[0mkwargs\u001b[0m\u001b[0;34m)\u001b[0m\u001b[0;34m:\u001b[0m\u001b[0;34m\u001b[0m\u001b[0m\n\u001b[0m\u001b[1;32m   1373\u001b[0m             \u001b[0mself\u001b[0m\u001b[0;34m.\u001b[0m\u001b[0madd_line\u001b[0m\u001b[0;34m(\u001b[0m\u001b[0mline\u001b[0m\u001b[0;34m)\u001b[0m\u001b[0;34m\u001b[0m\u001b[0m\n\u001b[1;32m   1374\u001b[0m             \u001b[0mlines\u001b[0m\u001b[0;34m.\u001b[0m\u001b[0mappend\u001b[0m\u001b[0;34m(\u001b[0m\u001b[0mline\u001b[0m\u001b[0;34m)\u001b[0m\u001b[0;34m\u001b[0m\u001b[0m\n",
      "\u001b[0;32m/usr/local/lib/python3.5/dist-packages/matplotlib/axes/_base.py\u001b[0m in \u001b[0;36m_grab_next_args\u001b[0;34m(self, *args, **kwargs)\u001b[0m\n\u001b[1;32m    402\u001b[0m                 \u001b[0mthis\u001b[0m \u001b[0;34m+=\u001b[0m \u001b[0margs\u001b[0m\u001b[0;34m[\u001b[0m\u001b[0;36m0\u001b[0m\u001b[0;34m]\u001b[0m\u001b[0;34m,\u001b[0m\u001b[0;34m\u001b[0m\u001b[0m\n\u001b[1;32m    403\u001b[0m                 \u001b[0margs\u001b[0m \u001b[0;34m=\u001b[0m \u001b[0margs\u001b[0m\u001b[0;34m[\u001b[0m\u001b[0;36m1\u001b[0m\u001b[0;34m:\u001b[0m\u001b[0;34m]\u001b[0m\u001b[0;34m\u001b[0m\u001b[0m\n\u001b[0;32m--> 404\u001b[0;31m             \u001b[0;32mfor\u001b[0m \u001b[0mseg\u001b[0m \u001b[0;32min\u001b[0m \u001b[0mself\u001b[0m\u001b[0;34m.\u001b[0m\u001b[0m_plot_args\u001b[0m\u001b[0;34m(\u001b[0m\u001b[0mthis\u001b[0m\u001b[0;34m,\u001b[0m \u001b[0mkwargs\u001b[0m\u001b[0;34m)\u001b[0m\u001b[0;34m:\u001b[0m\u001b[0;34m\u001b[0m\u001b[0m\n\u001b[0m\u001b[1;32m    405\u001b[0m                 \u001b[0;32myield\u001b[0m \u001b[0mseg\u001b[0m\u001b[0;34m\u001b[0m\u001b[0m\n\u001b[1;32m    406\u001b[0m \u001b[0;34m\u001b[0m\u001b[0m\n",
      "\u001b[0;32m/usr/local/lib/python3.5/dist-packages/matplotlib/axes/_base.py\u001b[0m in \u001b[0;36m_plot_args\u001b[0;34m(self, tup, kwargs)\u001b[0m\n\u001b[1;32m    382\u001b[0m             \u001b[0mx\u001b[0m\u001b[0;34m,\u001b[0m \u001b[0my\u001b[0m \u001b[0;34m=\u001b[0m \u001b[0mindex_of\u001b[0m\u001b[0;34m(\u001b[0m\u001b[0mtup\u001b[0m\u001b[0;34m[\u001b[0m\u001b[0;34m-\u001b[0m\u001b[0;36m1\u001b[0m\u001b[0;34m]\u001b[0m\u001b[0;34m)\u001b[0m\u001b[0;34m\u001b[0m\u001b[0m\n\u001b[1;32m    383\u001b[0m \u001b[0;34m\u001b[0m\u001b[0m\n\u001b[0;32m--> 384\u001b[0;31m         \u001b[0mx\u001b[0m\u001b[0;34m,\u001b[0m \u001b[0my\u001b[0m \u001b[0;34m=\u001b[0m \u001b[0mself\u001b[0m\u001b[0;34m.\u001b[0m\u001b[0m_xy_from_xy\u001b[0m\u001b[0;34m(\u001b[0m\u001b[0mx\u001b[0m\u001b[0;34m,\u001b[0m \u001b[0my\u001b[0m\u001b[0;34m)\u001b[0m\u001b[0;34m\u001b[0m\u001b[0m\n\u001b[0m\u001b[1;32m    385\u001b[0m \u001b[0;34m\u001b[0m\u001b[0m\n\u001b[1;32m    386\u001b[0m         \u001b[0;32mif\u001b[0m \u001b[0mself\u001b[0m\u001b[0;34m.\u001b[0m\u001b[0mcommand\u001b[0m \u001b[0;34m==\u001b[0m \u001b[0;34m'plot'\u001b[0m\u001b[0;34m:\u001b[0m\u001b[0;34m\u001b[0m\u001b[0m\n",
      "\u001b[0;32m/usr/local/lib/python3.5/dist-packages/matplotlib/axes/_base.py\u001b[0m in \u001b[0;36m_xy_from_xy\u001b[0;34m(self, x, y)\u001b[0m\n\u001b[1;32m    241\u001b[0m         \u001b[0;32mif\u001b[0m \u001b[0mx\u001b[0m\u001b[0;34m.\u001b[0m\u001b[0mshape\u001b[0m\u001b[0;34m[\u001b[0m\u001b[0;36m0\u001b[0m\u001b[0;34m]\u001b[0m \u001b[0;34m!=\u001b[0m \u001b[0my\u001b[0m\u001b[0;34m.\u001b[0m\u001b[0mshape\u001b[0m\u001b[0;34m[\u001b[0m\u001b[0;36m0\u001b[0m\u001b[0;34m]\u001b[0m\u001b[0;34m:\u001b[0m\u001b[0;34m\u001b[0m\u001b[0m\n\u001b[1;32m    242\u001b[0m             raise ValueError(\"x and y must have same first dimension, but \"\n\u001b[0;32m--> 243\u001b[0;31m                              \"have shapes {} and {}\".format(x.shape, y.shape))\n\u001b[0m\u001b[1;32m    244\u001b[0m         \u001b[0;32mif\u001b[0m \u001b[0mx\u001b[0m\u001b[0;34m.\u001b[0m\u001b[0mndim\u001b[0m \u001b[0;34m>\u001b[0m \u001b[0;36m2\u001b[0m \u001b[0;32mor\u001b[0m \u001b[0my\u001b[0m\u001b[0;34m.\u001b[0m\u001b[0mndim\u001b[0m \u001b[0;34m>\u001b[0m \u001b[0;36m2\u001b[0m\u001b[0;34m:\u001b[0m\u001b[0;34m\u001b[0m\u001b[0m\n\u001b[1;32m    245\u001b[0m             raise ValueError(\"x and y can be no greater than 2-D, but have \"\n",
      "\u001b[0;31mValueError\u001b[0m: x and y must have same first dimension, but have shapes (13,) and (1,)"
     ]
    },
    {
     "data": {
      "image/png": "[encoded data removed]",
      "text/plain": [
       "<matplotlib.figure.Figure at 0x7fe0aa6e09e8>"
      ]
     },
     "metadata": {},
     "output_type": "display_data"
    }
   ],
   "source": [
    "plt.figure(figsize=(12, 10))\n",
    "plt.subplot(211)\n",
    "plt.grid()\n",
    "plt.plot(np.arange(10, 140, 10) * 2, data[:, 4][:13], label='classification_accuracy')\n",
    "plt.xlabel('Rotation range (degrees)')\n",
    "plt.legend()\n",
    "plt.subplot(212)\n",
    "plt.grid()\n",
    "plt.plot(np.arange(10, 140, 10) * 2, data[:, 1][:13], label='rotation_loss')\n",
    "plt.xlabel('Rotation range (degrees)')\n",
    "plt.legend()"
   ]
  },
  {
   "cell_type": "code",
   "execution_count": null,
   "metadata": {},
   "outputs": [],
   "source": [
    "diff_degrees = np.array(diff_degrees)"
   ]
  },
  {
   "cell_type": "code",
   "execution_count": null,
   "metadata": {},
   "outputs": [],
   "source": [
    "w = np.mean(diff_degrees, axis=1)\n",
    "print(w)"
   ]
  },
  {
   "cell_type": "code",
   "execution_count": null,
   "metadata": {},
   "outputs": [],
   "source": [
    "np.percentile(diff_degrees, 99, axis=1)"
   ]
  },
  {
   "cell_type": "code",
   "execution_count": null,
   "metadata": {},
   "outputs": [],
   "source": [
    "z = np.array([ 1.3832554 ,  1.77593382,  1.77201876,  1.92890577,  2.56119157,\n",
    "        3.64702688,  4.17862631,  5.16323753,  5.82470787,  6.41361201,\n",
    "        6.25119255,  7.47966726,  8.20807014,  8.64786822,  9.71438578,\n",
    "        9.81888869, 10.68765806, 10.78373911])"
   ]
  },
  {
   "cell_type": "code",
   "execution_count": 20,
   "metadata": {},
   "outputs": [
    {
     "ename": "NameError",
     "evalue": "name 'w' is not defined",
     "output_type": "error",
     "traceback": [
      "\u001b[0;31m---------------------------------------------------------------------------\u001b[0m",
      "\u001b[0;31mNameError\u001b[0m                                 Traceback (most recent call last)",
      "\u001b[0;32m<ipython-input-20-e0d1175d82f2>\u001b[0m in \u001b[0;36m<module>\u001b[0;34m()\u001b[0m\n\u001b[1;32m      2\u001b[0m \u001b[0mplt\u001b[0m\u001b[0;34m.\u001b[0m\u001b[0mgrid\u001b[0m\u001b[0;34m(\u001b[0m\u001b[0;34m)\u001b[0m\u001b[0;34m\u001b[0m\u001b[0m\n\u001b[1;32m      3\u001b[0m plt.plot(np.array([10, 20, 30, 40, 50, 60, 70, 80, 90, 100, 110, 120, 130, 150, 170, 180]) * 2,\n\u001b[0;32m----> 4\u001b[0;31m           np.concatenate([w[:13], [w[14]], w[16:]]), label='categorical output')\n\u001b[0m\u001b[1;32m      5\u001b[0m \u001b[0mplt\u001b[0m\u001b[0;34m.\u001b[0m\u001b[0mplot\u001b[0m\u001b[0;34m(\u001b[0m\u001b[0mnp\u001b[0m\u001b[0;34m.\u001b[0m\u001b[0marange\u001b[0m\u001b[0;34m(\u001b[0m\u001b[0;36m10\u001b[0m\u001b[0;34m,\u001b[0m \u001b[0;36m190\u001b[0m\u001b[0;34m,\u001b[0m \u001b[0;36m10\u001b[0m\u001b[0;34m)\u001b[0m \u001b[0;34m*\u001b[0m \u001b[0;36m2\u001b[0m\u001b[0;34m,\u001b[0m \u001b[0mz\u001b[0m\u001b[0;34m,\u001b[0m \u001b[0mlabel\u001b[0m\u001b[0;34m=\u001b[0m\u001b[0;34m'sin-cos output'\u001b[0m\u001b[0;34m)\u001b[0m\u001b[0;34m\u001b[0m\u001b[0m\n\u001b[1;32m      6\u001b[0m \u001b[0mplt\u001b[0m\u001b[0;34m.\u001b[0m\u001b[0mxlabel\u001b[0m\u001b[0;34m(\u001b[0m\u001b[0;34m'Rotation range'\u001b[0m\u001b[0;34m)\u001b[0m\u001b[0;34m\u001b[0m\u001b[0m\n",
      "\u001b[0;31mNameError\u001b[0m: name 'w' is not defined"
     ]
    },
    {
     "data": {
      "image/png": "[encoded data removed]",
      "text/plain": [
       "<matplotlib.figure.Figure at 0x7fe0ac227d30>"
      ]
     },
     "metadata": {},
     "output_type": "display_data"
    }
   ],
   "source": [
    "plt.figure(figsize=(12, 10))\n",
    "plt.grid()\n",
    "plt.plot(np.array([10, 20, 30, 40, 50, 60, 70, 80, 90, 100, 110, 120, 130, 150, 170, 180]) * 2,\n",
    "          np.concatenate([w[:13], [w[14]], w[16:]]), label='categorical output')\n",
    "plt.plot(np.arange(10, 190, 10) * 2, z, label='sin-cos output')\n",
    "plt.xlabel('Rotation range')\n",
    "plt.ylabel('Mean difference between true and predicted orientation')\n",
    "plt.legend()\n",
    "plt.title('Mean difference between true and predicted orientations (in degrees) as a function of the\\nrotation range of the Fashion MNIST samples.\\nTwo network configurations have been tested for predicting the orientation of a sample;\\nthe first uses a 2 values sin and cos output trained using dot product loss; the second is a classification output, with one\\n output for each degree (the number of outputs grows with the rotation range)')"
   ]
  },
  {
   "cell_type": "code",
   "execution_count": null,
   "metadata": {},
   "outputs": [],
   "source": [
    "Y_pred, R_pred = model.predict(X_test_rot)"
   ]
  },
  {
   "cell_type": "code",
   "execution_count": null,
   "metadata": {},
   "outputs": [],
   "source": [
    "diff_degree = np.abs(np.arctan2(R_pred[:, 0], R_pred[:, 1]) * 180 / np.pi - R_test)\n",
    "diff_degree = np.array([diff if diff < 180 else diff - 180 for diff in diff_degree])\n",
    "print(np.mean(diff_degree))"
   ]
  },
  {
   "cell_type": "code",
   "execution_count": 21,
   "metadata": {},
   "outputs": [
    {
     "data": {
      "image/png": "[encoded data removed]",
      "text/plain": [
       "<matplotlib.figure.Figure at 0x7fe09e9b2198>"
      ]
     },
     "metadata": {},
     "output_type": "display_data"
    }
   ],
   "source": [
    "plt.figure(figsize=(12, 10))\n",
    "plt.title('Histogram of absolute differences between the true and the predicted orientation (using full circle rotations)')\n",
    "#plt.hist(diff_degree, bins=50)\n",
    "plt.bar([0, 30, 60, 90, 120, 150, 180], [np.count_nonzero(diff_degree == x) for x in [0, 30, 60, 90, 120, 150, 180]], width=6)\n",
    "plt.grid()\n",
    "plt.xlabel('Difference between true and predicted orientation')\n",
    "plt.ylabel('Number of samples')\n",
    "plt.yscale('log')\n",
    "plt.xticks([0, 30, 60, 90, 120, 150, 180])\n",
    "plt.show()"
   ]
  },
  {
   "cell_type": "code",
   "execution_count": 22,
   "metadata": {},
   "outputs": [
    {
     "data": {
      "image/png": "[encoded data removed]",
      "text/plain": [
       "<matplotlib.figure.Figure at 0x7fe09e9ba208>"
      ]
     },
     "metadata": {},
     "output_type": "display_data"
    }
   ],
   "source": [
    "xv = np.arange(0, 101)\n",
    "plt.figure(figsize=(12, 10))\n",
    "plt.grid()\n",
    "plt.plot([np.percentile(diff_degree, x) for x in xv], xv)\n",
    "plt.title('Percentile of test samples whose absolute difference between true and predicted orientation is below x \\n(training using full circle)')\n",
    "plt.xlabel('Difference in degrees between the true and the predicted orientation')\n",
    "plt.ylabel('Percentage of predicted orientations below the corresponding difference')\n",
    "plt.show()"
   ]
  },
  {
   "cell_type": "code",
   "execution_count": null,
   "metadata": {},
   "outputs": [],
   "source": [
    "Y_pred = np.argmax(Y_pred, axis=1)"
   ]
  },
  {
   "cell_type": "code",
   "execution_count": 23,
   "metadata": {},
   "outputs": [
    {
     "data": {
      "text/plain": [
       "<matplotlib.colorbar.Colorbar at 0x7fe0998ff7b8>"
      ]
     },
     "execution_count": 23,
     "metadata": {},
     "output_type": "execute_result"
    },
    {
     "data": {
      "image/png": "[encoded data removed]",
      "text/plain": [
       "<matplotlib.figure.Figure at 0x7fe0b12fce48>"
      ]
     },
     "metadata": {},
     "output_type": "display_data"
    }
   ],
   "source": [
    "confusion_matrix = np.zeros((12, 12), dtype='int')\n",
    "r_pred, r_test = R_pred // angle_step, R_test // angle_step\n",
    "\n",
    "from matplotlib.colors import LogNorm\n",
    "\n",
    "for y_true, y_pred in zip(r_test, r_pred):\n",
    "    confusion_matrix[y_true, y_pred] += 1\n",
    "\n",
    "plt.figure(figsize=(12, 10))\n",
    "plt.title('Confusion Matrix of discrete rotation detector (Fashion MNIST)')\n",
    "plt.imshow(confusion_matrix, norm=LogNorm())\n",
    "plt.xticks(np.arange(12), np.arange(0, 360, 30))\n",
    "plt.yticks(np.arange(12), np.arange(0, 360, 30))\n",
    "plt.colorbar()"
   ]
  },
  {
   "cell_type": "code",
   "execution_count": null,
   "metadata": {},
   "outputs": [],
   "source": []
  }
 ],
 "metadata": {
  "kernelspec": {
   "display_name": "Python 3",
   "language": "python",
   "name": "python3"
  },
  "language_info": {
   "codemirror_mode": {
    "name": "ipython",
    "version": 3
   },
   "file_extension": ".py",
   "mimetype": "text/x-python",
   "name": "python",
   "nbconvert_exporter": "python",
   "pygments_lexer": "ipython3",
   "version": "3.5.2"
  }
 },
 "nbformat": 4,
 "nbformat_minor": 2
}
