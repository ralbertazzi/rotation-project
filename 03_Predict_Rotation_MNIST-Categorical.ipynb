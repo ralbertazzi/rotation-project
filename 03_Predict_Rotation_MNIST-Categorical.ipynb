{
 "cells": [
  {
   "cell_type": "code",
   "execution_count": 1,
   "metadata": {},
   "outputs": [
    {
     "name": "stderr",
     "output_type": "stream",
     "text": [
      "/usr/local/lib/python3.5/dist-packages/h5py/__init__.py:36: FutureWarning: Conversion of the second argument of issubdtype from `float` to `np.floating` is deprecated. In future, it will be treated as `np.float64 == np.dtype(float).type`.\n",
      "  from ._conv import register_converters as _register_converters\n",
      "Using TensorFlow backend.\n"
     ]
    }
   ],
   "source": [
    "import numpy as np\n",
    "import cv2\n",
    "import matplotlib.pyplot as plt\n",
    "import skimage\n",
    "from tqdm import tqdm\n",
    "import keras\n",
    "from keras.datasets import mnist, cifar10, fashion_mnist\n",
    "import keras_utils"
   ]
  },
  {
   "cell_type": "code",
   "execution_count": 2,
   "metadata": {},
   "outputs": [],
   "source": [
    "keras_utils.set_keras_session()"
   ]
  },
  {
   "cell_type": "code",
   "execution_count": 3,
   "metadata": {},
   "outputs": [],
   "source": [
    "(X_train, Y_train), (X_test, Y_test) = fashion_mnist.load_data()"
   ]
  },
  {
   "cell_type": "code",
   "execution_count": 4,
   "metadata": {},
   "outputs": [
    {
     "data": {
      "text/plain": [
       "(60000, 28, 28)"
      ]
     },
     "execution_count": 4,
     "metadata": {},
     "output_type": "execute_result"
    }
   ],
   "source": [
    "X_train.shape"
   ]
  },
  {
   "cell_type": "code",
   "execution_count": 5,
   "metadata": {},
   "outputs": [],
   "source": [
    "def cv2_rotate(image, degrees):\n",
    "    if len(image.shape) == 3:\n",
    "        rows, cols, _ = image.shape\n",
    "    else:\n",
    "        rows, cols = image.shape\n",
    "    M = cv2.getRotationMatrix2D((cols/2,rows/2), degrees, 1)\n",
    "    return cv2.warpAffine(image, M, (cols,rows))"
   ]
  },
  {
   "cell_type": "code",
   "execution_count": 6,
   "metadata": {},
   "outputs": [],
   "source": [
    "def pad(image, padding=2):\n",
    "    \n",
    "    h, w = image.shape\n",
    "    image_padded = np.zeros((h + 2*padding, w + 2*padding))\n",
    "    image_padded[padding:-padding, padding:-padding] = image\n",
    "    return image_padded"
   ]
  },
  {
   "cell_type": "code",
   "execution_count": 7,
   "metadata": {},
   "outputs": [
    {
     "data": {
      "text/plain": [
       "<matplotlib.image.AxesImage at 0x7fa06d7cd978>"
      ]
     },
     "execution_count": 7,
     "metadata": {},
     "output_type": "execute_result"
    },
    {
     "data": {
      "image/png": "[encoded data removed]",
      "text/plain": [
       "<matplotlib.figure.Figure at 0x7fa09c014908>"
      ]
     },
     "metadata": {},
     "output_type": "display_data"
    }
   ],
   "source": [
    "plt.imshow(cv2_rotate(pad(X_train[100]), 45))"
   ]
  },
  {
   "cell_type": "code",
   "execution_count": 8,
   "metadata": {},
   "outputs": [],
   "source": [
    "augmented_rotations_per_sample = 3"
   ]
  },
  {
   "cell_type": "code",
   "execution_count": 9,
   "metadata": {},
   "outputs": [],
   "source": [
    "def generate_random_rotations(X, Y, n_rotations_per_sample, rot_range=10):\n",
    "    \n",
    "    new_X = []\n",
    "    new_Y = []\n",
    "    rotations = []\n",
    "    \n",
    "    h, w = X.shape[1:]\n",
    "    bigger = 2\n",
    "    \n",
    "    for image, label in tqdm(zip(X, Y), total=len(X)):\n",
    "        \n",
    "        image = pad(image)\n",
    "        \n",
    "        for _ in range(n_rotations_per_sample):\n",
    "            \n",
    "            rotation = np.random.randint(-rot_range, rot_range)\n",
    "            rotated_image = cv2_rotate(image, rotation)\n",
    "            new_X.append(rotated_image)\n",
    "            new_Y.append(label)\n",
    "            rotations.append(rotation)\n",
    "    \n",
    "    new_X = np.array(new_X)\n",
    "    if len(new_X.shape) == 3:\n",
    "        new_X = np.expand_dims(new_X, 3)\n",
    "        \n",
    "    return new_X, np.array(new_Y), np.array(rotations)"
   ]
  },
  {
   "cell_type": "raw",
   "metadata": {},
   "source": [
    "X_train_rot, Y_train_rot, R_train = generate_random_rotations(X_train, Y_train, augmented_rotations_per_sample)\n",
    "X_test_rot, Y_test_rot, R_test = generate_random_rotations(X_test, Y_test, augmented_rotations_per_sample)\n",
    "\n",
    "Y_train_onehot = keras.utils.to_categorical(Y_train_rot)\n",
    "Y_test_onehot = keras.utils.to_categorical(Y_test_rot)"
   ]
  },
  {
   "cell_type": "raw",
   "metadata": {},
   "source": [
    "R_train_radians, R_test_radians = (R * np.pi / 180 for R in (R_train, R_test))"
   ]
  },
  {
   "cell_type": "raw",
   "metadata": {},
   "source": [
    "R_train_sin_cos = create_rot_sin_cos(R_train_radians)\n",
    "R_test_sin_cos = create_rot_sin_cos(R_test_radians)"
   ]
  },
  {
   "cell_type": "code",
   "execution_count": 10,
   "metadata": {},
   "outputs": [],
   "source": [
    "nb_classes = keras.utils.to_categorical(Y_train).shape[1]"
   ]
  },
  {
   "cell_type": "code",
   "execution_count": 11,
   "metadata": {},
   "outputs": [],
   "source": [
    "def create_rot_sin_cos(R_radians):\n",
    "    rot_sin_cos = np.empty((len(R_radians), 2))\n",
    "    rot_sin_cos[:, 0] = np.sin(R_radians)\n",
    "    rot_sin_cos[:, 1] = np.cos(R_radians)\n",
    "    return rot_sin_cos"
   ]
  },
  {
   "cell_type": "code",
   "execution_count": 12,
   "metadata": {},
   "outputs": [],
   "source": [
    "from keras import layers\n",
    "from keras import models\n",
    "from keras import losses\n",
    "import keras.backend as K\n",
    "\n",
    "def cosine_proximity_unitary(y_true, y_pred):\n",
    "    \n",
    "    dot_product_loss = losses.cosine_proximity(y_true, y_pred)\n",
    "    unit_circle_loss = K.square(1 - (K.square(y_pred[:, 0]) + K.square(y_pred[:, 1])))\n",
    "    return dot_product_loss + 0.05 * unit_circle_loss\n",
    "\n",
    "\n",
    "def build_model(use_labels=True, use_rotation=True, rot_range=-1):\n",
    "\n",
    "    input_layer = layers.Input(X_train_rot.shape[1:], name='image_input')\n",
    "    x = input_layer\n",
    "\n",
    "    x = layers.Conv2D(32, (3,3), padding='same', activation='relu')(x)\n",
    "    x = layers.Conv2D(32, (3,3), padding='same', activation='relu')(x)\n",
    "    x = layers.MaxPool2D()(x)\n",
    "    x = layers.Dropout(0.25)(x)\n",
    "    flatten = layers.Flatten()(x)\n",
    "    \n",
    "    if use_labels:\n",
    "        y = layers.Dense(128, activation='relu')(flatten)\n",
    "        y = layers.Dropout(0.25)(y)\n",
    "        y = layers.Dense(nb_classes, activation='softmax', name='y')(y)\n",
    "\n",
    "    if use_rotation:\n",
    "        r = layers.Dense(32, activation='relu')(flatten)\n",
    "        r = layers.Dropout(0.5)(r)\n",
    "        r = layers.Dense(2*rot_range, activation='softmax', name='r')(r)\n",
    "\n",
    "    if use_labels and use_rotation:\n",
    "        model = models.Model(input_layer, [y, r])        \n",
    "        model.compile(optimizer='adam', loss=['categorical_crossentropy', 'categorical_crossentropy'], \n",
    "                      metrics={'y': 'accuracy', 'r': [keras_utils.angle_error, keras_utils.cos_error]},\n",
    "                      loss_weights=[alpha, beta])\n",
    "    elif use_labels:\n",
    "        model = models.Model(input_layer, y)\n",
    "        model.compile(optimizer='adam', loss='categorical_crossentropy', metrics=['accuracy'])\n",
    "    elif use_rotation:\n",
    "        model = models.Model(input_layer, r)\n",
    "        model.compile(optimizer='adam', loss='cosine_proximity', metrics=['accuracy'])\n",
    "    else:\n",
    "        raise ValueError('Specify at least 1 output for the network!')\n",
    "        \n",
    "    #model.summary()\n",
    "    \n",
    "    return model"
   ]
  },
  {
   "cell_type": "code",
   "execution_count": 13,
   "metadata": {},
   "outputs": [],
   "source": [
    "from keras import callbacks\n",
    "\n",
    "class LossWeightsCallback(callbacks.Callback):\n",
    "    def __init__(self, alpha, beta):\n",
    "        self.alpha = alpha\n",
    "        self.beta = beta\n",
    "        \n",
    "    # customize your behavior\n",
    "    def on_epoch_end(self, epoch, logs={}):\n",
    "        if epoch == 1:\n",
    "            self.alpha = self.alpha - 0.4 # set to 0.5\n",
    "            self.beta = self.beta + 0.4 # set to 0.5"
   ]
  },
  {
   "cell_type": "code",
   "execution_count": 14,
   "metadata": {},
   "outputs": [],
   "source": [
    "def train_model(model, use_labels=True, use_rotation=True):\n",
    "    \n",
    "    if use_labels and use_rotation:\n",
    "        y_train = [Y_train_onehot, R_train]\n",
    "        y_test = [Y_test_onehot, R_test]\n",
    "    elif use_labels:\n",
    "        y_train = Y_train_onehot\n",
    "        y_test = Y_test_onehot\n",
    "    elif use_rotation:\n",
    "        y_train = R_train\n",
    "        y_test = R_test\n",
    "    else:\n",
    "        raise ValueError('Specify output for training')\n",
    "        \n",
    "    \n",
    "    early_stopper = callbacks.EarlyStopping(patience=1)\n",
    "    \n",
    "    if use_labels and use_rotation:\n",
    "        lw_callback = LossWeightsCallback(alpha, beta)\n",
    "        _callbacks = [early_stopper, lw_callback]\n",
    "    else:\n",
    "        _callbacks = [early_stopper]\n",
    "    \n",
    "    return model.fit(X_train_rot, y_train, \n",
    "                     validation_data=(X_test_rot, y_test), \n",
    "                     callbacks=_callbacks,\n",
    "                     batch_size=256,\n",
    "                     epochs=10)"
   ]
  },
  {
   "cell_type": "code",
   "execution_count": 15,
   "metadata": {},
   "outputs": [
    {
     "name": "stderr",
     "output_type": "stream",
     "text": [
      "  2%|▏         | 1291/60000 [00:00<00:04, 12905.92it/s]"
     ]
    },
    {
     "name": "stdout",
     "output_type": "stream",
     "text": [
      "Training on rotation range of +- 10\n"
     ]
    },
    {
     "name": "stderr",
     "output_type": "stream",
     "text": [
      "100%|██████████| 60000/60000 [00:04<00:00, 12785.81it/s]\n",
      "100%|██████████| 10000/10000 [00:00<00:00, 12768.05it/s]\n"
     ]
    },
    {
     "name": "stdout",
     "output_type": "stream",
     "text": [
      "Train on 180000 samples, validate on 30000 samples\n",
      "Epoch 1/10\n",
      "180000/180000 [==============================] - 52s 290us/step - loss: 0.7638 - y_loss: 0.5279 - r_loss: 2.8866 - y_acc: 0.8506 - r_angle_error: 4.4464 - r_cos_error: -0.9955 - val_loss: 0.5166 - val_y_loss: 0.3133 - val_r_loss: 2.3468 - val_y_acc: 0.8861 - val_r_angle_error: 1.7379 - val_r_cos_error: -0.9992\n",
      "Epoch 2/10\n",
      "180000/180000 [==============================] - 51s 281us/step - loss: 0.5127 - y_loss: 0.2788 - r_loss: 2.6185 - y_acc: 0.8954 - r_angle_error: 3.5408 - r_cos_error: -0.9969 - val_loss: 0.4868 - val_y_loss: 0.2925 - val_r_loss: 2.2352 - val_y_acc: 0.8976 - val_r_angle_error: 1.3484 - val_r_cos_error: -0.9995\n",
      "Epoch 3/10\n",
      "180000/180000 [==============================] - 51s 281us/step - loss: 0.4681 - y_loss: 0.2358 - r_loss: 2.5591 - y_acc: 0.9107 - r_angle_error: 3.2374 - r_cos_error: -0.9973 - val_loss: 0.4549 - val_y_loss: 0.2706 - val_r_loss: 2.1129 - val_y_acc: 0.9061 - val_r_angle_error: 1.2468 - val_r_cos_error: -0.9996\n",
      "Epoch 4/10\n",
      "180000/180000 [==============================] - 51s 282us/step - loss: 0.4377 - y_loss: 0.2091 - r_loss: 2.4955 - y_acc: 0.9214 - r_angle_error: 2.9731 - r_cos_error: -0.9976 - val_loss: 0.4386 - val_y_loss: 0.2581 - val_r_loss: 2.0631 - val_y_acc: 0.9094 - val_r_angle_error: 1.1437 - val_r_cos_error: -0.9996\n",
      "Epoch 5/10\n",
      "180000/180000 [==============================] - 49s 270us/step - loss: 0.4126 - y_loss: 0.1861 - r_loss: 2.4513 - y_acc: 0.9293 - r_angle_error: 2.8405 - r_cos_error: -0.9977 - val_loss: 0.4388 - val_y_loss: 0.2629 - val_r_loss: 2.0216 - val_y_acc: 0.9116 - val_r_angle_error: 1.0728 - val_r_cos_error: -0.9997\n"
     ]
    },
    {
     "name": "stderr",
     "output_type": "stream",
     "text": [
      "  5%|▍         | 2998/60000 [00:00<00:03, 14983.64it/s]"
     ]
    },
    {
     "name": "stdout",
     "output_type": "stream",
     "text": [
      "1.0727666666666666\n",
      "Training on rotation range of +- 20\n"
     ]
    },
    {
     "name": "stderr",
     "output_type": "stream",
     "text": [
      "100%|██████████| 60000/60000 [00:04<00:00, 14248.67it/s]\n",
      "100%|██████████| 10000/10000 [00:00<00:00, 11981.93it/s]\n"
     ]
    },
    {
     "name": "stdout",
     "output_type": "stream",
     "text": [
      "Train on 180000 samples, validate on 30000 samples\n",
      "Epoch 1/10\n",
      "180000/180000 [==============================] - 51s 283us/step - loss: 2.3043 - y_loss: 2.2046 - r_loss: 3.2016 - y_acc: 0.7409 - r_angle_error: 7.7716 - r_cos_error: -0.9804 - val_loss: 0.5215 - val_y_loss: 0.3491 - val_r_loss: 2.0730 - val_y_acc: 0.8729 - val_r_angle_error: 1.3729 - val_r_cos_error: -0.9993\n",
      "Epoch 2/10\n",
      "180000/180000 [==============================] - 50s 281us/step - loss: 0.5366 - y_loss: 0.3326 - r_loss: 2.3728 - y_acc: 0.8772 - r_angle_error: 3.1540 - r_cos_error: -0.9959 - val_loss: 0.4622 - val_y_loss: 0.3137 - val_r_loss: 1.7993 - val_y_acc: 0.8845 - val_r_angle_error: 1.0735 - val_r_cos_error: -0.9995\n",
      "Epoch 3/10\n",
      "180000/180000 [==============================] - 51s 281us/step - loss: 0.4762 - y_loss: 0.2858 - r_loss: 2.1901 - y_acc: 0.8930 - r_angle_error: 2.6688 - r_cos_error: -0.9966 - val_loss: 0.4263 - val_y_loss: 0.2954 - val_r_loss: 1.6046 - val_y_acc: 0.8922 - val_r_angle_error: 0.7968 - val_r_cos_error: -0.9997\n",
      "Epoch 4/10\n",
      "180000/180000 [==============================] - 49s 274us/step - loss: 0.4392 - y_loss: 0.2557 - r_loss: 2.0904 - y_acc: 0.9040 - r_angle_error: 2.4116 - r_cos_error: -0.9971 - val_loss: 0.4154 - val_y_loss: 0.2901 - val_r_loss: 1.5436 - val_y_acc: 0.8956 - val_r_angle_error: 0.8551 - val_r_cos_error: -0.9996\n",
      "Epoch 5/10\n",
      "180000/180000 [==============================] - 43s 240us/step - loss: 0.4171 - y_loss: 0.2382 - r_loss: 2.0265 - y_acc: 0.9100 - r_angle_error: 2.3067 - r_cos_error: -0.9972 - val_loss: 0.4000 - val_y_loss: 0.2826 - val_r_loss: 1.4570 - val_y_acc: 0.8998 - val_r_angle_error: 0.7474 - val_r_cos_error: -0.9997\n",
      "Epoch 6/10\n",
      "180000/180000 [==============================] - 51s 281us/step - loss: 0.3927 - y_loss: 0.2177 - r_loss: 1.9678 - y_acc: 0.9167 - r_angle_error: 2.1985 - r_cos_error: -0.9974 - val_loss: 0.3978 - val_y_loss: 0.2915 - val_r_loss: 1.3547 - val_y_acc: 0.9001 - val_r_angle_error: 0.6348 - val_r_cos_error: -0.9998\n",
      "Epoch 7/10\n",
      "180000/180000 [==============================] - 50s 280us/step - loss: 0.3734 - y_loss: 0.2012 - r_loss: 1.9234 - y_acc: 0.9235 - r_angle_error: 2.1964 - r_cos_error: -0.9971 - val_loss: 0.3787 - val_y_loss: 0.2778 - val_r_loss: 1.2870 - val_y_acc: 0.9026 - val_r_angle_error: 0.5592 - val_r_cos_error: -0.9998\n",
      "Epoch 8/10\n",
      "180000/180000 [==============================] - 51s 281us/step - loss: 0.3568 - y_loss: 0.1864 - r_loss: 1.8908 - y_acc: 0.9287 - r_angle_error: 2.1964 - r_cos_error: -0.9968 - val_loss: 0.3814 - val_y_loss: 0.2921 - val_r_loss: 1.1849 - val_y_acc: 0.9029 - val_r_angle_error: 0.4727 - val_r_cos_error: -0.9998\n"
     ]
    },
    {
     "name": "stderr",
     "output_type": "stream",
     "text": [
      "  2%|▏         | 1248/60000 [00:00<00:04, 12476.53it/s]"
     ]
    },
    {
     "name": "stdout",
     "output_type": "stream",
     "text": [
      "0.47273333333333334\n",
      "Training on rotation range of +- 30\n"
     ]
    },
    {
     "name": "stderr",
     "output_type": "stream",
     "text": [
      "100%|██████████| 60000/60000 [00:04<00:00, 12522.74it/s]\n",
      "100%|██████████| 10000/10000 [00:00<00:00, 12720.49it/s]\n"
     ]
    },
    {
     "name": "stdout",
     "output_type": "stream",
     "text": [
      "Train on 180000 samples, validate on 30000 samples\n",
      "Epoch 1/10\n",
      "180000/180000 [==============================] - 50s 275us/step - loss: 0.9706 - y_loss: 0.6797 - r_loss: 3.5878 - y_acc: 0.8108 - r_angle_error: 12.0288 - r_cos_error: -0.9553 - val_loss: 0.5685 - val_y_loss: 0.3527 - val_r_loss: 2.5109 - val_y_acc: 0.8691 - val_r_angle_error: 2.1400 - val_r_cos_error: -0.9983\n",
      "Epoch 2/10\n",
      "180000/180000 [==============================] - 43s 240us/step - loss: 0.6096 - y_loss: 0.3459 - r_loss: 2.9834 - y_acc: 0.8721 - r_angle_error: 6.2546 - r_cos_error: -0.9857 - val_loss: 0.5221 - val_y_loss: 0.3232 - val_r_loss: 2.3129 - val_y_acc: 0.8813 - val_r_angle_error: 1.7455 - val_r_cos_error: -0.9989\n",
      "Epoch 3/10\n",
      "180000/180000 [==============================] - 51s 281us/step - loss: 0.5523 - y_loss: 0.2966 - r_loss: 2.8533 - y_acc: 0.8897 - r_angle_error: 5.8143 - r_cos_error: -0.9855 - val_loss: 0.4895 - val_y_loss: 0.2973 - val_r_loss: 2.2193 - val_y_acc: 0.8912 - val_r_angle_error: 1.5051 - val_r_cos_error: -0.9992\n",
      "Epoch 4/10\n",
      "180000/180000 [==============================] - 50s 280us/step - loss: 0.5201 - y_loss: 0.2683 - r_loss: 2.7865 - y_acc: 0.9000 - r_angle_error: 5.5602 - r_cos_error: -0.9859 - val_loss: 0.4779 - val_y_loss: 0.2956 - val_r_loss: 2.1182 - val_y_acc: 0.8945 - val_r_angle_error: 1.3854 - val_r_cos_error: -0.9993\n",
      "Epoch 5/10\n",
      "180000/180000 [==============================] - 51s 281us/step - loss: 0.4936 - y_loss: 0.2441 - r_loss: 2.7383 - y_acc: 0.9078 - r_angle_error: 5.3526 - r_cos_error: -0.9863 - val_loss: 0.4721 - val_y_loss: 0.2939 - val_r_loss: 2.0753 - val_y_acc: 0.8933 - val_r_angle_error: 1.2602 - val_r_cos_error: -0.9994\n",
      "Epoch 6/10\n",
      "180000/180000 [==============================] - 50s 281us/step - loss: 0.4668 - y_loss: 0.2252 - r_loss: 2.6406 - y_acc: 0.9148 - r_angle_error: 4.7410 - r_cos_error: -0.9883 - val_loss: 0.4618 - val_y_loss: 0.2927 - val_r_loss: 1.9843 - val_y_acc: 0.8970 - val_r_angle_error: 1.1957 - val_r_cos_error: -0.9994\n",
      "Epoch 7/10\n",
      "180000/180000 [==============================] - 51s 281us/step - loss: 0.4502 - y_loss: 0.2118 - r_loss: 2.5958 - y_acc: 0.9197 - r_angle_error: 4.5542 - r_cos_error: -0.9887 - val_loss: 0.4503 - val_y_loss: 0.2828 - val_r_loss: 1.9578 - val_y_acc: 0.9016 - val_r_angle_error: 1.1797 - val_r_cos_error: -0.9995\n",
      "Epoch 8/10\n",
      "180000/180000 [==============================] - 51s 281us/step - loss: 0.4341 - y_loss: 0.1965 - r_loss: 2.5730 - y_acc: 0.9254 - r_angle_error: 4.5429 - r_cos_error: -0.9884 - val_loss: 0.4461 - val_y_loss: 0.2850 - val_r_loss: 1.8960 - val_y_acc: 0.9028 - val_r_angle_error: 1.0561 - val_r_cos_error: -0.9996\n",
      "Epoch 9/10\n",
      "180000/180000 [==============================] - 41s 229us/step - loss: 0.4237 - y_loss: 0.1863 - r_loss: 2.5594 - y_acc: 0.9290 - r_angle_error: 4.5238 - r_cos_error: -0.9884 - val_loss: 0.4416 - val_y_loss: 0.2817 - val_r_loss: 1.8812 - val_y_acc: 0.9024 - val_r_angle_error: 0.9995 - val_r_cos_error: -0.9996\n",
      "Epoch 10/10\n",
      "180000/180000 [==============================] - 51s 281us/step - loss: 0.4139 - y_loss: 0.1775 - r_loss: 2.5420 - y_acc: 0.9322 - r_angle_error: 4.4873 - r_cos_error: -0.9883 - val_loss: 0.4584 - val_y_loss: 0.2988 - val_r_loss: 1.8952 - val_y_acc: 0.8984 - val_r_angle_error: 1.0958 - val_r_cos_error: -0.9996\n"
     ]
    },
    {
     "name": "stderr",
     "output_type": "stream",
     "text": [
      "  2%|▏         | 1175/60000 [00:00<00:05, 11744.30it/s]"
     ]
    },
    {
     "name": "stdout",
     "output_type": "stream",
     "text": [
      "1.0958\n",
      "Training on rotation range of +- 40\n"
     ]
    },
    {
     "name": "stderr",
     "output_type": "stream",
     "text": [
      "100%|██████████| 60000/60000 [00:04<00:00, 12269.35it/s]\n",
      "100%|██████████| 10000/10000 [00:00<00:00, 12152.81it/s]\n"
     ]
    },
    {
     "name": "stdout",
     "output_type": "stream",
     "text": [
      "Train on 180000 samples, validate on 30000 samples\n",
      "Epoch 1/10\n",
      "180000/180000 [==============================] - 51s 284us/step - loss: 1.1070 - y_loss: 0.7908 - r_loss: 3.9531 - y_acc: 0.7948 - r_angle_error: 16.1976 - r_cos_error: -0.9241 - val_loss: 0.6291 - val_y_loss: 0.3772 - val_r_loss: 2.8962 - val_y_acc: 0.8644 - val_r_angle_error: 2.6535 - val_r_cos_error: -0.9971\n",
      "Epoch 2/10\n",
      "180000/180000 [==============================] - 51s 281us/step - loss: 0.6774 - y_loss: 0.3678 - r_loss: 3.4638 - y_acc: 0.8643 - r_angle_error: 11.5025 - r_cos_error: -0.9504 - val_loss: 0.5730 - val_y_loss: 0.3436 - val_r_loss: 2.6378 - val_y_acc: 0.8734 - val_r_angle_error: 2.1060 - val_r_cos_error: -0.9982\n",
      "Epoch 3/10\n",
      "180000/180000 [==============================] - 51s 281us/step - loss: 0.6162 - y_loss: 0.3209 - r_loss: 3.2736 - y_acc: 0.8795 - r_angle_error: 10.1064 - r_cos_error: -0.9561 - val_loss: 0.5423 - val_y_loss: 0.3236 - val_r_loss: 2.5101 - val_y_acc: 0.8789 - val_r_angle_error: 1.8645 - val_r_cos_error: -0.9977\n",
      "Epoch 4/10\n",
      "180000/180000 [==============================] - 51s 281us/step - loss: 0.5810 - y_loss: 0.2905 - r_loss: 3.1958 - y_acc: 0.8905 - r_angle_error: 9.9797 - r_cos_error: -0.9532 - val_loss: 0.5295 - val_y_loss: 0.3169 - val_r_loss: 2.4429 - val_y_acc: 0.8843 - val_r_angle_error: 1.7520 - val_r_cos_error: -0.9986\n",
      "Epoch 5/10\n",
      "180000/180000 [==============================] - 51s 281us/step - loss: 0.5575 - y_loss: 0.2688 - r_loss: 3.1561 - y_acc: 0.8976 - r_angle_error: 9.8727 - r_cos_error: -0.9506 - val_loss: 0.5195 - val_y_loss: 0.3126 - val_r_loss: 2.3814 - val_y_acc: 0.8873 - val_r_angle_error: 1.7528 - val_r_cos_error: -0.9984\n",
      "Epoch 6/10\n",
      "180000/180000 [==============================] - 41s 230us/step - loss: 0.5338 - y_loss: 0.2509 - r_loss: 3.0799 - y_acc: 0.9048 - r_angle_error: 9.3777 - r_cos_error: -0.9523 - val_loss: 0.5130 - val_y_loss: 0.3093 - val_r_loss: 2.3469 - val_y_acc: 0.8889 - val_r_angle_error: 1.7351 - val_r_cos_error: -0.9985\n",
      "Epoch 7/10\n",
      "180000/180000 [==============================] - 51s 281us/step - loss: 0.5160 - y_loss: 0.2334 - r_loss: 3.0588 - y_acc: 0.9106 - r_angle_error: 9.3571 - r_cos_error: -0.9522 - val_loss: 0.5073 - val_y_loss: 0.3038 - val_r_loss: 2.3384 - val_y_acc: 0.8934 - val_r_angle_error: 1.6475 - val_r_cos_error: -0.9986\n",
      "Epoch 8/10\n",
      "180000/180000 [==============================] - 51s 281us/step - loss: 0.5036 - y_loss: 0.2204 - r_loss: 3.0521 - y_acc: 0.9165 - r_angle_error: 9.4128 - r_cos_error: -0.9514 - val_loss: 0.5167 - val_y_loss: 0.3174 - val_r_loss: 2.3105 - val_y_acc: 0.8932 - val_r_angle_error: 1.6126 - val_r_cos_error: -0.9985\n"
     ]
    },
    {
     "name": "stderr",
     "output_type": "stream",
     "text": [
      "  2%|▏         | 1136/60000 [00:00<00:05, 11357.38it/s]"
     ]
    },
    {
     "name": "stdout",
     "output_type": "stream",
     "text": [
      "1.6125666666666667\n",
      "Training on rotation range of +- 50\n"
     ]
    },
    {
     "name": "stderr",
     "output_type": "stream",
     "text": [
      "100%|██████████| 60000/60000 [00:04<00:00, 12394.08it/s]\n",
      "100%|██████████| 10000/10000 [00:00<00:00, 12532.10it/s]\n"
     ]
    },
    {
     "name": "stdout",
     "output_type": "stream",
     "text": [
      "Train on 180000 samples, validate on 30000 samples\n",
      "Epoch 1/10\n",
      "180000/180000 [==============================] - 51s 285us/step - loss: 1.2796 - y_loss: 0.9468 - r_loss: 4.2746 - y_acc: 0.7667 - r_angle_error: 20.3510 - r_cos_error: -0.8855 - val_loss: 0.7209 - val_y_loss: 0.4218 - val_r_loss: 3.4125 - val_y_acc: 0.8474 - val_r_angle_error: 4.1839 - val_r_cos_error: -0.9892\n",
      "Epoch 2/10\n",
      "180000/180000 [==============================] - 51s 281us/step - loss: 0.7544 - y_loss: 0.4107 - r_loss: 3.8477 - y_acc: 0.8481 - r_angle_error: 15.3155 - r_cos_error: -0.9131 - val_loss: 0.6571 - val_y_loss: 0.3738 - val_r_loss: 3.2070 - val_y_acc: 0.8627 - val_r_angle_error: 3.9497 - val_r_cos_error: -0.9837\n",
      "Epoch 3/10\n",
      "180000/180000 [==============================] - 51s 282us/step - loss: 0.7029 - y_loss: 0.3590 - r_loss: 3.7973 - y_acc: 0.8659 - r_angle_error: 15.4533 - r_cos_error: -0.9088 - val_loss: 0.6250 - val_y_loss: 0.3497 - val_r_loss: 3.1029 - val_y_acc: 0.8736 - val_r_angle_error: 3.5776 - val_r_cos_error: -0.9865\n",
      "Epoch 4/10\n",
      "180000/180000 [==============================] - 41s 228us/step - loss: 0.6699 - y_loss: 0.3258 - r_loss: 3.7674 - y_acc: 0.8779 - r_angle_error: 15.2734 - r_cos_error: -0.9093 - val_loss: 0.6227 - val_y_loss: 0.3476 - val_r_loss: 3.0986 - val_y_acc: 0.8724 - val_r_angle_error: 4.0103 - val_r_cos_error: -0.9840\n",
      "Epoch 5/10\n",
      "180000/180000 [==============================] - 51s 281us/step - loss: 0.6426 - y_loss: 0.3047 - r_loss: 3.6837 - y_acc: 0.8843 - r_angle_error: 14.1117 - r_cos_error: -0.9179 - val_loss: 0.5959 - val_y_loss: 0.3317 - val_r_loss: 2.9734 - val_y_acc: 0.8820 - val_r_angle_error: 2.8557 - val_r_cos_error: -0.9928\n",
      "Epoch 6/10\n",
      "180000/180000 [==============================] - 50s 280us/step - loss: 0.6239 - y_loss: 0.2880 - r_loss: 3.6466 - y_acc: 0.8910 - r_angle_error: 13.2804 - r_cos_error: -0.9251 - val_loss: 0.5834 - val_y_loss: 0.3249 - val_r_loss: 2.9101 - val_y_acc: 0.8835 - val_r_angle_error: 2.6969 - val_r_cos_error: -0.9929\n",
      "Epoch 7/10\n",
      "180000/180000 [==============================] - 51s 281us/step - loss: 0.6061 - y_loss: 0.2700 - r_loss: 3.6316 - y_acc: 0.8976 - r_angle_error: 13.1497 - r_cos_error: -0.9253 - val_loss: 0.5890 - val_y_loss: 0.3271 - val_r_loss: 2.9456 - val_y_acc: 0.8853 - val_r_angle_error: 2.7094 - val_r_cos_error: -0.9938\n"
     ]
    },
    {
     "name": "stderr",
     "output_type": "stream",
     "text": [
      "  2%|▏         | 1227/60000 [00:00<00:04, 12260.54it/s]"
     ]
    },
    {
     "name": "stdout",
     "output_type": "stream",
     "text": [
      "2.7094\n",
      "Training on rotation range of +- 60\n"
     ]
    },
    {
     "name": "stderr",
     "output_type": "stream",
     "text": [
      "100%|██████████| 60000/60000 [00:04<00:00, 12336.56it/s]\n",
      "100%|██████████| 10000/10000 [00:00<00:00, 12910.60it/s]\n"
     ]
    },
    {
     "name": "stdout",
     "output_type": "stream",
     "text": [
      "Train on 180000 samples, validate on 30000 samples\n",
      "Epoch 1/10\n",
      "180000/180000 [==============================] - 51s 285us/step - loss: 1.3245 - y_loss: 1.0045 - r_loss: 4.2043 - y_acc: 0.7600 - r_angle_error: 31.0341 - r_cos_error: -0.7269 - val_loss: 0.6823 - val_y_loss: 0.4284 - val_r_loss: 2.9675 - val_y_acc: 0.8431 - val_r_angle_error: 9.7000 - val_r_cos_error: -0.9115\n",
      "Epoch 2/10\n",
      "180000/180000 [==============================] - 51s 281us/step - loss: 0.7249 - y_loss: 0.4152 - r_loss: 3.5119 - y_acc: 0.8476 - r_angle_error: 22.6357 - r_cos_error: -0.7955 - val_loss: 0.6032 - val_y_loss: 0.3774 - val_r_loss: 2.6357 - val_y_acc: 0.8608 - val_r_angle_error: 3.3820 - val_r_cos_error: -0.9824\n",
      "Epoch 3/10\n",
      "180000/180000 [==============================] - 51s 282us/step - loss: 0.6630 - y_loss: 0.3602 - r_loss: 3.3883 - y_acc: 0.8664 - r_angle_error: 20.3566 - r_cos_error: -0.8192 - val_loss: 0.5786 - val_y_loss: 0.3574 - val_r_loss: 2.5688 - val_y_acc: 0.8669 - val_r_angle_error: 3.0699 - val_r_cos_error: -0.9847\n",
      "Epoch 4/10\n",
      "180000/180000 [==============================] - 41s 229us/step - loss: 0.6260 - y_loss: 0.3259 - r_loss: 3.3270 - y_acc: 0.8785 - r_angle_error: 18.9123 - r_cos_error: -0.8343 - val_loss: 0.5591 - val_y_loss: 0.3452 - val_r_loss: 2.4840 - val_y_acc: 0.8738 - val_r_angle_error: 2.7817 - val_r_cos_error: -0.9871\n",
      "Epoch 5/10\n",
      "180000/180000 [==============================] - 51s 281us/step - loss: 0.5933 - y_loss: 0.3013 - r_loss: 3.2220 - y_acc: 0.8864 - r_angle_error: 17.0239 - r_cos_error: -0.8527 - val_loss: 0.5474 - val_y_loss: 0.3410 - val_r_loss: 2.4048 - val_y_acc: 0.8772 - val_r_angle_error: 2.6549 - val_r_cos_error: -0.9873\n",
      "Epoch 6/10\n",
      "180000/180000 [==============================] - 51s 281us/step - loss: 0.5677 - y_loss: 0.2787 - r_loss: 3.1686 - y_acc: 0.8948 - r_angle_error: 15.8826 - r_cos_error: -0.8649 - val_loss: 0.5461 - val_y_loss: 0.3406 - val_r_loss: 2.3962 - val_y_acc: 0.8772 - val_r_angle_error: 2.4994 - val_r_cos_error: -0.9890\n",
      "Epoch 7/10\n",
      "180000/180000 [==============================] - 51s 281us/step - loss: 0.5518 - y_loss: 0.2636 - r_loss: 3.1453 - y_acc: 0.9005 - r_angle_error: 15.5936 - r_cos_error: -0.8677 - val_loss: 0.5428 - val_y_loss: 0.3407 - val_r_loss: 2.3616 - val_y_acc: 0.8801 - val_r_angle_error: 2.5079 - val_r_cos_error: -0.9889\n",
      "Epoch 8/10\n",
      "180000/180000 [==============================] - 51s 281us/step - loss: 0.5330 - y_loss: 0.2488 - r_loss: 3.0917 - y_acc: 0.9049 - r_angle_error: 14.3750 - r_cos_error: -0.8813 - val_loss: 0.5378 - val_y_loss: 0.3441 - val_r_loss: 2.2810 - val_y_acc: 0.8826 - val_r_angle_error: 2.4054 - val_r_cos_error: -0.9896\n",
      "Epoch 9/10\n",
      "180000/180000 [==============================] - 51s 282us/step - loss: 0.5185 - y_loss: 0.2366 - r_loss: 3.0552 - y_acc: 0.9103 - r_angle_error: 13.7390 - r_cos_error: -0.8884 - val_loss: 0.5278 - val_y_loss: 0.3317 - val_r_loss: 2.2933 - val_y_acc: 0.8816 - val_r_angle_error: 2.5200 - val_r_cos_error: -0.9888\n",
      "Epoch 10/10\n",
      "180000/180000 [==============================] - 51s 281us/step - loss: 0.5058 - y_loss: 0.2252 - r_loss: 3.0308 - y_acc: 0.9139 - r_angle_error: 13.3920 - r_cos_error: -0.8922 - val_loss: 0.5275 - val_y_loss: 0.3347 - val_r_loss: 2.2632 - val_y_acc: 0.8852 - val_r_angle_error: 2.3027 - val_r_cos_error: -0.9904\n"
     ]
    },
    {
     "name": "stderr",
     "output_type": "stream",
     "text": [
      "  2%|▏         | 1027/60000 [00:00<00:05, 10261.67it/s]"
     ]
    },
    {
     "name": "stdout",
     "output_type": "stream",
     "text": [
      "2.3027333333333333\n",
      "Training on rotation range of +- 70\n"
     ]
    },
    {
     "name": "stderr",
     "output_type": "stream",
     "text": [
      "100%|██████████| 60000/60000 [00:04<00:00, 12271.58it/s]\n",
      "100%|██████████| 10000/10000 [00:00<00:00, 12029.34it/s]\n"
     ]
    },
    {
     "name": "stdout",
     "output_type": "stream",
     "text": [
      "Train on 180000 samples, validate on 30000 samples\n",
      "Epoch 1/10\n",
      "180000/180000 [==============================] - 42s 233us/step - loss: 1.5472 - y_loss: 1.2613 - r_loss: 4.1200 - y_acc: 0.7388 - r_angle_error: 24.6129 - r_cos_error: -0.7948 - val_loss: 0.6860 - val_y_loss: 0.4551 - val_r_loss: 2.7643 - val_y_acc: 0.8341 - val_r_angle_error: 4.2544 - val_r_cos_error: -0.9755\n",
      "Epoch 2/10\n",
      "180000/180000 [==============================] - 51s 281us/step - loss: 0.7235 - y_loss: 0.4464 - r_loss: 3.2175 - y_acc: 0.8360 - r_angle_error: 14.4543 - r_cos_error: -0.8767 - val_loss: 0.6180 - val_y_loss: 0.4117 - val_r_loss: 2.4749 - val_y_acc: 0.8488 - val_r_angle_error: 3.3380 - val_r_cos_error: -0.9817\n",
      "Epoch 3/10\n",
      "180000/180000 [==============================] - 51s 281us/step - loss: 0.6534 - y_loss: 0.3870 - r_loss: 3.0514 - y_acc: 0.8565 - r_angle_error: 12.7508 - r_cos_error: -0.8929 - val_loss: 0.5778 - val_y_loss: 0.3814 - val_r_loss: 2.3453 - val_y_acc: 0.8626 - val_r_angle_error: 2.9554 - val_r_cos_error: -0.9842\n",
      "Epoch 4/10\n",
      "180000/180000 [==============================] - 51s 281us/step - loss: 0.6119 - y_loss: 0.3510 - r_loss: 2.9594 - y_acc: 0.8681 - r_angle_error: 12.1448 - r_cos_error: -0.8975 - val_loss: 0.5603 - val_y_loss: 0.3668 - val_r_loss: 2.3018 - val_y_acc: 0.8649 - val_r_angle_error: 2.9224 - val_r_cos_error: -0.9846\n",
      "Epoch 5/10\n",
      "180000/180000 [==============================] - 51s 281us/step - loss: 0.5857 - y_loss: 0.3281 - r_loss: 2.9039 - y_acc: 0.8766 - r_angle_error: 11.6960 - r_cos_error: -0.9020 - val_loss: 0.5530 - val_y_loss: 0.3672 - val_r_loss: 2.2252 - val_y_acc: 0.8698 - val_r_angle_error: 2.5232 - val_r_cos_error: -0.9874\n",
      "Epoch 6/10\n",
      "180000/180000 [==============================] - 51s 281us/step - loss: 0.5624 - y_loss: 0.3061 - r_loss: 2.8695 - y_acc: 0.8844 - r_angle_error: 11.4202 - r_cos_error: -0.9045 - val_loss: 0.5355 - val_y_loss: 0.3513 - val_r_loss: 2.1937 - val_y_acc: 0.8771 - val_r_angle_error: 2.4827 - val_r_cos_error: -0.9876\n",
      "Epoch 7/10\n",
      "180000/180000 [==============================] - 51s 281us/step - loss: 0.5437 - y_loss: 0.2884 - r_loss: 2.8412 - y_acc: 0.8907 - r_angle_error: 11.2275 - r_cos_error: -0.9060 - val_loss: 0.5276 - val_y_loss: 0.3431 - val_r_loss: 2.1878 - val_y_acc: 0.8779 - val_r_angle_error: 2.3643 - val_r_cos_error: -0.9884\n",
      "Epoch 8/10\n",
      "180000/180000 [==============================] - 45s 247us/step - loss: 0.5289 - y_loss: 0.2753 - r_loss: 2.8109 - y_acc: 0.8951 - r_angle_error: 10.8587 - r_cos_error: -0.9098 - val_loss: 0.5215 - val_y_loss: 0.3421 - val_r_loss: 2.1360 - val_y_acc: 0.8795 - val_r_angle_error: 2.5048 - val_r_cos_error: -0.9864\n",
      "Epoch 9/10\n",
      "180000/180000 [==============================] - 48s 265us/step - loss: 0.5097 - y_loss: 0.2577 - r_loss: 2.7780 - y_acc: 0.9015 - r_angle_error: 10.5612 - r_cos_error: -0.9125 - val_loss: 0.5170 - val_y_loss: 0.3385 - val_r_loss: 2.1230 - val_y_acc: 0.8812 - val_r_angle_error: 2.4741 - val_r_cos_error: -0.9872\n",
      "Epoch 10/10\n",
      "180000/180000 [==============================] - 51s 281us/step - loss: 0.4966 - y_loss: 0.2456 - r_loss: 2.7554 - y_acc: 0.9067 - r_angle_error: 10.2606 - r_cos_error: -0.9154 - val_loss: 0.5278 - val_y_loss: 0.3518 - val_r_loss: 2.1116 - val_y_acc: 0.8765 - val_r_angle_error: 2.3690 - val_r_cos_error: -0.9876\n"
     ]
    },
    {
     "name": "stderr",
     "output_type": "stream",
     "text": [
      "  2%|▏         | 1300/60000 [00:00<00:04, 12988.83it/s]"
     ]
    },
    {
     "name": "stdout",
     "output_type": "stream",
     "text": [
      "2.369\n",
      "Training on rotation range of +- 80\n"
     ]
    },
    {
     "name": "stderr",
     "output_type": "stream",
     "text": [
      "100%|██████████| 60000/60000 [00:04<00:00, 12038.54it/s]\n",
      "100%|██████████| 10000/10000 [00:00<00:00, 12181.71it/s]\n"
     ]
    },
    {
     "name": "stdout",
     "output_type": "stream",
     "text": [
      "Train on 180000 samples, validate on 30000 samples\n",
      "Epoch 1/10\n",
      "180000/180000 [==============================] - 51s 286us/step - loss: 1.7213 - y_loss: 1.4204 - r_loss: 4.4300 - y_acc: 0.7213 - r_angle_error: 28.3279 - r_cos_error: -0.7677 - val_loss: 0.7391 - val_y_loss: 0.4673 - val_r_loss: 3.1848 - val_y_acc: 0.8295 - val_r_angle_error: 6.0489 - val_r_cos_error: -0.9616\n",
      "Epoch 2/10\n",
      "180000/180000 [==============================] - 51s 281us/step - loss: 0.7930 - y_loss: 0.4700 - r_loss: 3.6998 - y_acc: 0.8288 - r_angle_error: 20.2605 - r_cos_error: -0.8318 - val_loss: 0.6570 - val_y_loss: 0.4171 - val_r_loss: 2.8163 - val_y_acc: 0.8477 - val_r_angle_error: 4.3932 - val_r_cos_error: -0.9739\n",
      "Epoch 3/10\n",
      "180000/180000 [==============================] - 44s 246us/step - loss: 0.7168 - y_loss: 0.4091 - r_loss: 3.4859 - y_acc: 0.8484 - r_angle_error: 18.3941 - r_cos_error: -0.8436 - val_loss: 0.6188 - val_y_loss: 0.3968 - val_r_loss: 2.6171 - val_y_acc: 0.8540 - val_r_angle_error: 3.9633 - val_r_cos_error: -0.9756\n",
      "Epoch 4/10\n",
      "180000/180000 [==============================] - 47s 264us/step - loss: 0.6740 - y_loss: 0.3741 - r_loss: 3.3738 - y_acc: 0.8602 - r_angle_error: 16.7558 - r_cos_error: -0.8597 - val_loss: 0.5962 - val_y_loss: 0.3826 - val_r_loss: 2.5186 - val_y_acc: 0.8608 - val_r_angle_error: 3.7627 - val_r_cos_error: -0.9775\n",
      "Epoch 5/10\n",
      "180000/180000 [==============================] - 51s 281us/step - loss: 0.6409 - y_loss: 0.3459 - r_loss: 3.2963 - y_acc: 0.8701 - r_angle_error: 15.6560 - r_cos_error: -0.8695 - val_loss: 0.5799 - val_y_loss: 0.3674 - val_r_loss: 2.4918 - val_y_acc: 0.8671 - val_r_angle_error: 3.3888 - val_r_cos_error: -0.9809\n",
      "Epoch 6/10\n",
      "180000/180000 [==============================] - 50s 280us/step - loss: 0.6186 - y_loss: 0.3248 - r_loss: 3.2627 - y_acc: 0.8780 - r_angle_error: 15.4061 - r_cos_error: -0.8710 - val_loss: 0.5827 - val_y_loss: 0.3734 - val_r_loss: 2.4667 - val_y_acc: 0.8670 - val_r_angle_error: 3.4135 - val_r_cos_error: -0.9806\n"
     ]
    },
    {
     "name": "stderr",
     "output_type": "stream",
     "text": [
      "  2%|▏         | 1200/60000 [00:00<00:04, 11987.49it/s]"
     ]
    },
    {
     "name": "stdout",
     "output_type": "stream",
     "text": [
      "3.413466666666667\n",
      "Training on rotation range of +- 90\n"
     ]
    },
    {
     "name": "stderr",
     "output_type": "stream",
     "text": [
      "100%|██████████| 60000/60000 [00:05<00:00, 11952.40it/s]\n",
      "100%|██████████| 10000/10000 [00:00<00:00, 12526.09it/s]\n"
     ]
    },
    {
     "name": "stdout",
     "output_type": "stream",
     "text": [
      "Train on 180000 samples, validate on 30000 samples\n",
      "Epoch 1/10\n",
      "180000/180000 [==============================] - 51s 286us/step - loss: 1.4398 - y_loss: 1.0847 - r_loss: 4.6358 - y_acc: 0.7204 - r_angle_error: 38.0363 - r_cos_error: -0.6461 - val_loss: 0.7606 - val_y_loss: 0.4833 - val_r_loss: 3.2567 - val_y_acc: 0.8268 - val_r_angle_error: 6.8337 - val_r_cos_error: -0.9541\n",
      "Epoch 2/10\n",
      "180000/180000 [==============================] - 51s 281us/step - loss: 0.8232 - y_loss: 0.4876 - r_loss: 3.8438 - y_acc: 0.8211 - r_angle_error: 25.7799 - r_cos_error: -0.7654 - val_loss: 0.6741 - val_y_loss: 0.4227 - val_r_loss: 2.9363 - val_y_acc: 0.8449 - val_r_angle_error: 5.2127 - val_r_cos_error: -0.9663\n",
      "Epoch 3/10\n",
      "180000/180000 [==============================] - 51s 282us/step - loss: 0.7547 - y_loss: 0.4274 - r_loss: 3.7002 - y_acc: 0.8424 - r_angle_error: 23.7669 - r_cos_error: -0.7849 - val_loss: 0.6404 - val_y_loss: 0.3990 - val_r_loss: 2.8129 - val_y_acc: 0.8561 - val_r_angle_error: 5.0620 - val_r_cos_error: -0.9677\n",
      "Epoch 4/10\n",
      "180000/180000 [==============================] - 51s 281us/step - loss: 0.7118 - y_loss: 0.3871 - r_loss: 3.6335 - y_acc: 0.8562 - r_angle_error: 23.2045 - r_cos_error: -0.7885 - val_loss: 0.6256 - val_y_loss: 0.3861 - val_r_loss: 2.7812 - val_y_acc: 0.8603 - val_r_angle_error: 4.5414 - val_r_cos_error: -0.9718\n",
      "Epoch 5/10\n",
      "180000/180000 [==============================] - 51s 281us/step - loss: 0.6800 - y_loss: 0.3565 - r_loss: 3.5914 - y_acc: 0.8663 - r_angle_error: 22.5972 - r_cos_error: -0.7945 - val_loss: 0.6130 - val_y_loss: 0.3790 - val_r_loss: 2.7189 - val_y_acc: 0.8618 - val_r_angle_error: 4.4467 - val_r_cos_error: -0.9719\n",
      "Epoch 6/10\n",
      "180000/180000 [==============================] - 51s 281us/step - loss: 0.6567 - y_loss: 0.3362 - r_loss: 3.5411 - y_acc: 0.8735 - r_angle_error: 21.0437 - r_cos_error: -0.8126 - val_loss: 0.6025 - val_y_loss: 0.3729 - val_r_loss: 2.6692 - val_y_acc: 0.8647 - val_r_angle_error: 4.2624 - val_r_cos_error: -0.9736\n",
      "Epoch 7/10\n",
      "180000/180000 [==============================] - 44s 242us/step - loss: 0.6363 - y_loss: 0.3161 - r_loss: 3.5184 - y_acc: 0.8801 - r_angle_error: 20.7916 - r_cos_error: -0.8150 - val_loss: 0.6032 - val_y_loss: 0.3759 - val_r_loss: 2.6483 - val_y_acc: 0.8665 - val_r_angle_error: 4.2501 - val_r_cos_error: -0.9732\n"
     ]
    },
    {
     "name": "stderr",
     "output_type": "stream",
     "text": [
      "  3%|▎         | 1501/60000 [00:00<00:03, 14997.68it/s]"
     ]
    },
    {
     "name": "stdout",
     "output_type": "stream",
     "text": [
      "4.250066666666667\n",
      "Training on rotation range of +- 100\n"
     ]
    },
    {
     "name": "stderr",
     "output_type": "stream",
     "text": [
      "100%|██████████| 60000/60000 [00:04<00:00, 12241.92it/s]\n",
      "100%|██████████| 10000/10000 [00:00<00:00, 12295.63it/s]\n"
     ]
    },
    {
     "name": "stdout",
     "output_type": "stream",
     "text": [
      "Train on 180000 samples, validate on 30000 samples\n",
      "Epoch 1/10\n",
      "180000/180000 [==============================] - 51s 286us/step - loss: 1.2072 - y_loss: 0.8169 - r_loss: 4.7193 - y_acc: 0.7429 - r_angle_error: 49.4570 - r_cos_error: -0.5057 - val_loss: 0.7833 - val_y_loss: 0.4860 - val_r_loss: 3.4592 - val_y_acc: 0.8263 - val_r_angle_error: 12.2869 - val_r_cos_error: -0.8886\n",
      "Epoch 2/10\n",
      "180000/180000 [==============================] - 50s 279us/step - loss: 0.8404 - y_loss: 0.4855 - r_loss: 4.0346 - y_acc: 0.8230 - r_angle_error: 35.9880 - r_cos_error: -0.6365 - val_loss: 0.6952 - val_y_loss: 0.4304 - val_r_loss: 3.0786 - val_y_acc: 0.8441 - val_r_angle_error: 8.0310 - val_r_cos_error: -0.9326\n",
      "Epoch 3/10\n",
      "180000/180000 [==============================] - 51s 282us/step - loss: 0.7669 - y_loss: 0.4208 - r_loss: 3.8821 - y_acc: 0.8447 - r_angle_error: 32.8293 - r_cos_error: -0.6709 - val_loss: 0.6708 - val_y_loss: 0.4162 - val_r_loss: 2.9620 - val_y_acc: 0.8481 - val_r_angle_error: 6.1698 - val_r_cos_error: -0.9530\n",
      "Epoch 4/10\n",
      "180000/180000 [==============================] - 51s 281us/step - loss: 0.7219 - y_loss: 0.3793 - r_loss: 3.8055 - y_acc: 0.8589 - r_angle_error: 32.0703 - r_cos_error: -0.6790 - val_loss: 0.6435 - val_y_loss: 0.3975 - val_r_loss: 2.8572 - val_y_acc: 0.8575 - val_r_angle_error: 5.4991 - val_r_cos_error: -0.9604\n",
      "Epoch 5/10\n",
      "180000/180000 [==============================] - 50s 281us/step - loss: 0.6949 - y_loss: 0.3537 - r_loss: 3.7650 - y_acc: 0.8677 - r_angle_error: 31.5208 - r_cos_error: -0.6855 - val_loss: 0.6342 - val_y_loss: 0.3909 - val_r_loss: 2.8239 - val_y_acc: 0.8591 - val_r_angle_error: 5.0719 - val_r_cos_error: -0.9647\n",
      "Epoch 6/10\n",
      "180000/180000 [==============================] - 51s 281us/step - loss: 0.6678 - y_loss: 0.3272 - r_loss: 3.7332 - y_acc: 0.8768 - r_angle_error: 31.7614 - r_cos_error: -0.6795 - val_loss: 0.6214 - val_y_loss: 0.3814 - val_r_loss: 2.7807 - val_y_acc: 0.8638 - val_r_angle_error: 5.6334 - val_r_cos_error: -0.9589\n",
      "Epoch 7/10\n",
      "180000/180000 [==============================] - 51s 281us/step - loss: 0.6487 - y_loss: 0.3094 - r_loss: 3.7019 - y_acc: 0.8833 - r_angle_error: 31.4666 - r_cos_error: -0.6816 - val_loss: 0.6147 - val_y_loss: 0.3789 - val_r_loss: 2.7362 - val_y_acc: 0.8666 - val_r_angle_error: 4.8315 - val_r_cos_error: -0.9672\n",
      "Epoch 8/10\n",
      "180000/180000 [==============================] - 44s 245us/step - loss: 0.6325 - y_loss: 0.2928 - r_loss: 3.6893 - y_acc: 0.8892 - r_angle_error: 31.2681 - r_cos_error: -0.6835 - val_loss: 0.6095 - val_y_loss: 0.3773 - val_r_loss: 2.6987 - val_y_acc: 0.8673 - val_r_angle_error: 4.6180 - val_r_cos_error: -0.9688\n",
      "Epoch 9/10\n",
      "180000/180000 [==============================] - 48s 264us/step - loss: 0.6168 - y_loss: 0.2777 - r_loss: 3.6683 - y_acc: 0.8947 - r_angle_error: 31.0747 - r_cos_error: -0.6855 - val_loss: 0.6075 - val_y_loss: 0.3798 - val_r_loss: 2.6572 - val_y_acc: 0.8684 - val_r_angle_error: 4.5868 - val_r_cos_error: -0.9697\n",
      "Epoch 10/10\n",
      "180000/180000 [==============================] - 50s 280us/step - loss: 0.6043 - y_loss: 0.2668 - r_loss: 3.6418 - y_acc: 0.8985 - r_angle_error: 30.7001 - r_cos_error: -0.6900 - val_loss: 0.6139 - val_y_loss: 0.3833 - val_r_loss: 2.6891 - val_y_acc: 0.8674 - val_r_angle_error: 4.7011 - val_r_cos_error: -0.9677\n"
     ]
    },
    {
     "name": "stderr",
     "output_type": "stream",
     "text": [
      "  2%|▏         | 1463/60000 [00:00<00:04, 14618.51it/s]"
     ]
    },
    {
     "name": "stdout",
     "output_type": "stream",
     "text": [
      "4.701066666666667\n",
      "Training on rotation range of +- 110\n"
     ]
    },
    {
     "name": "stderr",
     "output_type": "stream",
     "text": [
      "100%|██████████| 60000/60000 [00:04<00:00, 12048.17it/s]\n",
      "100%|██████████| 10000/10000 [00:00<00:00, 12061.62it/s]\n"
     ]
    },
    {
     "name": "stdout",
     "output_type": "stream",
     "text": [
      "Train on 180000 samples, validate on 30000 samples\n",
      "Epoch 1/10\n",
      "180000/180000 [==============================] - 52s 287us/step - loss: 2.4507 - y_loss: 2.2178 - r_loss: 4.5476 - y_acc: 0.6558 - r_angle_error: 43.6401 - r_cos_error: -0.5588 - val_loss: 0.7702 - val_y_loss: 0.5245 - val_r_loss: 2.9816 - val_y_acc: 0.8112 - val_r_angle_error: 7.4640 - val_r_cos_error: -0.9401\n",
      "Epoch 2/10\n",
      "180000/180000 [==============================] - 51s 281us/step - loss: 0.8228 - y_loss: 0.5292 - r_loss: 3.4659 - y_acc: 0.8069 - r_angle_error: 23.4707 - r_cos_error: -0.7707 - val_loss: 0.6743 - val_y_loss: 0.4564 - val_r_loss: 2.6353 - val_y_acc: 0.8374 - val_r_angle_error: 5.6139 - val_r_cos_error: -0.9573\n",
      "Epoch 3/10\n",
      "180000/180000 [==============================] - 51s 283us/step - loss: 0.7385 - y_loss: 0.4576 - r_loss: 3.2662 - y_acc: 0.8306 - r_angle_error: 20.6439 - r_cos_error: -0.7994 - val_loss: 0.6326 - val_y_loss: 0.4248 - val_r_loss: 2.5031 - val_y_acc: 0.8455 - val_r_angle_error: 5.1101 - val_r_cos_error: -0.9616\n",
      "Epoch 4/10\n",
      "180000/180000 [==============================] - 51s 281us/step - loss: 0.6904 - y_loss: 0.4161 - r_loss: 3.1590 - y_acc: 0.8452 - r_angle_error: 19.1102 - r_cos_error: -0.8151 - val_loss: 0.6126 - val_y_loss: 0.4119 - val_r_loss: 2.4185 - val_y_acc: 0.8509 - val_r_angle_error: 4.8828 - val_r_cos_error: -0.9630\n",
      "Epoch 5/10\n",
      "180000/180000 [==============================] - 43s 241us/step - loss: 0.6540 - y_loss: 0.3846 - r_loss: 3.0788 - y_acc: 0.8557 - r_angle_error: 18.1616 - r_cos_error: -0.8246 - val_loss: 0.5984 - val_y_loss: 0.4052 - val_r_loss: 2.3368 - val_y_acc: 0.8548 - val_r_angle_error: 4.5079 - val_r_cos_error: -0.9662\n",
      "Epoch 6/10\n",
      "180000/180000 [==============================] - 48s 265us/step - loss: 0.6253 - y_loss: 0.3594 - r_loss: 3.0181 - y_acc: 0.8650 - r_angle_error: 17.5540 - r_cos_error: -0.8306 - val_loss: 0.5891 - val_y_loss: 0.3986 - val_r_loss: 2.3034 - val_y_acc: 0.8576 - val_r_angle_error: 4.3329 - val_r_cos_error: -0.9677\n",
      "Epoch 7/10\n",
      "180000/180000 [==============================] - 50s 280us/step - loss: 0.6015 - y_loss: 0.3382 - r_loss: 2.9709 - y_acc: 0.8726 - r_angle_error: 16.8692 - r_cos_error: -0.8377 - val_loss: 0.5799 - val_y_loss: 0.3947 - val_r_loss: 2.2463 - val_y_acc: 0.8609 - val_r_angle_error: 4.1708 - val_r_cos_error: -0.9690\n",
      "Epoch 8/10\n",
      "180000/180000 [==============================] - 50s 279us/step - loss: 0.5811 - y_loss: 0.3210 - r_loss: 2.9213 - y_acc: 0.8786 - r_angle_error: 16.2888 - r_cos_error: -0.8436 - val_loss: 0.5804 - val_y_loss: 0.3988 - val_r_loss: 2.2147 - val_y_acc: 0.8584 - val_r_angle_error: 3.8293 - val_r_cos_error: -0.9730\n"
     ]
    },
    {
     "name": "stderr",
     "output_type": "stream",
     "text": [
      "  2%|▏         | 1253/60000 [00:00<00:04, 12519.83it/s]"
     ]
    },
    {
     "name": "stdout",
     "output_type": "stream",
     "text": [
      "3.8293333333333335\n",
      "Training on rotation range of +- 120\n"
     ]
    },
    {
     "name": "stderr",
     "output_type": "stream",
     "text": [
      "100%|██████████| 60000/60000 [00:04<00:00, 12110.89it/s]\n",
      "100%|██████████| 10000/10000 [00:00<00:00, 11798.23it/s]\n"
     ]
    },
    {
     "name": "stdout",
     "output_type": "stream",
     "text": [
      "Train on 180000 samples, validate on 30000 samples\n",
      "Epoch 1/10\n",
      "180000/180000 [==============================] - 52s 288us/step - loss: 3.0624 - y_loss: 2.8859 - r_loss: 4.6516 - y_acc: 0.6188 - r_angle_error: 50.9750 - r_cos_error: -0.4678 - val_loss: 0.7955 - val_y_loss: 0.5455 - val_r_loss: 3.0456 - val_y_acc: 0.8030 - val_r_angle_error: 7.9832 - val_r_cos_error: -0.9367\n",
      "Epoch 2/10\n",
      "180000/180000 [==============================] - 51s 281us/step - loss: 0.8568 - y_loss: 0.5544 - r_loss: 3.5783 - y_acc: 0.7982 - r_angle_error: 27.7858 - r_cos_error: -0.7209 - val_loss: 0.7068 - val_y_loss: 0.4809 - val_r_loss: 2.7396 - val_y_acc: 0.8245 - val_r_angle_error: 6.1894 - val_r_cos_error: -0.9523\n",
      "Epoch 3/10\n",
      "180000/180000 [==============================] - 51s 283us/step - loss: 0.7685 - y_loss: 0.4793 - r_loss: 3.3708 - y_acc: 0.8237 - r_angle_error: 23.4011 - r_cos_error: -0.7684 - val_loss: 0.6603 - val_y_loss: 0.4446 - val_r_loss: 2.6015 - val_y_acc: 0.8391 - val_r_angle_error: 5.5973 - val_r_cos_error: -0.9574\n",
      "Epoch 4/10\n",
      "180000/180000 [==============================] - 51s 281us/step - loss: 0.7158 - y_loss: 0.4333 - r_loss: 3.2581 - y_acc: 0.8394 - r_angle_error: 21.5185 - r_cos_error: -0.7886 - val_loss: 0.6342 - val_y_loss: 0.4264 - val_r_loss: 2.5051 - val_y_acc: 0.8436 - val_r_angle_error: 5.1368 - val_r_cos_error: -0.9612\n",
      "Epoch 5/10\n",
      "180000/180000 [==============================] - 43s 240us/step - loss: 0.6807 - y_loss: 0.4037 - r_loss: 3.1738 - y_acc: 0.8492 - r_angle_error: 20.0129 - r_cos_error: -0.8048 - val_loss: 0.6204 - val_y_loss: 0.4198 - val_r_loss: 2.4257 - val_y_acc: 0.8453 - val_r_angle_error: 4.8627 - val_r_cos_error: -0.9629\n",
      "Epoch 6/10\n",
      "180000/180000 [==============================] - 48s 267us/step - loss: 0.6492 - y_loss: 0.3754 - r_loss: 3.1137 - y_acc: 0.8585 - r_angle_error: 19.2327 - r_cos_error: -0.8128 - val_loss: 0.6067 - val_y_loss: 0.4116 - val_r_loss: 2.3620 - val_y_acc: 0.8518 - val_r_angle_error: 4.7000 - val_r_cos_error: -0.9648\n",
      "Epoch 7/10\n",
      "180000/180000 [==============================] - 51s 281us/step - loss: 0.6284 - y_loss: 0.3566 - r_loss: 3.0742 - y_acc: 0.8667 - r_angle_error: 18.8378 - r_cos_error: -0.8164 - val_loss: 0.6022 - val_y_loss: 0.4091 - val_r_loss: 2.3402 - val_y_acc: 0.8526 - val_r_angle_error: 4.5145 - val_r_cos_error: -0.9661\n",
      "Epoch 8/10\n",
      "180000/180000 [==============================] - 50s 280us/step - loss: 0.6068 - y_loss: 0.3366 - r_loss: 3.0383 - y_acc: 0.8734 - r_angle_error: 18.4249 - r_cos_error: -0.8205 - val_loss: 0.5961 - val_y_loss: 0.4072 - val_r_loss: 2.2960 - val_y_acc: 0.8580 - val_r_angle_error: 4.2833 - val_r_cos_error: -0.9684\n",
      "Epoch 9/10\n",
      "180000/180000 [==============================] - 51s 282us/step - loss: 0.5899 - y_loss: 0.3207 - r_loss: 3.0129 - y_acc: 0.8789 - r_angle_error: 18.2643 - r_cos_error: -0.8219 - val_loss: 0.5869 - val_y_loss: 0.4002 - val_r_loss: 2.2671 - val_y_acc: 0.8573 - val_r_angle_error: 4.2875 - val_r_cos_error: -0.9681\n",
      "Epoch 10/10\n",
      "180000/180000 [==============================] - 51s 281us/step - loss: 0.5751 - y_loss: 0.3072 - r_loss: 2.9856 - y_acc: 0.8836 - r_angle_error: 18.0077 - r_cos_error: -0.8244 - val_loss: 0.5870 - val_y_loss: 0.4017 - val_r_loss: 2.2552 - val_y_acc: 0.8563 - val_r_angle_error: 4.0756 - val_r_cos_error: -0.9703\n"
     ]
    },
    {
     "name": "stderr",
     "output_type": "stream",
     "text": [
      "  2%|▏         | 1238/60000 [00:00<00:04, 12374.23it/s]"
     ]
    },
    {
     "name": "stdout",
     "output_type": "stream",
     "text": [
      "4.075633333333333\n",
      "Training on rotation range of +- 130\n"
     ]
    },
    {
     "name": "stderr",
     "output_type": "stream",
     "text": [
      "100%|██████████| 60000/60000 [00:04<00:00, 12059.97it/s]\n",
      "100%|██████████| 10000/10000 [00:00<00:00, 12281.95it/s]\n"
     ]
    },
    {
     "name": "stdout",
     "output_type": "stream",
     "text": [
      "Train on 180000 samples, validate on 30000 samples\n",
      "Epoch 1/10\n",
      "180000/180000 [==============================] - 52s 288us/step - loss: 2.0830 - y_loss: 1.7801 - r_loss: 4.8084 - y_acc: 0.6649 - r_angle_error: 54.4792 - r_cos_error: -0.4238 - val_loss: 0.8125 - val_y_loss: 0.5469 - val_r_loss: 3.2028 - val_y_acc: 0.8047 - val_r_angle_error: 9.3886 - val_r_cos_error: -0.9218\n",
      "Epoch 2/10\n",
      "180000/180000 [==============================] - 43s 240us/step - loss: 0.8762 - y_loss: 0.5592 - r_loss: 3.7296 - y_acc: 0.7969 - r_angle_error: 29.1346 - r_cos_error: -0.7082 - val_loss: 0.7156 - val_y_loss: 0.4845 - val_r_loss: 2.7950 - val_y_acc: 0.8230 - val_r_angle_error: 7.0785 - val_r_cos_error: -0.9427\n",
      "Epoch 3/10\n",
      "180000/180000 [==============================] - 49s 269us/step - loss: 0.7920 - y_loss: 0.4868 - r_loss: 3.5383 - y_acc: 0.8219 - r_angle_error: 26.0312 - r_cos_error: -0.7413 - val_loss: 0.6800 - val_y_loss: 0.4494 - val_r_loss: 2.7555 - val_y_acc: 0.8358 - val_r_angle_error: 6.1677 - val_r_cos_error: -0.9520\n",
      "Epoch 4/10\n",
      "180000/180000 [==============================] - 51s 281us/step - loss: 0.7439 - y_loss: 0.4434 - r_loss: 3.4479 - y_acc: 0.8353 - r_angle_error: 25.0266 - r_cos_error: -0.7509 - val_loss: 0.6618 - val_y_loss: 0.4377 - val_r_loss: 2.6786 - val_y_acc: 0.8397 - val_r_angle_error: 5.9708 - val_r_cos_error: -0.9532\n",
      "Epoch 5/10\n",
      "180000/180000 [==============================] - 50s 279us/step - loss: 0.7068 - y_loss: 0.4101 - r_loss: 3.3774 - y_acc: 0.8472 - r_angle_error: 24.2348 - r_cos_error: -0.7588 - val_loss: 0.6338 - val_y_loss: 0.4178 - val_r_loss: 2.5775 - val_y_acc: 0.8489 - val_r_angle_error: 5.5574 - val_r_cos_error: -0.9565\n",
      "Epoch 6/10\n",
      "180000/180000 [==============================] - 51s 282us/step - loss: 0.6775 - y_loss: 0.3844 - r_loss: 3.3151 - y_acc: 0.8562 - r_angle_error: 23.1273 - r_cos_error: -0.7707 - val_loss: 0.6369 - val_y_loss: 0.4278 - val_r_loss: 2.5192 - val_y_acc: 0.8482 - val_r_angle_error: 5.4495 - val_r_cos_error: -0.9587\n"
     ]
    },
    {
     "name": "stderr",
     "output_type": "stream",
     "text": [
      "  2%|▏         | 1232/60000 [00:00<00:04, 12309.65it/s]"
     ]
    },
    {
     "name": "stdout",
     "output_type": "stream",
     "text": [
      "5.4495\n",
      "Training on rotation range of +- 140\n"
     ]
    },
    {
     "name": "stderr",
     "output_type": "stream",
     "text": [
      "100%|██████████| 60000/60000 [00:04<00:00, 12300.28it/s]\n",
      "100%|██████████| 10000/10000 [00:00<00:00, 12125.64it/s]\n"
     ]
    },
    {
     "name": "stdout",
     "output_type": "stream",
     "text": [
      "Train on 180000 samples, validate on 30000 samples\n",
      "Epoch 1/10\n",
      "180000/180000 [==============================] - 52s 289us/step - loss: 13.6080 - y_loss: 14.4920 - r_loss: 5.6524 - y_acc: 0.1007 - r_angle_error: 88.6224 - r_cos_error: -0.0114 - val_loss: 13.6192 - val_y_loss: 14.5063 - val_r_loss: 5.6350 - val_y_acc: 0.1000 - val_r_angle_error: 85.9214 - val_r_cos_error: -0.0661\n",
      "Epoch 2/10\n",
      "180000/180000 [==============================] - 51s 282us/step - loss: 13.6191 - y_loss: 14.5063 - r_loss: 5.6347 - y_acc: 0.1000 - r_angle_error: 86.4387 - r_cos_error: -0.0553 - val_loss: 13.6192 - val_y_loss: 14.5063 - val_r_loss: 5.6352 - val_y_acc: 0.1000 - val_r_angle_error: 97.5941 - val_r_cos_error: 0.1178\n"
     ]
    },
    {
     "name": "stderr",
     "output_type": "stream",
     "text": [
      "  2%|▏         | 1151/60000 [00:00<00:05, 11505.65it/s]"
     ]
    },
    {
     "name": "stdout",
     "output_type": "stream",
     "text": [
      "97.59413333333333\n",
      "Training on rotation range of +- 150\n"
     ]
    },
    {
     "name": "stderr",
     "output_type": "stream",
     "text": [
      "100%|██████████| 60000/60000 [00:05<00:00, 11807.97it/s]\n",
      "100%|██████████| 10000/10000 [00:00<00:00, 12003.18it/s]\n"
     ]
    },
    {
     "name": "stdout",
     "output_type": "stream",
     "text": [
      "Train on 180000 samples, validate on 30000 samples\n",
      "Epoch 1/10\n",
      "180000/180000 [==============================] - 52s 289us/step - loss: 1.5504 - y_loss: 1.1787 - r_loss: 4.8958 - y_acc: 0.6755 - r_angle_error: 60.9288 - r_cos_error: -0.3401 - val_loss: 0.8489 - val_y_loss: 0.5759 - val_r_loss: 3.3057 - val_y_acc: 0.7927 - val_r_angle_error: 10.5290 - val_r_cos_error: -0.9101\n",
      "Epoch 2/10\n",
      "180000/180000 [==============================] - 51s 281us/step - loss: 0.9195 - y_loss: 0.5828 - r_loss: 3.9497 - y_acc: 0.7886 - r_angle_error: 38.7442 - r_cos_error: -0.5914 - val_loss: 0.7494 - val_y_loss: 0.5031 - val_r_loss: 2.9658 - val_y_acc: 0.8185 - val_r_angle_error: 8.3172 - val_r_cos_error: -0.9301\n",
      "Epoch 3/10\n",
      "180000/180000 [==============================] - 41s 225us/step - loss: 0.8298 - y_loss: 0.5072 - r_loss: 3.7337 - y_acc: 0.8148 - r_angle_error: 33.4673 - r_cos_error: -0.6509 - val_loss: 0.7025 - val_y_loss: 0.4701 - val_r_loss: 2.7945 - val_y_acc: 0.8286 - val_r_angle_error: 7.3432 - val_r_cos_error: -0.9391\n",
      "Epoch 4/10\n",
      "180000/180000 [==============================] - 50s 280us/step - loss: 0.7774 - y_loss: 0.4603 - r_loss: 3.6311 - y_acc: 0.8296 - r_angle_error: 31.2059 - r_cos_error: -0.6758 - val_loss: 0.6853 - val_y_loss: 0.4598 - val_r_loss: 2.7154 - val_y_acc: 0.8347 - val_r_angle_error: 6.7738 - val_r_cos_error: -0.9444\n",
      "Epoch 5/10\n",
      "180000/180000 [==============================] - 50s 279us/step - loss: 0.7403 - y_loss: 0.4263 - r_loss: 3.5665 - y_acc: 0.8405 - r_angle_error: 30.7252 - r_cos_error: -0.6804 - val_loss: 0.6687 - val_y_loss: 0.4462 - val_r_loss: 2.6707 - val_y_acc: 0.8393 - val_r_angle_error: 6.6798 - val_r_cos_error: -0.9453\n",
      "Epoch 6/10\n",
      "180000/180000 [==============================] - 51s 282us/step - loss: 0.7127 - y_loss: 0.4016 - r_loss: 3.5124 - y_acc: 0.8492 - r_angle_error: 29.8438 - r_cos_error: -0.6899 - val_loss: 0.6578 - val_y_loss: 0.4418 - val_r_loss: 2.6020 - val_y_acc: 0.8422 - val_r_angle_error: 6.2334 - val_r_cos_error: -0.9489\n",
      "Epoch 7/10\n",
      "180000/180000 [==============================] - 51s 281us/step - loss: 0.6870 - y_loss: 0.3767 - r_loss: 3.4800 - y_acc: 0.8587 - r_angle_error: 29.2320 - r_cos_error: -0.6966 - val_loss: 0.6504 - val_y_loss: 0.4324 - val_r_loss: 2.6128 - val_y_acc: 0.8432 - val_r_angle_error: 6.3240 - val_r_cos_error: -0.9488\n",
      "Epoch 8/10\n",
      "180000/180000 [==============================] - 51s 282us/step - loss: 0.6668 - y_loss: 0.3582 - r_loss: 3.4447 - y_acc: 0.8645 - r_angle_error: 28.7967 - r_cos_error: -0.7014 - val_loss: 0.6397 - val_y_loss: 0.4291 - val_r_loss: 2.5351 - val_y_acc: 0.8489 - val_r_angle_error: 5.9146 - val_r_cos_error: -0.9518\n",
      "Epoch 9/10\n",
      "180000/180000 [==============================] - 51s 281us/step - loss: 0.6466 - y_loss: 0.3396 - r_loss: 3.4092 - y_acc: 0.8713 - r_angle_error: 28.1434 - r_cos_error: -0.7086 - val_loss: 0.6437 - val_y_loss: 0.4360 - val_r_loss: 2.5133 - val_y_acc: 0.8486 - val_r_angle_error: 5.8536 - val_r_cos_error: -0.9528\n"
     ]
    },
    {
     "name": "stderr",
     "output_type": "stream",
     "text": [
      "  2%|▏         | 1097/60000 [00:00<00:05, 10964.63it/s]"
     ]
    },
    {
     "name": "stdout",
     "output_type": "stream",
     "text": [
      "5.8536\n",
      "Training on rotation range of +- 160\n"
     ]
    },
    {
     "name": "stderr",
     "output_type": "stream",
     "text": [
      "100%|██████████| 60000/60000 [00:05<00:00, 11757.89it/s]\n",
      "100%|██████████| 10000/10000 [00:00<00:00, 11957.83it/s]\n"
     ]
    },
    {
     "name": "stdout",
     "output_type": "stream",
     "text": [
      "Train on 180000 samples, validate on 30000 samples\n",
      "Epoch 1/10\n",
      "180000/180000 [==============================] - 52s 290us/step - loss: 13.6305 - y_loss: 14.5022 - r_loss: 5.7844 - y_acc: 0.1001 - r_angle_error: 92.2570 - r_cos_error: 0.0322 - val_loss: 13.6325 - val_y_loss: 14.5063 - val_r_loss: 5.7683 - val_y_acc: 0.1000 - val_r_angle_error: 88.9746 - val_r_cos_error: -0.0194\n",
      "Epoch 2/10\n",
      "180000/180000 [==============================] - 40s 224us/step - loss: 13.6325 - y_loss: 14.5063 - r_loss: 5.7680 - y_acc: 0.1000 - r_angle_error: 88.8907 - r_cos_error: -0.0181 - val_loss: 13.6325 - val_y_loss: 14.5063 - val_r_loss: 5.7684 - val_y_acc: 0.1000 - val_r_angle_error: 93.2656 - val_r_cos_error: 0.0530\n"
     ]
    },
    {
     "name": "stderr",
     "output_type": "stream",
     "text": [
      "  2%|▏         | 1344/60000 [00:00<00:04, 13436.84it/s]"
     ]
    },
    {
     "name": "stdout",
     "output_type": "stream",
     "text": [
      "93.26556666666667\n",
      "Training on rotation range of +- 170\n"
     ]
    },
    {
     "name": "stderr",
     "output_type": "stream",
     "text": [
      "100%|██████████| 60000/60000 [00:04<00:00, 12075.17it/s]\n",
      "100%|██████████| 10000/10000 [00:00<00:00, 12197.78it/s]\n"
     ]
    },
    {
     "name": "stdout",
     "output_type": "stream",
     "text": [
      "Train on 180000 samples, validate on 30000 samples\n",
      "Epoch 1/10\n",
      "180000/180000 [==============================] - 52s 289us/step - loss: 1.5094 - y_loss: 1.0722 - r_loss: 5.4442 - y_acc: 0.6762 - r_angle_error: 79.9343 - r_cos_error: -0.1166 - val_loss: 0.9525 - val_y_loss: 0.5870 - val_r_loss: 4.2429 - val_y_acc: 0.7906 - val_r_angle_error: 33.0986 - val_r_cos_error: -0.6570\n",
      "Epoch 2/10\n",
      "180000/180000 [==============================] - 50s 278us/step - loss: 0.9955 - y_loss: 0.5988 - r_loss: 4.5656 - y_acc: 0.7837 - r_angle_error: 59.5531 - r_cos_error: -0.3526 - val_loss: 0.8079 - val_y_loss: 0.5137 - val_r_loss: 3.4559 - val_y_acc: 0.8135 - val_r_angle_error: 16.6563 - val_r_cos_error: -0.8383\n",
      "Epoch 3/10\n",
      "180000/180000 [==============================] - 51s 283us/step - loss: 0.9031 - y_loss: 0.5214 - r_loss: 4.3378 - y_acc: 0.8081 - r_angle_error: 54.6161 - r_cos_error: -0.4087 - val_loss: 0.7638 - val_y_loss: 0.4842 - val_r_loss: 3.2794 - val_y_acc: 0.8219 - val_r_angle_error: 11.2180 - val_r_cos_error: -0.8983\n",
      "Epoch 4/10\n",
      "180000/180000 [==============================] - 50s 280us/step - loss: 0.8569 - y_loss: 0.4788 - r_loss: 4.2598 - y_acc: 0.8242 - r_angle_error: 52.1517 - r_cos_error: -0.4371 - val_loss: 0.7424 - val_y_loss: 0.4702 - val_r_loss: 3.1919 - val_y_acc: 0.8310 - val_r_angle_error: 10.1122 - val_r_cos_error: -0.9105\n",
      "Epoch 5/10\n",
      "180000/180000 [==============================] - 50s 280us/step - loss: 0.8186 - y_loss: 0.4424 - r_loss: 4.2039 - y_acc: 0.8366 - r_angle_error: 50.5091 - r_cos_error: -0.4565 - val_loss: 0.7266 - val_y_loss: 0.4639 - val_r_loss: 3.0913 - val_y_acc: 0.8320 - val_r_angle_error: 9.1155 - val_r_cos_error: -0.9214\n",
      "Epoch 6/10\n",
      "180000/180000 [==============================] - 50s 280us/step - loss: 0.7894 - y_loss: 0.4148 - r_loss: 4.1605 - y_acc: 0.8455 - r_angle_error: 47.9630 - r_cos_error: -0.4875 - val_loss: 0.7111 - val_y_loss: 0.4478 - val_r_loss: 3.0806 - val_y_acc: 0.8395 - val_r_angle_error: 8.3583 - val_r_cos_error: -0.9297\n",
      "Epoch 7/10\n",
      "180000/180000 [==============================] - 50s 280us/step - loss: 0.7690 - y_loss: 0.3945 - r_loss: 4.1395 - y_acc: 0.8527 - r_angle_error: 47.1755 - r_cos_error: -0.4963 - val_loss: 0.6990 - val_y_loss: 0.4442 - val_r_loss: 2.9917 - val_y_acc: 0.8412 - val_r_angle_error: 8.5567 - val_r_cos_error: -0.9280\n",
      "Epoch 8/10\n",
      "180000/180000 [==============================] - 51s 281us/step - loss: 0.7430 - y_loss: 0.3697 - r_loss: 4.1030 - y_acc: 0.8608 - r_angle_error: 46.3458 - r_cos_error: -0.5056 - val_loss: 0.6878 - val_y_loss: 0.4350 - val_r_loss: 2.9636 - val_y_acc: 0.8446 - val_r_angle_error: 8.1212 - val_r_cos_error: -0.9309\n",
      "Epoch 9/10\n",
      "180000/180000 [==============================] - 28s 157us/step - loss: 0.7264 - y_loss: 0.3543 - r_loss: 4.0756 - y_acc: 0.8673 - r_angle_error: 45.4028 - r_cos_error: -0.5165 - val_loss: 0.6863 - val_y_loss: 0.4283 - val_r_loss: 3.0088 - val_y_acc: 0.8479 - val_r_angle_error: 8.0678 - val_r_cos_error: -0.9329\n",
      "Epoch 10/10\n",
      "180000/180000 [==============================] - 26s 145us/step - loss: 0.7091 - y_loss: 0.3390 - r_loss: 4.0406 - y_acc: 0.8725 - r_angle_error: 44.5065 - r_cos_error: -0.5261 - val_loss: 0.6866 - val_y_loss: 0.4369 - val_r_loss: 2.9337 - val_y_acc: 0.8485 - val_r_angle_error: 7.7003 - val_r_cos_error: -0.9368\n"
     ]
    },
    {
     "name": "stderr",
     "output_type": "stream",
     "text": [
      "  3%|▎         | 1540/60000 [00:00<00:03, 15392.82it/s]"
     ]
    },
    {
     "name": "stdout",
     "output_type": "stream",
     "text": [
      "7.700333333333333\n",
      "Training on rotation range of +- 180\n"
     ]
    },
    {
     "name": "stderr",
     "output_type": "stream",
     "text": [
      "100%|██████████| 60000/60000 [00:04<00:00, 14049.27it/s]\n",
      "100%|██████████| 10000/10000 [00:00<00:00, 13880.84it/s]\n"
     ]
    },
    {
     "name": "stdout",
     "output_type": "stream",
     "text": [
      "Train on 180000 samples, validate on 30000 samples\n",
      "Epoch 1/10\n",
      "180000/180000 [==============================] - 28s 158us/step - loss: 2.4471 - y_loss: 2.1279 - r_loss: 5.3193 - y_acc: 0.6156 - r_angle_error: 75.3228 - r_cos_error: -0.1716 - val_loss: 0.9432 - val_y_loss: 0.6303 - val_r_loss: 3.7599 - val_y_acc: 0.7784 - val_r_angle_error: 18.7750 - val_r_cos_error: -0.8189\n",
      "Epoch 2/10\n",
      "180000/180000 [==============================] - 27s 148us/step - loss: 0.9990 - y_loss: 0.6403 - r_loss: 4.2276 - y_acc: 0.7702 - r_angle_error: 47.7292 - r_cos_error: -0.4902 - val_loss: 0.8029 - val_y_loss: 0.5513 - val_r_loss: 3.0675 - val_y_acc: 0.8014 - val_r_angle_error: 9.5957 - val_r_cos_error: -0.9158\n",
      "Epoch 3/10\n",
      "180000/180000 [==============================] - 27s 151us/step - loss: 0.8871 - y_loss: 0.5499 - r_loss: 3.9224 - y_acc: 0.7998 - r_angle_error: 38.8906 - r_cos_error: -0.5911 - val_loss: 0.7355 - val_y_loss: 0.4972 - val_r_loss: 2.8798 - val_y_acc: 0.8217 - val_r_angle_error: 8.2508 - val_r_cos_error: -0.9291\n",
      "Epoch 4/10\n",
      "180000/180000 [==============================] - 27s 148us/step - loss: 0.8255 - y_loss: 0.4967 - r_loss: 3.7844 - y_acc: 0.8176 - r_angle_error: 35.5593 - r_cos_error: -0.6283 - val_loss: 0.7079 - val_y_loss: 0.4758 - val_r_loss: 2.7961 - val_y_acc: 0.8287 - val_r_angle_error: 7.5639 - val_r_cos_error: -0.9367\n",
      "Epoch 5/10\n",
      "180000/180000 [==============================] - 27s 148us/step - loss: 0.7812 - y_loss: 0.4555 - r_loss: 3.7127 - y_acc: 0.8316 - r_angle_error: 34.4890 - r_cos_error: -0.6396 - val_loss: 0.6933 - val_y_loss: 0.4633 - val_r_loss: 2.7639 - val_y_acc: 0.8341 - val_r_angle_error: 7.1853 - val_r_cos_error: -0.9402\n",
      "Epoch 6/10\n",
      "180000/180000 [==============================] - 27s 148us/step - loss: 0.7490 - y_loss: 0.4257 - r_loss: 3.6588 - y_acc: 0.8423 - r_angle_error: 33.3216 - r_cos_error: -0.6521 - val_loss: 0.6747 - val_y_loss: 0.4502 - val_r_loss: 2.6959 - val_y_acc: 0.8384 - val_r_angle_error: 6.9751 - val_r_cos_error: -0.9422\n",
      "Epoch 7/10\n",
      "180000/180000 [==============================] - 27s 148us/step - loss: 0.7211 - y_loss: 0.3979 - r_loss: 3.6296 - y_acc: 0.8517 - r_angle_error: 32.9800 - r_cos_error: -0.6555 - val_loss: 0.6740 - val_y_loss: 0.4537 - val_r_loss: 2.6559 - val_y_acc: 0.8404 - val_r_angle_error: 6.9075 - val_r_cos_error: -0.9426\n",
      "Epoch 8/10\n",
      "180000/180000 [==============================] - 27s 148us/step - loss: 0.6963 - y_loss: 0.3750 - r_loss: 3.5878 - y_acc: 0.8602 - r_angle_error: 32.3949 - r_cos_error: -0.6619 - val_loss: 0.6581 - val_y_loss: 0.4390 - val_r_loss: 2.6300 - val_y_acc: 0.8447 - val_r_angle_error: 6.8359 - val_r_cos_error: -0.9433\n",
      "Epoch 9/10\n",
      "180000/180000 [==============================] - 27s 148us/step - loss: 0.6792 - y_loss: 0.3579 - r_loss: 3.5709 - y_acc: 0.8662 - r_angle_error: 32.3190 - r_cos_error: -0.6623 - val_loss: 0.6528 - val_y_loss: 0.4326 - val_r_loss: 2.6344 - val_y_acc: 0.8498 - val_r_angle_error: 6.5414 - val_r_cos_error: -0.9460\n",
      "Epoch 10/10\n",
      "180000/180000 [==============================] - 27s 148us/step - loss: 0.6611 - y_loss: 0.3403 - r_loss: 3.5476 - y_acc: 0.8720 - r_angle_error: 31.8886 - r_cos_error: -0.6671 - val_loss: 0.6640 - val_y_loss: 0.4519 - val_r_loss: 2.5725 - val_y_acc: 0.8451 - val_r_angle_error: 6.3156 - val_r_cos_error: -0.9479\n",
      "6.315633333333333\n"
     ]
    }
   ],
   "source": [
    "histories = []\n",
    "diff_degrees = []\n",
    "y_preds = []\n",
    "r_preds = []\n",
    "\n",
    "use_labels = True\n",
    "use_rotation = True\n",
    "\n",
    "rot_step = 10\n",
    "\n",
    "for rot_range in range(10, 180 + rot_step, rot_step):\n",
    "    \n",
    "    print('Training on rotation range of +-', rot_range)\n",
    "\n",
    "    X_train_rot, Y_train_rot, R_train = generate_random_rotations(X_train, Y_train, \n",
    "                                                                  augmented_rotations_per_sample, rot_range)\n",
    "    X_test_rot, Y_test_rot, R_test = generate_random_rotations(X_test, Y_test, \n",
    "                                                               augmented_rotations_per_sample, rot_range)\n",
    "\n",
    "    R_train, R_test = R_train + rot_range, R_test + rot_range\n",
    "    R_train = keras.utils.to_categorical(R_train, 2*rot_range)\n",
    "    R_test = keras.utils.to_categorical(R_test, 2*rot_range)\n",
    "    \n",
    "    Y_train_onehot = keras.utils.to_categorical(Y_train_rot)\n",
    "    Y_test_onehot = keras.utils.to_categorical(Y_test_rot)\n",
    "\n",
    "    nb_classes = Y_train_onehot.shape[1]\n",
    "\n",
    "    #R_train_radians, R_test_radians = (R * np.pi / 180 for R in (R_train, R_test))\n",
    "\n",
    "    #R_train_sin_cos = create_rot_sin_cos(R_train_radians)\n",
    "    #R_test_sin_cos = create_rot_sin_cos(R_test_radians)\n",
    "\n",
    "    alpha = K.variable(0.9)\n",
    "    beta = K.variable(0.1)\n",
    "    model = build_model(use_labels, use_rotation, rot_range)\n",
    "\n",
    "    history = train_model(model, use_labels, use_rotation).history\n",
    "    histories.append(history)\n",
    "    \n",
    "    Y_pred, R_pred = model.predict(X_test_rot)\n",
    "    R_test = np.argmax(R_test, axis=1) - rot_range\n",
    "    R_pred = np.argmax(R_pred, axis=1) - rot_range\n",
    "\n",
    "    diff_degree = np.abs(R_pred - R_test)\n",
    "    diff_degree = np.array([diff if diff < 180 else 360 - diff for diff in diff_degree])\n",
    "    print(np.mean(diff_degree))\n",
    "    \n",
    "    diff_degrees.append(diff_degree)\n",
    "    y_preds.append(Y_pred)\n",
    "    r_preds.append(R_pred)\n"
   ]
  },
  {
   "cell_type": "code",
   "execution_count": 18,
   "metadata": {},
   "outputs": [],
   "source": [
    "def get_data_from_histories():\n",
    "\n",
    "    for history in histories:\n",
    "\n",
    "        idx_min_loss = np.argmin(history['val_loss'])\n",
    "        data = []\n",
    "\n",
    "        for key in ('val_loss', 'val_r_cos_error', 'val_r_angle_error', 'val_y_loss', 'val_y_acc'):\n",
    "            data.append(history[key][idx_min_loss])\n",
    "            \n",
    "        yield data"
   ]
  },
  {
   "cell_type": "code",
   "execution_count": 19,
   "metadata": {},
   "outputs": [],
   "source": [
    "data = np.array(list(get_data_from_histories()))"
   ]
  },
  {
   "cell_type": "code",
   "execution_count": 20,
   "metadata": {},
   "outputs": [],
   "source": [
    "%matplotlib inline\n",
    "\n",
    "import matplotlib.pyplot as plt"
   ]
  },
  {
   "cell_type": "code",
   "execution_count": 26,
   "metadata": {},
   "outputs": [
    {
     "data": {
      "text/plain": [
       "<matplotlib.legend.Legend at 0x7f9fea1fb710>"
      ]
     },
     "execution_count": 26,
     "metadata": {},
     "output_type": "execute_result"
    },
    {
     "data": {
      "image/png": "[encoded data removed]",
      "text/plain": [
       "<matplotlib.figure.Figure at 0x7f9fea208160>"
      ]
     },
     "metadata": {},
     "output_type": "display_data"
    }
   ],
   "source": [
    "plt.figure(figsize=(12, 10))\n",
    "plt.subplot(211)\n",
    "plt.grid()\n",
    "plt.plot(np.arange(10, 140, 10) * 2, data[:, 4][:13], label='classification_accuracy')\n",
    "plt.xlabel('Rotation range (degrees)')\n",
    "plt.legend()\n",
    "plt.subplot(212)\n",
    "plt.grid()\n",
    "plt.plot(np.arange(10, 140, 10) * 2, data[:, 1][:13], label='rotation_loss')\n",
    "plt.xlabel('Rotation range (degrees)')\n",
    "plt.legend()"
   ]
  },
  {
   "cell_type": "code",
   "execution_count": 27,
   "metadata": {},
   "outputs": [],
   "source": [
    "diff_degrees = np.array(diff_degrees)"
   ]
  },
  {
   "cell_type": "code",
   "execution_count": 37,
   "metadata": {},
   "outputs": [
    {
     "name": "stdout",
     "output_type": "stream",
     "text": [
      "[ 1.07276667  0.47273333  1.0958      1.61256667  2.7094      2.30273333\n",
      "  2.369       3.41346667  4.25006667  4.70106667  3.82933333  4.07563333\n",
      "  5.4495     97.59413333  5.8536     93.26556667  7.70033333  6.31563333]\n"
     ]
    }
   ],
   "source": [
    "w = np.mean(diff_degrees, axis=1)\n",
    "print(w)"
   ]
  },
  {
   "cell_type": "code",
   "execution_count": 61,
   "metadata": {},
   "outputs": [
    {
     "data": {
      "text/plain": [
       "array([  5.,   3.,   5.,   7.,  12.,  12.,  87.,  90.,  92.,  95.,  91.,\n",
       "        92.,  95., 179.,  97., 178., 100.,  96.])"
      ]
     },
     "execution_count": 61,
     "metadata": {},
     "output_type": "execute_result"
    }
   ],
   "source": [
    "np.percentile(diff_degrees, 99, axis=1)"
   ]
  },
  {
   "cell_type": "code",
   "execution_count": 33,
   "metadata": {},
   "outputs": [],
   "source": [
    "z = np.array([ 1.3832554 ,  1.77593382,  1.77201876,  1.92890577,  2.56119157,\n",
    "        3.64702688,  4.17862631,  5.16323753,  5.82470787,  6.41361201,\n",
    "        6.25119255,  7.47966726,  8.20807014,  8.64786822,  9.71438578,\n",
    "        9.81888869, 10.68765806, 10.78373911])"
   ]
  },
  {
   "cell_type": "code",
   "execution_count": 53,
   "metadata": {},
   "outputs": [
    {
     "data": {
      "text/plain": [
       "Text(0.5,1,'Mean difference between true and predicted orientations (in degrees) as a function of the\\nrotation range of the Fashion MNIST samples.\\nTwo network configurations have been tested for predicting the orientation of a sample;\\nthe first uses a 2 values sin and cos output trained using dot product loss; the second is a classification output, with one\\n          output for each degree (the number of outputs grows with the rotation range)')"
      ]
     },
     "execution_count": 53,
     "metadata": {},
     "output_type": "execute_result"
    },
    {
     "data": {
      "image/png": "[encoded data removed]",
      "text/plain": [
       "<matplotlib.figure.Figure at 0x7f9fe9d9e3c8>"
      ]
     },
     "metadata": {},
     "output_type": "display_data"
    }
   ],
   "source": [
    "plt.figure(figsize=(12, 10))\n",
    "plt.grid()\n",
    "plt.plot(np.array([10, 20, 30, 40, 50, 60, 70, 80, 90, 100, 110, 120, 130, 150, 170, 180]) * 2,\n",
    "          np.concatenate([w[:13], [w[14]], w[16:]]), label='categorical output')\n",
    "plt.plot(np.arange(10, 190, 10) * 2, z, label='sin-cos output')\n",
    "plt.xlabel('Rotation range')\n",
    "plt.ylabel('Mean difference between true and predicted orientation')\n",
    "plt.legend()\n",
    "plt.title('Mean difference between true and predicted orientations (in degrees) as a function of the\\nrotation range of the Fashion MNIST samples.\\nTwo network configurations have been tested for predicting the orientation of a sample;\\nthe first uses a 2 values sin and cos output trained using dot product loss; the second is a classification output, with one\\n output for each degree (the number of outputs grows with the rotation range)')"
   ]
  },
  {
   "cell_type": "code",
   "execution_count": null,
   "metadata": {},
   "outputs": [],
   "source": [
    "Y_pred, R_pred = model.predict(X_test_rot)"
   ]
  },
  {
   "cell_type": "code",
   "execution_count": null,
   "metadata": {},
   "outputs": [],
   "source": [
    "diff_degree = np.abs(np.arctan2(R_pred[:, 0], R_pred[:, 1]) * 180 / np.pi - R_test)\n",
    "diff_degree = np.array([diff if diff < 180 else diff - 180 for diff in diff_degree])\n",
    "print(np.mean(diff_degree))"
   ]
  },
  {
   "cell_type": "code",
   "execution_count": 62,
   "metadata": {},
   "outputs": [
    {
     "data": {
      "image/png": "[encoded data removed]",
      "text/plain": [
       "<matplotlib.figure.Figure at 0x7f9fe9d5c208>"
      ]
     },
     "metadata": {},
     "output_type": "display_data"
    }
   ],
   "source": [
    "plt.figure(figsize=(12, 10))\n",
    "plt.title('Histogram of absolute differences between the true and the predicted orientation (using full circle rotations)')\n",
    "plt.hist(diff_degree, bins=35)\n",
    "plt.grid()\n",
    "plt.xlabel('Difference between true and predicted orientation')\n",
    "plt.ylabel('Number of samples')\n",
    "plt.show()"
   ]
  },
  {
   "cell_type": "code",
   "execution_count": 63,
   "metadata": {},
   "outputs": [
    {
     "data": {
      "image/png": "[encoded data removed]",
      "text/plain": [
       "<matplotlib.figure.Figure at 0x7f9fe9cb1470>"
      ]
     },
     "metadata": {},
     "output_type": "display_data"
    }
   ],
   "source": [
    "xv = np.arange(0, 101)\n",
    "plt.figure(figsize=(12, 10))\n",
    "plt.grid()\n",
    "plt.plot([np.percentile(diff_degree, x) for x in xv], xv)\n",
    "plt.title('Percentile of test samples whose absolute difference between true and predicted orientation is below x \\n(training using full circle)')\n",
    "plt.xlabel('Difference in degrees between the true and the predicted orientation')\n",
    "plt.ylabel('Percentage of predicted orientations below the corresponding difference')\n",
    "plt.show()"
   ]
  },
  {
   "cell_type": "code",
   "execution_count": null,
   "metadata": {},
   "outputs": [],
   "source": [
    "Y_pred = np.argmax(Y_pred, axis=1)"
   ]
  },
  {
   "cell_type": "code",
   "execution_count": null,
   "metadata": {},
   "outputs": [],
   "source": [
    "confusion_matrix = np.zeros((10, 10), dtype='int')\n",
    "\n",
    "for y_true, y_pred in zip(Y_test_rot, Y_pred):\n",
    "    confusion_matrix[y_true, y_pred] += 1\n",
    "\n",
    "plt.figure(figsize=(12, 10))\n",
    "plt.title('Confusion Matrix (Fashion MNIST)')\n",
    "plt.imshow(confusion_matrix)\n",
    "plt.colorbar()"
   ]
  }
 ],
 "metadata": {
  "kernelspec": {
   "display_name": "Python 3",
   "language": "python",
   "name": "python3"
  },
  "language_info": {
   "codemirror_mode": {
    "name": "ipython",
    "version": 3
   },
   "file_extension": ".py",
   "mimetype": "text/x-python",
   "name": "python",
   "nbconvert_exporter": "python",
   "pygments_lexer": "ipython3",
   "version": "3.5.2"
  }
 },
 "nbformat": 4,
 "nbformat_minor": 2
}
